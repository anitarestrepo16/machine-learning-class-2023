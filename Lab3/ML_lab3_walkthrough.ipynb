{
 "cells": [
  {
   "attachments": {},
   "cell_type": "markdown",
   "metadata": {},
   "source": [
    "# Lab 4: Classification - OLS, Logistic, LDA, QDA & KNN\n",
    "\n",
    "This notebook has been designed to enable you to practice with LDA, QDA and KNN classifiers. You will also learn how to perform the validation set approach to estimate the test error."
   ]
  },
  {
   "cell_type": "code",
   "execution_count": 1,
   "metadata": {},
   "outputs": [],
   "source": [
    "import pandas as pd\n",
    "import numpy as np\n",
    "import statsmodels.formula.api as smf\n",
    "import seaborn as sns\n",
    "import matplotlib.pyplot as plt\n",
    "from matplotlib import pyplot"
   ]
  },
  {
   "attachments": {},
   "cell_type": "markdown",
   "metadata": {},
   "source": [
    "## 0. Load, understand, and wrangle the data\n",
    "\n",
    "We will be using the [Wisconsin Breast Cancer](https://archive.ics.uci.edu/ml/datasets/Breast+Cancer+Wisconsin+(Diagnostic)) dataset and try to predict whether a tumor is benign or malignant. In addition to whether the patient was diagnosed with a benign (B) or malignant (M) tumor, the dataset contains a set of features that describe characteristics of the cell nuclei present in the image."
   ]
  },
  {
   "cell_type": "code",
   "execution_count": 2,
   "metadata": {},
   "outputs": [
    {
     "name": "stdout",
     "output_type": "stream",
     "text": [
      "(569, 32)\n"
     ]
    },
    {
     "data": {
      "text/html": [
       "<div>\n",
       "<style scoped>\n",
       "    .dataframe tbody tr th:only-of-type {\n",
       "        vertical-align: middle;\n",
       "    }\n",
       "\n",
       "    .dataframe tbody tr th {\n",
       "        vertical-align: top;\n",
       "    }\n",
       "\n",
       "    .dataframe thead th {\n",
       "        text-align: right;\n",
       "    }\n",
       "</style>\n",
       "<table border=\"1\" class=\"dataframe\">\n",
       "  <thead>\n",
       "    <tr style=\"text-align: right;\">\n",
       "      <th></th>\n",
       "      <th>id</th>\n",
       "      <th>diagnosis</th>\n",
       "      <th>radius_mean</th>\n",
       "      <th>texture_mean</th>\n",
       "      <th>perimeter_mean</th>\n",
       "      <th>area_mean</th>\n",
       "      <th>smoothness_mean</th>\n",
       "      <th>compactness_mean</th>\n",
       "      <th>concavity_mean</th>\n",
       "      <th>concave points_mean</th>\n",
       "      <th>...</th>\n",
       "      <th>radius_worst</th>\n",
       "      <th>texture_worst</th>\n",
       "      <th>perimeter_worst</th>\n",
       "      <th>area_worst</th>\n",
       "      <th>smoothness_worst</th>\n",
       "      <th>compactness_worst</th>\n",
       "      <th>concavity_worst</th>\n",
       "      <th>concave points_worst</th>\n",
       "      <th>symmetry_worst</th>\n",
       "      <th>fractal_dimension_worst</th>\n",
       "    </tr>\n",
       "  </thead>\n",
       "  <tbody>\n",
       "    <tr>\n",
       "      <th>0</th>\n",
       "      <td>842302</td>\n",
       "      <td>M</td>\n",
       "      <td>17.99</td>\n",
       "      <td>10.38</td>\n",
       "      <td>122.80</td>\n",
       "      <td>1001.0</td>\n",
       "      <td>0.11840</td>\n",
       "      <td>0.27760</td>\n",
       "      <td>0.3001</td>\n",
       "      <td>0.14710</td>\n",
       "      <td>...</td>\n",
       "      <td>25.38</td>\n",
       "      <td>17.33</td>\n",
       "      <td>184.60</td>\n",
       "      <td>2019.0</td>\n",
       "      <td>0.1622</td>\n",
       "      <td>0.6656</td>\n",
       "      <td>0.7119</td>\n",
       "      <td>0.2654</td>\n",
       "      <td>0.4601</td>\n",
       "      <td>0.11890</td>\n",
       "    </tr>\n",
       "    <tr>\n",
       "      <th>1</th>\n",
       "      <td>842517</td>\n",
       "      <td>M</td>\n",
       "      <td>20.57</td>\n",
       "      <td>17.77</td>\n",
       "      <td>132.90</td>\n",
       "      <td>1326.0</td>\n",
       "      <td>0.08474</td>\n",
       "      <td>0.07864</td>\n",
       "      <td>0.0869</td>\n",
       "      <td>0.07017</td>\n",
       "      <td>...</td>\n",
       "      <td>24.99</td>\n",
       "      <td>23.41</td>\n",
       "      <td>158.80</td>\n",
       "      <td>1956.0</td>\n",
       "      <td>0.1238</td>\n",
       "      <td>0.1866</td>\n",
       "      <td>0.2416</td>\n",
       "      <td>0.1860</td>\n",
       "      <td>0.2750</td>\n",
       "      <td>0.08902</td>\n",
       "    </tr>\n",
       "    <tr>\n",
       "      <th>2</th>\n",
       "      <td>84300903</td>\n",
       "      <td>M</td>\n",
       "      <td>19.69</td>\n",
       "      <td>21.25</td>\n",
       "      <td>130.00</td>\n",
       "      <td>1203.0</td>\n",
       "      <td>0.10960</td>\n",
       "      <td>0.15990</td>\n",
       "      <td>0.1974</td>\n",
       "      <td>0.12790</td>\n",
       "      <td>...</td>\n",
       "      <td>23.57</td>\n",
       "      <td>25.53</td>\n",
       "      <td>152.50</td>\n",
       "      <td>1709.0</td>\n",
       "      <td>0.1444</td>\n",
       "      <td>0.4245</td>\n",
       "      <td>0.4504</td>\n",
       "      <td>0.2430</td>\n",
       "      <td>0.3613</td>\n",
       "      <td>0.08758</td>\n",
       "    </tr>\n",
       "    <tr>\n",
       "      <th>3</th>\n",
       "      <td>84348301</td>\n",
       "      <td>M</td>\n",
       "      <td>11.42</td>\n",
       "      <td>20.38</td>\n",
       "      <td>77.58</td>\n",
       "      <td>386.1</td>\n",
       "      <td>0.14250</td>\n",
       "      <td>0.28390</td>\n",
       "      <td>0.2414</td>\n",
       "      <td>0.10520</td>\n",
       "      <td>...</td>\n",
       "      <td>14.91</td>\n",
       "      <td>26.50</td>\n",
       "      <td>98.87</td>\n",
       "      <td>567.7</td>\n",
       "      <td>0.2098</td>\n",
       "      <td>0.8663</td>\n",
       "      <td>0.6869</td>\n",
       "      <td>0.2575</td>\n",
       "      <td>0.6638</td>\n",
       "      <td>0.17300</td>\n",
       "    </tr>\n",
       "    <tr>\n",
       "      <th>4</th>\n",
       "      <td>84358402</td>\n",
       "      <td>M</td>\n",
       "      <td>20.29</td>\n",
       "      <td>14.34</td>\n",
       "      <td>135.10</td>\n",
       "      <td>1297.0</td>\n",
       "      <td>0.10030</td>\n",
       "      <td>0.13280</td>\n",
       "      <td>0.1980</td>\n",
       "      <td>0.10430</td>\n",
       "      <td>...</td>\n",
       "      <td>22.54</td>\n",
       "      <td>16.67</td>\n",
       "      <td>152.20</td>\n",
       "      <td>1575.0</td>\n",
       "      <td>0.1374</td>\n",
       "      <td>0.2050</td>\n",
       "      <td>0.4000</td>\n",
       "      <td>0.1625</td>\n",
       "      <td>0.2364</td>\n",
       "      <td>0.07678</td>\n",
       "    </tr>\n",
       "  </tbody>\n",
       "</table>\n",
       "<p>5 rows × 32 columns</p>\n",
       "</div>"
      ],
      "text/plain": [
       "         id diagnosis  radius_mean  texture_mean  perimeter_mean  area_mean  \\\n",
       "0    842302         M        17.99         10.38          122.80     1001.0   \n",
       "1    842517         M        20.57         17.77          132.90     1326.0   \n",
       "2  84300903         M        19.69         21.25          130.00     1203.0   \n",
       "3  84348301         M        11.42         20.38           77.58      386.1   \n",
       "4  84358402         M        20.29         14.34          135.10     1297.0   \n",
       "\n",
       "   smoothness_mean  compactness_mean  concavity_mean  concave points_mean  \\\n",
       "0          0.11840           0.27760          0.3001              0.14710   \n",
       "1          0.08474           0.07864          0.0869              0.07017   \n",
       "2          0.10960           0.15990          0.1974              0.12790   \n",
       "3          0.14250           0.28390          0.2414              0.10520   \n",
       "4          0.10030           0.13280          0.1980              0.10430   \n",
       "\n",
       "   ...  radius_worst  texture_worst  perimeter_worst  area_worst  \\\n",
       "0  ...         25.38          17.33           184.60      2019.0   \n",
       "1  ...         24.99          23.41           158.80      1956.0   \n",
       "2  ...         23.57          25.53           152.50      1709.0   \n",
       "3  ...         14.91          26.50            98.87       567.7   \n",
       "4  ...         22.54          16.67           152.20      1575.0   \n",
       "\n",
       "   smoothness_worst  compactness_worst  concavity_worst  concave points_worst  \\\n",
       "0            0.1622             0.6656           0.7119                0.2654   \n",
       "1            0.1238             0.1866           0.2416                0.1860   \n",
       "2            0.1444             0.4245           0.4504                0.2430   \n",
       "3            0.2098             0.8663           0.6869                0.2575   \n",
       "4            0.1374             0.2050           0.4000                0.1625   \n",
       "\n",
       "   symmetry_worst  fractal_dimension_worst  \n",
       "0          0.4601                  0.11890  \n",
       "1          0.2750                  0.08902  \n",
       "2          0.3613                  0.08758  \n",
       "3          0.6638                  0.17300  \n",
       "4          0.2364                  0.07678  \n",
       "\n",
       "[5 rows x 32 columns]"
      ]
     },
     "execution_count": 2,
     "metadata": {},
     "output_type": "execute_result"
    }
   ],
   "source": [
    "# Load the data\n",
    "data = pd.read_csv(\"data.csv\")\n",
    "print(data.shape)\n",
    "data.head()"
   ]
  },
  {
   "attachments": {},
   "cell_type": "markdown",
   "metadata": {},
   "source": [
    "To simplify the example, we'll only take the first 10 features randomly. Of course, you would usually select the 10 most powerful features rather than randomly selecting them."
   ]
  },
  {
   "cell_type": "code",
   "execution_count": 3,
   "metadata": {},
   "outputs": [
    {
     "data": {
      "text/html": [
       "<div>\n",
       "<style scoped>\n",
       "    .dataframe tbody tr th:only-of-type {\n",
       "        vertical-align: middle;\n",
       "    }\n",
       "\n",
       "    .dataframe tbody tr th {\n",
       "        vertical-align: top;\n",
       "    }\n",
       "\n",
       "    .dataframe thead th {\n",
       "        text-align: right;\n",
       "    }\n",
       "</style>\n",
       "<table border=\"1\" class=\"dataframe\">\n",
       "  <thead>\n",
       "    <tr style=\"text-align: right;\">\n",
       "      <th></th>\n",
       "      <th>diagnosis</th>\n",
       "      <th>radius_mean</th>\n",
       "      <th>texture_mean</th>\n",
       "      <th>perimeter_mean</th>\n",
       "      <th>area_mean</th>\n",
       "      <th>smoothness_mean</th>\n",
       "      <th>compactness_mean</th>\n",
       "      <th>concavity_mean</th>\n",
       "      <th>concave points_mean</th>\n",
       "      <th>symmetry_mean</th>\n",
       "      <th>fractal_dimension_mean</th>\n",
       "    </tr>\n",
       "  </thead>\n",
       "  <tbody>\n",
       "    <tr>\n",
       "      <th>0</th>\n",
       "      <td>M</td>\n",
       "      <td>17.99</td>\n",
       "      <td>10.38</td>\n",
       "      <td>122.80</td>\n",
       "      <td>1001.0</td>\n",
       "      <td>0.11840</td>\n",
       "      <td>0.27760</td>\n",
       "      <td>0.3001</td>\n",
       "      <td>0.14710</td>\n",
       "      <td>0.2419</td>\n",
       "      <td>0.07871</td>\n",
       "    </tr>\n",
       "    <tr>\n",
       "      <th>1</th>\n",
       "      <td>M</td>\n",
       "      <td>20.57</td>\n",
       "      <td>17.77</td>\n",
       "      <td>132.90</td>\n",
       "      <td>1326.0</td>\n",
       "      <td>0.08474</td>\n",
       "      <td>0.07864</td>\n",
       "      <td>0.0869</td>\n",
       "      <td>0.07017</td>\n",
       "      <td>0.1812</td>\n",
       "      <td>0.05667</td>\n",
       "    </tr>\n",
       "    <tr>\n",
       "      <th>2</th>\n",
       "      <td>M</td>\n",
       "      <td>19.69</td>\n",
       "      <td>21.25</td>\n",
       "      <td>130.00</td>\n",
       "      <td>1203.0</td>\n",
       "      <td>0.10960</td>\n",
       "      <td>0.15990</td>\n",
       "      <td>0.1974</td>\n",
       "      <td>0.12790</td>\n",
       "      <td>0.2069</td>\n",
       "      <td>0.05999</td>\n",
       "    </tr>\n",
       "    <tr>\n",
       "      <th>3</th>\n",
       "      <td>M</td>\n",
       "      <td>11.42</td>\n",
       "      <td>20.38</td>\n",
       "      <td>77.58</td>\n",
       "      <td>386.1</td>\n",
       "      <td>0.14250</td>\n",
       "      <td>0.28390</td>\n",
       "      <td>0.2414</td>\n",
       "      <td>0.10520</td>\n",
       "      <td>0.2597</td>\n",
       "      <td>0.09744</td>\n",
       "    </tr>\n",
       "    <tr>\n",
       "      <th>4</th>\n",
       "      <td>M</td>\n",
       "      <td>20.29</td>\n",
       "      <td>14.34</td>\n",
       "      <td>135.10</td>\n",
       "      <td>1297.0</td>\n",
       "      <td>0.10030</td>\n",
       "      <td>0.13280</td>\n",
       "      <td>0.1980</td>\n",
       "      <td>0.10430</td>\n",
       "      <td>0.1809</td>\n",
       "      <td>0.05883</td>\n",
       "    </tr>\n",
       "  </tbody>\n",
       "</table>\n",
       "</div>"
      ],
      "text/plain": [
       "  diagnosis  radius_mean  texture_mean  perimeter_mean  area_mean  \\\n",
       "0         M        17.99         10.38          122.80     1001.0   \n",
       "1         M        20.57         17.77          132.90     1326.0   \n",
       "2         M        19.69         21.25          130.00     1203.0   \n",
       "3         M        11.42         20.38           77.58      386.1   \n",
       "4         M        20.29         14.34          135.10     1297.0   \n",
       "\n",
       "   smoothness_mean  compactness_mean  concavity_mean  concave points_mean  \\\n",
       "0          0.11840           0.27760          0.3001              0.14710   \n",
       "1          0.08474           0.07864          0.0869              0.07017   \n",
       "2          0.10960           0.15990          0.1974              0.12790   \n",
       "3          0.14250           0.28390          0.2414              0.10520   \n",
       "4          0.10030           0.13280          0.1980              0.10430   \n",
       "\n",
       "   symmetry_mean  fractal_dimension_mean  \n",
       "0         0.2419                 0.07871  \n",
       "1         0.1812                 0.05667  \n",
       "2         0.2069                 0.05999  \n",
       "3         0.2597                 0.09744  \n",
       "4         0.1809                 0.05883  "
      ]
     },
     "metadata": {},
     "output_type": "display_data"
    },
    {
     "name": "stdout",
     "output_type": "stream",
     "text": [
      "(569, 11)\n"
     ]
    }
   ],
   "source": [
    "# Select the target and the first 10 features\n",
    "data = data.iloc[:,1:12]\n",
    "\n",
    "display(data.head())\n",
    "print(data.shape)"
   ]
  },
  {
   "attachments": {},
   "cell_type": "markdown",
   "metadata": {},
   "source": [
    "All (supervised) `scikit-learn` models take the target and features as distinct inputs. Hence, we separate the data into X and y."
   ]
  },
  {
   "cell_type": "code",
   "execution_count": 4,
   "metadata": {},
   "outputs": [
    {
     "data": {
      "text/plain": [
       "B    357\n",
       "M    212\n",
       "Name: diagnosis, dtype: int64"
      ]
     },
     "execution_count": 4,
     "metadata": {},
     "output_type": "execute_result"
    }
   ],
   "source": [
    "# Sort our target and features into different dataframes\n",
    "X = data.drop(['diagnosis'], axis = 1)\n",
    "y = data['diagnosis']\n",
    "\n",
    "# Target categories frequency\n",
    "y.value_counts()"
   ]
  },
  {
   "attachments": {},
   "cell_type": "markdown",
   "metadata": {},
   "source": [
    "We convert our label to binary values. It is good practice to rename the column name as well to avoid any confusion, but pandas series do not have a name so we can omit this step.\n",
    "\n",
    "- Benign → 0\n",
    "- Malignant → 1"
   ]
  },
  {
   "cell_type": "code",
   "execution_count": 5,
   "metadata": {},
   "outputs": [
    {
     "name": "stdout",
     "output_type": "stream",
     "text": [
      "0    357\n",
      "1    212\n",
      "dtype: int64\n",
      "{0: 'B', 1: 'M'}\n"
     ]
    }
   ],
   "source": [
    "# Convert to categorical before encoding\n",
    "y = data['diagnosis'].astype('category').cat.codes\n",
    "\n",
    "# Also perform sanity checks!\n",
    "print(y.value_counts())\n",
    "\n",
    "# Check the encoding\n",
    "print(dict(enumerate(data['diagnosis'].astype('category').cat.categories)))"
   ]
  },
  {
   "attachments": {},
   "cell_type": "markdown",
   "metadata": {},
   "source": [
    "We now have successfully loaded and wrangled our data into our input dataframes (X, y) and can move on with the train-test split."
   ]
  },
  {
   "attachments": {},
   "cell_type": "markdown",
   "metadata": {},
   "source": [
    "## 1. Divide your dataset into train and test\n",
    "\n",
    "Can't forget this! This is the only way to get a reliable estimate of your model's performance."
   ]
  },
  {
   "cell_type": "code",
   "execution_count": 6,
   "metadata": {},
   "outputs": [
    {
     "data": {
      "text/html": [
       "<div>\n",
       "<style scoped>\n",
       "    .dataframe tbody tr th:only-of-type {\n",
       "        vertical-align: middle;\n",
       "    }\n",
       "\n",
       "    .dataframe tbody tr th {\n",
       "        vertical-align: top;\n",
       "    }\n",
       "\n",
       "    .dataframe thead th {\n",
       "        text-align: right;\n",
       "    }\n",
       "</style>\n",
       "<table border=\"1\" class=\"dataframe\">\n",
       "  <thead>\n",
       "    <tr style=\"text-align: right;\">\n",
       "      <th></th>\n",
       "      <th>radius_mean</th>\n",
       "      <th>texture_mean</th>\n",
       "      <th>perimeter_mean</th>\n",
       "      <th>area_mean</th>\n",
       "      <th>smoothness_mean</th>\n",
       "      <th>compactness_mean</th>\n",
       "      <th>concavity_mean</th>\n",
       "      <th>concave points_mean</th>\n",
       "      <th>symmetry_mean</th>\n",
       "      <th>fractal_dimension_mean</th>\n",
       "    </tr>\n",
       "  </thead>\n",
       "  <tbody>\n",
       "    <tr>\n",
       "      <th>149</th>\n",
       "      <td>13.74</td>\n",
       "      <td>17.91</td>\n",
       "      <td>88.12</td>\n",
       "      <td>585.0</td>\n",
       "      <td>0.07944</td>\n",
       "      <td>0.06376</td>\n",
       "      <td>0.02881</td>\n",
       "      <td>0.01329</td>\n",
       "      <td>0.1473</td>\n",
       "      <td>0.05580</td>\n",
       "    </tr>\n",
       "    <tr>\n",
       "      <th>124</th>\n",
       "      <td>13.37</td>\n",
       "      <td>16.39</td>\n",
       "      <td>86.10</td>\n",
       "      <td>553.5</td>\n",
       "      <td>0.07115</td>\n",
       "      <td>0.07325</td>\n",
       "      <td>0.08092</td>\n",
       "      <td>0.02800</td>\n",
       "      <td>0.1422</td>\n",
       "      <td>0.05823</td>\n",
       "    </tr>\n",
       "    <tr>\n",
       "      <th>421</th>\n",
       "      <td>14.69</td>\n",
       "      <td>13.98</td>\n",
       "      <td>98.22</td>\n",
       "      <td>656.1</td>\n",
       "      <td>0.10310</td>\n",
       "      <td>0.18360</td>\n",
       "      <td>0.14500</td>\n",
       "      <td>0.06300</td>\n",
       "      <td>0.2086</td>\n",
       "      <td>0.07406</td>\n",
       "    </tr>\n",
       "    <tr>\n",
       "      <th>195</th>\n",
       "      <td>12.91</td>\n",
       "      <td>16.33</td>\n",
       "      <td>82.53</td>\n",
       "      <td>516.4</td>\n",
       "      <td>0.07941</td>\n",
       "      <td>0.05366</td>\n",
       "      <td>0.03873</td>\n",
       "      <td>0.02377</td>\n",
       "      <td>0.1829</td>\n",
       "      <td>0.05667</td>\n",
       "    </tr>\n",
       "    <tr>\n",
       "      <th>545</th>\n",
       "      <td>13.62</td>\n",
       "      <td>23.23</td>\n",
       "      <td>87.19</td>\n",
       "      <td>573.2</td>\n",
       "      <td>0.09246</td>\n",
       "      <td>0.06747</td>\n",
       "      <td>0.02974</td>\n",
       "      <td>0.02443</td>\n",
       "      <td>0.1664</td>\n",
       "      <td>0.05801</td>\n",
       "    </tr>\n",
       "  </tbody>\n",
       "</table>\n",
       "</div>"
      ],
      "text/plain": [
       "     radius_mean  texture_mean  perimeter_mean  area_mean  smoothness_mean  \\\n",
       "149        13.74         17.91           88.12      585.0          0.07944   \n",
       "124        13.37         16.39           86.10      553.5          0.07115   \n",
       "421        14.69         13.98           98.22      656.1          0.10310   \n",
       "195        12.91         16.33           82.53      516.4          0.07941   \n",
       "545        13.62         23.23           87.19      573.2          0.09246   \n",
       "\n",
       "     compactness_mean  concavity_mean  concave points_mean  symmetry_mean  \\\n",
       "149           0.06376         0.02881              0.01329         0.1473   \n",
       "124           0.07325         0.08092              0.02800         0.1422   \n",
       "421           0.18360         0.14500              0.06300         0.2086   \n",
       "195           0.05366         0.03873              0.02377         0.1829   \n",
       "545           0.06747         0.02974              0.02443         0.1664   \n",
       "\n",
       "     fractal_dimension_mean  \n",
       "149                 0.05580  \n",
       "124                 0.05823  \n",
       "421                 0.07406  \n",
       "195                 0.05667  \n",
       "545                 0.05801  "
      ]
     },
     "metadata": {},
     "output_type": "display_data"
    },
    {
     "data": {
      "text/html": [
       "<div>\n",
       "<style scoped>\n",
       "    .dataframe tbody tr th:only-of-type {\n",
       "        vertical-align: middle;\n",
       "    }\n",
       "\n",
       "    .dataframe tbody tr th {\n",
       "        vertical-align: top;\n",
       "    }\n",
       "\n",
       "    .dataframe thead th {\n",
       "        text-align: right;\n",
       "    }\n",
       "</style>\n",
       "<table border=\"1\" class=\"dataframe\">\n",
       "  <thead>\n",
       "    <tr style=\"text-align: right;\">\n",
       "      <th></th>\n",
       "      <th>radius_mean</th>\n",
       "      <th>texture_mean</th>\n",
       "      <th>perimeter_mean</th>\n",
       "      <th>area_mean</th>\n",
       "      <th>smoothness_mean</th>\n",
       "      <th>compactness_mean</th>\n",
       "      <th>concavity_mean</th>\n",
       "      <th>concave points_mean</th>\n",
       "      <th>symmetry_mean</th>\n",
       "      <th>fractal_dimension_mean</th>\n",
       "    </tr>\n",
       "  </thead>\n",
       "  <tbody>\n",
       "    <tr>\n",
       "      <th>204</th>\n",
       "      <td>12.47</td>\n",
       "      <td>18.60</td>\n",
       "      <td>81.09</td>\n",
       "      <td>481.9</td>\n",
       "      <td>0.09965</td>\n",
       "      <td>0.1058</td>\n",
       "      <td>0.08005</td>\n",
       "      <td>0.03821</td>\n",
       "      <td>0.1925</td>\n",
       "      <td>0.06373</td>\n",
       "    </tr>\n",
       "    <tr>\n",
       "      <th>70</th>\n",
       "      <td>18.94</td>\n",
       "      <td>21.31</td>\n",
       "      <td>123.60</td>\n",
       "      <td>1130.0</td>\n",
       "      <td>0.09009</td>\n",
       "      <td>0.1029</td>\n",
       "      <td>0.10800</td>\n",
       "      <td>0.07951</td>\n",
       "      <td>0.1582</td>\n",
       "      <td>0.05461</td>\n",
       "    </tr>\n",
       "    <tr>\n",
       "      <th>131</th>\n",
       "      <td>15.46</td>\n",
       "      <td>19.48</td>\n",
       "      <td>101.70</td>\n",
       "      <td>748.9</td>\n",
       "      <td>0.10920</td>\n",
       "      <td>0.1223</td>\n",
       "      <td>0.14660</td>\n",
       "      <td>0.08087</td>\n",
       "      <td>0.1931</td>\n",
       "      <td>0.05796</td>\n",
       "    </tr>\n",
       "    <tr>\n",
       "      <th>431</th>\n",
       "      <td>12.40</td>\n",
       "      <td>17.68</td>\n",
       "      <td>81.47</td>\n",
       "      <td>467.8</td>\n",
       "      <td>0.10540</td>\n",
       "      <td>0.1316</td>\n",
       "      <td>0.07741</td>\n",
       "      <td>0.02799</td>\n",
       "      <td>0.1811</td>\n",
       "      <td>0.07102</td>\n",
       "    </tr>\n",
       "    <tr>\n",
       "      <th>540</th>\n",
       "      <td>11.54</td>\n",
       "      <td>14.44</td>\n",
       "      <td>74.65</td>\n",
       "      <td>402.9</td>\n",
       "      <td>0.09984</td>\n",
       "      <td>0.1120</td>\n",
       "      <td>0.06737</td>\n",
       "      <td>0.02594</td>\n",
       "      <td>0.1818</td>\n",
       "      <td>0.06782</td>\n",
       "    </tr>\n",
       "  </tbody>\n",
       "</table>\n",
       "</div>"
      ],
      "text/plain": [
       "     radius_mean  texture_mean  perimeter_mean  area_mean  smoothness_mean  \\\n",
       "204        12.47         18.60           81.09      481.9          0.09965   \n",
       "70         18.94         21.31          123.60     1130.0          0.09009   \n",
       "131        15.46         19.48          101.70      748.9          0.10920   \n",
       "431        12.40         17.68           81.47      467.8          0.10540   \n",
       "540        11.54         14.44           74.65      402.9          0.09984   \n",
       "\n",
       "     compactness_mean  concavity_mean  concave points_mean  symmetry_mean  \\\n",
       "204            0.1058         0.08005              0.03821         0.1925   \n",
       "70             0.1029         0.10800              0.07951         0.1582   \n",
       "131            0.1223         0.14660              0.08087         0.1931   \n",
       "431            0.1316         0.07741              0.02799         0.1811   \n",
       "540            0.1120         0.06737              0.02594         0.1818   \n",
       "\n",
       "     fractal_dimension_mean  \n",
       "204                 0.06373  \n",
       "70                  0.05461  \n",
       "131                 0.05796  \n",
       "431                 0.07102  \n",
       "540                 0.06782  "
      ]
     },
     "metadata": {},
     "output_type": "display_data"
    },
    {
     "data": {
      "text/plain": [
       "149    0\n",
       "124    0\n",
       "421    0\n",
       "195    0\n",
       "545    0\n",
       "dtype: int8"
      ]
     },
     "metadata": {},
     "output_type": "display_data"
    },
    {
     "data": {
      "text/plain": [
       "204    0\n",
       "70     1\n",
       "131    1\n",
       "431    0\n",
       "540    0\n",
       "dtype: int8"
      ]
     },
     "metadata": {},
     "output_type": "display_data"
    }
   ],
   "source": [
    "# Train test split\n",
    "from sklearn.model_selection import train_test_split\n",
    "X_train, X_test, y_train, y_test = train_test_split(X, y, test_size=0.3, random_state=42)\n",
    "\n",
    "# Sanity check... Double check that the index of the train and test sets match\n",
    "display(X_train.head(), X_test.head(), y_train.head(), y_test.head())"
   ]
  },
  {
   "attachments": {},
   "cell_type": "markdown",
   "metadata": {},
   "source": [
    "It is good practice to make sure that our train and test sets are balanced. This means making sure that there are no significant differences between them. For this, we will merge the datasets back together while adding a dummy variable indicating whether a row comes from the training or the test set. We can then use this dummy variable as the independent variable in a regression and evaluate the p-values of all features.\n",
    "\n",
    "Note that we only need to do this on the features. For the targets, you simply want to make sure that the labels are relatively well distributed among the train and test set."
   ]
  },
  {
   "cell_type": "code",
   "execution_count": 7,
   "metadata": {},
   "outputs": [
    {
     "data": {
      "text/html": [
       "<div>\n",
       "<style scoped>\n",
       "    .dataframe tbody tr th:only-of-type {\n",
       "        vertical-align: middle;\n",
       "    }\n",
       "\n",
       "    .dataframe tbody tr th {\n",
       "        vertical-align: top;\n",
       "    }\n",
       "\n",
       "    .dataframe thead th {\n",
       "        text-align: right;\n",
       "    }\n",
       "</style>\n",
       "<table border=\"1\" class=\"dataframe\">\n",
       "  <thead>\n",
       "    <tr style=\"text-align: right;\">\n",
       "      <th></th>\n",
       "      <th>test</th>\n",
       "      <th>radius_mean</th>\n",
       "      <th>texture_mean</th>\n",
       "      <th>perimeter_mean</th>\n",
       "      <th>area_mean</th>\n",
       "      <th>smoothness_mean</th>\n",
       "      <th>compactness_mean</th>\n",
       "      <th>concavity_mean</th>\n",
       "      <th>concave points_mean</th>\n",
       "      <th>symmetry_mean</th>\n",
       "      <th>fractal_dimension_mean</th>\n",
       "    </tr>\n",
       "  </thead>\n",
       "  <tbody>\n",
       "    <tr>\n",
       "      <th>204</th>\n",
       "      <td>1</td>\n",
       "      <td>12.470</td>\n",
       "      <td>18.60</td>\n",
       "      <td>81.09</td>\n",
       "      <td>481.9</td>\n",
       "      <td>0.09965</td>\n",
       "      <td>0.10580</td>\n",
       "      <td>0.08005</td>\n",
       "      <td>0.03821</td>\n",
       "      <td>0.1925</td>\n",
       "      <td>0.06373</td>\n",
       "    </tr>\n",
       "    <tr>\n",
       "      <th>70</th>\n",
       "      <td>1</td>\n",
       "      <td>18.940</td>\n",
       "      <td>21.31</td>\n",
       "      <td>123.60</td>\n",
       "      <td>1130.0</td>\n",
       "      <td>0.09009</td>\n",
       "      <td>0.10290</td>\n",
       "      <td>0.10800</td>\n",
       "      <td>0.07951</td>\n",
       "      <td>0.1582</td>\n",
       "      <td>0.05461</td>\n",
       "    </tr>\n",
       "    <tr>\n",
       "      <th>131</th>\n",
       "      <td>1</td>\n",
       "      <td>15.460</td>\n",
       "      <td>19.48</td>\n",
       "      <td>101.70</td>\n",
       "      <td>748.9</td>\n",
       "      <td>0.10920</td>\n",
       "      <td>0.12230</td>\n",
       "      <td>0.14660</td>\n",
       "      <td>0.08087</td>\n",
       "      <td>0.1931</td>\n",
       "      <td>0.05796</td>\n",
       "    </tr>\n",
       "    <tr>\n",
       "      <th>431</th>\n",
       "      <td>1</td>\n",
       "      <td>12.400</td>\n",
       "      <td>17.68</td>\n",
       "      <td>81.47</td>\n",
       "      <td>467.8</td>\n",
       "      <td>0.10540</td>\n",
       "      <td>0.13160</td>\n",
       "      <td>0.07741</td>\n",
       "      <td>0.02799</td>\n",
       "      <td>0.1811</td>\n",
       "      <td>0.07102</td>\n",
       "    </tr>\n",
       "    <tr>\n",
       "      <th>540</th>\n",
       "      <td>1</td>\n",
       "      <td>11.540</td>\n",
       "      <td>14.44</td>\n",
       "      <td>74.65</td>\n",
       "      <td>402.9</td>\n",
       "      <td>0.09984</td>\n",
       "      <td>0.11200</td>\n",
       "      <td>0.06737</td>\n",
       "      <td>0.02594</td>\n",
       "      <td>0.1818</td>\n",
       "      <td>0.06782</td>\n",
       "    </tr>\n",
       "    <tr>\n",
       "      <th>...</th>\n",
       "      <td>...</td>\n",
       "      <td>...</td>\n",
       "      <td>...</td>\n",
       "      <td>...</td>\n",
       "      <td>...</td>\n",
       "      <td>...</td>\n",
       "      <td>...</td>\n",
       "      <td>...</td>\n",
       "      <td>...</td>\n",
       "      <td>...</td>\n",
       "      <td>...</td>\n",
       "    </tr>\n",
       "    <tr>\n",
       "      <th>71</th>\n",
       "      <td>0</td>\n",
       "      <td>8.888</td>\n",
       "      <td>14.64</td>\n",
       "      <td>58.79</td>\n",
       "      <td>244.0</td>\n",
       "      <td>0.09783</td>\n",
       "      <td>0.15310</td>\n",
       "      <td>0.08606</td>\n",
       "      <td>0.02872</td>\n",
       "      <td>0.1902</td>\n",
       "      <td>0.08980</td>\n",
       "    </tr>\n",
       "    <tr>\n",
       "      <th>106</th>\n",
       "      <td>0</td>\n",
       "      <td>11.640</td>\n",
       "      <td>18.33</td>\n",
       "      <td>75.17</td>\n",
       "      <td>412.5</td>\n",
       "      <td>0.11420</td>\n",
       "      <td>0.10170</td>\n",
       "      <td>0.07070</td>\n",
       "      <td>0.03485</td>\n",
       "      <td>0.1801</td>\n",
       "      <td>0.06520</td>\n",
       "    </tr>\n",
       "    <tr>\n",
       "      <th>270</th>\n",
       "      <td>0</td>\n",
       "      <td>14.290</td>\n",
       "      <td>16.82</td>\n",
       "      <td>90.30</td>\n",
       "      <td>632.6</td>\n",
       "      <td>0.06429</td>\n",
       "      <td>0.02675</td>\n",
       "      <td>0.00725</td>\n",
       "      <td>0.00625</td>\n",
       "      <td>0.1508</td>\n",
       "      <td>0.05376</td>\n",
       "    </tr>\n",
       "    <tr>\n",
       "      <th>435</th>\n",
       "      <td>0</td>\n",
       "      <td>13.980</td>\n",
       "      <td>19.62</td>\n",
       "      <td>91.12</td>\n",
       "      <td>599.5</td>\n",
       "      <td>0.10600</td>\n",
       "      <td>0.11330</td>\n",
       "      <td>0.11260</td>\n",
       "      <td>0.06463</td>\n",
       "      <td>0.1669</td>\n",
       "      <td>0.06544</td>\n",
       "    </tr>\n",
       "    <tr>\n",
       "      <th>102</th>\n",
       "      <td>0</td>\n",
       "      <td>12.180</td>\n",
       "      <td>20.52</td>\n",
       "      <td>77.22</td>\n",
       "      <td>458.7</td>\n",
       "      <td>0.08013</td>\n",
       "      <td>0.04038</td>\n",
       "      <td>0.02383</td>\n",
       "      <td>0.01770</td>\n",
       "      <td>0.1739</td>\n",
       "      <td>0.05677</td>\n",
       "    </tr>\n",
       "  </tbody>\n",
       "</table>\n",
       "<p>569 rows × 11 columns</p>\n",
       "</div>"
      ],
      "text/plain": [
       "     test  radius_mean  texture_mean  perimeter_mean  area_mean  \\\n",
       "204     1       12.470         18.60           81.09      481.9   \n",
       "70      1       18.940         21.31          123.60     1130.0   \n",
       "131     1       15.460         19.48          101.70      748.9   \n",
       "431     1       12.400         17.68           81.47      467.8   \n",
       "540     1       11.540         14.44           74.65      402.9   \n",
       "..    ...          ...           ...             ...        ...   \n",
       "71      0        8.888         14.64           58.79      244.0   \n",
       "106     0       11.640         18.33           75.17      412.5   \n",
       "270     0       14.290         16.82           90.30      632.6   \n",
       "435     0       13.980         19.62           91.12      599.5   \n",
       "102     0       12.180         20.52           77.22      458.7   \n",
       "\n",
       "     smoothness_mean  compactness_mean  concavity_mean  concave points_mean  \\\n",
       "204          0.09965           0.10580         0.08005              0.03821   \n",
       "70           0.09009           0.10290         0.10800              0.07951   \n",
       "131          0.10920           0.12230         0.14660              0.08087   \n",
       "431          0.10540           0.13160         0.07741              0.02799   \n",
       "540          0.09984           0.11200         0.06737              0.02594   \n",
       "..               ...               ...             ...                  ...   \n",
       "71           0.09783           0.15310         0.08606              0.02872   \n",
       "106          0.11420           0.10170         0.07070              0.03485   \n",
       "270          0.06429           0.02675         0.00725              0.00625   \n",
       "435          0.10600           0.11330         0.11260              0.06463   \n",
       "102          0.08013           0.04038         0.02383              0.01770   \n",
       "\n",
       "     symmetry_mean  fractal_dimension_mean  \n",
       "204         0.1925                 0.06373  \n",
       "70          0.1582                 0.05461  \n",
       "131         0.1931                 0.05796  \n",
       "431         0.1811                 0.07102  \n",
       "540         0.1818                 0.06782  \n",
       "..             ...                     ...  \n",
       "71          0.1902                 0.08980  \n",
       "106         0.1801                 0.06520  \n",
       "270         0.1508                 0.05376  \n",
       "435         0.1669                 0.06544  \n",
       "102         0.1739                 0.05677  \n",
       "\n",
       "[569 rows x 11 columns]"
      ]
     },
     "metadata": {},
     "output_type": "display_data"
    },
    {
     "name": "stdout",
     "output_type": "stream",
     "text": [
      "0    398\n",
      "1    171\n",
      "Name: test, dtype: int64\n"
     ]
    }
   ],
   "source": [
    "# Insert the dummy variable in each set\n",
    "X_train.insert(0, 'test', 0)\n",
    "X_test.insert(0, 'test', 1)\n",
    "\n",
    "# Merge the train and test set\n",
    "X_full = pd.concat([X_test, X_train], axis = 0)\n",
    "\n",
    "display(X_full)\n",
    "print(X_full['test'].value_counts())"
   ]
  },
  {
   "attachments": {},
   "cell_type": "markdown",
   "metadata": {},
   "source": [
    "What we essentially did was add the train set to the bottom of the test set. Notice how the index is all shuffled, which is a result of the randomization of the train-test-split."
   ]
  },
  {
   "attachments": {},
   "cell_type": "markdown",
   "metadata": {},
   "source": [
    "Now, we can simply run a regression with `test` as the independent variable being predicted by all the features."
   ]
  },
  {
   "cell_type": "code",
   "execution_count": 8,
   "metadata": {},
   "outputs": [
    {
     "name": "stdout",
     "output_type": "stream",
     "text": [
      "                            OLS Regression Results                            \n",
      "==============================================================================\n",
      "Dep. Variable:                   test   R-squared:                       0.009\n",
      "Model:                            OLS   Adj. R-squared:                 -0.007\n",
      "Method:                 Least Squares   F-statistic:                    0.5553\n",
      "Date:                Thu, 26 Jan 2023   Prob (F-statistic):              0.834\n",
      "Time:                        21:20:30   Log-Likelihood:                -361.12\n",
      "No. Observations:                 569   AIC:                             742.2\n",
      "Df Residuals:                     559   BIC:                             785.7\n",
      "Df Model:                           9                                         \n",
      "Covariance Type:            nonrobust                                         \n",
      "==========================================================================================\n",
      "                             coef    std err          t      P>|t|      [0.025      0.975]\n",
      "------------------------------------------------------------------------------------------\n",
      "Intercept                  0.5602      0.673      0.832      0.406      -0.762       1.883\n",
      "radius_mean               -0.0597      0.220     -0.272      0.786      -0.491       0.372\n",
      "texture_mean               0.0063      0.005      1.291      0.197      -0.003       0.016\n",
      "perimeter_mean             0.0054      0.035      0.155      0.877      -0.064       0.074\n",
      "area_mean               7.947e-05      0.000      0.193      0.847      -0.001       0.001\n",
      "smoothness_mean            1.7144      2.048      0.837      0.403      -2.308       5.736\n",
      "compactness_mean           0.6817      1.734      0.393      0.694      -2.725       4.089\n",
      "concavity_mean            -0.1135      0.685     -0.166      0.868      -1.458       1.231\n",
      "symmetry_mean              0.5106      0.935      0.546      0.585      -1.327       2.348\n",
      "fractal_dimension_mean    -6.5036      6.952     -0.936      0.350     -20.158       7.151\n",
      "==============================================================================\n",
      "Omnibus:                      504.894   Durbin-Watson:                   0.026\n",
      "Prob(Omnibus):                  0.000   Jarque-Bera (JB):              105.086\n",
      "Skew:                           0.856   Prob(JB):                     1.52e-23\n",
      "Kurtosis:                       1.775   Cond. No.                     2.74e+05\n",
      "==============================================================================\n",
      "\n",
      "Notes:\n",
      "[1] Standard Errors assume that the covariance matrix of the errors is correctly specified.\n",
      "[2] The condition number is large, 2.74e+05. This might indicate that there are\n",
      "strong multicollinearity or other numerical problems.\n"
     ]
    }
   ],
   "source": [
    "result = smf.ols(\n",
    "    'test ~ radius_mean + texture_mean + perimeter_mean + area_mean + smoothness_mean + compactness_mean + concavity_mean + symmetry_mean + fractal_dimension_mean',\n",
    "    data = X_full\n",
    ").fit()\n",
    "print(result.summary())"
   ]
  },
  {
   "attachments": {},
   "cell_type": "markdown",
   "metadata": {},
   "source": [
    "All of the p-values are larger than 0.1, hence, we can conclude that the train and test set are not significantly different (i.e., that they are very similar). This is exactly what we wished for. Otherwise, a model trained on the training set would not be able to predict the test set well."
   ]
  },
  {
   "attachments": {},
   "cell_type": "markdown",
   "metadata": {},
   "source": [
    "With the labels, it is often sufficient to compute the percentage of positive labels (i.e., percentage of malignant) and see if this ratio is approximately equal. In this case, it is true."
   ]
  },
  {
   "cell_type": "code",
   "execution_count": 9,
   "metadata": {},
   "outputs": [
    {
     "name": "stdout",
     "output_type": "stream",
     "text": [
      "Percentage of positive labels in the test set: 36.84\n",
      "Percentage of positive labels in the training set: 37.44\n"
     ]
    }
   ],
   "source": [
    "# Check the label distribution in the training and test sets\n",
    "print(f'Percentage of positive labels in the test set: {round(y_test.mean()*100, 2)}')\n",
    "print(f'Percentage of positive labels in the training set: {round(y_train.mean()*100, 2)}')"
   ]
  },
  {
   "attachments": {},
   "cell_type": "markdown",
   "metadata": {},
   "source": [
    "Of course, the larger the sample and the more balanced it is, the less likely we are to run into issues here. Hence, if you have small sample and/or variables with some \"outliers\" (in the sense that there are only few observations with values in a rare range), you should take this step very seriously."
   ]
  },
  {
   "attachments": {},
   "cell_type": "markdown",
   "metadata": {},
   "source": [
    "Anyways, now that we have made sure that our train-test split is of good quality in the sense that none of our features are significantly correlated to the 'test' dummy (i.e., being in a test or train set), we can remove it again."
   ]
  },
  {
   "cell_type": "code",
   "execution_count": 10,
   "metadata": {},
   "outputs": [],
   "source": [
    "# Remove the test dummy\n",
    "X_test = X_test.drop(['test'], axis = 1)\n",
    "X_train = X_train.drop(['test'], axis = 1)"
   ]
  },
  {
   "cell_type": "markdown",
   "metadata": {},
   "source": [
    "## 2. Good old OLS\n"
   ]
  },
  {
   "attachments": {},
   "cell_type": "markdown",
   "metadata": {},
   "source": [
    "Since the models we discuss were developed to outperform the OLS model when predicting categorical (i.e., classification), it is useful to see how it does to set a benchmark."
   ]
  },
  {
   "cell_type": "code",
   "execution_count": 11,
   "metadata": {},
   "outputs": [],
   "source": [
    "# Define and train the OLS model\n",
    "from sklearn.linear_model import LinearRegression\n",
    "model = LinearRegression(fit_intercept=True)\n",
    "model.fit(X_train, y_train)\n",
    "\n",
    "# Predict the labels on the test set\n",
    "y_pred_ols = model.predict(X_test)"
   ]
  },
  {
   "attachments": {},
   "cell_type": "markdown",
   "metadata": {},
   "source": [
    "Of course, one problem of using OLS for classification is that its predictions will not necessarily lie between 0 and 1."
   ]
  },
  {
   "cell_type": "code",
   "execution_count": 12,
   "metadata": {},
   "outputs": [
    {
     "data": {
      "text/plain": [
       "array([0.2545099 , 0.78391203, 0.7383423 , 0.10432796, 0.03194086,\n",
       "       1.56782097, 1.34188845, 0.64738314, 0.58479897, 0.05768623])"
      ]
     },
     "execution_count": 12,
     "metadata": {},
     "output_type": "execute_result"
    }
   ],
   "source": [
    "# 10 first predictions\n",
    "y_pred_ols[:10]"
   ]
  },
  {
   "cell_type": "code",
   "execution_count": 13,
   "metadata": {},
   "outputs": [
    {
     "data": {
      "text/plain": [
       "<AxesSubplot:ylabel='Count'>"
      ]
     },
     "execution_count": 13,
     "metadata": {},
     "output_type": "execute_result"
    },
    {
     "data": {
      "image/png": "[encoded data removed]",
      "text/plain": [
       "<Figure size 432x288 with 1 Axes>"
      ]
     },
     "metadata": {
      "needs_background": "light"
     },
     "output_type": "display_data"
    }
   ],
   "source": [
    "# Histogram of the predictions\n",
    "sns.histplot(y_pred_ols)"
   ]
  },
  {
   "attachments": {},
   "cell_type": "markdown",
   "metadata": {},
   "source": [
    "To turn those continuous predictions into binary ones, we can use a threshold. Here, we will use the somewhat arbitrary threshold of 0.7 above which we will classify an observation as malignant (M) and below it as benign (B)."
   ]
  },
  {
   "cell_type": "code",
   "execution_count": 14,
   "metadata": {},
   "outputs": [
    {
     "data": {
      "text/plain": [
       "array([0, 1, 1, 0, 0, 1, 1, 0, 0, 0])"
      ]
     },
     "execution_count": 14,
     "metadata": {},
     "output_type": "execute_result"
    }
   ],
   "source": [
    "# Continuous to binary predictions\n",
    "y_pred_ols_bin = np.where(y_pred_ols > 0.7, 1, 0)\n",
    "\n",
    "y_pred_ols_bin[:10]"
   ]
  },
  {
   "attachments": {},
   "cell_type": "markdown",
   "metadata": {},
   "source": [
    "The accuracy score is the gold standard of performance measurement of classification models. Essentially, it measures which percentage of labels were correctly predicted by the model:\n",
    "\n",
    "$$ Accuracy\\ Score = \\frac{Nb.\\ Correct\\ Predictions}{Nb.\\ Total\\ Predictions} $$\n",
    "\n",
    "Whether or not the accuracy score of a model is good or not depends on the baseline. The baseline is simply the frequency of the label occurring the most in the test set. Hence, we compare the accuracy of a model to always guessing the most common label. If our model is not able to outperform this, it is literally counterproductive."
   ]
  },
  {
   "cell_type": "code",
   "execution_count": 15,
   "metadata": {},
   "outputs": [
    {
     "name": "stdout",
     "output_type": "stream",
     "text": [
      "baseline accuracy: 63.0%\n",
      "OLS accuracy: 88.3%\n",
      "0.63\n"
     ]
    }
   ],
   "source": [
    "# Initialize accuracy tracking dictionary\n",
    "accuracies = {} \n",
    "\n",
    "# Computing the baseline accuracy\n",
    "accuracies['baseline'] = round(y_test.value_counts().max()/len(y_test), 2)\n",
    "\n",
    "# Compute the accuracy\n",
    "from sklearn.metrics import accuracy_score, confusion_matrix, roc_curve\n",
    "accuracies['OLS'] = accuracy_score(y_test, y_pred_ols_bin)\n",
    "\n",
    "# Print the accuracies\n",
    "for model, accuracy in accuracies.items():\n",
    "    print(f'{model} accuracy: {round(accuracy, 4)*100}%')\n",
    "\n",
    "# The baseline is indeed the accuracy of guessing the most frequent label\n",
    "print(\n",
    "    round(\n",
    "        accuracy_score(\n",
    "            y_test,\n",
    "            pd.Series([y_test.value_counts().idxmax()]*len(y_test))\n",
    "        )\n",
    "    , 2)\n",
    ")"
   ]
  },
  {
   "attachments": {},
   "cell_type": "markdown",
   "metadata": {},
   "source": [
    "We are also interested to see if there are certain categories that are harder to predict for the model. A confusion matrix gives us a pretty good idea on whether that is the case for a particular model.\n",
    "\n",
    "![ConfusionMatrix.png](ConfusionMatrix.png)"
   ]
  },
  {
   "cell_type": "code",
   "execution_count": 16,
   "metadata": {},
   "outputs": [
    {
     "name": "stdout",
     "output_type": "stream",
     "text": [
      "[[1.         0.        ]\n",
      " [0.31746032 0.68253968]]\n"
     ]
    }
   ],
   "source": [
    "cm_ols = confusion_matrix(y_test, y_pred_ols_bin, normalize = 'true')\n",
    "print(cm_ols)"
   ]
  },
  {
   "attachments": {},
   "cell_type": "markdown",
   "metadata": {},
   "source": [
    "This display of the confusion matrix is obviously not very digestible. Let's make a heatmap out of it!"
   ]
  },
  {
   "cell_type": "code",
   "execution_count": 17,
   "metadata": {},
   "outputs": [
    {
     "data": {
      "image/png": "[encoded data removed]",
      "text/plain": [
       "<Figure size 432x288 with 2 Axes>"
      ]
     },
     "metadata": {
      "needs_background": "light"
     },
     "output_type": "display_data"
    }
   ],
   "source": [
    "ax = sns.heatmap(cm_ols, annot=True, \n",
    "            fmt='.2%', cmap='Blues')\n",
    "\n",
    "ax.set_title('OLS: Confusion Matrix with labels\\n')\n",
    "ax.set_xlabel('\\nPredicted Values')\n",
    "ax.set_ylabel('Actual Values')\n",
    "\n",
    "## Ticket labels - List must be in alphabetical order\n",
    "ax.xaxis.set_ticklabels(['False','True'])\n",
    "ax.yaxis.set_ticklabels(['False','True'])\n",
    "\n",
    "## Display the visualization of the Confusion Matrix.\n",
    "plt.show()"
   ]
  },
  {
   "attachments": {},
   "cell_type": "markdown",
   "metadata": {},
   "source": [
    "We see that the model predicts all (actual) benign (False) correctly. However, it performs less good on (actual) malignant (True) observations that it often (wrongly) predicts as benign.\n",
    "\n",
    "As the plot below shows, this is not surprising  as the threshold of 0.7 is above any predicted (continuous) probability by OLS for (actual) benign (False) observations."
   ]
  },
  {
   "cell_type": "code",
   "execution_count": 18,
   "metadata": {},
   "outputs": [
    {
     "data": {
      "image/png": "[encoded data removed]",
      "text/plain": [
       "<Figure size 432x288 with 1 Axes>"
      ]
     },
     "metadata": {
      "needs_background": "light"
     },
     "output_type": "display_data"
    }
   ],
   "source": [
    "# Visualize with a box/swarmplot\n",
    "ax = sns.boxplot(x=y_test, y=y_pred_ols)\n",
    "ax = sns.swarmplot(x=y_test, y=y_pred_ols, color = \".25\")\n",
    "ax.axhline(0.7, ls = '--', color = 'grey')\n",
    "ax.xaxis.set_ticklabels(['False','True'])\n",
    "ax.set_xlabel('Actual Label')\n",
    "ax.set_ylabel('Predicted probability')\n",
    "ax.set_title('Ordinary Least Squares')\n",
    "plt.show()"
   ]
  },
  {
   "attachments": {},
   "cell_type": "markdown",
   "metadata": {},
   "source": [
    "We know that OLS is not well-suited for classification problems, so how do the other models perform? Let's see!"
   ]
  },
  {
   "cell_type": "markdown",
   "metadata": {},
   "source": [
    "## 3. Logistic Regression"
   ]
  },
  {
   "attachments": {},
   "cell_type": "markdown",
   "metadata": {},
   "source": [
    "A logistic regression has the advantage of predicting probabilities within 0 and 1.\n",
    "\n",
    "$$ p(x) = \\frac{1}{1 + e^{-(x-\\mu)/s}} = \\frac{1}{1 + e^{-(\\beta_{0} + \\beta_{1}x)}} \\in [0, 1] $$\n",
    "\n",
    "Where:\n",
    "\n",
    "- $\\beta_{0} = -\\mu/s$\n",
    "- $\\beta_{1} = 1/s$\n",
    "\n",
    "Notice that $p(\\mu)=1/2$"
   ]
  },
  {
   "cell_type": "code",
   "execution_count": 19,
   "metadata": {},
   "outputs": [
    {
     "name": "stderr",
     "output_type": "stream",
     "text": [
      "C:\\Users\\Jonas\\AppData\\Roaming\\Python\\Python310\\site-packages\\sklearn\\linear_model\\_logistic.py:814: ConvergenceWarning: lbfgs failed to converge (status=1):\n",
      "STOP: TOTAL NO. of ITERATIONS REACHED LIMIT.\n",
      "\n",
      "Increase the number of iterations (max_iter) or scale the data as shown in:\n",
      "    https://scikit-learn.org/stable/modules/preprocessing.html\n",
      "Please also refer to the documentation for alternative solver options:\n",
      "    https://scikit-learn.org/stable/modules/linear_model.html#logistic-regression\n",
      "  n_iter_i = _check_optimize_result(\n"
     ]
    },
    {
     "data": {
      "text/plain": [
       "array([[0.87702373, 0.12297627],\n",
       "       [0.00510152, 0.99489848],\n",
       "       [0.24264766, 0.75735234],\n",
       "       [0.88331882, 0.11668118],\n",
       "       [0.9714868 , 0.0285132 ]])"
      ]
     },
     "execution_count": 19,
     "metadata": {},
     "output_type": "execute_result"
    }
   ],
   "source": [
    "# Fit the model\n",
    "from sklearn.linear_model import LogisticRegression\n",
    "logisticRegr = LogisticRegression()\n",
    "logisticRegr.fit(X_train, y_train)\n",
    "\n",
    "# Predict the test set\n",
    "y_pred_log = logisticRegr.predict_proba(X_test)\n",
    "y_pred_log[:5]"
   ]
  },
  {
   "attachments": {},
   "cell_type": "markdown",
   "metadata": {},
   "source": [
    "Notice that the logistic regression predicts the probabilities of an observation belonging to each class. Those probabilities hence sum up to 1 for each observation.\n",
    "\n",
    "As expected, when plotting the likelihood of a tumor being malignant, we see that we now have probabilities that are bounded between 0 and 1. Additionally, we can see that the low and high probabilities are much more common than the mid-range probabilites. This is good as it means that we don't have to make any \"close\" decisions."
   ]
  },
  {
   "cell_type": "code",
   "execution_count": 20,
   "metadata": {},
   "outputs": [
    {
     "data": {
      "text/plain": [
       "<AxesSubplot:ylabel='Count'>"
      ]
     },
     "execution_count": 20,
     "metadata": {},
     "output_type": "execute_result"
    },
    {
     "data": {
      "image/png": "[encoded data removed]",
      "text/plain": [
       "<Figure size 432x288 with 1 Axes>"
      ]
     },
     "metadata": {
      "needs_background": "light"
     },
     "output_type": "display_data"
    }
   ],
   "source": [
    "# Binary classification, so we only need one probability\n",
    "y_pred_log = y_pred_log[: ,1]\n",
    "\n",
    "sns.histplot(y_pred_log)"
   ]
  },
  {
   "cell_type": "code",
   "execution_count": 21,
   "metadata": {},
   "outputs": [
    {
     "name": "stdout",
     "output_type": "stream",
     "text": [
      "baseline accuracy: 63.0%\n",
      "OLS accuracy: 88.3%\n",
      "logit accuracy: 93.57%\n"
     ]
    }
   ],
   "source": [
    "# Compute the accuracy\n",
    "accuracies['logit'] = accuracy_score(y_test, logisticRegr.predict(X_test))\n",
    "\n",
    "# Print the accuracies\n",
    "for model, accuracy in accuracies.items():\n",
    "    print(f'{model} accuracy: {round(accuracy, 4)*100}%')"
   ]
  },
  {
   "attachments": {},
   "cell_type": "markdown",
   "metadata": {},
   "source": [
    "Looking at the heatmap again, we notice that the logistic regression is also predicting the (actually) benign (False) mostly correctly and is doing slightly better on the (actually) malignant (True) than OLS. Hence, the accuracy improvement is coming from there."
   ]
  },
  {
   "cell_type": "code",
   "execution_count": 22,
   "metadata": {},
   "outputs": [
    {
     "data": {
      "image/png": "[encoded data removed]",
      "text/plain": [
       "<Figure size 432x288 with 2 Axes>"
      ]
     },
     "metadata": {
      "needs_background": "light"
     },
     "output_type": "display_data"
    }
   ],
   "source": [
    "# Confusion Matrix\n",
    "ax = sns.heatmap(\n",
    "    confusion_matrix(\n",
    "        y_test,\n",
    "        logisticRegr.predict(X_test),\n",
    "        normalize = 'true'\n",
    "    ),\n",
    "    annot=True, \n",
    "    fmt='.2%',\n",
    "    cmap='Blues'\n",
    ")\n",
    "\n",
    "# Title and Labels\n",
    "ax.set_title('Logistic: Confusion Matrix with labels\\n')\n",
    "ax.set_xlabel('\\nPredicted Values')\n",
    "ax.set_ylabel('Actual Values ')\n",
    "\n",
    "# Ticket labels - List must be in alphabetical order\n",
    "ax.xaxis.set_ticklabels(['False','True'])\n",
    "ax.yaxis.set_ticklabels(['False','True'])\n",
    "\n",
    "# Display the visualization of the Confusion Matrix.\n",
    "plt.show()"
   ]
  },
  {
   "cell_type": "code",
   "execution_count": 23,
   "metadata": {},
   "outputs": [
    {
     "name": "stderr",
     "output_type": "stream",
     "text": [
      "C:\\Users\\Jonas\\AppData\\Roaming\\Python\\Python310\\site-packages\\seaborn\\categorical.py:3543: UserWarning: 5.6% of the points cannot be placed; you may want to decrease the size of the markers or use stripplot.\n",
      "  warnings.warn(msg, UserWarning)\n",
      "C:\\Users\\Jonas\\AppData\\Roaming\\Python\\Python310\\site-packages\\seaborn\\categorical.py:3543: UserWarning: 6.3% of the points cannot be placed; you may want to decrease the size of the markers or use stripplot.\n",
      "  warnings.warn(msg, UserWarning)\n"
     ]
    },
    {
     "data": {
      "image/png": "[encoded data removed]",
      "text/plain": [
       "<Figure size 432x288 with 1 Axes>"
      ]
     },
     "metadata": {
      "needs_background": "light"
     },
     "output_type": "display_data"
    }
   ],
   "source": [
    "# Visualize with a box/swarmplot\n",
    "ax = sns.boxplot(x=y_test, y=y_pred_log)\n",
    "ax = sns.swarmplot(x=y_test, y=y_pred_log, color = \".25\")\n",
    "ax.axhline(0.5, ls = '--', color = 'grey')\n",
    "ax.xaxis.set_ticklabels(['False','True'])\n",
    "ax.set_xlabel('Actual Label')\n",
    "ax.set_ylabel('Predicted probability')\n",
    "ax.set_title('Logistic Regression')\n",
    "plt.show()"
   ]
  },
  {
   "attachments": {},
   "cell_type": "markdown",
   "metadata": {},
   "source": [
    "To better understand how the logistic regression works, let's consider a small model with only 2 features, which allows us to make a 2D plot.\n",
    "\n",
    "More precisely, we will use a the `radius_mean` and `texture_mean` features while the actual labels is defined by the color of the observations. The shaded areas represent the predicted classes (we use the standard p(x) = 0.5 threshold here for illustration purposes)."
   ]
  },
  {
   "cell_type": "code",
   "execution_count": 24,
   "metadata": {},
   "outputs": [
    {
     "data": {
      "image/png": "[encoded data removed]",
      "text/plain": [
       "<Figure size 432x288 with 1 Axes>"
      ]
     },
     "metadata": {
      "needs_background": "light"
     },
     "output_type": "display_data"
    }
   ],
   "source": [
    "# Fit the mini-model\n",
    "f1 = 'radius_mean'\n",
    "f2 = 'texture_mean'\n",
    "\n",
    "\n",
    "mini_X = X[[f1, f2]]\n",
    "model = LogisticRegression()\n",
    "model.fit(mini_X, y)\n",
    "\n",
    "b = model.intercept_[0]\n",
    "w1, w2 = model.coef_.T\n",
    "\n",
    "# Scatter the actual labels\n",
    "plt.scatter(\n",
    "    mini_X[f1].values,\n",
    "    mini_X[f2].values,\n",
    "    c=y,\n",
    "    edgecolors='k',\n",
    "    cmap=plt.cm.Paired\n",
    ")\n",
    "\n",
    "# Some linear algebra\n",
    "c = -b/w2\n",
    "m = -w1/w2\n",
    "xmin, xmax = mini_X[f1].min(), mini_X[f1].max()\n",
    "ymin, ymax = -45, 60\n",
    "xd = np.array([xmin, xmax])\n",
    "yd = m*xd + c\n",
    "\n",
    "# Lineplot the decision boundary\n",
    "plt.plot(xd, yd, '--', c=\"red\")\n",
    "\n",
    "# Shade the prediction areas\n",
    "plt.fill_between(xd, yd, ymin, color='blue', alpha=0.2)\n",
    "plt.fill_between(xd, yd, ymax, color='orange', alpha=0.2)\n",
    "\n",
    "# Labels\n",
    "plt.xlabel('Mean Tumor Radius')\n",
    "plt.ylabel('Mean Texture')\n",
    "plt.title('2D Decision Boundary')\n",
    "\n",
    "plt.show()"
   ]
  },
  {
   "attachments": {},
   "cell_type": "markdown",
   "metadata": {},
   "source": [
    "Here, we can perfectly see how the logistic regression works and that those two features already seem to classify the observations quite well.\n",
    "\n",
    "Notice how the decision boundary separates the space. At a conceptual level, this doesn't have with more features (with 3 features, a plane will divide a 3D space, etc.)."
   ]
  },
  {
   "cell_type": "markdown",
   "metadata": {},
   "source": [
    "## 4. Linear Discriminant Analysis (LDA)"
   ]
  },
  {
   "attachments": {},
   "cell_type": "markdown",
   "metadata": {},
   "source": [
    "Linear Discriminant Analysis is also a way to model categorical outcome variables, but takes a different approach than the logistic regression.\n",
    "\n",
    "While logistic regressions model the probability of success directly $(P(y=k|X))$, LDA models it indirectly $(P(X|Y=k))$ via Bayes' theorem.\n",
    "\n",
    "LDA requires more assumptions than logistic regressions, but LDA works better than logit if they are met:\n",
    "- Classes are well separated\n",
    "- N is small\n",
    "- Distribution of X is approximately normal"
   ]
  },
  {
   "cell_type": "code",
   "execution_count": 25,
   "metadata": {},
   "outputs": [
    {
     "data": {
      "text/plain": [
       "LinearDiscriminantAnalysis()"
      ]
     },
     "execution_count": 25,
     "metadata": {},
     "output_type": "execute_result"
    }
   ],
   "source": [
    "# Fit the LDA model\n",
    "from sklearn.discriminant_analysis import LinearDiscriminantAnalysis\n",
    "lda_model = LinearDiscriminantAnalysis()\n",
    "lda_model.fit(X_train, y_train)"
   ]
  },
  {
   "attachments": {},
   "cell_type": "markdown",
   "metadata": {},
   "source": [
    "LDA also has a high accuracy, but it doesn't necessarily perform better than logit."
   ]
  },
  {
   "cell_type": "code",
   "execution_count": 26,
   "metadata": {},
   "outputs": [
    {
     "name": "stdout",
     "output_type": "stream",
     "text": [
      "baseline accuracy: 63.0%\n",
      "OLS accuracy: 88.3%\n",
      "logit accuracy: 93.57%\n",
      "LDA accuracy: 93.57%\n"
     ]
    }
   ],
   "source": [
    "# Compute the accuracy\n",
    "y_pred = lda_model.predict(X_test)\n",
    "accuracies['LDA'] = accuracy_score(y_test, y_pred)\n",
    "\n",
    "# Print the accuracies\n",
    "for model, accuracy in accuracies.items():\n",
    "    print(f'{model} accuracy: {round(accuracy, 4)*100}%')"
   ]
  },
  {
   "cell_type": "code",
   "execution_count": 27,
   "metadata": {},
   "outputs": [
    {
     "data": {
      "image/png": "[encoded data removed]",
      "text/plain": [
       "<Figure size 432x288 with 2 Axes>"
      ]
     },
     "metadata": {
      "needs_background": "light"
     },
     "output_type": "display_data"
    }
   ],
   "source": [
    "# Confusion Matrix\n",
    "ax = sns.heatmap(\n",
    "    confusion_matrix(\n",
    "        y_test,\n",
    "        y_pred,\n",
    "        normalize = 'true'\n",
    "    ),\n",
    "    annot=True,\n",
    "    fmt='.2%',\n",
    "    cmap='Blues'\n",
    ")\n",
    "\n",
    "ax.set_title('LDA: Confusion Matrix with labels\\n')\n",
    "ax.set_xlabel('\\nPredicted Values')\n",
    "ax.set_ylabel('Actual Values')\n",
    "\n",
    "ax.xaxis.set_ticklabels(['False','True'])\n",
    "ax.yaxis.set_ticklabels(['False','True'])\n",
    "\n",
    "plt.show()\n"
   ]
  },
  {
   "cell_type": "markdown",
   "metadata": {},
   "source": [
    "## 5. Quadratic Discriminant Analysis (QDA)"
   ]
  },
  {
   "attachments": {},
   "cell_type": "markdown",
   "metadata": {},
   "source": [
    "LDA assumes that every class has the same variance/covariance, which might lead to poor performance if that assumption is untrue.\n",
    "\n",
    "Quadratic Discriminant Analysis works the same as LDA, but it estimates separate variance/covariance for each class."
   ]
  },
  {
   "cell_type": "code",
   "execution_count": 28,
   "metadata": {},
   "outputs": [
    {
     "data": {
      "text/plain": [
       "QuadraticDiscriminantAnalysis()"
      ]
     },
     "execution_count": 28,
     "metadata": {},
     "output_type": "execute_result"
    }
   ],
   "source": [
    "# Fit the QDA model\n",
    "from sklearn.discriminant_analysis import QuadraticDiscriminantAnalysis\n",
    "qda_model = QuadraticDiscriminantAnalysis()\n",
    "qda_model.fit(X_train, y_train)"
   ]
  },
  {
   "cell_type": "code",
   "execution_count": 29,
   "metadata": {},
   "outputs": [
    {
     "name": "stdout",
     "output_type": "stream",
     "text": [
      "baseline accuracy: 63.0%\n",
      "OLS accuracy: 88.3%\n",
      "logit accuracy: 93.57%\n",
      "LDA accuracy: 93.57%\n",
      "QDA accuracy: 94.15%\n"
     ]
    }
   ],
   "source": [
    "# Compute the accuracy\n",
    "y_pred_q = qda_model.predict(X_test)\n",
    "accuracies['QDA'] = accuracy_score(y_test, y_pred_q)\n",
    "\n",
    "# Print the accuracies\n",
    "for model, accuracy in accuracies.items():\n",
    "    print(f'{model} accuracy: {round(accuracy, 4)*100}%')"
   ]
  },
  {
   "attachments": {},
   "cell_type": "markdown",
   "metadata": {},
   "source": [
    "Don't let the fact that our logit, LDA, and QDA model perform almost equally well, that there are potentially large differences. It all depends on the data and how well it is suited for each type of classification model."
   ]
  },
  {
   "cell_type": "code",
   "execution_count": 30,
   "metadata": {},
   "outputs": [
    {
     "data": {
      "image/png": "[encoded data removed]",
      "text/plain": [
       "<Figure size 432x288 with 2 Axes>"
      ]
     },
     "metadata": {
      "needs_background": "light"
     },
     "output_type": "display_data"
    }
   ],
   "source": [
    "import matplotlib.pyplot as plt\n",
    "\n",
    "ax = sns.heatmap(\n",
    "    confusion_matrix(\n",
    "        y_test,\n",
    "        y_pred_q,\n",
    "        normalize = 'true'\n",
    "    ),\n",
    "    annot=True, \n",
    "    fmt='.2%',\n",
    "    cmap='Blues'\n",
    ")\n",
    "\n",
    "ax.set_title('LDA: Confusion Matrix with labels\\n');\n",
    "ax.set_xlabel('\\nPredicted Values')\n",
    "ax.set_ylabel('Actual Values ');\n",
    "\n",
    "## Ticket labels - List must be in alphabetical order\n",
    "ax.xaxis.set_ticklabels(['False','True'])\n",
    "ax.yaxis.set_ticklabels(['False','True'])\n",
    "\n",
    "## Display the visualization of the Confusion Matrix.\n",
    "plt.show()"
   ]
  },
  {
   "attachments": {},
   "cell_type": "markdown",
   "metadata": {},
   "source": [
    "A final note on the confusion matrix. Ideally, we would want to correctly predict all observations correctly, however, that is rarely the case.\n",
    "\n",
    "Sometimes, one wants to avoid false negatives more than false positives or vice-versa. Then, one can manipulate the probability threshold required to classify an observation into a category over another, but that will often require an accuracy tradeoff.\n",
    "\n",
    "For instance, we could imagine that we want to avoid predicting a (actually) malignant tumor as benign. Then, you could set the required probability to classify an observation as benign to 80% for example (and maybe even create a new \"unsure\" category)."
   ]
  },
  {
   "attachments": {},
   "cell_type": "markdown",
   "metadata": {},
   "source": [
    "## 6. K-Nearest-Neighbor"
   ]
  },
  {
   "attachments": {},
   "cell_type": "markdown",
   "metadata": {},
   "source": [
    "KNN classification takes an entirely different approach than the models we saw previously. Luckily, it is very intuitive as a new observation is classified as the class winning the majority vote among the training observation.\n",
    "\n",
    "However, with KNN we need to specify several important parameters:\n",
    "\n",
    "- **k:** The number of neighbors\n",
    "- **weights:** Votes weighted by distance?\n",
    "    - **metric:** Metric to use to compute the distance\n",
    "\n",
    "Let's start with a fairly straight-forward model that uses 5 unweighted neighbors to perform the majority vote."
   ]
  },
  {
   "cell_type": "code",
   "execution_count": 31,
   "metadata": {},
   "outputs": [
    {
     "data": {
      "text/plain": [
       "KNeighborsClassifier()"
      ]
     },
     "execution_count": 31,
     "metadata": {},
     "output_type": "execute_result"
    }
   ],
   "source": [
    "# KNN with 5 neighbors\n",
    "from sklearn.neighbors import KNeighborsClassifier\n",
    "knn_model = KNeighborsClassifier(\n",
    "    n_neighbors=5,\n",
    "    weights = 'uniform'\n",
    "    )\n",
    "knn_model.fit(X_train, y_train)"
   ]
  },
  {
   "attachments": {},
   "cell_type": "markdown",
   "metadata": {},
   "source": [
    "Our KNN model performs a little worse than the ones we saw previously. However, we might be able to improve it by manipulating the parameters."
   ]
  },
  {
   "cell_type": "code",
   "execution_count": 32,
   "metadata": {},
   "outputs": [
    {
     "name": "stdout",
     "output_type": "stream",
     "text": [
      "baseline accuracy: 63.0%\n",
      "OLS accuracy: 88.3%\n",
      "logit accuracy: 93.57%\n",
      "LDA accuracy: 93.57%\n",
      "QDA accuracy: 94.15%\n",
      "KNN accuracy: 90.06%\n"
     ]
    }
   ],
   "source": [
    "# Compute the accuracy\n",
    "y_pred = knn_model.predict(X_test)\n",
    "accuracies['KNN'] = accuracy_score(y_test, y_pred)\n",
    "\n",
    "# Print the accuracies\n",
    "for model, accuracy in accuracies.items():\n",
    "    print(f'{model} accuracy: {round(accuracy, 4)*100}%')"
   ]
  },
  {
   "attachments": {},
   "cell_type": "markdown",
   "metadata": {},
   "source": [
    "Of course, we chose the parameters randomly, but is there a better one? Let's iterate."
   ]
  },
  {
   "cell_type": "code",
   "execution_count": 33,
   "metadata": {},
   "outputs": [
    {
     "data": {
      "text/html": [
       "<div>\n",
       "<style scoped>\n",
       "    .dataframe tbody tr th:only-of-type {\n",
       "        vertical-align: middle;\n",
       "    }\n",
       "\n",
       "    .dataframe tbody tr th {\n",
       "        vertical-align: top;\n",
       "    }\n",
       "\n",
       "    .dataframe thead th {\n",
       "        text-align: right;\n",
       "    }\n",
       "</style>\n",
       "<table border=\"1\" class=\"dataframe\">\n",
       "  <thead>\n",
       "    <tr style=\"text-align: right;\">\n",
       "      <th></th>\n",
       "      <th></th>\n",
       "      <th></th>\n",
       "      <th>accuracy</th>\n",
       "    </tr>\n",
       "    <tr>\n",
       "      <th>k</th>\n",
       "      <th>w</th>\n",
       "      <th>m</th>\n",
       "      <th></th>\n",
       "    </tr>\n",
       "  </thead>\n",
       "  <tbody>\n",
       "    <tr>\n",
       "      <th rowspan=\"4\" valign=\"top\">1</th>\n",
       "      <th>uniform</th>\n",
       "      <th>NaN</th>\n",
       "      <td>0.853801</td>\n",
       "    </tr>\n",
       "    <tr>\n",
       "      <th rowspan=\"3\" valign=\"top\">distance</th>\n",
       "      <th>manhattan</th>\n",
       "      <td>0.877193</td>\n",
       "    </tr>\n",
       "    <tr>\n",
       "      <th>euclidean</th>\n",
       "      <td>0.853801</td>\n",
       "    </tr>\n",
       "    <tr>\n",
       "      <th>cosine</th>\n",
       "      <td>0.859649</td>\n",
       "    </tr>\n",
       "    <tr>\n",
       "      <th rowspan=\"4\" valign=\"top\">3</th>\n",
       "      <th>uniform</th>\n",
       "      <th>NaN</th>\n",
       "      <td>0.894737</td>\n",
       "    </tr>\n",
       "    <tr>\n",
       "      <th rowspan=\"3\" valign=\"top\">distance</th>\n",
       "      <th>manhattan</th>\n",
       "      <td>0.888889</td>\n",
       "    </tr>\n",
       "    <tr>\n",
       "      <th>euclidean</th>\n",
       "      <td>0.883041</td>\n",
       "    </tr>\n",
       "    <tr>\n",
       "      <th>cosine</th>\n",
       "      <td>0.883041</td>\n",
       "    </tr>\n",
       "    <tr>\n",
       "      <th rowspan=\"4\" valign=\"top\">5</th>\n",
       "      <th>uniform</th>\n",
       "      <th>NaN</th>\n",
       "      <td>0.900585</td>\n",
       "    </tr>\n",
       "    <tr>\n",
       "      <th rowspan=\"3\" valign=\"top\">distance</th>\n",
       "      <th>manhattan</th>\n",
       "      <td>0.894737</td>\n",
       "    </tr>\n",
       "    <tr>\n",
       "      <th>euclidean</th>\n",
       "      <td>0.900585</td>\n",
       "    </tr>\n",
       "    <tr>\n",
       "      <th>cosine</th>\n",
       "      <td>0.883041</td>\n",
       "    </tr>\n",
       "    <tr>\n",
       "      <th rowspan=\"4\" valign=\"top\">7</th>\n",
       "      <th>uniform</th>\n",
       "      <th>NaN</th>\n",
       "      <td>0.918129</td>\n",
       "    </tr>\n",
       "    <tr>\n",
       "      <th rowspan=\"3\" valign=\"top\">distance</th>\n",
       "      <th>manhattan</th>\n",
       "      <td>0.900585</td>\n",
       "    </tr>\n",
       "    <tr>\n",
       "      <th>euclidean</th>\n",
       "      <td>0.900585</td>\n",
       "    </tr>\n",
       "    <tr>\n",
       "      <th>cosine</th>\n",
       "      <td>0.888889</td>\n",
       "    </tr>\n",
       "  </tbody>\n",
       "</table>\n",
       "</div>"
      ],
      "text/plain": [
       "                      accuracy\n",
       "k w        m                  \n",
       "1 uniform  NaN        0.853801\n",
       "  distance manhattan  0.877193\n",
       "           euclidean  0.853801\n",
       "           cosine     0.859649\n",
       "3 uniform  NaN        0.894737\n",
       "  distance manhattan  0.888889\n",
       "           euclidean  0.883041\n",
       "           cosine     0.883041\n",
       "5 uniform  NaN        0.900585\n",
       "  distance manhattan  0.894737\n",
       "           euclidean  0.900585\n",
       "           cosine     0.883041\n",
       "7 uniform  NaN        0.918129\n",
       "  distance manhattan  0.900585\n",
       "           euclidean  0.900585\n",
       "           cosine     0.888889"
      ]
     },
     "metadata": {},
     "output_type": "display_data"
    },
    {
     "data": {
      "text/html": [
       "<div>\n",
       "<style scoped>\n",
       "    .dataframe tbody tr th:only-of-type {\n",
       "        vertical-align: middle;\n",
       "    }\n",
       "\n",
       "    .dataframe tbody tr th {\n",
       "        vertical-align: top;\n",
       "    }\n",
       "\n",
       "    .dataframe thead th {\n",
       "        text-align: right;\n",
       "    }\n",
       "</style>\n",
       "<table border=\"1\" class=\"dataframe\">\n",
       "  <thead>\n",
       "    <tr style=\"text-align: right;\">\n",
       "      <th></th>\n",
       "      <th></th>\n",
       "      <th></th>\n",
       "      <th>accuracy</th>\n",
       "    </tr>\n",
       "    <tr>\n",
       "      <th>k</th>\n",
       "      <th>w</th>\n",
       "      <th>m</th>\n",
       "      <th></th>\n",
       "    </tr>\n",
       "  </thead>\n",
       "  <tbody>\n",
       "    <tr>\n",
       "      <th>7</th>\n",
       "      <th>uniform</th>\n",
       "      <th>NaN</th>\n",
       "      <td>0.918129</td>\n",
       "    </tr>\n",
       "  </tbody>\n",
       "</table>\n",
       "</div>"
      ],
      "text/plain": [
       "               accuracy\n",
       "k w       m            \n",
       "7 uniform NaN  0.918129"
      ]
     },
     "execution_count": 33,
     "metadata": {},
     "output_type": "execute_result"
    }
   ],
   "source": [
    "# Parameters to test\n",
    "nb_neighbors = [1, 3, 5, 7]\n",
    "weights = ['uniform', 'distance']\n",
    "distance_metrics = ['manhattan', 'euclidean','cosine']\n",
    "\n",
    "# Iterating...\n",
    "accuracy_scores = pd.DataFrame(columns=['k', 'w', 'm', 'accuracy'])\n",
    "accuracy_scores.set_index(['k', 'w', 'm'], inplace = True)\n",
    "for k in nb_neighbors:\n",
    "    for w in weights:\n",
    "        if w == 'uniform':\n",
    "            knn_model = KNeighborsClassifier(\n",
    "                n_neighbors = k,\n",
    "                weights = w\n",
    "            )\n",
    "            knn_model.fit(X_train, y_train)\n",
    "            y_pred = knn_model.predict(X_test)\n",
    "            accuracy_scores.loc[(k, w, 'NaN'), :] = [accuracy_score(y_test, y_pred)]\n",
    "        else:\n",
    "            for m in distance_metrics:\n",
    "                knn_model = KNeighborsClassifier(\n",
    "                    n_neighbors = k,\n",
    "                    weights = w,\n",
    "                    metric = m\n",
    "                )\n",
    "                knn_model.fit(X_train, y_train)\n",
    "                y_pred = knn_model.predict(X_test)\n",
    "                accuracy_scores.loc[(k, w, m), :] = [accuracy_score(y_test, y_pred)]\n",
    "\n",
    "display(accuracy_scores)\n",
    "\n",
    "accuracy_scores[accuracy_scores['accuracy'] == accuracy_scores['accuracy'].max()]"
   ]
  },
  {
   "attachments": {},
   "cell_type": "markdown",
   "metadata": {},
   "source": [
    "It seems like the accuracy increases with k, but can this eventually lead to overfitting? No, because...?\n",
    "\n",
    "Once again, to plot the decision boundaries, we will use a 2-feature model.\n",
    "\n",
    "*Code from [Medium](https://towardsdatascience.com/knn-visualization-in-just-13-lines-of-code-32820d72c6b6)*"
   ]
  },
  {
   "cell_type": "code",
   "execution_count": 34,
   "metadata": {},
   "outputs": [
    {
     "name": "stderr",
     "output_type": "stream",
     "text": [
      "C:\\Users\\Jonas\\AppData\\Roaming\\Python\\Python310\\site-packages\\sklearn\\base.py:450: UserWarning: X does not have valid feature names, but KNeighborsClassifier was fitted with feature names\n",
      "  warnings.warn(\n"
     ]
    },
    {
     "data": {
      "image/png": "[encoded data removed]",
      "text/plain": [
       "<Figure size 432x288 with 1 Axes>"
      ]
     },
     "metadata": {
      "needs_background": "light"
     },
     "output_type": "display_data"
    }
   ],
   "source": [
    "# Plot the decision area\n",
    "from mlxtend.plotting import plot_decision_regions\n",
    "def knn_comparison(k):\n",
    "    knn_model = KNeighborsClassifier(n_neighbors=k)\n",
    "    knn_model.fit(mini_X, y)\n",
    "# Plotting decision region\n",
    "    plot_decision_regions(np.array(mini_X), np.array(y), clf=knn_model, legend=2)\n",
    "# Adding axes annotations\n",
    "    plt.xlabel('Mean Radius')\n",
    "    plt.ylabel('Mean Texture')\n",
    "    plt.title('Knn with K='+ str(k))\n",
    "    plt.show()\n",
    "\n",
    "knn_comparison(7)"
   ]
  },
  {
   "attachments": {},
   "cell_type": "markdown",
   "metadata": {},
   "source": [
    "# 7. K-fold cross validation"
   ]
  },
  {
   "attachments": {},
   "cell_type": "markdown",
   "metadata": {},
   "source": [
    "Cross-validation is a great tool when selecting a model or setting its parameters. Essentially, by using the average accuracy from the folds, one makes sure that the model doesn't perform well just because of the train-test split.\n",
    "\n",
    "![CrossValidation.png](CrossValidation.png)"
   ]
  },
  {
   "cell_type": "code",
   "execution_count": 35,
   "metadata": {},
   "outputs": [
    {
     "name": "stdout",
     "output_type": "stream",
     "text": [
      "[0.84210526 0.85087719 0.88596491 0.94736842 0.90265487]\n",
      "Average accuracy: 88.58%\n"
     ]
    }
   ],
   "source": [
    "from sklearn.model_selection import cross_validate\n",
    "results = cross_validate(\n",
    "    KNeighborsClassifier(   # model specification\n",
    "        n_neighbors = 7\n",
    "    ),\n",
    "    X,  # features\n",
    "    y,  # labels\n",
    "    cv = 5  # number of folds\n",
    ")\n",
    "\n",
    "print(results['test_score'])\n",
    "print(f\"Average accuracy: {round(results['test_score'].mean(), 4)*100}%\")"
   ]
  }
 ],
 "metadata": {
  "kernelspec": {
   "display_name": "Python 3",
   "language": "python",
   "name": "python3"
  },
  "language_info": {
   "codemirror_mode": {
    "name": "ipython",
    "version": 3
   },
   "file_extension": ".py",
   "mimetype": "text/x-python",
   "name": "python",
   "nbconvert_exporter": "python",
   "pygments_lexer": "ipython3",
   "version": "3.10.2"
  },
  "vscode": {
   "interpreter": {
    "hash": "26de051ba29f2982a8de78e945f0abaf191376122a1563185a90213a26c5da77"
   }
  }
 },
 "nbformat": 4,
 "nbformat_minor": 4
}
