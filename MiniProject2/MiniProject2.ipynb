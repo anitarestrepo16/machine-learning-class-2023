{
  "nbformat": 4,
  "nbformat_minor": 0,
  "metadata": {
    "colab": {
      "provenance": [],
      "authorship_tag": "ABX9TyNmCBaSyJP/u1bjkRS2pIpr",
      "include_colab_link": true
    },
    "kernelspec": {
      "name": "python3",
      "display_name": "Python 3"
    },
    "language_info": {
      "name": "python"
    }
  },
  "cells": [
    {
      "cell_type": "markdown",
      "metadata": {
        "id": "view-in-github",
        "colab_type": "text"
      },
      "source": [
        "<a href=\"https://colab.research.google.com/github/anitarestrepo16/machine-learning-class-2023/blob/main/MiniProject2.ipynb\" target=\"_parent\"><img src=\"https://colab.research.google.com/assets/colab-badge.svg\" alt=\"Open In Colab\"/></a>"
      ]
    },
    {
      "cell_type": "code",
      "execution_count": 20,
      "metadata": {
        "id": "RbdTblgs4dvH"
      },
      "outputs": [],
      "source": [
        "import numpy as np\n",
        "import pandas as pd\n",
        "from sklearn import preprocessing\n",
        "from sklearn.neighbors import KNeighborsClassifier\n",
        "from sklearn.neighbors import KNeighborsClassifier\n",
        "from sklearn.metrics import accuracy_score\n",
        "from sklearn.metrics import confusion_matrix\n",
        "import seaborn as sns\n",
        "import matplotlib.pyplot as plt\n",
        "from matplotlib import pyplot\n",
        "from sklearn.model_selection import GridSearchCV, KFold\n",
        "from sklearn.pipeline import Pipeline, make_pipeline\n",
        "from sklearn.preprocessing import StandardScaler"
      ]
    },
    {
      "cell_type": "code",
      "source": [
        "from google.colab import drive"
      ],
      "metadata": {
        "id": "yjgEK1rf8n5f"
      },
      "execution_count": 2,
      "outputs": []
    },
    {
      "cell_type": "code",
      "source": [
        "drive.mount('/drive')"
      ],
      "metadata": {
        "colab": {
          "base_uri": "https://localhost:8080/"
        },
        "id": "zUoRLcAV8xgd",
        "outputId": "e7797595-3758-443b-abda-5c74aaf89d1e"
      },
      "execution_count": 3,
      "outputs": [
        {
          "output_type": "stream",
          "name": "stdout",
          "text": [
            "Mounted at /drive\n"
          ]
        }
      ]
    },
    {
      "cell_type": "code",
      "source": [
        "df = pd.read_csv('/drive/My Drive/Colab Notebooks/Data-Audit.csv')\n",
        "df.head()"
      ],
      "metadata": {
        "colab": {
          "base_uri": "https://localhost:8080/",
          "height": 206
        },
        "id": "wQ7PmIHo7_nv",
        "outputId": "7b373531-9bcd-40d2-ffee-fa62be664ad6"
      },
      "execution_count": 4,
      "outputs": [
        {
          "output_type": "execute_result",
          "data": {
            "text/plain": [
              "   Sector_score  PARA_A  Risk_A  PARA_B  Risk_B  Money_Value  Risk_D  Score  \\\n",
              "0          3.89    4.18   2.508    2.50   0.500         3.38   0.676    2.4   \n",
              "1          3.89    0.00   0.000    4.83   0.966         0.94   0.188    2.0   \n",
              "2          3.89    0.51   0.102    0.23   0.046         0.00   0.000    2.0   \n",
              "3          3.89    0.00   0.000   10.80   6.480        11.75   7.050    4.4   \n",
              "4          3.89    0.00   0.000    0.08   0.016         0.00   0.000    2.0   \n",
              "\n",
              "   Inherent_Risk  Audit_Risk  Risk  \n",
              "0          8.574      1.7148     1  \n",
              "1          2.554      0.5108     0  \n",
              "2          1.548      0.3096     0  \n",
              "3         17.530      3.5060     1  \n",
              "4          1.416      0.2832     0  "
            ],
            "text/html": [
              "\n",
              "  <div id=\"df-c2c3546e-dacd-427a-a97f-4840d21a5b56\">\n",
              "    <div class=\"colab-df-container\">\n",
              "      <div>\n",
              "<style scoped>\n",
              "    .dataframe tbody tr th:only-of-type {\n",
              "        vertical-align: middle;\n",
              "    }\n",
              "\n",
              "    .dataframe tbody tr th {\n",
              "        vertical-align: top;\n",
              "    }\n",
              "\n",
              "    .dataframe thead th {\n",
              "        text-align: right;\n",
              "    }\n",
              "</style>\n",
              "<table border=\"1\" class=\"dataframe\">\n",
              "  <thead>\n",
              "    <tr style=\"text-align: right;\">\n",
              "      <th></th>\n",
              "      <th>Sector_score</th>\n",
              "      <th>PARA_A</th>\n",
              "      <th>Risk_A</th>\n",
              "      <th>PARA_B</th>\n",
              "      <th>Risk_B</th>\n",
              "      <th>Money_Value</th>\n",
              "      <th>Risk_D</th>\n",
              "      <th>Score</th>\n",
              "      <th>Inherent_Risk</th>\n",
              "      <th>Audit_Risk</th>\n",
              "      <th>Risk</th>\n",
              "    </tr>\n",
              "  </thead>\n",
              "  <tbody>\n",
              "    <tr>\n",
              "      <th>0</th>\n",
              "      <td>3.89</td>\n",
              "      <td>4.18</td>\n",
              "      <td>2.508</td>\n",
              "      <td>2.50</td>\n",
              "      <td>0.500</td>\n",
              "      <td>3.38</td>\n",
              "      <td>0.676</td>\n",
              "      <td>2.4</td>\n",
              "      <td>8.574</td>\n",
              "      <td>1.7148</td>\n",
              "      <td>1</td>\n",
              "    </tr>\n",
              "    <tr>\n",
              "      <th>1</th>\n",
              "      <td>3.89</td>\n",
              "      <td>0.00</td>\n",
              "      <td>0.000</td>\n",
              "      <td>4.83</td>\n",
              "      <td>0.966</td>\n",
              "      <td>0.94</td>\n",
              "      <td>0.188</td>\n",
              "      <td>2.0</td>\n",
              "      <td>2.554</td>\n",
              "      <td>0.5108</td>\n",
              "      <td>0</td>\n",
              "    </tr>\n",
              "    <tr>\n",
              "      <th>2</th>\n",
              "      <td>3.89</td>\n",
              "      <td>0.51</td>\n",
              "      <td>0.102</td>\n",
              "      <td>0.23</td>\n",
              "      <td>0.046</td>\n",
              "      <td>0.00</td>\n",
              "      <td>0.000</td>\n",
              "      <td>2.0</td>\n",
              "      <td>1.548</td>\n",
              "      <td>0.3096</td>\n",
              "      <td>0</td>\n",
              "    </tr>\n",
              "    <tr>\n",
              "      <th>3</th>\n",
              "      <td>3.89</td>\n",
              "      <td>0.00</td>\n",
              "      <td>0.000</td>\n",
              "      <td>10.80</td>\n",
              "      <td>6.480</td>\n",
              "      <td>11.75</td>\n",
              "      <td>7.050</td>\n",
              "      <td>4.4</td>\n",
              "      <td>17.530</td>\n",
              "      <td>3.5060</td>\n",
              "      <td>1</td>\n",
              "    </tr>\n",
              "    <tr>\n",
              "      <th>4</th>\n",
              "      <td>3.89</td>\n",
              "      <td>0.00</td>\n",
              "      <td>0.000</td>\n",
              "      <td>0.08</td>\n",
              "      <td>0.016</td>\n",
              "      <td>0.00</td>\n",
              "      <td>0.000</td>\n",
              "      <td>2.0</td>\n",
              "      <td>1.416</td>\n",
              "      <td>0.2832</td>\n",
              "      <td>0</td>\n",
              "    </tr>\n",
              "  </tbody>\n",
              "</table>\n",
              "</div>\n",
              "      <button class=\"colab-df-convert\" onclick=\"convertToInteractive('df-c2c3546e-dacd-427a-a97f-4840d21a5b56')\"\n",
              "              title=\"Convert this dataframe to an interactive table.\"\n",
              "              style=\"display:none;\">\n",
              "        \n",
              "  <svg xmlns=\"http://www.w3.org/2000/svg\" height=\"24px\"viewBox=\"0 0 24 24\"\n",
              "       width=\"24px\">\n",
              "    <path d=\"M0 0h24v24H0V0z\" fill=\"none\"/>\n",
              "    <path d=\"M18.56 5.44l.94 2.06.94-2.06 2.06-.94-2.06-.94-.94-2.06-.94 2.06-2.06.94zm-11 1L8.5 8.5l.94-2.06 2.06-.94-2.06-.94L8.5 2.5l-.94 2.06-2.06.94zm10 10l.94 2.06.94-2.06 2.06-.94-2.06-.94-.94-2.06-.94 2.06-2.06.94z\"/><path d=\"M17.41 7.96l-1.37-1.37c-.4-.4-.92-.59-1.43-.59-.52 0-1.04.2-1.43.59L10.3 9.45l-7.72 7.72c-.78.78-.78 2.05 0 2.83L4 21.41c.39.39.9.59 1.41.59.51 0 1.02-.2 1.41-.59l7.78-7.78 2.81-2.81c.8-.78.8-2.07 0-2.86zM5.41 20L4 18.59l7.72-7.72 1.47 1.35L5.41 20z\"/>\n",
              "  </svg>\n",
              "      </button>\n",
              "      \n",
              "  <style>\n",
              "    .colab-df-container {\n",
              "      display:flex;\n",
              "      flex-wrap:wrap;\n",
              "      gap: 12px;\n",
              "    }\n",
              "\n",
              "    .colab-df-convert {\n",
              "      background-color: #E8F0FE;\n",
              "      border: none;\n",
              "      border-radius: 50%;\n",
              "      cursor: pointer;\n",
              "      display: none;\n",
              "      fill: #1967D2;\n",
              "      height: 32px;\n",
              "      padding: 0 0 0 0;\n",
              "      width: 32px;\n",
              "    }\n",
              "\n",
              "    .colab-df-convert:hover {\n",
              "      background-color: #E2EBFA;\n",
              "      box-shadow: 0px 1px 2px rgba(60, 64, 67, 0.3), 0px 1px 3px 1px rgba(60, 64, 67, 0.15);\n",
              "      fill: #174EA6;\n",
              "    }\n",
              "\n",
              "    [theme=dark] .colab-df-convert {\n",
              "      background-color: #3B4455;\n",
              "      fill: #D2E3FC;\n",
              "    }\n",
              "\n",
              "    [theme=dark] .colab-df-convert:hover {\n",
              "      background-color: #434B5C;\n",
              "      box-shadow: 0px 1px 3px 1px rgba(0, 0, 0, 0.15);\n",
              "      filter: drop-shadow(0px 1px 2px rgba(0, 0, 0, 0.3));\n",
              "      fill: #FFFFFF;\n",
              "    }\n",
              "  </style>\n",
              "\n",
              "      <script>\n",
              "        const buttonEl =\n",
              "          document.querySelector('#df-c2c3546e-dacd-427a-a97f-4840d21a5b56 button.colab-df-convert');\n",
              "        buttonEl.style.display =\n",
              "          google.colab.kernel.accessAllowed ? 'block' : 'none';\n",
              "\n",
              "        async function convertToInteractive(key) {\n",
              "          const element = document.querySelector('#df-c2c3546e-dacd-427a-a97f-4840d21a5b56');\n",
              "          const dataTable =\n",
              "            await google.colab.kernel.invokeFunction('convertToInteractive',\n",
              "                                                     [key], {});\n",
              "          if (!dataTable) return;\n",
              "\n",
              "          const docLinkHtml = 'Like what you see? Visit the ' +\n",
              "            '<a target=\"_blank\" href=https://colab.research.google.com/notebooks/data_table.ipynb>data table notebook</a>'\n",
              "            + ' to learn more about interactive tables.';\n",
              "          element.innerHTML = '';\n",
              "          dataTable['output_type'] = 'display_data';\n",
              "          await google.colab.output.renderOutput(dataTable, element);\n",
              "          const docLink = document.createElement('div');\n",
              "          docLink.innerHTML = docLinkHtml;\n",
              "          element.appendChild(docLink);\n",
              "        }\n",
              "      </script>\n",
              "    </div>\n",
              "  </div>\n",
              "  "
            ]
          },
          "metadata": {},
          "execution_count": 4
        }
      ]
    },
    {
      "cell_type": "markdown",
      "source": [
        "# Q3"
      ],
      "metadata": {
        "id": "ZAYEQRUp738F"
      }
    },
    {
      "cell_type": "code",
      "source": [
        "# divide into train (first half) and test (second half)\n",
        "train = df.iloc[:388]\n",
        "train.tail()\n",
        "test = df.iloc[388:]\n",
        "test.head()\n",
        "# remove row with NA from test set\n",
        "test = test.dropna(axis = 0)\n",
        "test.isnull().sum()"
      ],
      "metadata": {
        "colab": {
          "base_uri": "https://localhost:8080/"
        },
        "id": "h1io2Wlo5sC_",
        "outputId": "779a5316-6d09-445e-e3bf-39c562719976"
      },
      "execution_count": 5,
      "outputs": [
        {
          "output_type": "execute_result",
          "data": {
            "text/plain": [
              "Sector_score     0\n",
              "PARA_A           0\n",
              "Risk_A           0\n",
              "PARA_B           0\n",
              "Risk_B           0\n",
              "Money_Value      0\n",
              "Risk_D           0\n",
              "Score            0\n",
              "Inherent_Risk    0\n",
              "Audit_Risk       0\n",
              "Risk             0\n",
              "dtype: int64"
            ]
          },
          "metadata": {},
          "execution_count": 5
        }
      ]
    },
    {
      "cell_type": "code",
      "source": [
        "# separate Xs and Ys\n",
        "X_train = train.drop(['Risk'], axis = 1)\n",
        "X_test = test.drop(['Risk'], axis = 1)\n",
        "y_train = train[\"Risk\"]\n",
        "y_test = test[\"Risk\"]"
      ],
      "metadata": {
        "id": "1lyvrP9SAWzf"
      },
      "execution_count": 6,
      "outputs": []
    },
    {
      "cell_type": "code",
      "source": [
        "# Define and train the OLS model\n",
        "from sklearn.linear_model import LinearRegression\n",
        "model = LinearRegression(fit_intercept=True)\n",
        "model.fit(X_train, y_train)"
      ],
      "metadata": {
        "colab": {
          "base_uri": "https://localhost:8080/"
        },
        "id": "3XKHSJrW_OCx",
        "outputId": "2ec7a18a-c57a-48c7-eeb4-98d51e8a94c1"
      },
      "execution_count": 7,
      "outputs": [
        {
          "output_type": "execute_result",
          "data": {
            "text/plain": [
              "LinearRegression()"
            ]
          },
          "metadata": {},
          "execution_count": 7
        }
      ]
    },
    {
      "cell_type": "code",
      "source": [
        "# Predict the labels on the test set\n",
        "y_pred_LPM = model.predict(X_test)"
      ],
      "metadata": {
        "id": "Ed1NIPMlBmfO"
      },
      "execution_count": 8,
      "outputs": []
    },
    {
      "cell_type": "markdown",
      "source": [
        "## Q3a"
      ],
      "metadata": {
        "id": "ZZpKyNAVGy1z"
      }
    },
    {
      "cell_type": "code",
      "source": [
        "y_pred_LPM_50 = np.where(y_pred_LPM > 0.5, 1, 0)\n",
        "display(y_pred_LPM[:5])\n",
        "display(y_pred_LPM_50[:5])"
      ],
      "metadata": {
        "colab": {
          "base_uri": "https://localhost:8080/",
          "height": 52
        },
        "id": "FAIkLEWEIJww",
        "outputId": "9b624be0-824e-469f-c3c0-1a716605bb9a"
      },
      "execution_count": 9,
      "outputs": [
        {
          "output_type": "display_data",
          "data": {
            "text/plain": [
              "array([0.0878514 , 1.17704041, 0.25870375, 0.34661521, 0.46414585])"
            ]
          },
          "metadata": {}
        },
        {
          "output_type": "display_data",
          "data": {
            "text/plain": [
              "array([0, 1, 0, 0, 0])"
            ]
          },
          "metadata": {}
        }
      ]
    },
    {
      "cell_type": "code",
      "source": [
        "accuracy_score(y_test, y_pred_LPM_50)"
      ],
      "metadata": {
        "colab": {
          "base_uri": "https://localhost:8080/"
        },
        "id": "QHPpfFwvHSH_",
        "outputId": "6846fecc-f37d-48be-d0c0-295cc4a6885a"
      },
      "execution_count": 10,
      "outputs": [
        {
          "output_type": "execute_result",
          "data": {
            "text/plain": [
              "0.8475452196382429"
            ]
          },
          "metadata": {},
          "execution_count": 10
        }
      ]
    },
    {
      "cell_type": "code",
      "source": [
        "cm_LPM_50 = confusion_matrix(y_test, y_pred_LPM_50)\n",
        "cm_LPM_50"
      ],
      "metadata": {
        "colab": {
          "base_uri": "https://localhost:8080/"
        },
        "id": "IgRbxjysCE0Q",
        "outputId": "59aebcba-c1bd-4539-bfc3-61bef19a5ebf"
      },
      "execution_count": 11,
      "outputs": [
        {
          "output_type": "execute_result",
          "data": {
            "text/plain": [
              "array([[300,   5],\n",
              "       [ 54,  28]])"
            ]
          },
          "metadata": {},
          "execution_count": 11
        }
      ]
    },
    {
      "cell_type": "code",
      "source": [
        "ax = sns.heatmap(confusion_matrix(y_test, y_pred_LPM_50, normalize = 'true'), annot=True, \n",
        "            fmt='.2%', cmap='Blues')\n",
        "\n",
        "ax.set_title('LPM: Confusion Matrix with labels\\n');\n",
        "ax.set_xlabel('\\nPredicted Values')\n",
        "ax.set_ylabel('Actual Values ');\n",
        "\n",
        "## Ticket labels - List must be in alphabetical order\n",
        "ax.xaxis.set_ticklabels(['False','True'])\n",
        "ax.yaxis.set_ticklabels(['False','True'])\n",
        "\n",
        "## Display the visualization of the Confusion Matrix.\n",
        "plt.show()"
      ],
      "metadata": {
        "colab": {
          "base_uri": "https://localhost:8080/",
          "height": 322
        },
        "id": "L37G__I2G8Fx",
        "outputId": "87e2bcf2-98c5-4071-bdf4-102cbf12dcc2"
      },
      "execution_count": 12,
      "outputs": [
        {
          "output_type": "display_data",
          "data": {
            "text/plain": [
              "<Figure size 432x288 with 2 Axes>"
            ],
            "image/png": "[encoded data removed]"
          },
          "metadata": {
            "needs_background": "light"
          }
        }
      ]
    },
    {
      "cell_type": "markdown",
      "source": [
        "## Q3b"
      ],
      "metadata": {
        "id": "O2prCtNVyjZ7"
      }
    },
    {
      "cell_type": "code",
      "source": [
        "y_pred_LPM_80 = np.where(y_pred_LPM > 0.8, 1, 0)\n",
        "display(y_pred_LPM[:5])\n",
        "display(y_pred_LPM_80[:5])"
      ],
      "metadata": {
        "colab": {
          "base_uri": "https://localhost:8080/",
          "height": 52
        },
        "id": "nA-c6lMtykgY",
        "outputId": "a8380031-7b17-4c7a-d7cd-d24ea346d397"
      },
      "execution_count": 13,
      "outputs": [
        {
          "output_type": "display_data",
          "data": {
            "text/plain": [
              "array([0.0878514 , 1.17704041, 0.25870375, 0.34661521, 0.46414585])"
            ]
          },
          "metadata": {}
        },
        {
          "output_type": "display_data",
          "data": {
            "text/plain": [
              "array([0, 1, 0, 0, 0])"
            ]
          },
          "metadata": {}
        }
      ]
    },
    {
      "cell_type": "code",
      "source": [
        "accuracy_score(y_test, y_pred_LPM_80)"
      ],
      "metadata": {
        "colab": {
          "base_uri": "https://localhost:8080/"
        },
        "id": "LrA8CpLJyqJh",
        "outputId": "cdcdae20-dde2-410c-e773-0684ebab5190"
      },
      "execution_count": 14,
      "outputs": [
        {
          "output_type": "execute_result",
          "data": {
            "text/plain": [
              "0.8165374677002584"
            ]
          },
          "metadata": {},
          "execution_count": 14
        }
      ]
    },
    {
      "cell_type": "code",
      "source": [
        "cm_LPM_80 = confusion_matrix(y_test, y_pred_LPM_80)\n",
        "cm_LPM_80"
      ],
      "metadata": {
        "colab": {
          "base_uri": "https://localhost:8080/"
        },
        "id": "5Wlq-t3Eyuai",
        "outputId": "e747b91d-21b1-437d-dca3-25c9139f219b"
      },
      "execution_count": 15,
      "outputs": [
        {
          "output_type": "execute_result",
          "data": {
            "text/plain": [
              "array([[305,   0],\n",
              "       [ 71,  11]])"
            ]
          },
          "metadata": {},
          "execution_count": 15
        }
      ]
    },
    {
      "cell_type": "code",
      "source": [
        "ax = sns.heatmap(confusion_matrix(y_test, y_pred_LPM_80, normalize = 'true'), annot=True, \n",
        "            fmt='.2%', cmap='Blues')\n",
        "\n",
        "ax.set_title('LPM: Confusion Matrix with labels\\n');\n",
        "ax.set_xlabel('\\nPredicted Values')\n",
        "ax.set_ylabel('Actual Values ');\n",
        "\n",
        "## Ticket labels - List must be in alphabetical order\n",
        "ax.xaxis.set_ticklabels(['False','True'])\n",
        "ax.yaxis.set_ticklabels(['False','True'])\n",
        "\n",
        "## Display the visualization of the Confusion Matrix.\n",
        "plt.show()"
      ],
      "metadata": {
        "colab": {
          "base_uri": "https://localhost:8080/",
          "height": 322
        },
        "id": "n5MYwEFwyzA-",
        "outputId": "fcfc3edf-9e61-4830-91e3-aa4eb8dcbda3"
      },
      "execution_count": 16,
      "outputs": [
        {
          "output_type": "display_data",
          "data": {
            "text/plain": [
              "<Figure size 432x288 with 2 Axes>"
            ],
            "image/png": "[encoded data removed]"
          },
          "metadata": {
            "needs_background": "light"
          }
        }
      ]
    },
    {
      "cell_type": "markdown",
      "source": [
        "# Q5"
      ],
      "metadata": {
        "id": "EX_kFUDSzLCR"
      }
    },
    {
      "cell_type": "code",
      "source": [
        "pipe = make_pipeline(StandardScaler(), KNeighborsClassifier(n_neighbors = 1))\n",
        "pipe.fit(X_train, y_train)"
      ],
      "metadata": {
        "colab": {
          "base_uri": "https://localhost:8080/"
        },
        "id": "hNmgjYQp45Ly",
        "outputId": "678f8366-6ebb-48ce-db7c-676f0c379dc0"
      },
      "execution_count": 21,
      "outputs": [
        {
          "output_type": "execute_result",
          "data": {
            "text/plain": [
              "Pipeline(steps=[('standardscaler', StandardScaler()),\n",
              "                ('kneighborsclassifier', KNeighborsClassifier(n_neighbors=1))])"
            ]
          },
          "metadata": {},
          "execution_count": 21
        }
      ]
    },
    {
      "cell_type": "code",
      "source": [
        "y_pred_knn1 = pipe.predict(X_test)"
      ],
      "metadata": {
        "id": "-TMqb_ts5E-J"
      },
      "execution_count": 24,
      "outputs": []
    },
    {
      "cell_type": "code",
      "source": [
        "accuracy_score(y_test, y_pred_knn1)"
      ],
      "metadata": {
        "colab": {
          "base_uri": "https://localhost:8080/"
        },
        "id": "tD2ZpJcSzMT1",
        "outputId": "91c48666-b484-4382-e6ac-df7cd6efcf65"
      },
      "execution_count": 25,
      "outputs": [
        {
          "output_type": "execute_result",
          "data": {
            "text/plain": [
              "0.8837209302325582"
            ]
          },
          "metadata": {},
          "execution_count": 25
        }
      ]
    },
    {
      "cell_type": "code",
      "source": [
        "confusion_matrix(y_test, y_pred_knn1)"
      ],
      "metadata": {
        "colab": {
          "base_uri": "https://localhost:8080/"
        },
        "id": "_pgx61g06C0c",
        "outputId": "9364e230-5208-425a-ac6c-6cc85f1bf5c8"
      },
      "execution_count": 27,
      "outputs": [
        {
          "output_type": "execute_result",
          "data": {
            "text/plain": [
              "array([[262,  43],\n",
              "       [  2,  80]])"
            ]
          },
          "metadata": {},
          "execution_count": 27
        }
      ]
    },
    {
      "cell_type": "markdown",
      "source": [
        "## Q5a"
      ],
      "metadata": {
        "id": "jY4e5jQM5jb2"
      }
    },
    {
      "cell_type": "code",
      "source": [
        "ax = sns.heatmap(confusion_matrix(y_test, y_pred_knn1), annot=True, cmap='Blues')\n",
        "\n",
        "ax.set_title('LPM: Confusion Matrix with labels\\n');\n",
        "ax.set_xlabel('\\nPredicted Values')\n",
        "ax.set_ylabel('Actual Values ');\n",
        "\n",
        "## Ticket labels - List must be in alphabetical order\n",
        "ax.xaxis.set_ticklabels(['False','True'])\n",
        "ax.yaxis.set_ticklabels(['False','True'])\n",
        "\n",
        "## Display the visualization of the Confusion Matrix.\n",
        "plt.show()"
      ],
      "metadata": {
        "colab": {
          "base_uri": "https://localhost:8080/",
          "height": 322
        },
        "id": "KKFoGnL25d_k",
        "outputId": "60553d3b-f939-4d16-ac6c-7ac4ba3ca213"
      },
      "execution_count": 30,
      "outputs": [
        {
          "output_type": "display_data",
          "data": {
            "text/plain": [
              "<Figure size 432x288 with 2 Axes>"
            ],
            "image/png": "[encoded data removed]"
          },
          "metadata": {
            "needs_background": "light"
          }
        }
      ]
    },
    {
      "cell_type": "markdown",
      "source": [
        "## Q5b"
      ],
      "metadata": {
        "id": "Bw7saJwI53Gw"
      }
    },
    {
      "cell_type": "code",
      "source": [
        "80/(80+43)"
      ],
      "metadata": {
        "colab": {
          "base_uri": "https://localhost:8080/"
        },
        "id": "tcbYCTxy5z73",
        "outputId": "f3188ba4-6112-4cbe-fefd-8a9f7b179e4d"
      },
      "execution_count": 31,
      "outputs": [
        {
          "output_type": "execute_result",
          "data": {
            "text/plain": [
              "0.6504065040650406"
            ]
          },
          "metadata": {},
          "execution_count": 31
        }
      ]
    },
    {
      "cell_type": "markdown",
      "source": [
        "## Q5c"
      ],
      "metadata": {
        "id": "GbCOElgx6ji1"
      }
    },
    {
      "cell_type": "code",
      "source": [
        "80/82"
      ],
      "metadata": {
        "colab": {
          "base_uri": "https://localhost:8080/"
        },
        "id": "uRZEOTR_6khj",
        "outputId": "9a8f195d-ea48-4165-a8b7-e9f42a1d0252"
      },
      "execution_count": 33,
      "outputs": [
        {
          "output_type": "execute_result",
          "data": {
            "text/plain": [
              "0.975609756097561"
            ]
          },
          "metadata": {},
          "execution_count": 33
        }
      ]
    },
    {
      "cell_type": "markdown",
      "source": [
        "## Q5d"
      ],
      "metadata": {
        "id": "1sh-e-Cj62tS"
      }
    },
    {
      "cell_type": "code",
      "source": [
        "pipe = make_pipeline(KNeighborsClassifier(n_neighbors = 1))\n",
        "pipe.fit(X_train, y_train)\n",
        "y_pred_knn1 = pipe.predict(X_test)\n",
        "accuracy_score(y_test, y_pred_knn1)"
      ],
      "metadata": {
        "colab": {
          "base_uri": "https://localhost:8080/"
        },
        "id": "qKI-flmt6rmW",
        "outputId": "a233b107-8b6c-4198-b9af-f8f8bed13dbe"
      },
      "execution_count": 34,
      "outputs": [
        {
          "output_type": "execute_result",
          "data": {
            "text/plain": [
              "0.9664082687338501"
            ]
          },
          "metadata": {},
          "execution_count": 34
        }
      ]
    },
    {
      "cell_type": "markdown",
      "source": [
        "# Q6"
      ],
      "metadata": {
        "id": "9XuJqKrk7LjW"
      }
    },
    {
      "cell_type": "code",
      "source": [
        "pipe = make_pipeline(StandardScaler(), KNeighborsClassifier(n_neighbors = 5))\n",
        "pipe.fit(X_train, y_train)\n",
        "y_pred_knn5 = pipe.predict(X_test)\n",
        "accuracy_score(y_test, y_pred_knn5)"
      ],
      "metadata": {
        "colab": {
          "base_uri": "https://localhost:8080/"
        },
        "id": "H0507UhY7HY3",
        "outputId": "ad957a72-8907-4ecd-b630-c4957660c183"
      },
      "execution_count": 35,
      "outputs": [
        {
          "output_type": "execute_result",
          "data": {
            "text/plain": [
              "0.8811369509043928"
            ]
          },
          "metadata": {},
          "execution_count": 35
        }
      ]
    },
    {
      "cell_type": "markdown",
      "source": [
        "## Q6d"
      ],
      "metadata": {
        "id": "HDVQpkuU7b2a"
      }
    },
    {
      "cell_type": "code",
      "source": [
        "pipe = make_pipeline(KNeighborsClassifier(n_neighbors = 5))\n",
        "pipe.fit(X_train, y_train)\n",
        "y_pred_knn5 = pipe.predict(X_test)\n",
        "accuracy_score(y_test, y_pred_knn5)"
      ],
      "metadata": {
        "colab": {
          "base_uri": "https://localhost:8080/"
        },
        "id": "lzwhYGPa7WWA",
        "outputId": "ed29cdca-a74c-427a-85b8-4dfdde59d357"
      },
      "execution_count": 36,
      "outputs": [
        {
          "output_type": "execute_result",
          "data": {
            "text/plain": [
              "0.937984496124031"
            ]
          },
          "metadata": {},
          "execution_count": 36
        }
      ]
    },
    {
      "cell_type": "markdown",
      "source": [
        "# Q7"
      ],
      "metadata": {
        "id": "VPLodDlj7sMu"
      }
    },
    {
      "cell_type": "code",
      "source": [
        "# remove NAs\n",
        "df = df.dropna()\n",
        "X = df.drop([\"Risk\"], axis = 1)\n",
        "y = df[\"Risk\"]"
      ],
      "metadata": {
        "id": "52f7Veiv8lH3"
      },
      "execution_count": 44,
      "outputs": []
    },
    {
      "cell_type": "code",
      "source": [
        "ks = range(1, int(df.shape[0]*.8))"
      ],
      "metadata": {
        "id": "FM-A8DZq83Pl"
      },
      "execution_count": 50,
      "outputs": []
    },
    {
      "cell_type": "code",
      "source": [
        "knni = KNeighborsClassifier()\n",
        "para = {'n_neighbors':ks}\n",
        "pipe = make_pipeline(StandardScaler(), \\\n",
        "                     GridSearchCV(knni, para, cv = KFold(5, random_state=13, shuffle=True)))\n",
        "pipe.fit(X, y)"
      ],
      "metadata": {
        "colab": {
          "base_uri": "https://localhost:8080/"
        },
        "id": "Rz5ZNVnH7r7i",
        "outputId": "3d921134-907a-4c0f-fe06-1ed08cec0847"
      },
      "execution_count": 51,
      "outputs": [
        {
          "output_type": "execute_result",
          "data": {
            "text/plain": [
              "Pipeline(steps=[('standardscaler', StandardScaler()),\n",
              "                ('gridsearchcv',\n",
              "                 GridSearchCV(cv=KFold(n_splits=5, random_state=13, shuffle=True),\n",
              "                              estimator=KNeighborsClassifier(),\n",
              "                              param_grid={'n_neighbors': range(1, 620)}))])"
            ]
          },
          "metadata": {},
          "execution_count": 51
        }
      ]
    },
    {
      "cell_type": "code",
      "source": [
        "X_norm = pd.DataFrame(preprocessing.scale(X))\n",
        "X_norm.head()"
      ],
      "metadata": {
        "colab": {
          "base_uri": "https://localhost:8080/",
          "height": 206
        },
        "id": "7pkxF__791bQ",
        "outputId": "40676ff2-9c4d-4cb1-8c19-592f234e064b"
      },
      "execution_count": 54,
      "outputs": [
        {
          "output_type": "execute_result",
          "data": {
            "text/plain": [
              "          0         1         2         3         4         5         6  \\\n",
              "0 -0.669071  0.304129  0.335827 -0.166006 -0.194273 -0.161614 -0.190146   \n",
              "1 -0.669071 -0.432005 -0.393216 -0.119482 -0.178777 -0.198271 -0.202356   \n",
              "2 -0.669071 -0.342190 -0.363566 -0.211331 -0.209370 -0.212393 -0.207059   \n",
              "3 -0.669071 -0.432005 -0.393216 -0.000278  0.004583 -0.035870 -0.030676   \n",
              "4 -0.669071 -0.432005 -0.393216 -0.214326 -0.210368 -0.212393 -0.207059   \n",
              "\n",
              "          7         8         9  \n",
              "0 -0.353484 -0.166753 -0.141265  \n",
              "1 -0.819385 -0.276733 -0.172402  \n",
              "2 -0.819385 -0.295112 -0.177606  \n",
              "3  1.976022 -0.003134 -0.094940  \n",
              "4 -0.819385 -0.297523 -0.178289  "
            ],
            "text/html": [
              "\n",
              "  <div id=\"df-ba227fc7-a090-4c6a-8fc0-7346c2a92423\">\n",
              "    <div class=\"colab-df-container\">\n",
              "      <div>\n",
              "<style scoped>\n",
              "    .dataframe tbody tr th:only-of-type {\n",
              "        vertical-align: middle;\n",
              "    }\n",
              "\n",
              "    .dataframe tbody tr th {\n",
              "        vertical-align: top;\n",
              "    }\n",
              "\n",
              "    .dataframe thead th {\n",
              "        text-align: right;\n",
              "    }\n",
              "</style>\n",
              "<table border=\"1\" class=\"dataframe\">\n",
              "  <thead>\n",
              "    <tr style=\"text-align: right;\">\n",
              "      <th></th>\n",
              "      <th>0</th>\n",
              "      <th>1</th>\n",
              "      <th>2</th>\n",
              "      <th>3</th>\n",
              "      <th>4</th>\n",
              "      <th>5</th>\n",
              "      <th>6</th>\n",
              "      <th>7</th>\n",
              "      <th>8</th>\n",
              "      <th>9</th>\n",
              "    </tr>\n",
              "  </thead>\n",
              "  <tbody>\n",
              "    <tr>\n",
              "      <th>0</th>\n",
              "      <td>-0.669071</td>\n",
              "      <td>0.304129</td>\n",
              "      <td>0.335827</td>\n",
              "      <td>-0.166006</td>\n",
              "      <td>-0.194273</td>\n",
              "      <td>-0.161614</td>\n",
              "      <td>-0.190146</td>\n",
              "      <td>-0.353484</td>\n",
              "      <td>-0.166753</td>\n",
              "      <td>-0.141265</td>\n",
              "    </tr>\n",
              "    <tr>\n",
              "      <th>1</th>\n",
              "      <td>-0.669071</td>\n",
              "      <td>-0.432005</td>\n",
              "      <td>-0.393216</td>\n",
              "      <td>-0.119482</td>\n",
              "      <td>-0.178777</td>\n",
              "      <td>-0.198271</td>\n",
              "      <td>-0.202356</td>\n",
              "      <td>-0.819385</td>\n",
              "      <td>-0.276733</td>\n",
              "      <td>-0.172402</td>\n",
              "    </tr>\n",
              "    <tr>\n",
              "      <th>2</th>\n",
              "      <td>-0.669071</td>\n",
              "      <td>-0.342190</td>\n",
              "      <td>-0.363566</td>\n",
              "      <td>-0.211331</td>\n",
              "      <td>-0.209370</td>\n",
              "      <td>-0.212393</td>\n",
              "      <td>-0.207059</td>\n",
              "      <td>-0.819385</td>\n",
              "      <td>-0.295112</td>\n",
              "      <td>-0.177606</td>\n",
              "    </tr>\n",
              "    <tr>\n",
              "      <th>3</th>\n",
              "      <td>-0.669071</td>\n",
              "      <td>-0.432005</td>\n",
              "      <td>-0.393216</td>\n",
              "      <td>-0.000278</td>\n",
              "      <td>0.004583</td>\n",
              "      <td>-0.035870</td>\n",
              "      <td>-0.030676</td>\n",
              "      <td>1.976022</td>\n",
              "      <td>-0.003134</td>\n",
              "      <td>-0.094940</td>\n",
              "    </tr>\n",
              "    <tr>\n",
              "      <th>4</th>\n",
              "      <td>-0.669071</td>\n",
              "      <td>-0.432005</td>\n",
              "      <td>-0.393216</td>\n",
              "      <td>-0.214326</td>\n",
              "      <td>-0.210368</td>\n",
              "      <td>-0.212393</td>\n",
              "      <td>-0.207059</td>\n",
              "      <td>-0.819385</td>\n",
              "      <td>-0.297523</td>\n",
              "      <td>-0.178289</td>\n",
              "    </tr>\n",
              "  </tbody>\n",
              "</table>\n",
              "</div>\n",
              "      <button class=\"colab-df-convert\" onclick=\"convertToInteractive('df-ba227fc7-a090-4c6a-8fc0-7346c2a92423')\"\n",
              "              title=\"Convert this dataframe to an interactive table.\"\n",
              "              style=\"display:none;\">\n",
              "        \n",
              "  <svg xmlns=\"http://www.w3.org/2000/svg\" height=\"24px\"viewBox=\"0 0 24 24\"\n",
              "       width=\"24px\">\n",
              "    <path d=\"M0 0h24v24H0V0z\" fill=\"none\"/>\n",
              "    <path d=\"M18.56 5.44l.94 2.06.94-2.06 2.06-.94-2.06-.94-.94-2.06-.94 2.06-2.06.94zm-11 1L8.5 8.5l.94-2.06 2.06-.94-2.06-.94L8.5 2.5l-.94 2.06-2.06.94zm10 10l.94 2.06.94-2.06 2.06-.94-2.06-.94-.94-2.06-.94 2.06-2.06.94z\"/><path d=\"M17.41 7.96l-1.37-1.37c-.4-.4-.92-.59-1.43-.59-.52 0-1.04.2-1.43.59L10.3 9.45l-7.72 7.72c-.78.78-.78 2.05 0 2.83L4 21.41c.39.39.9.59 1.41.59.51 0 1.02-.2 1.41-.59l7.78-7.78 2.81-2.81c.8-.78.8-2.07 0-2.86zM5.41 20L4 18.59l7.72-7.72 1.47 1.35L5.41 20z\"/>\n",
              "  </svg>\n",
              "      </button>\n",
              "      \n",
              "  <style>\n",
              "    .colab-df-container {\n",
              "      display:flex;\n",
              "      flex-wrap:wrap;\n",
              "      gap: 12px;\n",
              "    }\n",
              "\n",
              "    .colab-df-convert {\n",
              "      background-color: #E8F0FE;\n",
              "      border: none;\n",
              "      border-radius: 50%;\n",
              "      cursor: pointer;\n",
              "      display: none;\n",
              "      fill: #1967D2;\n",
              "      height: 32px;\n",
              "      padding: 0 0 0 0;\n",
              "      width: 32px;\n",
              "    }\n",
              "\n",
              "    .colab-df-convert:hover {\n",
              "      background-color: #E2EBFA;\n",
              "      box-shadow: 0px 1px 2px rgba(60, 64, 67, 0.3), 0px 1px 3px 1px rgba(60, 64, 67, 0.15);\n",
              "      fill: #174EA6;\n",
              "    }\n",
              "\n",
              "    [theme=dark] .colab-df-convert {\n",
              "      background-color: #3B4455;\n",
              "      fill: #D2E3FC;\n",
              "    }\n",
              "\n",
              "    [theme=dark] .colab-df-convert:hover {\n",
              "      background-color: #434B5C;\n",
              "      box-shadow: 0px 1px 3px 1px rgba(0, 0, 0, 0.15);\n",
              "      filter: drop-shadow(0px 1px 2px rgba(0, 0, 0, 0.3));\n",
              "      fill: #FFFFFF;\n",
              "    }\n",
              "  </style>\n",
              "\n",
              "      <script>\n",
              "        const buttonEl =\n",
              "          document.querySelector('#df-ba227fc7-a090-4c6a-8fc0-7346c2a92423 button.colab-df-convert');\n",
              "        buttonEl.style.display =\n",
              "          google.colab.kernel.accessAllowed ? 'block' : 'none';\n",
              "\n",
              "        async function convertToInteractive(key) {\n",
              "          const element = document.querySelector('#df-ba227fc7-a090-4c6a-8fc0-7346c2a92423');\n",
              "          const dataTable =\n",
              "            await google.colab.kernel.invokeFunction('convertToInteractive',\n",
              "                                                     [key], {});\n",
              "          if (!dataTable) return;\n",
              "\n",
              "          const docLinkHtml = 'Like what you see? Visit the ' +\n",
              "            '<a target=\"_blank\" href=https://colab.research.google.com/notebooks/data_table.ipynb>data table notebook</a>'\n",
              "            + ' to learn more about interactive tables.';\n",
              "          element.innerHTML = '';\n",
              "          dataTable['output_type'] = 'display_data';\n",
              "          await google.colab.output.renderOutput(dataTable, element);\n",
              "          const docLink = document.createElement('div');\n",
              "          docLink.innerHTML = docLinkHtml;\n",
              "          element.appendChild(docLink);\n",
              "        }\n",
              "      </script>\n",
              "    </div>\n",
              "  </div>\n",
              "  "
            ]
          },
          "metadata": {},
          "execution_count": 54
        }
      ]
    },
    {
      "cell_type": "code",
      "source": [
        "knn_cv = GridSearchCV(knni, para, cv = KFold(5, random_state=13, shuffle=True))\n",
        "knn_cv.fit(X_norm, y)\n",
        "print(knn_cv.best_params_)\n",
        "print(knn_cv.best_score_)"
      ],
      "metadata": {
        "colab": {
          "base_uri": "https://localhost:8080/"
        },
        "id": "kRsO9nAL_osr",
        "outputId": "8f45a339-6c9b-4c26-ab1f-1f4e6c43b1d3"
      },
      "execution_count": 55,
      "outputs": [
        {
          "output_type": "stream",
          "name": "stdout",
          "text": [
            "{'n_neighbors': 1}\n",
            "0.967741935483871\n"
          ]
        }
      ]
    },
    {
      "cell_type": "markdown",
      "source": [
        "# Q9"
      ],
      "metadata": {
        "id": "HzfxzRbgBIq_"
      }
    },
    {
      "cell_type": "code",
      "source": [
        "pipe = make_pipeline(StandardScaler(), KNeighborsClassifier(n_neighbors = 1))\n",
        "pipe.fit(X_train, y_train)\n",
        "y_pred_knn1 = pipe.predict(X_test)\n",
        "accuracy_score(y_test, y_pred_knn1)"
      ],
      "metadata": {
        "colab": {
          "base_uri": "https://localhost:8080/"
        },
        "id": "csblLz_wAxG5",
        "outputId": "0aa5952d-4009-4dd8-87ac-bc7c3076ea16"
      },
      "execution_count": 56,
      "outputs": [
        {
          "output_type": "execute_result",
          "data": {
            "text/plain": [
              "0.8837209302325582"
            ]
          },
          "metadata": {},
          "execution_count": 56
        }
      ]
    },
    {
      "cell_type": "code",
      "source": [
        "confusion_matrix(y_test, y_pred_knn1)"
      ],
      "metadata": {
        "colab": {
          "base_uri": "https://localhost:8080/"
        },
        "id": "4ycZ7A0aCXGu",
        "outputId": "6a78eaa1-54e4-4dfe-a889-f5928894a157"
      },
      "execution_count": 61,
      "outputs": [
        {
          "output_type": "execute_result",
          "data": {
            "text/plain": [
              "array([[262,  43],\n",
              "       [  2,  80]])"
            ]
          },
          "metadata": {},
          "execution_count": 61
        }
      ]
    },
    {
      "cell_type": "code",
      "source": [
        "num_pred_evasion = confusion_matrix(y_test, y_pred_knn1)[0, 1] + confusion_matrix(y_test, y_pred_knn1)[1, 1]\n",
        "num_pred_evasion"
      ],
      "metadata": {
        "colab": {
          "base_uri": "https://localhost:8080/"
        },
        "id": "utXZ-2-tBcjb",
        "outputId": "cdaa9fa2-2c0c-407d-9354-571a9baadd70"
      },
      "execution_count": 60,
      "outputs": [
        {
          "output_type": "execute_result",
          "data": {
            "text/plain": [
              "123"
            ]
          },
          "metadata": {},
          "execution_count": 60
        }
      ]
    },
    {
      "cell_type": "markdown",
      "source": [
        "For KNN with k=1 123 firms were predicted to evade taxes and of those 123, 43 (35%) did not commit tax fraud"
      ],
      "metadata": {
        "id": "PxjxeVktBnA-"
      }
    },
    {
      "cell_type": "code",
      "source": [
        "y_pred_LPM_6 = np.where(y_pred_LPM > 0.06, 1, 0)"
      ],
      "metadata": {
        "id": "YrQIuRZABh7q"
      },
      "execution_count": 70,
      "outputs": []
    },
    {
      "cell_type": "code",
      "source": [
        "confusion_matrix(y_test, y_pred_LPM_6)"
      ],
      "metadata": {
        "colab": {
          "base_uri": "https://localhost:8080/"
        },
        "id": "jtyItc5ZDI6i",
        "outputId": "a6cb0be6-5a3a-495c-a51b-6ec5a32782aa"
      },
      "execution_count": 71,
      "outputs": [
        {
          "output_type": "execute_result",
          "data": {
            "text/plain": [
              "array([[243,  62],\n",
              "       [ 21,  61]])"
            ]
          },
          "metadata": {},
          "execution_count": 71
        }
      ]
    },
    {
      "cell_type": "markdown",
      "source": [
        "For the LPM with threshold of 6% so that 123 firms were predicted to have committed tax fraud, 61 (50%) did not actually do it"
      ],
      "metadata": {
        "id": "tj7AF8FsD0Xu"
      }
    }
  ]
}