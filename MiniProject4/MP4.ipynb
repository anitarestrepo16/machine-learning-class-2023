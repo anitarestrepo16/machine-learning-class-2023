{
  "nbformat": 4,
  "nbformat_minor": 0,
  "metadata": {
    "colab": {
      "provenance": [],
      "collapsed_sections": [
        "axObvHSPrmp4",
        "4wR0fLC8sD6A",
        "jJF_31dttr6H",
        "gX-RcOw4wHnP",
        "DjDrS1yrye83"
      ],
      "authorship_tag": "ABX9TyNO6l8wtMhavczikavbSxWz",
      "include_colab_link": true
    },
    "kernelspec": {
      "name": "python3",
      "display_name": "Python 3"
    },
    "language_info": {
      "name": "python"
    }
  },
  "cells": [
    {
      "cell_type": "markdown",
      "metadata": {
        "id": "view-in-github",
        "colab_type": "text"
      },
      "source": [
        "<a href=\"https://colab.research.google.com/github/anitarestrepo16/machine-learning-class-2023/blob/main/MP4.ipynb\" target=\"_parent\"><img src=\"https://colab.research.google.com/assets/colab-badge.svg\" alt=\"Open In Colab\"/></a>"
      ]
    },
    {
      "cell_type": "code",
      "execution_count": 107,
      "metadata": {
        "id": "CM-J0B-GpS1m"
      },
      "outputs": [],
      "source": [
        "from sklearn.svm import SVC\n",
        "from sklearn.model_selection import train_test_split, KFold, GridSearchCV\n",
        "from sklearn.preprocessing import StandardScaler\n",
        "from sklearn import metrics\n",
        "from sklearn.pipeline import make_pipeline\n",
        "\n",
        "import numpy as np\n",
        "import pandas as pd\n",
        "import matplotlib.pyplot as plt\n",
        "\n",
        "import statsmodels.formula.api as smf"
      ]
    },
    {
      "cell_type": "code",
      "source": [
        "from google.colab import drive\n",
        "drive.mount('/drive')"
      ],
      "metadata": {
        "colab": {
          "base_uri": "https://localhost:8080/"
        },
        "id": "Fz8bp2B7q1Hh",
        "outputId": "41797406-5537-4e64-abac-aeca0f20bd5b"
      },
      "execution_count": 2,
      "outputs": [
        {
          "output_type": "stream",
          "name": "stdout",
          "text": [
            "Mounted at /drive\n"
          ]
        }
      ]
    },
    {
      "cell_type": "code",
      "source": [
        "vote_df = pd.read_csv('/drive/My Drive/Colab Notebooks/vote.csv')\n",
        "vote_df.head()"
      ],
      "metadata": {
        "colab": {
          "base_uri": "https://localhost:8080/",
          "height": 206
        },
        "id": "y2vB94i4q1rg",
        "outputId": "283619e5-0b69-42de-d5e2-595f268628a8"
      },
      "execution_count": 80,
      "outputs": [
        {
          "output_type": "execute_result",
          "data": {
            "text/plain": [
              "   prtage   pesex    ptdtrace      pehspnon                       prcitshp  \\\n",
              "0      19  FEMALE  White Only  NON-HISPANIC     NATIVE, BORN IN THE UNITED   \n",
              "1      35    MALE  White Only  NON-HISPANIC     NATIVE, BORN IN THE UNITED   \n",
              "2      48    MALE  White Only      HISPANIC  FOREIGN BORN, U.S. CITIZEN BY   \n",
              "3      55    MALE  White Only  NON-HISPANIC     NATIVE, BORN IN THE UNITED   \n",
              "4      25  FEMALE  White Only  NON-HISPANIC     NATIVE, BORN IN THE UNITED   \n",
              "\n",
              "                        peeduca          vote  \n",
              "0    SOME COLLEGE BUT NO DEGREE          vote  \n",
              "1  MASTER'S DEGREE (EX: MA, MS,          vote  \n",
              "2              5TH OR 6TH GRADE          vote  \n",
              "3             BACHELOR'S DEGREE  did not vote  \n",
              "4    SOME COLLEGE BUT NO DEGREE          vote  "
            ],
            "text/html": [
              "\n",
              "  <div id=\"df-2ebf17f4-3f9f-4872-84e4-214aa5736ceb\">\n",
              "    <div class=\"colab-df-container\">\n",
              "      <div>\n",
              "<style scoped>\n",
              "    .dataframe tbody tr th:only-of-type {\n",
              "        vertical-align: middle;\n",
              "    }\n",
              "\n",
              "    .dataframe tbody tr th {\n",
              "        vertical-align: top;\n",
              "    }\n",
              "\n",
              "    .dataframe thead th {\n",
              "        text-align: right;\n",
              "    }\n",
              "</style>\n",
              "<table border=\"1\" class=\"dataframe\">\n",
              "  <thead>\n",
              "    <tr style=\"text-align: right;\">\n",
              "      <th></th>\n",
              "      <th>prtage</th>\n",
              "      <th>pesex</th>\n",
              "      <th>ptdtrace</th>\n",
              "      <th>pehspnon</th>\n",
              "      <th>prcitshp</th>\n",
              "      <th>peeduca</th>\n",
              "      <th>vote</th>\n",
              "    </tr>\n",
              "  </thead>\n",
              "  <tbody>\n",
              "    <tr>\n",
              "      <th>0</th>\n",
              "      <td>19</td>\n",
              "      <td>FEMALE</td>\n",
              "      <td>White Only</td>\n",
              "      <td>NON-HISPANIC</td>\n",
              "      <td>NATIVE, BORN IN THE UNITED</td>\n",
              "      <td>SOME COLLEGE BUT NO DEGREE</td>\n",
              "      <td>vote</td>\n",
              "    </tr>\n",
              "    <tr>\n",
              "      <th>1</th>\n",
              "      <td>35</td>\n",
              "      <td>MALE</td>\n",
              "      <td>White Only</td>\n",
              "      <td>NON-HISPANIC</td>\n",
              "      <td>NATIVE, BORN IN THE UNITED</td>\n",
              "      <td>MASTER'S DEGREE (EX: MA, MS,</td>\n",
              "      <td>vote</td>\n",
              "    </tr>\n",
              "    <tr>\n",
              "      <th>2</th>\n",
              "      <td>48</td>\n",
              "      <td>MALE</td>\n",
              "      <td>White Only</td>\n",
              "      <td>HISPANIC</td>\n",
              "      <td>FOREIGN BORN, U.S. CITIZEN BY</td>\n",
              "      <td>5TH OR 6TH GRADE</td>\n",
              "      <td>vote</td>\n",
              "    </tr>\n",
              "    <tr>\n",
              "      <th>3</th>\n",
              "      <td>55</td>\n",
              "      <td>MALE</td>\n",
              "      <td>White Only</td>\n",
              "      <td>NON-HISPANIC</td>\n",
              "      <td>NATIVE, BORN IN THE UNITED</td>\n",
              "      <td>BACHELOR'S DEGREE</td>\n",
              "      <td>did not vote</td>\n",
              "    </tr>\n",
              "    <tr>\n",
              "      <th>4</th>\n",
              "      <td>25</td>\n",
              "      <td>FEMALE</td>\n",
              "      <td>White Only</td>\n",
              "      <td>NON-HISPANIC</td>\n",
              "      <td>NATIVE, BORN IN THE UNITED</td>\n",
              "      <td>SOME COLLEGE BUT NO DEGREE</td>\n",
              "      <td>vote</td>\n",
              "    </tr>\n",
              "  </tbody>\n",
              "</table>\n",
              "</div>\n",
              "      <button class=\"colab-df-convert\" onclick=\"convertToInteractive('df-2ebf17f4-3f9f-4872-84e4-214aa5736ceb')\"\n",
              "              title=\"Convert this dataframe to an interactive table.\"\n",
              "              style=\"display:none;\">\n",
              "        \n",
              "  <svg xmlns=\"http://www.w3.org/2000/svg\" height=\"24px\"viewBox=\"0 0 24 24\"\n",
              "       width=\"24px\">\n",
              "    <path d=\"M0 0h24v24H0V0z\" fill=\"none\"/>\n",
              "    <path d=\"M18.56 5.44l.94 2.06.94-2.06 2.06-.94-2.06-.94-.94-2.06-.94 2.06-2.06.94zm-11 1L8.5 8.5l.94-2.06 2.06-.94-2.06-.94L8.5 2.5l-.94 2.06-2.06.94zm10 10l.94 2.06.94-2.06 2.06-.94-2.06-.94-.94-2.06-.94 2.06-2.06.94z\"/><path d=\"M17.41 7.96l-1.37-1.37c-.4-.4-.92-.59-1.43-.59-.52 0-1.04.2-1.43.59L10.3 9.45l-7.72 7.72c-.78.78-.78 2.05 0 2.83L4 21.41c.39.39.9.59 1.41.59.51 0 1.02-.2 1.41-.59l7.78-7.78 2.81-2.81c.8-.78.8-2.07 0-2.86zM5.41 20L4 18.59l7.72-7.72 1.47 1.35L5.41 20z\"/>\n",
              "  </svg>\n",
              "      </button>\n",
              "      \n",
              "  <style>\n",
              "    .colab-df-container {\n",
              "      display:flex;\n",
              "      flex-wrap:wrap;\n",
              "      gap: 12px;\n",
              "    }\n",
              "\n",
              "    .colab-df-convert {\n",
              "      background-color: #E8F0FE;\n",
              "      border: none;\n",
              "      border-radius: 50%;\n",
              "      cursor: pointer;\n",
              "      display: none;\n",
              "      fill: #1967D2;\n",
              "      height: 32px;\n",
              "      padding: 0 0 0 0;\n",
              "      width: 32px;\n",
              "    }\n",
              "\n",
              "    .colab-df-convert:hover {\n",
              "      background-color: #E2EBFA;\n",
              "      box-shadow: 0px 1px 2px rgba(60, 64, 67, 0.3), 0px 1px 3px 1px rgba(60, 64, 67, 0.15);\n",
              "      fill: #174EA6;\n",
              "    }\n",
              "\n",
              "    [theme=dark] .colab-df-convert {\n",
              "      background-color: #3B4455;\n",
              "      fill: #D2E3FC;\n",
              "    }\n",
              "\n",
              "    [theme=dark] .colab-df-convert:hover {\n",
              "      background-color: #434B5C;\n",
              "      box-shadow: 0px 1px 3px 1px rgba(0, 0, 0, 0.15);\n",
              "      filter: drop-shadow(0px 1px 2px rgba(0, 0, 0, 0.3));\n",
              "      fill: #FFFFFF;\n",
              "    }\n",
              "  </style>\n",
              "\n",
              "      <script>\n",
              "        const buttonEl =\n",
              "          document.querySelector('#df-2ebf17f4-3f9f-4872-84e4-214aa5736ceb button.colab-df-convert');\n",
              "        buttonEl.style.display =\n",
              "          google.colab.kernel.accessAllowed ? 'block' : 'none';\n",
              "\n",
              "        async function convertToInteractive(key) {\n",
              "          const element = document.querySelector('#df-2ebf17f4-3f9f-4872-84e4-214aa5736ceb');\n",
              "          const dataTable =\n",
              "            await google.colab.kernel.invokeFunction('convertToInteractive',\n",
              "                                                     [key], {});\n",
              "          if (!dataTable) return;\n",
              "\n",
              "          const docLinkHtml = 'Like what you see? Visit the ' +\n",
              "            '<a target=\"_blank\" href=https://colab.research.google.com/notebooks/data_table.ipynb>data table notebook</a>'\n",
              "            + ' to learn more about interactive tables.';\n",
              "          element.innerHTML = '';\n",
              "          dataTable['output_type'] = 'display_data';\n",
              "          await google.colab.output.renderOutput(dataTable, element);\n",
              "          const docLink = document.createElement('div');\n",
              "          docLink.innerHTML = docLinkHtml;\n",
              "          element.appendChild(docLink);\n",
              "        }\n",
              "      </script>\n",
              "    </div>\n",
              "  </div>\n",
              "  "
            ]
          },
          "metadata": {},
          "execution_count": 80
        }
      ]
    },
    {
      "cell_type": "code",
      "source": [
        "work_df = pd.read_csv('/drive/My Drive/Colab Notebooks/work.csv')\n",
        "work_df.head()"
      ],
      "metadata": {
        "colab": {
          "base_uri": "https://localhost:8080/",
          "height": 206
        },
        "id": "9xnaj_p4rJ1Q",
        "outputId": "e8d6a0f7-5416-43b3-9632-65d200384efb"
      },
      "execution_count": 81,
      "outputs": [
        {
          "output_type": "execute_result",
          "data": {
            "text/plain": [
              "   prtage   pesex    ptdtrace      pehspnon                    prcitshp  \\\n",
              "0      35    MALE  White Only  NON-HISPANIC  NATIVE, BORN IN THE UNITED   \n",
              "1      41    MALE  White Only  NON-HISPANIC  NATIVE, BORN IN THE UNITED   \n",
              "2      53    MALE  White Only  NON-HISPANIC  NATIVE, BORN IN THE UNITED   \n",
              "3      21  FEMALE  White Only  NON-HISPANIC  NATIVE, BORN IN THE UNITED   \n",
              "4      45  FEMALE  Black Only  NON-HISPANIC  NATIVE, BORN IN THE UNITED   \n",
              "\n",
              "                       peeduca          work  \n",
              "0  HIGH SCHOOL GRAD-DIPLOMA OR      flexible  \n",
              "1  HIGH SCHOOL GRAD-DIPLOMA OR      flexible  \n",
              "2            BACHELOR'S DEGREE  not flexible  \n",
              "3   SOME COLLEGE BUT NO DEGREE      flexible  \n",
              "4   SOME COLLEGE BUT NO DEGREE      flexible  "
            ],
            "text/html": [
              "\n",
              "  <div id=\"df-ecaa39c2-01ae-4987-8d98-407c1ee9615f\">\n",
              "    <div class=\"colab-df-container\">\n",
              "      <div>\n",
              "<style scoped>\n",
              "    .dataframe tbody tr th:only-of-type {\n",
              "        vertical-align: middle;\n",
              "    }\n",
              "\n",
              "    .dataframe tbody tr th {\n",
              "        vertical-align: top;\n",
              "    }\n",
              "\n",
              "    .dataframe thead th {\n",
              "        text-align: right;\n",
              "    }\n",
              "</style>\n",
              "<table border=\"1\" class=\"dataframe\">\n",
              "  <thead>\n",
              "    <tr style=\"text-align: right;\">\n",
              "      <th></th>\n",
              "      <th>prtage</th>\n",
              "      <th>pesex</th>\n",
              "      <th>ptdtrace</th>\n",
              "      <th>pehspnon</th>\n",
              "      <th>prcitshp</th>\n",
              "      <th>peeduca</th>\n",
              "      <th>work</th>\n",
              "    </tr>\n",
              "  </thead>\n",
              "  <tbody>\n",
              "    <tr>\n",
              "      <th>0</th>\n",
              "      <td>35</td>\n",
              "      <td>MALE</td>\n",
              "      <td>White Only</td>\n",
              "      <td>NON-HISPANIC</td>\n",
              "      <td>NATIVE, BORN IN THE UNITED</td>\n",
              "      <td>HIGH SCHOOL GRAD-DIPLOMA OR</td>\n",
              "      <td>flexible</td>\n",
              "    </tr>\n",
              "    <tr>\n",
              "      <th>1</th>\n",
              "      <td>41</td>\n",
              "      <td>MALE</td>\n",
              "      <td>White Only</td>\n",
              "      <td>NON-HISPANIC</td>\n",
              "      <td>NATIVE, BORN IN THE UNITED</td>\n",
              "      <td>HIGH SCHOOL GRAD-DIPLOMA OR</td>\n",
              "      <td>flexible</td>\n",
              "    </tr>\n",
              "    <tr>\n",
              "      <th>2</th>\n",
              "      <td>53</td>\n",
              "      <td>MALE</td>\n",
              "      <td>White Only</td>\n",
              "      <td>NON-HISPANIC</td>\n",
              "      <td>NATIVE, BORN IN THE UNITED</td>\n",
              "      <td>BACHELOR'S DEGREE</td>\n",
              "      <td>not flexible</td>\n",
              "    </tr>\n",
              "    <tr>\n",
              "      <th>3</th>\n",
              "      <td>21</td>\n",
              "      <td>FEMALE</td>\n",
              "      <td>White Only</td>\n",
              "      <td>NON-HISPANIC</td>\n",
              "      <td>NATIVE, BORN IN THE UNITED</td>\n",
              "      <td>SOME COLLEGE BUT NO DEGREE</td>\n",
              "      <td>flexible</td>\n",
              "    </tr>\n",
              "    <tr>\n",
              "      <th>4</th>\n",
              "      <td>45</td>\n",
              "      <td>FEMALE</td>\n",
              "      <td>Black Only</td>\n",
              "      <td>NON-HISPANIC</td>\n",
              "      <td>NATIVE, BORN IN THE UNITED</td>\n",
              "      <td>SOME COLLEGE BUT NO DEGREE</td>\n",
              "      <td>flexible</td>\n",
              "    </tr>\n",
              "  </tbody>\n",
              "</table>\n",
              "</div>\n",
              "      <button class=\"colab-df-convert\" onclick=\"convertToInteractive('df-ecaa39c2-01ae-4987-8d98-407c1ee9615f')\"\n",
              "              title=\"Convert this dataframe to an interactive table.\"\n",
              "              style=\"display:none;\">\n",
              "        \n",
              "  <svg xmlns=\"http://www.w3.org/2000/svg\" height=\"24px\"viewBox=\"0 0 24 24\"\n",
              "       width=\"24px\">\n",
              "    <path d=\"M0 0h24v24H0V0z\" fill=\"none\"/>\n",
              "    <path d=\"M18.56 5.44l.94 2.06.94-2.06 2.06-.94-2.06-.94-.94-2.06-.94 2.06-2.06.94zm-11 1L8.5 8.5l.94-2.06 2.06-.94-2.06-.94L8.5 2.5l-.94 2.06-2.06.94zm10 10l.94 2.06.94-2.06 2.06-.94-2.06-.94-.94-2.06-.94 2.06-2.06.94z\"/><path d=\"M17.41 7.96l-1.37-1.37c-.4-.4-.92-.59-1.43-.59-.52 0-1.04.2-1.43.59L10.3 9.45l-7.72 7.72c-.78.78-.78 2.05 0 2.83L4 21.41c.39.39.9.59 1.41.59.51 0 1.02-.2 1.41-.59l7.78-7.78 2.81-2.81c.8-.78.8-2.07 0-2.86zM5.41 20L4 18.59l7.72-7.72 1.47 1.35L5.41 20z\"/>\n",
              "  </svg>\n",
              "      </button>\n",
              "      \n",
              "  <style>\n",
              "    .colab-df-container {\n",
              "      display:flex;\n",
              "      flex-wrap:wrap;\n",
              "      gap: 12px;\n",
              "    }\n",
              "\n",
              "    .colab-df-convert {\n",
              "      background-color: #E8F0FE;\n",
              "      border: none;\n",
              "      border-radius: 50%;\n",
              "      cursor: pointer;\n",
              "      display: none;\n",
              "      fill: #1967D2;\n",
              "      height: 32px;\n",
              "      padding: 0 0 0 0;\n",
              "      width: 32px;\n",
              "    }\n",
              "\n",
              "    .colab-df-convert:hover {\n",
              "      background-color: #E2EBFA;\n",
              "      box-shadow: 0px 1px 2px rgba(60, 64, 67, 0.3), 0px 1px 3px 1px rgba(60, 64, 67, 0.15);\n",
              "      fill: #174EA6;\n",
              "    }\n",
              "\n",
              "    [theme=dark] .colab-df-convert {\n",
              "      background-color: #3B4455;\n",
              "      fill: #D2E3FC;\n",
              "    }\n",
              "\n",
              "    [theme=dark] .colab-df-convert:hover {\n",
              "      background-color: #434B5C;\n",
              "      box-shadow: 0px 1px 3px 1px rgba(0, 0, 0, 0.15);\n",
              "      filter: drop-shadow(0px 1px 2px rgba(0, 0, 0, 0.3));\n",
              "      fill: #FFFFFF;\n",
              "    }\n",
              "  </style>\n",
              "\n",
              "      <script>\n",
              "        const buttonEl =\n",
              "          document.querySelector('#df-ecaa39c2-01ae-4987-8d98-407c1ee9615f button.colab-df-convert');\n",
              "        buttonEl.style.display =\n",
              "          google.colab.kernel.accessAllowed ? 'block' : 'none';\n",
              "\n",
              "        async function convertToInteractive(key) {\n",
              "          const element = document.querySelector('#df-ecaa39c2-01ae-4987-8d98-407c1ee9615f');\n",
              "          const dataTable =\n",
              "            await google.colab.kernel.invokeFunction('convertToInteractive',\n",
              "                                                     [key], {});\n",
              "          if (!dataTable) return;\n",
              "\n",
              "          const docLinkHtml = 'Like what you see? Visit the ' +\n",
              "            '<a target=\"_blank\" href=https://colab.research.google.com/notebooks/data_table.ipynb>data table notebook</a>'\n",
              "            + ' to learn more about interactive tables.';\n",
              "          element.innerHTML = '';\n",
              "          dataTable['output_type'] = 'display_data';\n",
              "          await google.colab.output.renderOutput(dataTable, element);\n",
              "          const docLink = document.createElement('div');\n",
              "          docLink.innerHTML = docLinkHtml;\n",
              "          element.appendChild(docLink);\n",
              "        }\n",
              "      </script>\n",
              "    </div>\n",
              "  </div>\n",
              "  "
            ]
          },
          "metadata": {},
          "execution_count": 81
        }
      ]
    },
    {
      "cell_type": "markdown",
      "source": [
        "#2a"
      ],
      "metadata": {
        "id": "axObvHSPrmp4"
      }
    },
    {
      "cell_type": "code",
      "source": [
        "vote_df[\"vote\"].unique()"
      ],
      "metadata": {
        "colab": {
          "base_uri": "https://localhost:8080/"
        },
        "id": "u9mAnrZArnkA",
        "outputId": "e483591e-fdb7-411e-ac05-e88aa0a91b83"
      },
      "execution_count": 62,
      "outputs": [
        {
          "output_type": "execute_result",
          "data": {
            "text/plain": [
              "array(['vote', 'did not vote'], dtype=object)"
            ]
          },
          "metadata": {},
          "execution_count": 62
        }
      ]
    },
    {
      "cell_type": "code",
      "source": [
        "work_df[\"work\"].unique()"
      ],
      "metadata": {
        "colab": {
          "base_uri": "https://localhost:8080/"
        },
        "id": "THRPiBburslw",
        "outputId": "1f1b8d05-802d-4333-adcf-6b6ef0e2e2c9"
      },
      "execution_count": 6,
      "outputs": [
        {
          "output_type": "execute_result",
          "data": {
            "text/plain": [
              "array(['flexible', 'not flexible'], dtype=object)"
            ]
          },
          "metadata": {},
          "execution_count": 6
        }
      ]
    },
    {
      "cell_type": "code",
      "source": [
        "# Map labels to 0 and 1\n",
        "work_mapper = {'flexible': 1, \"not flexible\": 0}\n",
        "vote_mapper = {'vote': 1, \"did not vote\": 0}\n",
        "work_df['work'] = work_df['work'].replace(work_mapper)\n",
        "vote_df['vote'] = vote_df['vote'].replace(vote_mapper)"
      ],
      "metadata": {
        "id": "xmZpW99_ryBg"
      },
      "execution_count": 82,
      "outputs": []
    },
    {
      "cell_type": "code",
      "source": [
        "cat_vars = vote_df.columns[1:6].values.tolist()\n",
        "cat_vars"
      ],
      "metadata": {
        "colab": {
          "base_uri": "https://localhost:8080/"
        },
        "id": "OphxhRCXx-QP",
        "outputId": "80ffa784-9770-45d5-e674-43f4713ea9ee"
      },
      "execution_count": 64,
      "outputs": [
        {
          "output_type": "execute_result",
          "data": {
            "text/plain": [
              "['pesex', 'ptdtrace', 'pehspnon', 'prcitshp', 'peeduca']"
            ]
          },
          "metadata": {},
          "execution_count": 64
        }
      ]
    },
    {
      "cell_type": "markdown",
      "source": [
        "#2b"
      ],
      "metadata": {
        "id": "4wR0fLC8sD6A"
      }
    },
    {
      "cell_type": "code",
      "source": [
        "vote_vals = {}\n",
        "work_vals = {}\n",
        "for col in cat_vars:\n",
        "    vote_vals[col] = vote_df[col].unique()\n",
        "    work_vals[col] = work_df[col].unique()\n",
        "\n",
        "print(vote_vals)\n",
        "print(work_vals)"
      ],
      "metadata": {
        "colab": {
          "base_uri": "https://localhost:8080/"
        },
        "id": "4_xo0N3psEtx",
        "outputId": "bd95e844-648f-45a3-ffd2-18f79554ad2a"
      },
      "execution_count": 65,
      "outputs": [
        {
          "output_type": "stream",
          "name": "stdout",
          "text": [
            "{'pesex': array(['FEMALE', 'MALE'], dtype=object), 'ptdtrace': array(['White Only', 'Black Only', 'Hawaiian/Pacific Islander Only',\n",
            "       'Asian Only', 'American Indian, Alaskan', 'White-AI', 'Black-AI',\n",
            "       'W-B-AI', '2 or 3 Races', 'White-Asian', 'Asian-HP', 'White-Black',\n",
            "       'White-Hawaiian', 'W-A-HP', 'Black-Asian'], dtype=object), 'pehspnon': array(['NON-HISPANIC', 'HISPANIC'], dtype=object), 'prcitshp': array(['NATIVE, BORN IN THE UNITED', 'FOREIGN BORN, U.S. CITIZEN BY',\n",
            "       'NATIVE, BORN IN PUERTO RICO OR', 'NATIVE, BORN ABROAD OF'],\n",
            "      dtype=object), 'peeduca': array(['SOME COLLEGE BUT NO DEGREE', \"MASTER'S DEGREE (EX: MA, MS,\",\n",
            "       '5TH OR 6TH GRADE', \"BACHELOR'S DEGREE\",\n",
            "       'HIGH SCHOOL GRAD-DIPLOMA OR', 'DOCTORATE DEGREE',\n",
            "       'ASSOCIATE DEGREE-OCCUPATIONAL/', 'PROFESSIONAL SCHOOL DEG',\n",
            "       '11TH GRADE', '7TH OR 8TH GRADE', 'ASSOCIATE DEGREE-ACADEMIC',\n",
            "       '9TH GRADE', '12TH GRADE NO DIPLOMA', '10TH GRADE',\n",
            "       '1ST, 2ND, 3RD OR 4TH GRADE', 'LESS THAN 1ST GRADE'], dtype=object)}\n",
            "{'pesex': array(['MALE', 'FEMALE'], dtype=object), 'ptdtrace': array(['White Only', 'Black Only', 'White-AI', 'Black-AI', 'Asian Only',\n",
            "       'White-Asian', 'Hawaiian/Pacific Islander Only', 'Asian-HP',\n",
            "       'White-Hawaiian', 'American Indian, Alaskan', 'White-Black',\n",
            "       '2 or 3 Races', '4 or 5 Races'], dtype=object), 'pehspnon': array(['NON-HISPANIC', 'HISPANIC'], dtype=object), 'prcitshp': array(['NATIVE, BORN IN THE UNITED', 'FOREIGN BORN, U.S. CITIZEN BY',\n",
            "       'FOREIGN BORN, NOT A CITIZEN OF', 'NATIVE, BORN IN PUERTO RICO OR',\n",
            "       'NATIVE, BORN ABROAD OF'], dtype=object), 'peeduca': array(['HIGH SCHOOL GRAD-DIPLOMA OR', \"BACHELOR'S DEGREE\",\n",
            "       'SOME COLLEGE BUT NO DEGREE', 'ASSOCIATE DEGREE-ACADEMIC',\n",
            "       'PROFESSIONAL SCHOOL DEG', 'ASSOCIATE DEGREE-OCCUPATIONAL/',\n",
            "       '11TH GRADE', \"MASTER'S DEGREE (EX: MA, MS,\", 'DOCTORATE DEGREE',\n",
            "       '10TH GRADE', '7TH OR 8TH GRADE', '5TH OR 6TH GRADE',\n",
            "       '12TH GRADE NO DIPLOMA', '9TH GRADE', 'LESS THAN 1ST GRADE',\n",
            "       '1ST, 2ND, 3RD OR 4TH GRADE'], dtype=object)}\n"
          ]
        }
      ]
    },
    {
      "cell_type": "markdown",
      "source": [
        "## Discrepancies:\n",
        "ptdtrace"
      ],
      "metadata": {
        "id": "jJF_31dttr6H"
      }
    },
    {
      "cell_type": "code",
      "source": [
        "missing = []\n",
        "for i in vote_vals['ptdtrace']:\n",
        "    if i not in work_vals['ptdtrace']:\n",
        "        missing.append(i)\n",
        "missing"
      ],
      "metadata": {
        "colab": {
          "base_uri": "https://localhost:8080/"
        },
        "id": "iV5pZ4MpsIfw",
        "outputId": "c46780c3-d91f-4978-c533-ba01a38fbca5"
      },
      "execution_count": 66,
      "outputs": [
        {
          "output_type": "execute_result",
          "data": {
            "text/plain": [
              "['W-B-AI', 'W-A-HP', 'Black-Asian']"
            ]
          },
          "metadata": {},
          "execution_count": 66
        }
      ]
    },
    {
      "cell_type": "code",
      "source": [
        "missing = []\n",
        "for i in work_vals['ptdtrace']:\n",
        "    if i not in vote_vals['ptdtrace']:\n",
        "        missing.append(i)\n",
        "missing"
      ],
      "metadata": {
        "colab": {
          "base_uri": "https://localhost:8080/"
        },
        "id": "K8Sk9YzGsb8x",
        "outputId": "74ef57f0-8c0f-4d4b-83f7-73ddf2927142"
      },
      "execution_count": 16,
      "outputs": [
        {
          "output_type": "execute_result",
          "data": {
            "text/plain": [
              "['4 or 5 Races']"
            ]
          },
          "metadata": {},
          "execution_count": 16
        }
      ]
    },
    {
      "cell_type": "markdown",
      "source": [
        "pehspnon"
      ],
      "metadata": {
        "id": "2JqAxzG6vEBi"
      }
    },
    {
      "cell_type": "code",
      "source": [
        "missing = []\n",
        "for i in vote_vals['pehspnon']:\n",
        "    if i not in work_vals['pehspnon']:\n",
        "        missing.append(i)\n",
        "missing"
      ],
      "metadata": {
        "colab": {
          "base_uri": "https://localhost:8080/"
        },
        "id": "tHISRjnDvL1P",
        "outputId": "a9ecdfce-8f18-4c38-bcb2-6e5521f48e58"
      },
      "execution_count": 17,
      "outputs": [
        {
          "output_type": "execute_result",
          "data": {
            "text/plain": [
              "[]"
            ]
          },
          "metadata": {},
          "execution_count": 17
        }
      ]
    },
    {
      "cell_type": "code",
      "source": [
        "missing = []\n",
        "for i in work_vals['pehspnon']:\n",
        "    if i not in vote_vals['pehspnon']:\n",
        "        missing.append(i)\n",
        "missing"
      ],
      "metadata": {
        "colab": {
          "base_uri": "https://localhost:8080/"
        },
        "id": "nP1trpP2vRWC",
        "outputId": "bddba6bb-46b8-4ff0-ef6d-af2136ae30f5"
      },
      "execution_count": 19,
      "outputs": [
        {
          "output_type": "execute_result",
          "data": {
            "text/plain": [
              "[]"
            ]
          },
          "metadata": {},
          "execution_count": 19
        }
      ]
    },
    {
      "cell_type": "markdown",
      "source": [
        "prcitshp"
      ],
      "metadata": {
        "id": "aRv-z_vBvk43"
      }
    },
    {
      "cell_type": "code",
      "source": [
        "missing = []\n",
        "for i in vote_vals['prcitshp']:\n",
        "    if i not in work_vals['prcitshp']:\n",
        "        missing.append(i)\n",
        "missing"
      ],
      "metadata": {
        "colab": {
          "base_uri": "https://localhost:8080/"
        },
        "id": "ltXMARJUvfvB",
        "outputId": "8d3f46c0-be4c-403f-e9ec-f9fa0d7c8feb"
      },
      "execution_count": 20,
      "outputs": [
        {
          "output_type": "execute_result",
          "data": {
            "text/plain": [
              "[]"
            ]
          },
          "metadata": {},
          "execution_count": 20
        }
      ]
    },
    {
      "cell_type": "code",
      "source": [
        "missing = []\n",
        "for i in work_vals['prcitshp']:\n",
        "    if i not in vote_vals['prcitshp']:\n",
        "        missing.append(i)\n",
        "missing"
      ],
      "metadata": {
        "colab": {
          "base_uri": "https://localhost:8080/"
        },
        "id": "O7xidO_PvoN4",
        "outputId": "b596a2ff-a7de-4523-8a41-37f0e431bff7"
      },
      "execution_count": 21,
      "outputs": [
        {
          "output_type": "execute_result",
          "data": {
            "text/plain": [
              "['FOREIGN BORN, NOT A CITIZEN OF']"
            ]
          },
          "metadata": {},
          "execution_count": 21
        }
      ]
    },
    {
      "cell_type": "markdown",
      "source": [
        "peeduca"
      ],
      "metadata": {
        "id": "AeM4uOmyvyZ_"
      }
    },
    {
      "cell_type": "code",
      "source": [
        "missing = []\n",
        "for i in vote_vals['peeduca']:\n",
        "    if i not in work_vals['peeduca']:\n",
        "        missing.append(i)\n",
        "missing"
      ],
      "metadata": {
        "colab": {
          "base_uri": "https://localhost:8080/"
        },
        "id": "-_m5G5XMvs6Q",
        "outputId": "d06a9b1b-bf41-423a-a714-8553d46a56b3"
      },
      "execution_count": 22,
      "outputs": [
        {
          "output_type": "execute_result",
          "data": {
            "text/plain": [
              "[]"
            ]
          },
          "metadata": {},
          "execution_count": 22
        }
      ]
    },
    {
      "cell_type": "code",
      "source": [
        "missing = []\n",
        "for i in work_vals['peeduca']:\n",
        "    if i not in vote_vals['peeduca']:\n",
        "        missing.append(i)\n",
        "missing"
      ],
      "metadata": {
        "colab": {
          "base_uri": "https://localhost:8080/"
        },
        "id": "5TXvv5U3v2Ph",
        "outputId": "8ebad714-3804-4b31-ba7d-9a4143326b7d"
      },
      "execution_count": 23,
      "outputs": [
        {
          "output_type": "execute_result",
          "data": {
            "text/plain": [
              "[]"
            ]
          },
          "metadata": {},
          "execution_count": 23
        }
      ]
    },
    {
      "cell_type": "markdown",
      "source": [
        "#2c"
      ],
      "metadata": {
        "id": "gX-RcOw4wHnP"
      }
    },
    {
      "cell_type": "code",
      "source": [
        "vote_df = pd.get_dummies(vote_df, columns = cat_vars)\n",
        "work_df = pd.get_dummies(work_df, columns = cat_vars)"
      ],
      "metadata": {
        "id": "IMjs3JCTwrlg"
      },
      "execution_count": 83,
      "outputs": []
    },
    {
      "cell_type": "code",
      "source": [
        "vote_df.columns"
      ],
      "metadata": {
        "colab": {
          "base_uri": "https://localhost:8080/"
        },
        "id": "hve8El1OyLRA",
        "outputId": "f4cad9b3-d0e5-4284-b989-c0dddcce43c0"
      },
      "execution_count": 68,
      "outputs": [
        {
          "output_type": "execute_result",
          "data": {
            "text/plain": [
              "Index(['prtage', 'vote', 'pesex_FEMALE', 'pesex_MALE', 'ptdtrace_2 or 3 Races',\n",
              "       'ptdtrace_American Indian, Alaskan', 'ptdtrace_Asian Only',\n",
              "       'ptdtrace_Asian-HP', 'ptdtrace_Black Only', 'ptdtrace_Black-AI',\n",
              "       'ptdtrace_Black-Asian', 'ptdtrace_Hawaiian/Pacific Islander Only',\n",
              "       'ptdtrace_W-A-HP', 'ptdtrace_W-B-AI', 'ptdtrace_White Only',\n",
              "       'ptdtrace_White-AI', 'ptdtrace_White-Asian', 'ptdtrace_White-Black',\n",
              "       'ptdtrace_White-Hawaiian', 'pehspnon_HISPANIC', 'pehspnon_NON-HISPANIC',\n",
              "       'prcitshp_FOREIGN BORN, U.S. CITIZEN BY',\n",
              "       'prcitshp_NATIVE, BORN ABROAD OF',\n",
              "       'prcitshp_NATIVE, BORN IN PUERTO RICO OR',\n",
              "       'prcitshp_NATIVE, BORN IN THE UNITED', 'peeduca_10TH GRADE',\n",
              "       'peeduca_11TH GRADE', 'peeduca_12TH GRADE NO DIPLOMA',\n",
              "       'peeduca_1ST, 2ND, 3RD OR 4TH GRADE', 'peeduca_5TH OR 6TH GRADE',\n",
              "       'peeduca_7TH OR 8TH GRADE', 'peeduca_9TH GRADE',\n",
              "       'peeduca_ASSOCIATE DEGREE-ACADEMIC',\n",
              "       'peeduca_ASSOCIATE DEGREE-OCCUPATIONAL/', 'peeduca_BACHELOR'S DEGREE',\n",
              "       'peeduca_DOCTORATE DEGREE', 'peeduca_HIGH SCHOOL GRAD-DIPLOMA OR',\n",
              "       'peeduca_LESS THAN 1ST GRADE', 'peeduca_MASTER'S DEGREE (EX: MA, MS,',\n",
              "       'peeduca_PROFESSIONAL SCHOOL DEG',\n",
              "       'peeduca_SOME COLLEGE BUT NO DEGREE'],\n",
              "      dtype='object')"
            ]
          },
          "metadata": {},
          "execution_count": 68
        }
      ]
    },
    {
      "cell_type": "code",
      "source": [
        "work_df.columns"
      ],
      "metadata": {
        "colab": {
          "base_uri": "https://localhost:8080/"
        },
        "id": "dVsU0BEAyNff",
        "outputId": "f2e1788b-06b9-4668-9007-29980eeea0c0"
      },
      "execution_count": 69,
      "outputs": [
        {
          "output_type": "execute_result",
          "data": {
            "text/plain": [
              "Index(['prtage', 'work', 'pesex_FEMALE', 'pesex_MALE', 'ptdtrace_2 or 3 Races',\n",
              "       'ptdtrace_4 or 5 Races', 'ptdtrace_American Indian, Alaskan',\n",
              "       'ptdtrace_Asian Only', 'ptdtrace_Asian-HP', 'ptdtrace_Black Only',\n",
              "       'ptdtrace_Black-AI', 'ptdtrace_Hawaiian/Pacific Islander Only',\n",
              "       'ptdtrace_White Only', 'ptdtrace_White-AI', 'ptdtrace_White-Asian',\n",
              "       'ptdtrace_White-Black', 'ptdtrace_White-Hawaiian', 'pehspnon_HISPANIC',\n",
              "       'pehspnon_NON-HISPANIC', 'prcitshp_FOREIGN BORN, NOT A CITIZEN OF',\n",
              "       'prcitshp_FOREIGN BORN, U.S. CITIZEN BY',\n",
              "       'prcitshp_NATIVE, BORN ABROAD OF',\n",
              "       'prcitshp_NATIVE, BORN IN PUERTO RICO OR',\n",
              "       'prcitshp_NATIVE, BORN IN THE UNITED', 'peeduca_10TH GRADE',\n",
              "       'peeduca_11TH GRADE', 'peeduca_12TH GRADE NO DIPLOMA',\n",
              "       'peeduca_1ST, 2ND, 3RD OR 4TH GRADE', 'peeduca_5TH OR 6TH GRADE',\n",
              "       'peeduca_7TH OR 8TH GRADE', 'peeduca_9TH GRADE',\n",
              "       'peeduca_ASSOCIATE DEGREE-ACADEMIC',\n",
              "       'peeduca_ASSOCIATE DEGREE-OCCUPATIONAL/', 'peeduca_BACHELOR'S DEGREE',\n",
              "       'peeduca_DOCTORATE DEGREE', 'peeduca_HIGH SCHOOL GRAD-DIPLOMA OR',\n",
              "       'peeduca_LESS THAN 1ST GRADE', 'peeduca_MASTER'S DEGREE (EX: MA, MS,',\n",
              "       'peeduca_PROFESSIONAL SCHOOL DEG',\n",
              "       'peeduca_SOME COLLEGE BUT NO DEGREE'],\n",
              "      dtype='object')"
            ]
          },
          "metadata": {},
          "execution_count": 69
        }
      ]
    },
    {
      "cell_type": "markdown",
      "source": [
        "#2d"
      ],
      "metadata": {
        "id": "DjDrS1yrye83"
      }
    },
    {
      "cell_type": "code",
      "source": [
        "vote_df[\"prcitshp_FOREIGN BORN, NOT A CITIZEN OF\"] = 0\n",
        "work_df['ptdtrace_W-B-AI'] = 0\n",
        "work_df['ptdtrace_W-A-HP'] = 0\n",
        "work_df['ptdtrace_Black-Asian'] = 0\n",
        "vote_df['ptdtrace_4 or 5 Races'] = 0"
      ],
      "metadata": {
        "id": "p7kMZzKhyYng"
      },
      "execution_count": 84,
      "outputs": []
    },
    {
      "cell_type": "markdown",
      "source": [
        "#3"
      ],
      "metadata": {
        "id": "52kDdFrqzKDi"
      }
    },
    {
      "cell_type": "code",
      "source": [
        "c_vals = [0.1, 1, 5, 10]\n",
        "kernels = ['linear', 'poly', 'sigmoid']\n",
        "rand_state = 26\n",
        "cv_folds = 5"
      ],
      "metadata": {
        "id": "TlfDnsfsy9Un"
      },
      "execution_count": 85,
      "outputs": []
    },
    {
      "cell_type": "code",
      "source": [
        "X = work_df.drop('work', axis = 1)\n",
        "y = work_df['work']"
      ],
      "metadata": {
        "id": "f-Wj7CzvzABB"
      },
      "execution_count": 86,
      "outputs": []
    },
    {
      "cell_type": "code",
      "source": [
        "pipe = make_pipeline(StandardScaler(), GridSearchCV(estimator = SVC(), param_grid = {\"kernel\": kernels, \"C\": c_vals}, cv = KFold(n_splits = cv_folds, shuffle = True, random_state = rand_state)))\n",
        "pipe.fit(X, y)"
      ],
      "metadata": {
        "colab": {
          "base_uri": "https://localhost:8080/",
          "height": 189
        },
        "id": "8Hg-_EFD4OGJ",
        "outputId": "6954c629-5d99-4615-9cfc-9a5d66a92cc9"
      },
      "execution_count": 87,
      "outputs": [
        {
          "output_type": "execute_result",
          "data": {
            "text/plain": [
              "Pipeline(steps=[('standardscaler', StandardScaler()),\n",
              "                ('gridsearchcv',\n",
              "                 GridSearchCV(cv=KFold(n_splits=5, random_state=26, shuffle=True),\n",
              "                              estimator=SVC(),\n",
              "                              param_grid={'C': [0.1, 1, 5, 10],\n",
              "                                          'kernel': ['linear', 'poly',\n",
              "                                                     'sigmoid']}))])"
            ],
            "text/html": [
              "<style>#sk-container-id-7 {color: black;background-color: white;}#sk-container-id-7 pre{padding: 0;}#sk-container-id-7 div.sk-toggleable {background-color: white;}#sk-container-id-7 label.sk-toggleable__label {cursor: pointer;display: block;width: 100%;margin-bottom: 0;padding: 0.3em;box-sizing: border-box;text-align: center;}#sk-container-id-7 label.sk-toggleable__label-arrow:before {content: \"▸\";float: left;margin-right: 0.25em;color: #696969;}#sk-container-id-7 label.sk-toggleable__label-arrow:hover:before {color: black;}#sk-container-id-7 div.sk-estimator:hover label.sk-toggleable__label-arrow:before {color: black;}#sk-container-id-7 div.sk-toggleable__content {max-height: 0;max-width: 0;overflow: hidden;text-align: left;background-color: #f0f8ff;}#sk-container-id-7 div.sk-toggleable__content pre {margin: 0.2em;color: black;border-radius: 0.25em;background-color: #f0f8ff;}#sk-container-id-7 input.sk-toggleable__control:checked~div.sk-toggleable__content {max-height: 200px;max-width: 100%;overflow: auto;}#sk-container-id-7 input.sk-toggleable__control:checked~label.sk-toggleable__label-arrow:before {content: \"▾\";}#sk-container-id-7 div.sk-estimator input.sk-toggleable__control:checked~label.sk-toggleable__label {background-color: #d4ebff;}#sk-container-id-7 div.sk-label input.sk-toggleable__control:checked~label.sk-toggleable__label {background-color: #d4ebff;}#sk-container-id-7 input.sk-hidden--visually {border: 0;clip: rect(1px 1px 1px 1px);clip: rect(1px, 1px, 1px, 1px);height: 1px;margin: -1px;overflow: hidden;padding: 0;position: absolute;width: 1px;}#sk-container-id-7 div.sk-estimator {font-family: monospace;background-color: #f0f8ff;border: 1px dotted black;border-radius: 0.25em;box-sizing: border-box;margin-bottom: 0.5em;}#sk-container-id-7 div.sk-estimator:hover {background-color: #d4ebff;}#sk-container-id-7 div.sk-parallel-item::after {content: \"\";width: 100%;border-bottom: 1px solid gray;flex-grow: 1;}#sk-container-id-7 div.sk-label:hover label.sk-toggleable__label {background-color: #d4ebff;}#sk-container-id-7 div.sk-serial::before {content: \"\";position: absolute;border-left: 1px solid gray;box-sizing: border-box;top: 0;bottom: 0;left: 50%;z-index: 0;}#sk-container-id-7 div.sk-serial {display: flex;flex-direction: column;align-items: center;background-color: white;padding-right: 0.2em;padding-left: 0.2em;position: relative;}#sk-container-id-7 div.sk-item {position: relative;z-index: 1;}#sk-container-id-7 div.sk-parallel {display: flex;align-items: stretch;justify-content: center;background-color: white;position: relative;}#sk-container-id-7 div.sk-item::before, #sk-container-id-7 div.sk-parallel-item::before {content: \"\";position: absolute;border-left: 1px solid gray;box-sizing: border-box;top: 0;bottom: 0;left: 50%;z-index: -1;}#sk-container-id-7 div.sk-parallel-item {display: flex;flex-direction: column;z-index: 1;position: relative;background-color: white;}#sk-container-id-7 div.sk-parallel-item:first-child::after {align-self: flex-end;width: 50%;}#sk-container-id-7 div.sk-parallel-item:last-child::after {align-self: flex-start;width: 50%;}#sk-container-id-7 div.sk-parallel-item:only-child::after {width: 0;}#sk-container-id-7 div.sk-dashed-wrapped {border: 1px dashed gray;margin: 0 0.4em 0.5em 0.4em;box-sizing: border-box;padding-bottom: 0.4em;background-color: white;}#sk-container-id-7 div.sk-label label {font-family: monospace;font-weight: bold;display: inline-block;line-height: 1.2em;}#sk-container-id-7 div.sk-label-container {text-align: center;}#sk-container-id-7 div.sk-container {/* jupyter's `normalize.less` sets `[hidden] { display: none; }` but bootstrap.min.css set `[hidden] { display: none !important; }` so we also need the `!important` here to be able to override the default hidden behavior on the sphinx rendered scikit-learn.org. See: https://github.com/scikit-learn/scikit-learn/issues/21755 */display: inline-block !important;position: relative;}#sk-container-id-7 div.sk-text-repr-fallback {display: none;}</style><div id=\"sk-container-id-7\" class=\"sk-top-container\"><div class=\"sk-text-repr-fallback\"><pre>Pipeline(steps=[(&#x27;standardscaler&#x27;, StandardScaler()),\n",
              "                (&#x27;gridsearchcv&#x27;,\n",
              "                 GridSearchCV(cv=KFold(n_splits=5, random_state=26, shuffle=True),\n",
              "                              estimator=SVC(),\n",
              "                              param_grid={&#x27;C&#x27;: [0.1, 1, 5, 10],\n",
              "                                          &#x27;kernel&#x27;: [&#x27;linear&#x27;, &#x27;poly&#x27;,\n",
              "                                                     &#x27;sigmoid&#x27;]}))])</pre><b>In a Jupyter environment, please rerun this cell to show the HTML representation or trust the notebook. <br />On GitHub, the HTML representation is unable to render, please try loading this page with nbviewer.org.</b></div><div class=\"sk-container\" hidden><div class=\"sk-item sk-dashed-wrapped\"><div class=\"sk-label-container\"><div class=\"sk-label sk-toggleable\"><input class=\"sk-toggleable__control sk-hidden--visually\" id=\"sk-estimator-id-25\" type=\"checkbox\" ><label for=\"sk-estimator-id-25\" class=\"sk-toggleable__label sk-toggleable__label-arrow\">Pipeline</label><div class=\"sk-toggleable__content\"><pre>Pipeline(steps=[(&#x27;standardscaler&#x27;, StandardScaler()),\n",
              "                (&#x27;gridsearchcv&#x27;,\n",
              "                 GridSearchCV(cv=KFold(n_splits=5, random_state=26, shuffle=True),\n",
              "                              estimator=SVC(),\n",
              "                              param_grid={&#x27;C&#x27;: [0.1, 1, 5, 10],\n",
              "                                          &#x27;kernel&#x27;: [&#x27;linear&#x27;, &#x27;poly&#x27;,\n",
              "                                                     &#x27;sigmoid&#x27;]}))])</pre></div></div></div><div class=\"sk-serial\"><div class=\"sk-item\"><div class=\"sk-estimator sk-toggleable\"><input class=\"sk-toggleable__control sk-hidden--visually\" id=\"sk-estimator-id-26\" type=\"checkbox\" ><label for=\"sk-estimator-id-26\" class=\"sk-toggleable__label sk-toggleable__label-arrow\">StandardScaler</label><div class=\"sk-toggleable__content\"><pre>StandardScaler()</pre></div></div></div><div class=\"sk-item sk-dashed-wrapped\"><div class=\"sk-label-container\"><div class=\"sk-label sk-toggleable\"><input class=\"sk-toggleable__control sk-hidden--visually\" id=\"sk-estimator-id-27\" type=\"checkbox\" ><label for=\"sk-estimator-id-27\" class=\"sk-toggleable__label sk-toggleable__label-arrow\">gridsearchcv: GridSearchCV</label><div class=\"sk-toggleable__content\"><pre>GridSearchCV(cv=KFold(n_splits=5, random_state=26, shuffle=True),\n",
              "             estimator=SVC(),\n",
              "             param_grid={&#x27;C&#x27;: [0.1, 1, 5, 10],\n",
              "                         &#x27;kernel&#x27;: [&#x27;linear&#x27;, &#x27;poly&#x27;, &#x27;sigmoid&#x27;]})</pre></div></div></div><div class=\"sk-parallel\"><div class=\"sk-parallel-item\"><div class=\"sk-item\"><div class=\"sk-label-container\"><div class=\"sk-label sk-toggleable\"><input class=\"sk-toggleable__control sk-hidden--visually\" id=\"sk-estimator-id-28\" type=\"checkbox\" ><label for=\"sk-estimator-id-28\" class=\"sk-toggleable__label sk-toggleable__label-arrow\">estimator: SVC</label><div class=\"sk-toggleable__content\"><pre>SVC()</pre></div></div></div><div class=\"sk-serial\"><div class=\"sk-item\"><div class=\"sk-estimator sk-toggleable\"><input class=\"sk-toggleable__control sk-hidden--visually\" id=\"sk-estimator-id-29\" type=\"checkbox\" ><label for=\"sk-estimator-id-29\" class=\"sk-toggleable__label sk-toggleable__label-arrow\">SVC</label><div class=\"sk-toggleable__content\"><pre>SVC()</pre></div></div></div></div></div></div></div></div></div></div></div></div>"
            ]
          },
          "metadata": {},
          "execution_count": 87
        }
      ]
    },
    {
      "cell_type": "code",
      "source": [
        "all_mods = pd.DataFrame(pipe[1].cv_results_)\n",
        "all_mods"
      ],
      "metadata": {
        "colab": {
          "base_uri": "https://localhost:8080/",
          "height": 906
        },
        "id": "5_X2k8XT6XbP",
        "outputId": "7d5bd3a8-a14c-4da0-b9ab-0c2e1def450e"
      },
      "execution_count": 88,
      "outputs": [
        {
          "output_type": "execute_result",
          "data": {
            "text/plain": [
              "    mean_fit_time  std_fit_time  mean_score_time  std_score_time param_C  \\\n",
              "0        0.384366      0.018819         0.054141        0.002463     0.1   \n",
              "1        0.972195      0.212375         0.167110        0.044040     0.1   \n",
              "2        1.005041      0.224252         0.176914        0.037518     0.1   \n",
              "3        0.480754      0.012662         0.051945        0.000742       1   \n",
              "4        0.707239      0.007091         0.115695        0.003683       1   \n",
              "5        0.893684      0.104162         0.133112        0.019981       1   \n",
              "6        0.792058      0.024294         0.050341        0.000424       5   \n",
              "7        0.546280      0.007251         0.086507        0.005447       5   \n",
              "8        0.496431      0.086506         0.076830        0.012943       5   \n",
              "9        1.292262      0.306557         0.070790        0.022954      10   \n",
              "10       0.496960      0.018175         0.076255        0.002726      10   \n",
              "11       0.412228      0.012104         0.062483        0.003803      10   \n",
              "\n",
              "   param_kernel                           params  split0_test_score  \\\n",
              "0        linear   {'C': 0.1, 'kernel': 'linear'}              0.862   \n",
              "1          poly     {'C': 0.1, 'kernel': 'poly'}              0.648   \n",
              "2       sigmoid  {'C': 0.1, 'kernel': 'sigmoid'}              0.858   \n",
              "3        linear     {'C': 1, 'kernel': 'linear'}              0.863   \n",
              "4          poly       {'C': 1, 'kernel': 'poly'}              0.843   \n",
              "5       sigmoid    {'C': 1, 'kernel': 'sigmoid'}              0.822   \n",
              "6        linear     {'C': 5, 'kernel': 'linear'}              0.863   \n",
              "7          poly       {'C': 5, 'kernel': 'poly'}              0.857   \n",
              "8       sigmoid    {'C': 5, 'kernel': 'sigmoid'}              0.819   \n",
              "9        linear    {'C': 10, 'kernel': 'linear'}              0.863   \n",
              "10         poly      {'C': 10, 'kernel': 'poly'}              0.862   \n",
              "11      sigmoid   {'C': 10, 'kernel': 'sigmoid'}              0.817   \n",
              "\n",
              "    split1_test_score  split2_test_score  split3_test_score  \\\n",
              "0               0.864              0.870              0.861   \n",
              "1               0.632              0.631              0.641   \n",
              "2               0.862              0.869              0.862   \n",
              "3               0.866              0.869              0.861   \n",
              "4               0.835              0.839              0.835   \n",
              "5               0.827              0.832              0.826   \n",
              "6               0.863              0.869              0.861   \n",
              "7               0.849              0.855              0.852   \n",
              "8               0.816              0.810              0.817   \n",
              "9               0.866              0.869              0.861   \n",
              "10              0.852              0.852              0.849   \n",
              "11              0.812              0.812              0.819   \n",
              "\n",
              "    split4_test_score  mean_test_score  std_test_score  rank_test_score  \n",
              "0               0.850           0.8614        0.006499                3  \n",
              "1               0.605           0.6314        0.014596               12  \n",
              "2               0.850           0.8602        0.006210                5  \n",
              "3               0.852           0.8622        0.005776                1  \n",
              "4               0.824           0.8352        0.006337                8  \n",
              "5               0.827           0.8268        0.003187                9  \n",
              "6               0.850           0.8612        0.006210                4  \n",
              "7               0.845           0.8516        0.004271                7  \n",
              "8               0.820           0.8164        0.003499               10  \n",
              "9               0.851           0.8620        0.006132                2  \n",
              "10              0.851           0.8532        0.004534                6  \n",
              "11              0.820           0.8160        0.003406               11  "
            ],
            "text/html": [
              "\n",
              "  <div id=\"df-dae6d14a-8967-47ce-9879-ba3525e5a615\">\n",
              "    <div class=\"colab-df-container\">\n",
              "      <div>\n",
              "<style scoped>\n",
              "    .dataframe tbody tr th:only-of-type {\n",
              "        vertical-align: middle;\n",
              "    }\n",
              "\n",
              "    .dataframe tbody tr th {\n",
              "        vertical-align: top;\n",
              "    }\n",
              "\n",
              "    .dataframe thead th {\n",
              "        text-align: right;\n",
              "    }\n",
              "</style>\n",
              "<table border=\"1\" class=\"dataframe\">\n",
              "  <thead>\n",
              "    <tr style=\"text-align: right;\">\n",
              "      <th></th>\n",
              "      <th>mean_fit_time</th>\n",
              "      <th>std_fit_time</th>\n",
              "      <th>mean_score_time</th>\n",
              "      <th>std_score_time</th>\n",
              "      <th>param_C</th>\n",
              "      <th>param_kernel</th>\n",
              "      <th>params</th>\n",
              "      <th>split0_test_score</th>\n",
              "      <th>split1_test_score</th>\n",
              "      <th>split2_test_score</th>\n",
              "      <th>split3_test_score</th>\n",
              "      <th>split4_test_score</th>\n",
              "      <th>mean_test_score</th>\n",
              "      <th>std_test_score</th>\n",
              "      <th>rank_test_score</th>\n",
              "    </tr>\n",
              "  </thead>\n",
              "  <tbody>\n",
              "    <tr>\n",
              "      <th>0</th>\n",
              "      <td>0.384366</td>\n",
              "      <td>0.018819</td>\n",
              "      <td>0.054141</td>\n",
              "      <td>0.002463</td>\n",
              "      <td>0.1</td>\n",
              "      <td>linear</td>\n",
              "      <td>{'C': 0.1, 'kernel': 'linear'}</td>\n",
              "      <td>0.862</td>\n",
              "      <td>0.864</td>\n",
              "      <td>0.870</td>\n",
              "      <td>0.861</td>\n",
              "      <td>0.850</td>\n",
              "      <td>0.8614</td>\n",
              "      <td>0.006499</td>\n",
              "      <td>3</td>\n",
              "    </tr>\n",
              "    <tr>\n",
              "      <th>1</th>\n",
              "      <td>0.972195</td>\n",
              "      <td>0.212375</td>\n",
              "      <td>0.167110</td>\n",
              "      <td>0.044040</td>\n",
              "      <td>0.1</td>\n",
              "      <td>poly</td>\n",
              "      <td>{'C': 0.1, 'kernel': 'poly'}</td>\n",
              "      <td>0.648</td>\n",
              "      <td>0.632</td>\n",
              "      <td>0.631</td>\n",
              "      <td>0.641</td>\n",
              "      <td>0.605</td>\n",
              "      <td>0.6314</td>\n",
              "      <td>0.014596</td>\n",
              "      <td>12</td>\n",
              "    </tr>\n",
              "    <tr>\n",
              "      <th>2</th>\n",
              "      <td>1.005041</td>\n",
              "      <td>0.224252</td>\n",
              "      <td>0.176914</td>\n",
              "      <td>0.037518</td>\n",
              "      <td>0.1</td>\n",
              "      <td>sigmoid</td>\n",
              "      <td>{'C': 0.1, 'kernel': 'sigmoid'}</td>\n",
              "      <td>0.858</td>\n",
              "      <td>0.862</td>\n",
              "      <td>0.869</td>\n",
              "      <td>0.862</td>\n",
              "      <td>0.850</td>\n",
              "      <td>0.8602</td>\n",
              "      <td>0.006210</td>\n",
              "      <td>5</td>\n",
              "    </tr>\n",
              "    <tr>\n",
              "      <th>3</th>\n",
              "      <td>0.480754</td>\n",
              "      <td>0.012662</td>\n",
              "      <td>0.051945</td>\n",
              "      <td>0.000742</td>\n",
              "      <td>1</td>\n",
              "      <td>linear</td>\n",
              "      <td>{'C': 1, 'kernel': 'linear'}</td>\n",
              "      <td>0.863</td>\n",
              "      <td>0.866</td>\n",
              "      <td>0.869</td>\n",
              "      <td>0.861</td>\n",
              "      <td>0.852</td>\n",
              "      <td>0.8622</td>\n",
              "      <td>0.005776</td>\n",
              "      <td>1</td>\n",
              "    </tr>\n",
              "    <tr>\n",
              "      <th>4</th>\n",
              "      <td>0.707239</td>\n",
              "      <td>0.007091</td>\n",
              "      <td>0.115695</td>\n",
              "      <td>0.003683</td>\n",
              "      <td>1</td>\n",
              "      <td>poly</td>\n",
              "      <td>{'C': 1, 'kernel': 'poly'}</td>\n",
              "      <td>0.843</td>\n",
              "      <td>0.835</td>\n",
              "      <td>0.839</td>\n",
              "      <td>0.835</td>\n",
              "      <td>0.824</td>\n",
              "      <td>0.8352</td>\n",
              "      <td>0.006337</td>\n",
              "      <td>8</td>\n",
              "    </tr>\n",
              "    <tr>\n",
              "      <th>5</th>\n",
              "      <td>0.893684</td>\n",
              "      <td>0.104162</td>\n",
              "      <td>0.133112</td>\n",
              "      <td>0.019981</td>\n",
              "      <td>1</td>\n",
              "      <td>sigmoid</td>\n",
              "      <td>{'C': 1, 'kernel': 'sigmoid'}</td>\n",
              "      <td>0.822</td>\n",
              "      <td>0.827</td>\n",
              "      <td>0.832</td>\n",
              "      <td>0.826</td>\n",
              "      <td>0.827</td>\n",
              "      <td>0.8268</td>\n",
              "      <td>0.003187</td>\n",
              "      <td>9</td>\n",
              "    </tr>\n",
              "    <tr>\n",
              "      <th>6</th>\n",
              "      <td>0.792058</td>\n",
              "      <td>0.024294</td>\n",
              "      <td>0.050341</td>\n",
              "      <td>0.000424</td>\n",
              "      <td>5</td>\n",
              "      <td>linear</td>\n",
              "      <td>{'C': 5, 'kernel': 'linear'}</td>\n",
              "      <td>0.863</td>\n",
              "      <td>0.863</td>\n",
              "      <td>0.869</td>\n",
              "      <td>0.861</td>\n",
              "      <td>0.850</td>\n",
              "      <td>0.8612</td>\n",
              "      <td>0.006210</td>\n",
              "      <td>4</td>\n",
              "    </tr>\n",
              "    <tr>\n",
              "      <th>7</th>\n",
              "      <td>0.546280</td>\n",
              "      <td>0.007251</td>\n",
              "      <td>0.086507</td>\n",
              "      <td>0.005447</td>\n",
              "      <td>5</td>\n",
              "      <td>poly</td>\n",
              "      <td>{'C': 5, 'kernel': 'poly'}</td>\n",
              "      <td>0.857</td>\n",
              "      <td>0.849</td>\n",
              "      <td>0.855</td>\n",
              "      <td>0.852</td>\n",
              "      <td>0.845</td>\n",
              "      <td>0.8516</td>\n",
              "      <td>0.004271</td>\n",
              "      <td>7</td>\n",
              "    </tr>\n",
              "    <tr>\n",
              "      <th>8</th>\n",
              "      <td>0.496431</td>\n",
              "      <td>0.086506</td>\n",
              "      <td>0.076830</td>\n",
              "      <td>0.012943</td>\n",
              "      <td>5</td>\n",
              "      <td>sigmoid</td>\n",
              "      <td>{'C': 5, 'kernel': 'sigmoid'}</td>\n",
              "      <td>0.819</td>\n",
              "      <td>0.816</td>\n",
              "      <td>0.810</td>\n",
              "      <td>0.817</td>\n",
              "      <td>0.820</td>\n",
              "      <td>0.8164</td>\n",
              "      <td>0.003499</td>\n",
              "      <td>10</td>\n",
              "    </tr>\n",
              "    <tr>\n",
              "      <th>9</th>\n",
              "      <td>1.292262</td>\n",
              "      <td>0.306557</td>\n",
              "      <td>0.070790</td>\n",
              "      <td>0.022954</td>\n",
              "      <td>10</td>\n",
              "      <td>linear</td>\n",
              "      <td>{'C': 10, 'kernel': 'linear'}</td>\n",
              "      <td>0.863</td>\n",
              "      <td>0.866</td>\n",
              "      <td>0.869</td>\n",
              "      <td>0.861</td>\n",
              "      <td>0.851</td>\n",
              "      <td>0.8620</td>\n",
              "      <td>0.006132</td>\n",
              "      <td>2</td>\n",
              "    </tr>\n",
              "    <tr>\n",
              "      <th>10</th>\n",
              "      <td>0.496960</td>\n",
              "      <td>0.018175</td>\n",
              "      <td>0.076255</td>\n",
              "      <td>0.002726</td>\n",
              "      <td>10</td>\n",
              "      <td>poly</td>\n",
              "      <td>{'C': 10, 'kernel': 'poly'}</td>\n",
              "      <td>0.862</td>\n",
              "      <td>0.852</td>\n",
              "      <td>0.852</td>\n",
              "      <td>0.849</td>\n",
              "      <td>0.851</td>\n",
              "      <td>0.8532</td>\n",
              "      <td>0.004534</td>\n",
              "      <td>6</td>\n",
              "    </tr>\n",
              "    <tr>\n",
              "      <th>11</th>\n",
              "      <td>0.412228</td>\n",
              "      <td>0.012104</td>\n",
              "      <td>0.062483</td>\n",
              "      <td>0.003803</td>\n",
              "      <td>10</td>\n",
              "      <td>sigmoid</td>\n",
              "      <td>{'C': 10, 'kernel': 'sigmoid'}</td>\n",
              "      <td>0.817</td>\n",
              "      <td>0.812</td>\n",
              "      <td>0.812</td>\n",
              "      <td>0.819</td>\n",
              "      <td>0.820</td>\n",
              "      <td>0.8160</td>\n",
              "      <td>0.003406</td>\n",
              "      <td>11</td>\n",
              "    </tr>\n",
              "  </tbody>\n",
              "</table>\n",
              "</div>\n",
              "      <button class=\"colab-df-convert\" onclick=\"convertToInteractive('df-dae6d14a-8967-47ce-9879-ba3525e5a615')\"\n",
              "              title=\"Convert this dataframe to an interactive table.\"\n",
              "              style=\"display:none;\">\n",
              "        \n",
              "  <svg xmlns=\"http://www.w3.org/2000/svg\" height=\"24px\"viewBox=\"0 0 24 24\"\n",
              "       width=\"24px\">\n",
              "    <path d=\"M0 0h24v24H0V0z\" fill=\"none\"/>\n",
              "    <path d=\"M18.56 5.44l.94 2.06.94-2.06 2.06-.94-2.06-.94-.94-2.06-.94 2.06-2.06.94zm-11 1L8.5 8.5l.94-2.06 2.06-.94-2.06-.94L8.5 2.5l-.94 2.06-2.06.94zm10 10l.94 2.06.94-2.06 2.06-.94-2.06-.94-.94-2.06-.94 2.06-2.06.94z\"/><path d=\"M17.41 7.96l-1.37-1.37c-.4-.4-.92-.59-1.43-.59-.52 0-1.04.2-1.43.59L10.3 9.45l-7.72 7.72c-.78.78-.78 2.05 0 2.83L4 21.41c.39.39.9.59 1.41.59.51 0 1.02-.2 1.41-.59l7.78-7.78 2.81-2.81c.8-.78.8-2.07 0-2.86zM5.41 20L4 18.59l7.72-7.72 1.47 1.35L5.41 20z\"/>\n",
              "  </svg>\n",
              "      </button>\n",
              "      \n",
              "  <style>\n",
              "    .colab-df-container {\n",
              "      display:flex;\n",
              "      flex-wrap:wrap;\n",
              "      gap: 12px;\n",
              "    }\n",
              "\n",
              "    .colab-df-convert {\n",
              "      background-color: #E8F0FE;\n",
              "      border: none;\n",
              "      border-radius: 50%;\n",
              "      cursor: pointer;\n",
              "      display: none;\n",
              "      fill: #1967D2;\n",
              "      height: 32px;\n",
              "      padding: 0 0 0 0;\n",
              "      width: 32px;\n",
              "    }\n",
              "\n",
              "    .colab-df-convert:hover {\n",
              "      background-color: #E2EBFA;\n",
              "      box-shadow: 0px 1px 2px rgba(60, 64, 67, 0.3), 0px 1px 3px 1px rgba(60, 64, 67, 0.15);\n",
              "      fill: #174EA6;\n",
              "    }\n",
              "\n",
              "    [theme=dark] .colab-df-convert {\n",
              "      background-color: #3B4455;\n",
              "      fill: #D2E3FC;\n",
              "    }\n",
              "\n",
              "    [theme=dark] .colab-df-convert:hover {\n",
              "      background-color: #434B5C;\n",
              "      box-shadow: 0px 1px 3px 1px rgba(0, 0, 0, 0.15);\n",
              "      filter: drop-shadow(0px 1px 2px rgba(0, 0, 0, 0.3));\n",
              "      fill: #FFFFFF;\n",
              "    }\n",
              "  </style>\n",
              "\n",
              "      <script>\n",
              "        const buttonEl =\n",
              "          document.querySelector('#df-dae6d14a-8967-47ce-9879-ba3525e5a615 button.colab-df-convert');\n",
              "        buttonEl.style.display =\n",
              "          google.colab.kernel.accessAllowed ? 'block' : 'none';\n",
              "\n",
              "        async function convertToInteractive(key) {\n",
              "          const element = document.querySelector('#df-dae6d14a-8967-47ce-9879-ba3525e5a615');\n",
              "          const dataTable =\n",
              "            await google.colab.kernel.invokeFunction('convertToInteractive',\n",
              "                                                     [key], {});\n",
              "          if (!dataTable) return;\n",
              "\n",
              "          const docLinkHtml = 'Like what you see? Visit the ' +\n",
              "            '<a target=\"_blank\" href=https://colab.research.google.com/notebooks/data_table.ipynb>data table notebook</a>'\n",
              "            + ' to learn more about interactive tables.';\n",
              "          element.innerHTML = '';\n",
              "          dataTable['output_type'] = 'display_data';\n",
              "          await google.colab.output.renderOutput(dataTable, element);\n",
              "          const docLink = document.createElement('div');\n",
              "          docLink.innerHTML = docLinkHtml;\n",
              "          element.appendChild(docLink);\n",
              "        }\n",
              "      </script>\n",
              "    </div>\n",
              "  </div>\n",
              "  "
            ]
          },
          "metadata": {},
          "execution_count": 88
        }
      ]
    },
    {
      "cell_type": "markdown",
      "source": [
        "#4"
      ],
      "metadata": {
        "id": "ofkz9-Bl6713"
      }
    },
    {
      "cell_type": "code",
      "source": [
        "pipe[1].best_params_"
      ],
      "metadata": {
        "colab": {
          "base_uri": "https://localhost:8080/"
        },
        "id": "bBh8bqd86ZXv",
        "outputId": "7f0363ed-9bea-48b9-f71d-965053f92ace"
      },
      "execution_count": 89,
      "outputs": [
        {
          "output_type": "execute_result",
          "data": {
            "text/plain": [
              "{'C': 1, 'kernel': 'linear'}"
            ]
          },
          "metadata": {},
          "execution_count": 89
        }
      ]
    },
    {
      "cell_type": "markdown",
      "source": [
        "#5"
      ],
      "metadata": {
        "id": "rNdiVw6k8L4f"
      }
    },
    {
      "cell_type": "code",
      "source": [
        "pipe[1].best_score_"
      ],
      "metadata": {
        "colab": {
          "base_uri": "https://localhost:8080/"
        },
        "id": "Z28iFSy37HeR",
        "outputId": "375fb83d-c239-4a6a-dd5b-2659ecd3d024"
      },
      "execution_count": 131,
      "outputs": [
        {
          "output_type": "execute_result",
          "data": {
            "text/plain": [
              "0.8622"
            ]
          },
          "metadata": {},
          "execution_count": 131
        }
      ]
    },
    {
      "cell_type": "code",
      "source": [
        "pipe[1].scorer_"
      ],
      "metadata": {
        "colab": {
          "base_uri": "https://localhost:8080/"
        },
        "id": "NW-j71-U7yag",
        "outputId": "a7c3ee2d-4ad6-4494-b398-a97bb4ddd8e3"
      },
      "execution_count": 77,
      "outputs": [
        {
          "output_type": "execute_result",
          "data": {
            "text/plain": [
              "<function sklearn.metrics._scorer._passthrough_scorer(estimator, *args, **kwargs)>"
            ]
          },
          "metadata": {},
          "execution_count": 77
        }
      ]
    },
    {
      "cell_type": "markdown",
      "source": [
        "#6"
      ],
      "metadata": {
        "id": "Uea2qEyL8QCH"
      }
    },
    {
      "cell_type": "code",
      "source": [
        "svm = SVC(C = 1, kernel = 'linear')\n",
        "pipe2 = make_pipeline(StandardScaler(), svm)\n",
        "pipe2.fit(X, y)"
      ],
      "metadata": {
        "colab": {
          "base_uri": "https://localhost:8080/",
          "height": 124
        },
        "id": "PxnFAgGv7-Wg",
        "outputId": "85017e93-6bdb-48c8-d709-dfe1c780c910"
      },
      "execution_count": 91,
      "outputs": [
        {
          "output_type": "execute_result",
          "data": {
            "text/plain": [
              "Pipeline(steps=[('standardscaler', StandardScaler()),\n",
              "                ('svc', SVC(C=1, kernel='linear'))])"
            ],
            "text/html": [
              "<style>#sk-container-id-8 {color: black;background-color: white;}#sk-container-id-8 pre{padding: 0;}#sk-container-id-8 div.sk-toggleable {background-color: white;}#sk-container-id-8 label.sk-toggleable__label {cursor: pointer;display: block;width: 100%;margin-bottom: 0;padding: 0.3em;box-sizing: border-box;text-align: center;}#sk-container-id-8 label.sk-toggleable__label-arrow:before {content: \"▸\";float: left;margin-right: 0.25em;color: #696969;}#sk-container-id-8 label.sk-toggleable__label-arrow:hover:before {color: black;}#sk-container-id-8 div.sk-estimator:hover label.sk-toggleable__label-arrow:before {color: black;}#sk-container-id-8 div.sk-toggleable__content {max-height: 0;max-width: 0;overflow: hidden;text-align: left;background-color: #f0f8ff;}#sk-container-id-8 div.sk-toggleable__content pre {margin: 0.2em;color: black;border-radius: 0.25em;background-color: #f0f8ff;}#sk-container-id-8 input.sk-toggleable__control:checked~div.sk-toggleable__content {max-height: 200px;max-width: 100%;overflow: auto;}#sk-container-id-8 input.sk-toggleable__control:checked~label.sk-toggleable__label-arrow:before {content: \"▾\";}#sk-container-id-8 div.sk-estimator input.sk-toggleable__control:checked~label.sk-toggleable__label {background-color: #d4ebff;}#sk-container-id-8 div.sk-label input.sk-toggleable__control:checked~label.sk-toggleable__label {background-color: #d4ebff;}#sk-container-id-8 input.sk-hidden--visually {border: 0;clip: rect(1px 1px 1px 1px);clip: rect(1px, 1px, 1px, 1px);height: 1px;margin: -1px;overflow: hidden;padding: 0;position: absolute;width: 1px;}#sk-container-id-8 div.sk-estimator {font-family: monospace;background-color: #f0f8ff;border: 1px dotted black;border-radius: 0.25em;box-sizing: border-box;margin-bottom: 0.5em;}#sk-container-id-8 div.sk-estimator:hover {background-color: #d4ebff;}#sk-container-id-8 div.sk-parallel-item::after {content: \"\";width: 100%;border-bottom: 1px solid gray;flex-grow: 1;}#sk-container-id-8 div.sk-label:hover label.sk-toggleable__label {background-color: #d4ebff;}#sk-container-id-8 div.sk-serial::before {content: \"\";position: absolute;border-left: 1px solid gray;box-sizing: border-box;top: 0;bottom: 0;left: 50%;z-index: 0;}#sk-container-id-8 div.sk-serial {display: flex;flex-direction: column;align-items: center;background-color: white;padding-right: 0.2em;padding-left: 0.2em;position: relative;}#sk-container-id-8 div.sk-item {position: relative;z-index: 1;}#sk-container-id-8 div.sk-parallel {display: flex;align-items: stretch;justify-content: center;background-color: white;position: relative;}#sk-container-id-8 div.sk-item::before, #sk-container-id-8 div.sk-parallel-item::before {content: \"\";position: absolute;border-left: 1px solid gray;box-sizing: border-box;top: 0;bottom: 0;left: 50%;z-index: -1;}#sk-container-id-8 div.sk-parallel-item {display: flex;flex-direction: column;z-index: 1;position: relative;background-color: white;}#sk-container-id-8 div.sk-parallel-item:first-child::after {align-self: flex-end;width: 50%;}#sk-container-id-8 div.sk-parallel-item:last-child::after {align-self: flex-start;width: 50%;}#sk-container-id-8 div.sk-parallel-item:only-child::after {width: 0;}#sk-container-id-8 div.sk-dashed-wrapped {border: 1px dashed gray;margin: 0 0.4em 0.5em 0.4em;box-sizing: border-box;padding-bottom: 0.4em;background-color: white;}#sk-container-id-8 div.sk-label label {font-family: monospace;font-weight: bold;display: inline-block;line-height: 1.2em;}#sk-container-id-8 div.sk-label-container {text-align: center;}#sk-container-id-8 div.sk-container {/* jupyter's `normalize.less` sets `[hidden] { display: none; }` but bootstrap.min.css set `[hidden] { display: none !important; }` so we also need the `!important` here to be able to override the default hidden behavior on the sphinx rendered scikit-learn.org. See: https://github.com/scikit-learn/scikit-learn/issues/21755 */display: inline-block !important;position: relative;}#sk-container-id-8 div.sk-text-repr-fallback {display: none;}</style><div id=\"sk-container-id-8\" class=\"sk-top-container\"><div class=\"sk-text-repr-fallback\"><pre>Pipeline(steps=[(&#x27;standardscaler&#x27;, StandardScaler()),\n",
              "                (&#x27;svc&#x27;, SVC(C=1, kernel=&#x27;linear&#x27;))])</pre><b>In a Jupyter environment, please rerun this cell to show the HTML representation or trust the notebook. <br />On GitHub, the HTML representation is unable to render, please try loading this page with nbviewer.org.</b></div><div class=\"sk-container\" hidden><div class=\"sk-item sk-dashed-wrapped\"><div class=\"sk-label-container\"><div class=\"sk-label sk-toggleable\"><input class=\"sk-toggleable__control sk-hidden--visually\" id=\"sk-estimator-id-30\" type=\"checkbox\" ><label for=\"sk-estimator-id-30\" class=\"sk-toggleable__label sk-toggleable__label-arrow\">Pipeline</label><div class=\"sk-toggleable__content\"><pre>Pipeline(steps=[(&#x27;standardscaler&#x27;, StandardScaler()),\n",
              "                (&#x27;svc&#x27;, SVC(C=1, kernel=&#x27;linear&#x27;))])</pre></div></div></div><div class=\"sk-serial\"><div class=\"sk-item\"><div class=\"sk-estimator sk-toggleable\"><input class=\"sk-toggleable__control sk-hidden--visually\" id=\"sk-estimator-id-31\" type=\"checkbox\" ><label for=\"sk-estimator-id-31\" class=\"sk-toggleable__label sk-toggleable__label-arrow\">StandardScaler</label><div class=\"sk-toggleable__content\"><pre>StandardScaler()</pre></div></div></div><div class=\"sk-item\"><div class=\"sk-estimator sk-toggleable\"><input class=\"sk-toggleable__control sk-hidden--visually\" id=\"sk-estimator-id-32\" type=\"checkbox\" ><label for=\"sk-estimator-id-32\" class=\"sk-toggleable__label sk-toggleable__label-arrow\">SVC</label><div class=\"sk-toggleable__content\"><pre>SVC(C=1, kernel=&#x27;linear&#x27;)</pre></div></div></div></div></div></div></div>"
            ]
          },
          "metadata": {},
          "execution_count": 91
        }
      ]
    },
    {
      "cell_type": "code",
      "source": [
        "vote_df.columns"
      ],
      "metadata": {
        "colab": {
          "base_uri": "https://localhost:8080/"
        },
        "id": "GTaayB2k-taX",
        "outputId": "f47fe892-363b-406b-ad27-5ebd2e3df206"
      },
      "execution_count": 113,
      "outputs": [
        {
          "output_type": "execute_result",
          "data": {
            "text/plain": [
              "Index(['prtage', 'vote', 'pesex_FEMALE', 'pesex_MALE', 'ptdtrace_2 or 3 Races',\n",
              "       'ptdtrace_American Indian, Alaskan', 'ptdtrace_Asian Only',\n",
              "       'ptdtrace_Asian-HP', 'ptdtrace_Black Only', 'ptdtrace_Black-AI',\n",
              "       'ptdtrace_Black-Asian', 'ptdtrace_Hawaiian/Pacific Islander Only',\n",
              "       'ptdtrace_W-A-HP', 'ptdtrace_W-B-AI', 'ptdtrace_White Only',\n",
              "       'ptdtrace_White-AI', 'ptdtrace_White-Asian', 'ptdtrace_White-Black',\n",
              "       'ptdtrace_White-Hawaiian', 'pehspnon_HISPANIC', 'pehspnon_NON-HISPANIC',\n",
              "       'prcitshp_FOREIGN BORN, U.S. CITIZEN BY',\n",
              "       'prcitshp_NATIVE, BORN ABROAD OF',\n",
              "       'prcitshp_NATIVE, BORN IN PUERTO RICO OR',\n",
              "       'prcitshp_NATIVE, BORN IN THE UNITED', 'peeduca_10TH GRADE',\n",
              "       'peeduca_11TH GRADE', 'peeduca_12TH GRADE NO DIPLOMA',\n",
              "       'peeduca_1ST, 2ND, 3RD OR 4TH GRADE', 'peeduca_5TH OR 6TH GRADE',\n",
              "       'peeduca_7TH OR 8TH GRADE', 'peeduca_9TH GRADE',\n",
              "       'peeduca_ASSOCIATE DEGREE-ACADEMIC',\n",
              "       'peeduca_ASSOCIATE DEGREE-OCCUPATIONAL/', 'peeduca_BACHELOR'S DEGREE',\n",
              "       'peeduca_DOCTORATE DEGREE', 'peeduca_HIGH SCHOOL GRAD-DIPLOMA OR',\n",
              "       'peeduca_LESS THAN 1ST GRADE', 'peeduca_MASTER'S DEGREE (EX: MA, MS,',\n",
              "       'peeduca_PROFESSIONAL SCHOOL DEG', 'peeduca_SOME COLLEGE BUT NO DEGREE',\n",
              "       'prcitshp_FOREIGN BORN, NOT A CITIZEN OF', 'ptdtrace_4 or 5 Races'],\n",
              "      dtype='object')"
            ]
          },
          "metadata": {},
          "execution_count": 113
        }
      ]
    },
    {
      "cell_type": "code",
      "source": [
        "X.columns"
      ],
      "metadata": {
        "colab": {
          "base_uri": "https://localhost:8080/"
        },
        "id": "sSiR6dm4-0BI",
        "outputId": "454ed660-f65f-4785-b904-c585e2f10967"
      },
      "execution_count": 101,
      "outputs": [
        {
          "output_type": "execute_result",
          "data": {
            "text/plain": [
              "Index(['prtage', 'pesex_FEMALE', 'pesex_MALE', 'ptdtrace_2 or 3 Races',\n",
              "       'ptdtrace_4 or 5 Races', 'ptdtrace_American Indian, Alaskan',\n",
              "       'ptdtrace_Asian Only', 'ptdtrace_Asian-HP', 'ptdtrace_Black Only',\n",
              "       'ptdtrace_Black-AI', 'ptdtrace_Hawaiian/Pacific Islander Only',\n",
              "       'ptdtrace_White Only', 'ptdtrace_White-AI', 'ptdtrace_White-Asian',\n",
              "       'ptdtrace_White-Black', 'ptdtrace_White-Hawaiian', 'pehspnon_HISPANIC',\n",
              "       'pehspnon_NON-HISPANIC', 'prcitshp_FOREIGN BORN, NOT A CITIZEN OF',\n",
              "       'prcitshp_FOREIGN BORN, U.S. CITIZEN BY',\n",
              "       'prcitshp_NATIVE, BORN ABROAD OF',\n",
              "       'prcitshp_NATIVE, BORN IN PUERTO RICO OR',\n",
              "       'prcitshp_NATIVE, BORN IN THE UNITED', 'peeduca_10TH GRADE',\n",
              "       'peeduca_11TH GRADE', 'peeduca_12TH GRADE NO DIPLOMA',\n",
              "       'peeduca_1ST, 2ND, 3RD OR 4TH GRADE', 'peeduca_5TH OR 6TH GRADE',\n",
              "       'peeduca_7TH OR 8TH GRADE', 'peeduca_9TH GRADE',\n",
              "       'peeduca_ASSOCIATE DEGREE-ACADEMIC',\n",
              "       'peeduca_ASSOCIATE DEGREE-OCCUPATIONAL/', 'peeduca_BACHELOR'S DEGREE',\n",
              "       'peeduca_DOCTORATE DEGREE', 'peeduca_HIGH SCHOOL GRAD-DIPLOMA OR',\n",
              "       'peeduca_LESS THAN 1ST GRADE', 'peeduca_MASTER'S DEGREE (EX: MA, MS,',\n",
              "       'peeduca_PROFESSIONAL SCHOOL DEG', 'peeduca_SOME COLLEGE BUT NO DEGREE',\n",
              "       'ptdtrace_W-B-AI', 'ptdtrace_W-A-HP', 'ptdtrace_Black-Asian'],\n",
              "      dtype='object')"
            ]
          },
          "metadata": {},
          "execution_count": 101
        }
      ]
    },
    {
      "cell_type": "code",
      "source": [
        "X_vote = vote_df.drop(['vote'], axis = 1)"
      ],
      "metadata": {
        "id": "dxeBMKOfAH7v"
      },
      "execution_count": 118,
      "outputs": []
    },
    {
      "cell_type": "code",
      "source": [
        "X_vote = X_vote[X.columns]\n",
        "X_vote.columns"
      ],
      "metadata": {
        "colab": {
          "base_uri": "https://localhost:8080/"
        },
        "id": "qpmsXftCAPRv",
        "outputId": "1872f388-c2ba-452c-fa9d-9a6e2e067656"
      },
      "execution_count": 121,
      "outputs": [
        {
          "output_type": "execute_result",
          "data": {
            "text/plain": [
              "Index(['prtage', 'pesex_FEMALE', 'pesex_MALE', 'ptdtrace_2 or 3 Races',\n",
              "       'ptdtrace_4 or 5 Races', 'ptdtrace_American Indian, Alaskan',\n",
              "       'ptdtrace_Asian Only', 'ptdtrace_Asian-HP', 'ptdtrace_Black Only',\n",
              "       'ptdtrace_Black-AI', 'ptdtrace_Hawaiian/Pacific Islander Only',\n",
              "       'ptdtrace_White Only', 'ptdtrace_White-AI', 'ptdtrace_White-Asian',\n",
              "       'ptdtrace_White-Black', 'ptdtrace_White-Hawaiian', 'pehspnon_HISPANIC',\n",
              "       'pehspnon_NON-HISPANIC', 'prcitshp_FOREIGN BORN, NOT A CITIZEN OF',\n",
              "       'prcitshp_FOREIGN BORN, U.S. CITIZEN BY',\n",
              "       'prcitshp_NATIVE, BORN ABROAD OF',\n",
              "       'prcitshp_NATIVE, BORN IN PUERTO RICO OR',\n",
              "       'prcitshp_NATIVE, BORN IN THE UNITED', 'peeduca_10TH GRADE',\n",
              "       'peeduca_11TH GRADE', 'peeduca_12TH GRADE NO DIPLOMA',\n",
              "       'peeduca_1ST, 2ND, 3RD OR 4TH GRADE', 'peeduca_5TH OR 6TH GRADE',\n",
              "       'peeduca_7TH OR 8TH GRADE', 'peeduca_9TH GRADE',\n",
              "       'peeduca_ASSOCIATE DEGREE-ACADEMIC',\n",
              "       'peeduca_ASSOCIATE DEGREE-OCCUPATIONAL/', 'peeduca_BACHELOR'S DEGREE',\n",
              "       'peeduca_DOCTORATE DEGREE', 'peeduca_HIGH SCHOOL GRAD-DIPLOMA OR',\n",
              "       'peeduca_LESS THAN 1ST GRADE', 'peeduca_MASTER'S DEGREE (EX: MA, MS,',\n",
              "       'peeduca_PROFESSIONAL SCHOOL DEG', 'peeduca_SOME COLLEGE BUT NO DEGREE',\n",
              "       'ptdtrace_W-B-AI', 'ptdtrace_W-A-HP', 'ptdtrace_Black-Asian'],\n",
              "      dtype='object')"
            ]
          },
          "metadata": {},
          "execution_count": 121
        }
      ]
    },
    {
      "cell_type": "code",
      "source": [
        "vote_df['imputed_work'] = pipe2.predict(X_vote)"
      ],
      "metadata": {
        "id": "8KMNbz1j80qi"
      },
      "execution_count": 122,
      "outputs": []
    },
    {
      "cell_type": "code",
      "source": [
        "vote_df['imputed_work'].describe()"
      ],
      "metadata": {
        "colab": {
          "base_uri": "https://localhost:8080/"
        },
        "id": "yREOywMo9O-j",
        "outputId": "e6dde68a-bf4d-4f30-f16b-6da3cbf400cd"
      },
      "execution_count": 123,
      "outputs": [
        {
          "output_type": "execute_result",
          "data": {
            "text/plain": [
              "count    5000.000000\n",
              "mean        0.549400\n",
              "std         0.497603\n",
              "min         0.000000\n",
              "25%         0.000000\n",
              "50%         1.000000\n",
              "75%         1.000000\n",
              "max         1.000000\n",
              "Name: imputed_work, dtype: float64"
            ]
          },
          "metadata": {},
          "execution_count": 123
        }
      ]
    },
    {
      "cell_type": "markdown",
      "source": [
        "#7"
      ],
      "metadata": {
        "id": "6Df7IazCA2gf"
      }
    },
    {
      "cell_type": "code",
      "source": [
        "result = smf.ols('vote ~  imputed_work + prtage + np.power(prtage, 2) + pesex_FEMALE', data = vote_df).fit()\n",
        "print(result.summary())"
      ],
      "metadata": {
        "colab": {
          "base_uri": "https://localhost:8080/"
        },
        "id": "xa0avE7MAqKx",
        "outputId": "89b1378e-cd99-4c56-ddce-a048215a0179"
      },
      "execution_count": 124,
      "outputs": [
        {
          "output_type": "stream",
          "name": "stdout",
          "text": [
            "                            OLS Regression Results                            \n",
            "==============================================================================\n",
            "Dep. Variable:                   vote   R-squared:                       0.567\n",
            "Model:                            OLS   Adj. R-squared:                  0.567\n",
            "Method:                 Least Squares   F-statistic:                     1637.\n",
            "Date:                Tue, 07 Mar 2023   Prob (F-statistic):               0.00\n",
            "Time:                        21:52:46   Log-Likelihood:                -1528.5\n",
            "No. Observations:                5000   AIC:                             3067.\n",
            "Df Residuals:                    4995   BIC:                             3100.\n",
            "Df Model:                           4                                         \n",
            "Covariance Type:            nonrobust                                         \n",
            "=======================================================================================\n",
            "                          coef    std err          t      P>|t|      [0.025      0.975]\n",
            "---------------------------------------------------------------------------------------\n",
            "Intercept               1.1090      0.046     24.152      0.000       1.019       1.199\n",
            "imputed_work            0.3213      0.017     18.879      0.000       0.288       0.355\n",
            "prtage                 -0.0205      0.002    -13.315      0.000      -0.024      -0.017\n",
            "np.power(prtage, 2)  7.549e-05   1.43e-05      5.273      0.000    4.74e-05       0.000\n",
            "pesex_FEMALE           -0.0148      0.009     -1.579      0.115      -0.033       0.004\n",
            "==============================================================================\n",
            "Omnibus:                      175.466   Durbin-Watson:                   1.992\n",
            "Prob(Omnibus):                  0.000   Jarque-Bera (JB):              357.470\n",
            "Skew:                          -0.241   Prob(JB):                     2.38e-78\n",
            "Kurtosis:                       4.218   Cond. No.                     3.01e+04\n",
            "==============================================================================\n",
            "\n",
            "Notes:\n",
            "[1] Standard Errors assume that the covariance matrix of the errors is correctly specified.\n",
            "[2] The condition number is large, 3.01e+04. This might indicate that there are\n",
            "strong multicollinearity or other numerical problems.\n"
          ]
        }
      ]
    },
    {
      "cell_type": "markdown",
      "source": [
        "#8"
      ],
      "metadata": {
        "id": "fxrO5aOKBlCe"
      }
    },
    {
      "cell_type": "code",
      "source": [
        "def M(a, b):\n",
        "    return 1/(1-2*b)*(1-((1-b)*b/a)-((1-b)*b/(1-a)))"
      ],
      "metadata": {
        "id": "Yz7vC8-5Bl2h"
      },
      "execution_count": 109,
      "outputs": []
    },
    {
      "cell_type": "code",
      "source": [
        "prop_flexible = sum(vote_df[\"imputed_work\"] == 1)/len(vote_df['imputed_work'])\n",
        "prop_flexible"
      ],
      "metadata": {
        "colab": {
          "base_uri": "https://localhost:8080/"
        },
        "id": "39dpNDR3CYi_",
        "outputId": "8616f4ed-8918-4338-8b53-fcf201a7464f"
      },
      "execution_count": 130,
      "outputs": [
        {
          "output_type": "execute_result",
          "data": {
            "text/plain": [
              "0.5494"
            ]
          },
          "metadata": {},
          "execution_count": 130
        }
      ]
    },
    {
      "cell_type": "code",
      "source": [
        "cv_error = 1 - pipe[1].best_score_\n",
        "cv_error"
      ],
      "metadata": {
        "colab": {
          "base_uri": "https://localhost:8080/"
        },
        "id": "bKNCgKu8C5fH",
        "outputId": "ea5c4907-3ac6-4028-8d15-46241dc44f97"
      },
      "execution_count": 138,
      "outputs": [
        {
          "output_type": "execute_result",
          "data": {
            "text/plain": [
              "0.13780000000000003"
            ]
          },
          "metadata": {},
          "execution_count": 138
        }
      ]
    },
    {
      "cell_type": "code",
      "source": [
        "scale_bias = M(prop_flexible, cv_error)\n",
        "scale_bias"
      ],
      "metadata": {
        "colab": {
          "base_uri": "https://localhost:8080/"
        },
        "id": "0YdvUQ2kDAug",
        "outputId": "005c4819-604d-4d12-96b3-25bccfa32854"
      },
      "execution_count": 139,
      "outputs": [
        {
          "output_type": "execute_result",
          "data": {
            "text/plain": [
              "0.7179328513849043"
            ]
          },
          "metadata": {},
          "execution_count": 139
        }
      ]
    },
    {
      "cell_type": "markdown",
      "source": [
        "#8"
      ],
      "metadata": {
        "id": "-1250TUDFeE_"
      }
    },
    {
      "cell_type": "code",
      "source": [
        "estimate = result.params[1]\n",
        "estimate"
      ],
      "metadata": {
        "colab": {
          "base_uri": "https://localhost:8080/"
        },
        "id": "NPjINjyfEdbB",
        "outputId": "011eab22-89ec-49ab-92a3-00d3492f8ebd"
      },
      "execution_count": 140,
      "outputs": [
        {
          "output_type": "execute_result",
          "data": {
            "text/plain": [
              "0.32127927000276363"
            ]
          },
          "metadata": {},
          "execution_count": 140
        }
      ]
    },
    {
      "cell_type": "code",
      "source": [
        "estimate/scale_bias"
      ],
      "metadata": {
        "colab": {
          "base_uri": "https://localhost:8080/"
        },
        "id": "OAJBnua6FTSg",
        "outputId": "5b3198fd-b0eb-49b6-adee-7e648321cb6e"
      },
      "execution_count": 141,
      "outputs": [
        {
          "output_type": "execute_result",
          "data": {
            "text/plain": [
              "0.4475060158941197"
            ]
          },
          "metadata": {},
          "execution_count": 141
        }
      ]
    },
    {
      "cell_type": "markdown",
      "source": [
        "Bias correction makes the estimated beta larger!"
      ],
      "metadata": {
        "id": "HPcwy64pF01n"
      }
    }
  ]
}