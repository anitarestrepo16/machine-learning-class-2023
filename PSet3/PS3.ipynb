{
  "nbformat": 4,
  "nbformat_minor": 0,
  "metadata": {
    "colab": {
      "provenance": [],
      "authorship_tag": "ABX9TyPop8wG8/qXriaUxfdW4YN6",
      "include_colab_link": true
    },
    "kernelspec": {
      "name": "python3",
      "display_name": "Python 3"
    },
    "language_info": {
      "name": "python"
    }
  },
  "cells": [
    {
      "cell_type": "markdown",
      "metadata": {
        "id": "view-in-github",
        "colab_type": "text"
      },
      "source": [
        "<a href=\"https://colab.research.google.com/github/anitarestrepo16/machine-learning-class-2023/blob/main/PS3.ipynb\" target=\"_parent\"><img src=\"https://colab.research.google.com/assets/colab-badge.svg\" alt=\"Open In Colab\"/></a>"
      ]
    },
    {
      "cell_type": "code",
      "execution_count": 1,
      "metadata": {
        "id": "_Qk0IAFT-UZz"
      },
      "outputs": [],
      "source": [
        "import numpy as np\n",
        "import pandas as pd\n",
        "import statsmodels.api as sm\n",
        "from sklearn import preprocessing\n",
        "from sklearn.neighbors import KNeighborsClassifier\n",
        "from sklearn.neighbors import KNeighborsClassifier\n",
        "from sklearn.metrics import accuracy_score\n",
        "from sklearn.metrics import confusion_matrix\n",
        "import seaborn as sns\n",
        "import matplotlib.pyplot as plt\n",
        "from matplotlib import pyplot\n",
        "from sklearn.model_selection import GridSearchCV, KFold, LeaveOneOut, cross_val_score\n",
        "from sklearn.pipeline import Pipeline, make_pipeline\n",
        "from sklearn.preprocessing import StandardScaler\n",
        "from sklearn.linear_model import LinearRegression\n",
        "from sklearn.feature_selection import SequentialFeatureSelector\n",
        "import random\n",
        "from statsmodels.regression.linear_model import OLS"
      ]
    },
    {
      "cell_type": "code",
      "source": [
        "from google.colab import drive\n",
        "drive.mount('/drive')"
      ],
      "metadata": {
        "colab": {
          "base_uri": "https://localhost:8080/"
        },
        "id": "rVr2VEVM_URx",
        "outputId": "c0bc1981-788c-49d0-8042-2a14af30952b"
      },
      "execution_count": 2,
      "outputs": [
        {
          "output_type": "stream",
          "name": "stdout",
          "text": [
            "Mounted at /drive\n"
          ]
        }
      ]
    },
    {
      "cell_type": "markdown",
      "source": [
        "# Chapter 5 - Question 6"
      ],
      "metadata": {
        "id": "KLmijnD6CdTH"
      }
    },
    {
      "cell_type": "code",
      "source": [
        "default = pd.read_csv('/drive/My Drive/Colab Notebooks/Data-Default.csv')\n",
        "default.head()"
      ],
      "metadata": {
        "colab": {
          "base_uri": "https://localhost:8080/",
          "height": 206
        },
        "id": "08qraBo9_aV4",
        "outputId": "501b13f0-6d66-4d3c-caff-833f18a31796"
      },
      "execution_count": null,
      "outputs": [
        {
          "output_type": "execute_result",
          "data": {
            "text/plain": [
              "  default student      balance        income\n",
              "0      No      No   729.526495  44361.625074\n",
              "1      No     Yes   817.180407  12106.134700\n",
              "2      No      No  1073.549164  31767.138947\n",
              "3      No      No   529.250605  35704.493935\n",
              "4      No      No   785.655883  38463.495879"
            ],
            "text/html": [
              "\n",
              "  <div id=\"df-721bec59-f944-4f42-a155-0497fe09df75\">\n",
              "    <div class=\"colab-df-container\">\n",
              "      <div>\n",
              "<style scoped>\n",
              "    .dataframe tbody tr th:only-of-type {\n",
              "        vertical-align: middle;\n",
              "    }\n",
              "\n",
              "    .dataframe tbody tr th {\n",
              "        vertical-align: top;\n",
              "    }\n",
              "\n",
              "    .dataframe thead th {\n",
              "        text-align: right;\n",
              "    }\n",
              "</style>\n",
              "<table border=\"1\" class=\"dataframe\">\n",
              "  <thead>\n",
              "    <tr style=\"text-align: right;\">\n",
              "      <th></th>\n",
              "      <th>default</th>\n",
              "      <th>student</th>\n",
              "      <th>balance</th>\n",
              "      <th>income</th>\n",
              "    </tr>\n",
              "  </thead>\n",
              "  <tbody>\n",
              "    <tr>\n",
              "      <th>0</th>\n",
              "      <td>No</td>\n",
              "      <td>No</td>\n",
              "      <td>729.526495</td>\n",
              "      <td>44361.625074</td>\n",
              "    </tr>\n",
              "    <tr>\n",
              "      <th>1</th>\n",
              "      <td>No</td>\n",
              "      <td>Yes</td>\n",
              "      <td>817.180407</td>\n",
              "      <td>12106.134700</td>\n",
              "    </tr>\n",
              "    <tr>\n",
              "      <th>2</th>\n",
              "      <td>No</td>\n",
              "      <td>No</td>\n",
              "      <td>1073.549164</td>\n",
              "      <td>31767.138947</td>\n",
              "    </tr>\n",
              "    <tr>\n",
              "      <th>3</th>\n",
              "      <td>No</td>\n",
              "      <td>No</td>\n",
              "      <td>529.250605</td>\n",
              "      <td>35704.493935</td>\n",
              "    </tr>\n",
              "    <tr>\n",
              "      <th>4</th>\n",
              "      <td>No</td>\n",
              "      <td>No</td>\n",
              "      <td>785.655883</td>\n",
              "      <td>38463.495879</td>\n",
              "    </tr>\n",
              "  </tbody>\n",
              "</table>\n",
              "</div>\n",
              "      <button class=\"colab-df-convert\" onclick=\"convertToInteractive('df-721bec59-f944-4f42-a155-0497fe09df75')\"\n",
              "              title=\"Convert this dataframe to an interactive table.\"\n",
              "              style=\"display:none;\">\n",
              "        \n",
              "  <svg xmlns=\"http://www.w3.org/2000/svg\" height=\"24px\"viewBox=\"0 0 24 24\"\n",
              "       width=\"24px\">\n",
              "    <path d=\"M0 0h24v24H0V0z\" fill=\"none\"/>\n",
              "    <path d=\"M18.56 5.44l.94 2.06.94-2.06 2.06-.94-2.06-.94-.94-2.06-.94 2.06-2.06.94zm-11 1L8.5 8.5l.94-2.06 2.06-.94-2.06-.94L8.5 2.5l-.94 2.06-2.06.94zm10 10l.94 2.06.94-2.06 2.06-.94-2.06-.94-.94-2.06-.94 2.06-2.06.94z\"/><path d=\"M17.41 7.96l-1.37-1.37c-.4-.4-.92-.59-1.43-.59-.52 0-1.04.2-1.43.59L10.3 9.45l-7.72 7.72c-.78.78-.78 2.05 0 2.83L4 21.41c.39.39.9.59 1.41.59.51 0 1.02-.2 1.41-.59l7.78-7.78 2.81-2.81c.8-.78.8-2.07 0-2.86zM5.41 20L4 18.59l7.72-7.72 1.47 1.35L5.41 20z\"/>\n",
              "  </svg>\n",
              "      </button>\n",
              "      \n",
              "  <style>\n",
              "    .colab-df-container {\n",
              "      display:flex;\n",
              "      flex-wrap:wrap;\n",
              "      gap: 12px;\n",
              "    }\n",
              "\n",
              "    .colab-df-convert {\n",
              "      background-color: #E8F0FE;\n",
              "      border: none;\n",
              "      border-radius: 50%;\n",
              "      cursor: pointer;\n",
              "      display: none;\n",
              "      fill: #1967D2;\n",
              "      height: 32px;\n",
              "      padding: 0 0 0 0;\n",
              "      width: 32px;\n",
              "    }\n",
              "\n",
              "    .colab-df-convert:hover {\n",
              "      background-color: #E2EBFA;\n",
              "      box-shadow: 0px 1px 2px rgba(60, 64, 67, 0.3), 0px 1px 3px 1px rgba(60, 64, 67, 0.15);\n",
              "      fill: #174EA6;\n",
              "    }\n",
              "\n",
              "    [theme=dark] .colab-df-convert {\n",
              "      background-color: #3B4455;\n",
              "      fill: #D2E3FC;\n",
              "    }\n",
              "\n",
              "    [theme=dark] .colab-df-convert:hover {\n",
              "      background-color: #434B5C;\n",
              "      box-shadow: 0px 1px 3px 1px rgba(0, 0, 0, 0.15);\n",
              "      filter: drop-shadow(0px 1px 2px rgba(0, 0, 0, 0.3));\n",
              "      fill: #FFFFFF;\n",
              "    }\n",
              "  </style>\n",
              "\n",
              "      <script>\n",
              "        const buttonEl =\n",
              "          document.querySelector('#df-721bec59-f944-4f42-a155-0497fe09df75 button.colab-df-convert');\n",
              "        buttonEl.style.display =\n",
              "          google.colab.kernel.accessAllowed ? 'block' : 'none';\n",
              "\n",
              "        async function convertToInteractive(key) {\n",
              "          const element = document.querySelector('#df-721bec59-f944-4f42-a155-0497fe09df75');\n",
              "          const dataTable =\n",
              "            await google.colab.kernel.invokeFunction('convertToInteractive',\n",
              "                                                     [key], {});\n",
              "          if (!dataTable) return;\n",
              "\n",
              "          const docLinkHtml = 'Like what you see? Visit the ' +\n",
              "            '<a target=\"_blank\" href=https://colab.research.google.com/notebooks/data_table.ipynb>data table notebook</a>'\n",
              "            + ' to learn more about interactive tables.';\n",
              "          element.innerHTML = '';\n",
              "          dataTable['output_type'] = 'display_data';\n",
              "          await google.colab.output.renderOutput(dataTable, element);\n",
              "          const docLink = document.createElement('div');\n",
              "          docLink.innerHTML = docLinkHtml;\n",
              "          element.appendChild(docLink);\n",
              "        }\n",
              "      </script>\n",
              "    </div>\n",
              "  </div>\n",
              "  "
            ]
          },
          "metadata": {},
          "execution_count": 3
        }
      ]
    },
    {
      "cell_type": "code",
      "source": [
        "encoding_dict = {'Yes': 1,'No': 0}\n",
        "for col in ['default', 'student']:\n",
        "    default[col] = default[col].map(encoding_dict)\n",
        "\n",
        "default.head()"
      ],
      "metadata": {
        "colab": {
          "base_uri": "https://localhost:8080/",
          "height": 206
        },
        "id": "BlEoO4JqC2Zl",
        "outputId": "c1e557b5-449b-47b2-cd41-928ca24c6c09"
      },
      "execution_count": null,
      "outputs": [
        {
          "output_type": "execute_result",
          "data": {
            "text/plain": [
              "   default  student      balance        income\n",
              "0        0        0   729.526495  44361.625074\n",
              "1        0        1   817.180407  12106.134700\n",
              "2        0        0  1073.549164  31767.138947\n",
              "3        0        0   529.250605  35704.493935\n",
              "4        0        0   785.655883  38463.495879"
            ],
            "text/html": [
              "\n",
              "  <div id=\"df-e66cf1d2-a685-4814-a228-039eec0157af\">\n",
              "    <div class=\"colab-df-container\">\n",
              "      <div>\n",
              "<style scoped>\n",
              "    .dataframe tbody tr th:only-of-type {\n",
              "        vertical-align: middle;\n",
              "    }\n",
              "\n",
              "    .dataframe tbody tr th {\n",
              "        vertical-align: top;\n",
              "    }\n",
              "\n",
              "    .dataframe thead th {\n",
              "        text-align: right;\n",
              "    }\n",
              "</style>\n",
              "<table border=\"1\" class=\"dataframe\">\n",
              "  <thead>\n",
              "    <tr style=\"text-align: right;\">\n",
              "      <th></th>\n",
              "      <th>default</th>\n",
              "      <th>student</th>\n",
              "      <th>balance</th>\n",
              "      <th>income</th>\n",
              "    </tr>\n",
              "  </thead>\n",
              "  <tbody>\n",
              "    <tr>\n",
              "      <th>0</th>\n",
              "      <td>0</td>\n",
              "      <td>0</td>\n",
              "      <td>729.526495</td>\n",
              "      <td>44361.625074</td>\n",
              "    </tr>\n",
              "    <tr>\n",
              "      <th>1</th>\n",
              "      <td>0</td>\n",
              "      <td>1</td>\n",
              "      <td>817.180407</td>\n",
              "      <td>12106.134700</td>\n",
              "    </tr>\n",
              "    <tr>\n",
              "      <th>2</th>\n",
              "      <td>0</td>\n",
              "      <td>0</td>\n",
              "      <td>1073.549164</td>\n",
              "      <td>31767.138947</td>\n",
              "    </tr>\n",
              "    <tr>\n",
              "      <th>3</th>\n",
              "      <td>0</td>\n",
              "      <td>0</td>\n",
              "      <td>529.250605</td>\n",
              "      <td>35704.493935</td>\n",
              "    </tr>\n",
              "    <tr>\n",
              "      <th>4</th>\n",
              "      <td>0</td>\n",
              "      <td>0</td>\n",
              "      <td>785.655883</td>\n",
              "      <td>38463.495879</td>\n",
              "    </tr>\n",
              "  </tbody>\n",
              "</table>\n",
              "</div>\n",
              "      <button class=\"colab-df-convert\" onclick=\"convertToInteractive('df-e66cf1d2-a685-4814-a228-039eec0157af')\"\n",
              "              title=\"Convert this dataframe to an interactive table.\"\n",
              "              style=\"display:none;\">\n",
              "        \n",
              "  <svg xmlns=\"http://www.w3.org/2000/svg\" height=\"24px\"viewBox=\"0 0 24 24\"\n",
              "       width=\"24px\">\n",
              "    <path d=\"M0 0h24v24H0V0z\" fill=\"none\"/>\n",
              "    <path d=\"M18.56 5.44l.94 2.06.94-2.06 2.06-.94-2.06-.94-.94-2.06-.94 2.06-2.06.94zm-11 1L8.5 8.5l.94-2.06 2.06-.94-2.06-.94L8.5 2.5l-.94 2.06-2.06.94zm10 10l.94 2.06.94-2.06 2.06-.94-2.06-.94-.94-2.06-.94 2.06-2.06.94z\"/><path d=\"M17.41 7.96l-1.37-1.37c-.4-.4-.92-.59-1.43-.59-.52 0-1.04.2-1.43.59L10.3 9.45l-7.72 7.72c-.78.78-.78 2.05 0 2.83L4 21.41c.39.39.9.59 1.41.59.51 0 1.02-.2 1.41-.59l7.78-7.78 2.81-2.81c.8-.78.8-2.07 0-2.86zM5.41 20L4 18.59l7.72-7.72 1.47 1.35L5.41 20z\"/>\n",
              "  </svg>\n",
              "      </button>\n",
              "      \n",
              "  <style>\n",
              "    .colab-df-container {\n",
              "      display:flex;\n",
              "      flex-wrap:wrap;\n",
              "      gap: 12px;\n",
              "    }\n",
              "\n",
              "    .colab-df-convert {\n",
              "      background-color: #E8F0FE;\n",
              "      border: none;\n",
              "      border-radius: 50%;\n",
              "      cursor: pointer;\n",
              "      display: none;\n",
              "      fill: #1967D2;\n",
              "      height: 32px;\n",
              "      padding: 0 0 0 0;\n",
              "      width: 32px;\n",
              "    }\n",
              "\n",
              "    .colab-df-convert:hover {\n",
              "      background-color: #E2EBFA;\n",
              "      box-shadow: 0px 1px 2px rgba(60, 64, 67, 0.3), 0px 1px 3px 1px rgba(60, 64, 67, 0.15);\n",
              "      fill: #174EA6;\n",
              "    }\n",
              "\n",
              "    [theme=dark] .colab-df-convert {\n",
              "      background-color: #3B4455;\n",
              "      fill: #D2E3FC;\n",
              "    }\n",
              "\n",
              "    [theme=dark] .colab-df-convert:hover {\n",
              "      background-color: #434B5C;\n",
              "      box-shadow: 0px 1px 3px 1px rgba(0, 0, 0, 0.15);\n",
              "      filter: drop-shadow(0px 1px 2px rgba(0, 0, 0, 0.3));\n",
              "      fill: #FFFFFF;\n",
              "    }\n",
              "  </style>\n",
              "\n",
              "      <script>\n",
              "        const buttonEl =\n",
              "          document.querySelector('#df-e66cf1d2-a685-4814-a228-039eec0157af button.colab-df-convert');\n",
              "        buttonEl.style.display =\n",
              "          google.colab.kernel.accessAllowed ? 'block' : 'none';\n",
              "\n",
              "        async function convertToInteractive(key) {\n",
              "          const element = document.querySelector('#df-e66cf1d2-a685-4814-a228-039eec0157af');\n",
              "          const dataTable =\n",
              "            await google.colab.kernel.invokeFunction('convertToInteractive',\n",
              "                                                     [key], {});\n",
              "          if (!dataTable) return;\n",
              "\n",
              "          const docLinkHtml = 'Like what you see? Visit the ' +\n",
              "            '<a target=\"_blank\" href=https://colab.research.google.com/notebooks/data_table.ipynb>data table notebook</a>'\n",
              "            + ' to learn more about interactive tables.';\n",
              "          element.innerHTML = '';\n",
              "          dataTable['output_type'] = 'display_data';\n",
              "          await google.colab.output.renderOutput(dataTable, element);\n",
              "          const docLink = document.createElement('div');\n",
              "          docLink.innerHTML = docLinkHtml;\n",
              "          element.appendChild(docLink);\n",
              "        }\n",
              "      </script>\n",
              "    </div>\n",
              "  </div>\n",
              "  "
            ]
          },
          "metadata": {},
          "execution_count": 4
        }
      ]
    },
    {
      "cell_type": "markdown",
      "source": [
        "## 6a"
      ],
      "metadata": {
        "id": "dHZF3Tk9DWeC"
      }
    },
    {
      "cell_type": "code",
      "source": [
        "X = default[['balance', 'income']]\n",
        "X = sm.add_constant(X)\n",
        "\n",
        "y = default['default']\n",
        "\n",
        "display(X.head(), y.head())\n",
        "\n",
        "results = sm.Logit(y, X).fit()\n",
        "print(results.summary())"
      ],
      "metadata": {
        "colab": {
          "base_uri": "https://localhost:8080/",
          "height": 764
        },
        "id": "OWjuaMuPC8K6",
        "outputId": "12928cc0-b70f-4824-a829-3072edf262e2"
      },
      "execution_count": null,
      "outputs": [
        {
          "output_type": "stream",
          "name": "stderr",
          "text": [
            "/usr/local/lib/python3.8/dist-packages/statsmodels/tsa/tsatools.py:142: FutureWarning: In a future version of pandas all arguments of concat except for the argument 'objs' will be keyword-only\n",
            "  x = pd.concat(x[::order], 1)\n"
          ]
        },
        {
          "output_type": "display_data",
          "data": {
            "text/plain": [
              "   const      balance        income\n",
              "0    1.0   729.526495  44361.625074\n",
              "1    1.0   817.180407  12106.134700\n",
              "2    1.0  1073.549164  31767.138947\n",
              "3    1.0   529.250605  35704.493935\n",
              "4    1.0   785.655883  38463.495879"
            ],
            "text/html": [
              "\n",
              "  <div id=\"df-cdd8fc65-df69-428c-b4eb-48b709ed6e35\">\n",
              "    <div class=\"colab-df-container\">\n",
              "      <div>\n",
              "<style scoped>\n",
              "    .dataframe tbody tr th:only-of-type {\n",
              "        vertical-align: middle;\n",
              "    }\n",
              "\n",
              "    .dataframe tbody tr th {\n",
              "        vertical-align: top;\n",
              "    }\n",
              "\n",
              "    .dataframe thead th {\n",
              "        text-align: right;\n",
              "    }\n",
              "</style>\n",
              "<table border=\"1\" class=\"dataframe\">\n",
              "  <thead>\n",
              "    <tr style=\"text-align: right;\">\n",
              "      <th></th>\n",
              "      <th>const</th>\n",
              "      <th>balance</th>\n",
              "      <th>income</th>\n",
              "    </tr>\n",
              "  </thead>\n",
              "  <tbody>\n",
              "    <tr>\n",
              "      <th>0</th>\n",
              "      <td>1.0</td>\n",
              "      <td>729.526495</td>\n",
              "      <td>44361.625074</td>\n",
              "    </tr>\n",
              "    <tr>\n",
              "      <th>1</th>\n",
              "      <td>1.0</td>\n",
              "      <td>817.180407</td>\n",
              "      <td>12106.134700</td>\n",
              "    </tr>\n",
              "    <tr>\n",
              "      <th>2</th>\n",
              "      <td>1.0</td>\n",
              "      <td>1073.549164</td>\n",
              "      <td>31767.138947</td>\n",
              "    </tr>\n",
              "    <tr>\n",
              "      <th>3</th>\n",
              "      <td>1.0</td>\n",
              "      <td>529.250605</td>\n",
              "      <td>35704.493935</td>\n",
              "    </tr>\n",
              "    <tr>\n",
              "      <th>4</th>\n",
              "      <td>1.0</td>\n",
              "      <td>785.655883</td>\n",
              "      <td>38463.495879</td>\n",
              "    </tr>\n",
              "  </tbody>\n",
              "</table>\n",
              "</div>\n",
              "      <button class=\"colab-df-convert\" onclick=\"convertToInteractive('df-cdd8fc65-df69-428c-b4eb-48b709ed6e35')\"\n",
              "              title=\"Convert this dataframe to an interactive table.\"\n",
              "              style=\"display:none;\">\n",
              "        \n",
              "  <svg xmlns=\"http://www.w3.org/2000/svg\" height=\"24px\"viewBox=\"0 0 24 24\"\n",
              "       width=\"24px\">\n",
              "    <path d=\"M0 0h24v24H0V0z\" fill=\"none\"/>\n",
              "    <path d=\"M18.56 5.44l.94 2.06.94-2.06 2.06-.94-2.06-.94-.94-2.06-.94 2.06-2.06.94zm-11 1L8.5 8.5l.94-2.06 2.06-.94-2.06-.94L8.5 2.5l-.94 2.06-2.06.94zm10 10l.94 2.06.94-2.06 2.06-.94-2.06-.94-.94-2.06-.94 2.06-2.06.94z\"/><path d=\"M17.41 7.96l-1.37-1.37c-.4-.4-.92-.59-1.43-.59-.52 0-1.04.2-1.43.59L10.3 9.45l-7.72 7.72c-.78.78-.78 2.05 0 2.83L4 21.41c.39.39.9.59 1.41.59.51 0 1.02-.2 1.41-.59l7.78-7.78 2.81-2.81c.8-.78.8-2.07 0-2.86zM5.41 20L4 18.59l7.72-7.72 1.47 1.35L5.41 20z\"/>\n",
              "  </svg>\n",
              "      </button>\n",
              "      \n",
              "  <style>\n",
              "    .colab-df-container {\n",
              "      display:flex;\n",
              "      flex-wrap:wrap;\n",
              "      gap: 12px;\n",
              "    }\n",
              "\n",
              "    .colab-df-convert {\n",
              "      background-color: #E8F0FE;\n",
              "      border: none;\n",
              "      border-radius: 50%;\n",
              "      cursor: pointer;\n",
              "      display: none;\n",
              "      fill: #1967D2;\n",
              "      height: 32px;\n",
              "      padding: 0 0 0 0;\n",
              "      width: 32px;\n",
              "    }\n",
              "\n",
              "    .colab-df-convert:hover {\n",
              "      background-color: #E2EBFA;\n",
              "      box-shadow: 0px 1px 2px rgba(60, 64, 67, 0.3), 0px 1px 3px 1px rgba(60, 64, 67, 0.15);\n",
              "      fill: #174EA6;\n",
              "    }\n",
              "\n",
              "    [theme=dark] .colab-df-convert {\n",
              "      background-color: #3B4455;\n",
              "      fill: #D2E3FC;\n",
              "    }\n",
              "\n",
              "    [theme=dark] .colab-df-convert:hover {\n",
              "      background-color: #434B5C;\n",
              "      box-shadow: 0px 1px 3px 1px rgba(0, 0, 0, 0.15);\n",
              "      filter: drop-shadow(0px 1px 2px rgba(0, 0, 0, 0.3));\n",
              "      fill: #FFFFFF;\n",
              "    }\n",
              "  </style>\n",
              "\n",
              "      <script>\n",
              "        const buttonEl =\n",
              "          document.querySelector('#df-cdd8fc65-df69-428c-b4eb-48b709ed6e35 button.colab-df-convert');\n",
              "        buttonEl.style.display =\n",
              "          google.colab.kernel.accessAllowed ? 'block' : 'none';\n",
              "\n",
              "        async function convertToInteractive(key) {\n",
              "          const element = document.querySelector('#df-cdd8fc65-df69-428c-b4eb-48b709ed6e35');\n",
              "          const dataTable =\n",
              "            await google.colab.kernel.invokeFunction('convertToInteractive',\n",
              "                                                     [key], {});\n",
              "          if (!dataTable) return;\n",
              "\n",
              "          const docLinkHtml = 'Like what you see? Visit the ' +\n",
              "            '<a target=\"_blank\" href=https://colab.research.google.com/notebooks/data_table.ipynb>data table notebook</a>'\n",
              "            + ' to learn more about interactive tables.';\n",
              "          element.innerHTML = '';\n",
              "          dataTable['output_type'] = 'display_data';\n",
              "          await google.colab.output.renderOutput(dataTable, element);\n",
              "          const docLink = document.createElement('div');\n",
              "          docLink.innerHTML = docLinkHtml;\n",
              "          element.appendChild(docLink);\n",
              "        }\n",
              "      </script>\n",
              "    </div>\n",
              "  </div>\n",
              "  "
            ]
          },
          "metadata": {}
        },
        {
          "output_type": "display_data",
          "data": {
            "text/plain": [
              "0    0\n",
              "1    0\n",
              "2    0\n",
              "3    0\n",
              "4    0\n",
              "Name: default, dtype: int64"
            ]
          },
          "metadata": {}
        },
        {
          "output_type": "stream",
          "name": "stdout",
          "text": [
            "Optimization terminated successfully.\n",
            "         Current function value: 0.078948\n",
            "         Iterations 10\n",
            "                           Logit Regression Results                           \n",
            "==============================================================================\n",
            "Dep. Variable:                default   No. Observations:                10000\n",
            "Model:                          Logit   Df Residuals:                     9997\n",
            "Method:                           MLE   Df Model:                            2\n",
            "Date:                Wed, 15 Feb 2023   Pseudo R-squ.:                  0.4594\n",
            "Time:                        02:58:13   Log-Likelihood:                -789.48\n",
            "converged:                       True   LL-Null:                       -1460.3\n",
            "Covariance Type:            nonrobust   LLR p-value:                4.541e-292\n",
            "==============================================================================\n",
            "                 coef    std err          z      P>|z|      [0.025      0.975]\n",
            "------------------------------------------------------------------------------\n",
            "const        -11.5405      0.435    -26.544      0.000     -12.393     -10.688\n",
            "balance        0.0056      0.000     24.835      0.000       0.005       0.006\n",
            "income      2.081e-05   4.99e-06      4.174      0.000     1.1e-05    3.06e-05\n",
            "==============================================================================\n",
            "\n",
            "Possibly complete quasi-separation: A fraction 0.14 of observations can be\n",
            "perfectly predicted. This might indicate that there is complete\n",
            "quasi-separation. In this case some parameters will not be identified.\n"
          ]
        }
      ]
    },
    {
      "cell_type": "markdown",
      "source": [
        "se for balance = 0  \n",
        "se for income = almost 0"
      ],
      "metadata": {
        "id": "lw9TbkNEEAMt"
      }
    },
    {
      "cell_type": "markdown",
      "source": [
        "## 6b  \n",
        "Write a function, boot.fn(), that takes as input the Default data\n",
        "set as well as an index of the observations, and that outputs\n",
        "the coefficient estimates for income and balance in the multiple\n",
        "logistic regression model."
      ],
      "metadata": {
        "id": "cu1Zq1KCEMwd"
      }
    },
    {
      "cell_type": "code",
      "source": [
        "def get_indices(data, n):\n",
        "    '''\n",
        "    Generates a random subsample (i.e., its indices)\n",
        "    with replacement consisting of n observations each.\n",
        "\n",
        "    Inputs:\n",
        "        - data (pd.Dataframe): data to sample from\n",
        "        - n (int): numeber of observations in the sample\n",
        "    \n",
        "    Output:\n",
        "        - indices (np.ndarray): array of indices forming\n",
        "            the samples\n",
        "    '''\n",
        "    assert type(data) == pd.DataFrame\n",
        "    assert type(n) == int, 'n must be an integer'\n",
        "\n",
        "    indices = np.random.choice(\n",
        "        data.index,         # Indices as the input\n",
        "        int(n),             # Number of indices per sample\n",
        "        replace=True        # Draw samples with replacement\n",
        "    )\n",
        "    return indices"
      ],
      "metadata": {
        "id": "toowFLjiAknE"
      },
      "execution_count": null,
      "outputs": []
    },
    {
      "cell_type": "code",
      "source": [
        "def boot_fn(data, index, constant=True, features=['balance','income'], target='default'):\n",
        "    '''\n",
        "    Runs a logistic regression (with a constant) on only the specified\n",
        "    indices within the data (i.e., on a single subsample).\n",
        "\n",
        "    Inputs:\n",
        "        - data (pd.Dataframe): data to sample from\n",
        "        - indices (np.ndarray): array of indices forming the samples\n",
        "        - features (lst of str): the name of the features\n",
        "        - target (str): the name of the target\n",
        "\n",
        "    Output:\n",
        "        - coefficients (lst of float): the coefficients\n",
        "    '''\n",
        "    X = data[features].loc[index]\n",
        "    if constant:\n",
        "        X = sm.add_constant(X)\n",
        "    y = data[target].loc[index]\n",
        "    \n",
        "    lr = sm.Logit(y,X).fit(disp=0)\n",
        "    coefficients = [lr.params[0], lr.params[1], lr.params[2]]\n",
        "\n",
        "    return coefficients\n",
        "\n",
        "intercept, coef_balance, coef_income = boot_fn(default, get_indices(default, 10000))\n",
        "print(f'Coefficients of a single subsample:\\n\\tIntercept:\\t{round(intercept, 2)}\\n\\tBalance:\\t{round(coef_balance, 2)}\\n\\tIncome:\\t\\t{round(coef_income, 2)}')"
      ],
      "metadata": {
        "id": "5a3v0lM3BEb8"
      },
      "execution_count": null,
      "outputs": []
    },
    {
      "cell_type": "code",
      "source": [
        "def boot(data, func, B):\n",
        "    coef_intercept = []\n",
        "    coef_balance = []\n",
        "    coef_income = []\n",
        "    coefs = ['intercept', 'balance', 'income']\n",
        "    output = {coef: [] for coef in coefs}\n",
        "    for i in range(B):\n",
        "        np.random.seed(i)\n",
        "        reg_out = func(data, get_indices(data, len(data)))\n",
        "        for i, coef in enumerate(coefs):\n",
        "            output[coef].append(reg_out[i])\n",
        "    results = {}\n",
        "    for coef in coefs:\n",
        "        results[coef] = {\n",
        "            'estimate': np.mean(output[coef]),\n",
        "            'std_err': np.std(output[coef])\n",
        "        }\n",
        "    return results"
      ],
      "metadata": {
        "id": "djMvTmHIEF3n"
      },
      "execution_count": null,
      "outputs": []
    },
    {
      "cell_type": "code",
      "source": [
        "results = boot(default, boot_fn, 1000)\n",
        "for i, x in results.items():\n",
        "    print(f\"{i.capitalize()}:\\n\\tEstimate: {x['estimate']}\\n\\tStandard Error: {x['std_err']}\")"
      ],
      "metadata": {
        "id": "isi4J-RMH0fX"
      },
      "execution_count": null,
      "outputs": []
    },
    {
      "cell_type": "markdown",
      "source": [
        "# Chapter 5 - Question 8"
      ],
      "metadata": {
        "id": "7Q2HTBhUBzYX"
      }
    },
    {
      "cell_type": "markdown",
      "source": [
        "## 8a"
      ],
      "metadata": {
        "id": "B1RarmU5CYEs"
      }
    },
    {
      "cell_type": "code",
      "source": [
        "random.seed(1)\n",
        "x = np.random.normal(size = 100)"
      ],
      "metadata": {
        "id": "mp1oumnIB2O9"
      },
      "execution_count": null,
      "outputs": []
    },
    {
      "cell_type": "code",
      "source": [
        "x.shape"
      ],
      "metadata": {
        "colab": {
          "base_uri": "https://localhost:8080/"
        },
        "id": "0Jin25_HClIK",
        "outputId": "fc1f53f8-3283-4272-fd15-a98ef1a92b9c"
      },
      "execution_count": null,
      "outputs": [
        {
          "output_type": "execute_result",
          "data": {
            "text/plain": [
              "(100,)"
            ]
          },
          "metadata": {},
          "execution_count": 12
        }
      ]
    },
    {
      "cell_type": "code",
      "source": [
        "y = x - 2*x**2 + np.random.normal(size = 100)\n",
        "y[:10]"
      ],
      "metadata": {
        "colab": {
          "base_uri": "https://localhost:8080/"
        },
        "id": "DxDH4wkWCwcu",
        "outputId": "d2f3cc24-1ecf-4159-b2e4-48d64d00e3cd"
      },
      "execution_count": null,
      "outputs": [
        {
          "output_type": "execute_result",
          "data": {
            "text/plain": [
              "array([ 2.56998578, -2.34436845, -3.92323837, -1.84392113,  0.69289999,\n",
              "       -1.87053992, -3.74930843, -0.638478  ,  0.44732213,  1.10180702])"
            ]
          },
          "metadata": {},
          "execution_count": 15
        }
      ]
    },
    {
      "cell_type": "markdown",
      "source": [
        "\n",
        "n = 100\n",
        "p = 2  \n",
        "  \n",
        "y = βx + βx^2 + e\n",
        "\n",
        "\n"
      ],
      "metadata": {
        "id": "X4pDe9LIDRoX"
      }
    },
    {
      "cell_type": "code",
      "source": [
        "df = pd.DataFrame({'x': x, 'y': y})\n",
        "df.head()"
      ],
      "metadata": {
        "colab": {
          "base_uri": "https://localhost:8080/",
          "height": 206
        },
        "id": "mmmWmtz6ICTo",
        "outputId": "f9cb4402-62c6-406b-c396-9a8f2b38531a"
      },
      "execution_count": null,
      "outputs": [
        {
          "output_type": "execute_result",
          "data": {
            "text/plain": [
              "          x         y\n",
              "0  0.559280  2.569986\n",
              "1  0.957178 -2.344368\n",
              "2 -1.134037 -3.923238\n",
              "3  0.837402 -1.843921\n",
              "4  0.228538  0.692900"
            ],
            "text/html": [
              "\n",
              "  <div id=\"df-e7c31b3a-9053-4551-9e85-fc702fbd5a16\">\n",
              "    <div class=\"colab-df-container\">\n",
              "      <div>\n",
              "<style scoped>\n",
              "    .dataframe tbody tr th:only-of-type {\n",
              "        vertical-align: middle;\n",
              "    }\n",
              "\n",
              "    .dataframe tbody tr th {\n",
              "        vertical-align: top;\n",
              "    }\n",
              "\n",
              "    .dataframe thead th {\n",
              "        text-align: right;\n",
              "    }\n",
              "</style>\n",
              "<table border=\"1\" class=\"dataframe\">\n",
              "  <thead>\n",
              "    <tr style=\"text-align: right;\">\n",
              "      <th></th>\n",
              "      <th>x</th>\n",
              "      <th>y</th>\n",
              "    </tr>\n",
              "  </thead>\n",
              "  <tbody>\n",
              "    <tr>\n",
              "      <th>0</th>\n",
              "      <td>0.559280</td>\n",
              "      <td>2.569986</td>\n",
              "    </tr>\n",
              "    <tr>\n",
              "      <th>1</th>\n",
              "      <td>0.957178</td>\n",
              "      <td>-2.344368</td>\n",
              "    </tr>\n",
              "    <tr>\n",
              "      <th>2</th>\n",
              "      <td>-1.134037</td>\n",
              "      <td>-3.923238</td>\n",
              "    </tr>\n",
              "    <tr>\n",
              "      <th>3</th>\n",
              "      <td>0.837402</td>\n",
              "      <td>-1.843921</td>\n",
              "    </tr>\n",
              "    <tr>\n",
              "      <th>4</th>\n",
              "      <td>0.228538</td>\n",
              "      <td>0.692900</td>\n",
              "    </tr>\n",
              "  </tbody>\n",
              "</table>\n",
              "</div>\n",
              "      <button class=\"colab-df-convert\" onclick=\"convertToInteractive('df-e7c31b3a-9053-4551-9e85-fc702fbd5a16')\"\n",
              "              title=\"Convert this dataframe to an interactive table.\"\n",
              "              style=\"display:none;\">\n",
              "        \n",
              "  <svg xmlns=\"http://www.w3.org/2000/svg\" height=\"24px\"viewBox=\"0 0 24 24\"\n",
              "       width=\"24px\">\n",
              "    <path d=\"M0 0h24v24H0V0z\" fill=\"none\"/>\n",
              "    <path d=\"M18.56 5.44l.94 2.06.94-2.06 2.06-.94-2.06-.94-.94-2.06-.94 2.06-2.06.94zm-11 1L8.5 8.5l.94-2.06 2.06-.94-2.06-.94L8.5 2.5l-.94 2.06-2.06.94zm10 10l.94 2.06.94-2.06 2.06-.94-2.06-.94-.94-2.06-.94 2.06-2.06.94z\"/><path d=\"M17.41 7.96l-1.37-1.37c-.4-.4-.92-.59-1.43-.59-.52 0-1.04.2-1.43.59L10.3 9.45l-7.72 7.72c-.78.78-.78 2.05 0 2.83L4 21.41c.39.39.9.59 1.41.59.51 0 1.02-.2 1.41-.59l7.78-7.78 2.81-2.81c.8-.78.8-2.07 0-2.86zM5.41 20L4 18.59l7.72-7.72 1.47 1.35L5.41 20z\"/>\n",
              "  </svg>\n",
              "      </button>\n",
              "      \n",
              "  <style>\n",
              "    .colab-df-container {\n",
              "      display:flex;\n",
              "      flex-wrap:wrap;\n",
              "      gap: 12px;\n",
              "    }\n",
              "\n",
              "    .colab-df-convert {\n",
              "      background-color: #E8F0FE;\n",
              "      border: none;\n",
              "      border-radius: 50%;\n",
              "      cursor: pointer;\n",
              "      display: none;\n",
              "      fill: #1967D2;\n",
              "      height: 32px;\n",
              "      padding: 0 0 0 0;\n",
              "      width: 32px;\n",
              "    }\n",
              "\n",
              "    .colab-df-convert:hover {\n",
              "      background-color: #E2EBFA;\n",
              "      box-shadow: 0px 1px 2px rgba(60, 64, 67, 0.3), 0px 1px 3px 1px rgba(60, 64, 67, 0.15);\n",
              "      fill: #174EA6;\n",
              "    }\n",
              "\n",
              "    [theme=dark] .colab-df-convert {\n",
              "      background-color: #3B4455;\n",
              "      fill: #D2E3FC;\n",
              "    }\n",
              "\n",
              "    [theme=dark] .colab-df-convert:hover {\n",
              "      background-color: #434B5C;\n",
              "      box-shadow: 0px 1px 3px 1px rgba(0, 0, 0, 0.15);\n",
              "      filter: drop-shadow(0px 1px 2px rgba(0, 0, 0, 0.3));\n",
              "      fill: #FFFFFF;\n",
              "    }\n",
              "  </style>\n",
              "\n",
              "      <script>\n",
              "        const buttonEl =\n",
              "          document.querySelector('#df-e7c31b3a-9053-4551-9e85-fc702fbd5a16 button.colab-df-convert');\n",
              "        buttonEl.style.display =\n",
              "          google.colab.kernel.accessAllowed ? 'block' : 'none';\n",
              "\n",
              "        async function convertToInteractive(key) {\n",
              "          const element = document.querySelector('#df-e7c31b3a-9053-4551-9e85-fc702fbd5a16');\n",
              "          const dataTable =\n",
              "            await google.colab.kernel.invokeFunction('convertToInteractive',\n",
              "                                                     [key], {});\n",
              "          if (!dataTable) return;\n",
              "\n",
              "          const docLinkHtml = 'Like what you see? Visit the ' +\n",
              "            '<a target=\"_blank\" href=https://colab.research.google.com/notebooks/data_table.ipynb>data table notebook</a>'\n",
              "            + ' to learn more about interactive tables.';\n",
              "          element.innerHTML = '';\n",
              "          dataTable['output_type'] = 'display_data';\n",
              "          await google.colab.output.renderOutput(dataTable, element);\n",
              "          const docLink = document.createElement('div');\n",
              "          docLink.innerHTML = docLinkHtml;\n",
              "          element.appendChild(docLink);\n",
              "        }\n",
              "      </script>\n",
              "    </div>\n",
              "  </div>\n",
              "  "
            ]
          },
          "metadata": {},
          "execution_count": 65
        }
      ]
    },
    {
      "cell_type": "markdown",
      "source": [
        "## 8b"
      ],
      "metadata": {
        "id": "BiueAWzOEtQ5"
      }
    },
    {
      "cell_type": "code",
      "source": [
        "sns.scatterplot(x, y)"
      ],
      "metadata": {
        "colab": {
          "base_uri": "https://localhost:8080/",
          "height": 337
        },
        "id": "xjT8dWOTDIG_",
        "outputId": "f6119e63-155b-4357-b5b4-c2af72ab2bf3"
      },
      "execution_count": null,
      "outputs": [
        {
          "output_type": "stream",
          "name": "stderr",
          "text": [
            "/usr/local/lib/python3.8/dist-packages/seaborn/_decorators.py:36: FutureWarning: Pass the following variables as keyword args: x, y. From version 0.12, the only valid positional argument will be `data`, and passing other arguments without an explicit keyword will result in an error or misinterpretation.\n",
            "  warnings.warn(\n"
          ]
        },
        {
          "output_type": "execute_result",
          "data": {
            "text/plain": [
              "<matplotlib.axes._subplots.AxesSubplot at 0x7f8ba1b8c850>"
            ]
          },
          "metadata": {},
          "execution_count": 16
        },
        {
          "output_type": "display_data",
          "data": {
            "text/plain": [
              "<Figure size 432x288 with 1 Axes>"
            ],
            "image/png": "[encoded data removed]"
          },
          "metadata": {
            "needs_background": "light"
          }
        }
      ]
    },
    {
      "cell_type": "markdown",
      "source": [
        "## 8c"
      ],
      "metadata": {
        "id": "vvvq7UORE5o7"
      }
    },
    {
      "cell_type": "code",
      "source": [
        "random.seed(1)"
      ],
      "metadata": {
        "id": "lbu-acRhE2Dp"
      },
      "execution_count": null,
      "outputs": []
    },
    {
      "cell_type": "code",
      "source": [
        "def loocv(data, powers):\n",
        "    \n",
        "    data_copy = data.copy()\n",
        "\n",
        "    for power in powers:\n",
        "        if power != 1:\n",
        "            var_name = \"x_\" + str(power)\n",
        "            data_copy[var_name] = np.power(data_copy['x'], power)\n",
        "    \n",
        "    features = [var_name for var_name in data_copy.columns if \"y\" not in var_name]\n",
        "\n",
        "    squared_errors = []\n",
        "    for i in data_copy.index:\n",
        "        train = data_copy.iloc[data_copy.index != i, :]\n",
        "        test = data_copy.iloc[data_copy.index == i, :]\n",
        "        mod = LinearRegression().fit(train.drop(['y'], axis = 1), train['y'])\n",
        "        test_predicted = mod.predict(test.drop(['y'], axis = 1))\n",
        "        test_actual = test[['y']]\n",
        "        squared_error = np.power(test_predicted - test_actual, 2)\n",
        "\n",
        "        squared_errors.append(squared_error.values[0][0])\n",
        "\n",
        "    # From the squared errors, get the Mean Squared Error (MSE)\n",
        "    return (features, round(np.mean(squared_errors), 5))"
      ],
      "metadata": {
        "id": "V52XNDY7Ky5j"
      },
      "execution_count": null,
      "outputs": []
    },
    {
      "cell_type": "code",
      "source": [
        "loocv(df, [1])"
      ],
      "metadata": {
        "colab": {
          "base_uri": "https://localhost:8080/"
        },
        "id": "ei97uGZdS2To",
        "outputId": "153e9a02-b695-45e9-defe-2307976e739d"
      },
      "execution_count": null,
      "outputs": [
        {
          "output_type": "execute_result",
          "data": {
            "text/plain": [
              "(['x'], 7.27219)"
            ]
          },
          "metadata": {},
          "execution_count": 90
        }
      ]
    },
    {
      "cell_type": "code",
      "source": [
        "loocv(df, [1, 2])"
      ],
      "metadata": {
        "colab": {
          "base_uri": "https://localhost:8080/"
        },
        "id": "R4f8WLLLQonV",
        "outputId": "7f7b38ee-7736-4fa3-d71d-491431c4bbc7"
      },
      "execution_count": null,
      "outputs": [
        {
          "output_type": "execute_result",
          "data": {
            "text/plain": [
              "(['x', 'x_2'], 1.16485)"
            ]
          },
          "metadata": {},
          "execution_count": 91
        }
      ]
    },
    {
      "cell_type": "code",
      "source": [
        "loocv(df, [1, 2, 3])"
      ],
      "metadata": {
        "colab": {
          "base_uri": "https://localhost:8080/"
        },
        "id": "q1b-hEHaVyc6",
        "outputId": "355e53e9-d022-4bc0-9f6e-8f580a0863cf"
      },
      "execution_count": null,
      "outputs": [
        {
          "output_type": "execute_result",
          "data": {
            "text/plain": [
              "(['x', 'x_2', 'x_3'], 1.16399)"
            ]
          },
          "metadata": {},
          "execution_count": 92
        }
      ]
    },
    {
      "cell_type": "code",
      "source": [
        "loocv(df, [1, 2, 3, 4])"
      ],
      "metadata": {
        "colab": {
          "base_uri": "https://localhost:8080/"
        },
        "id": "-x956n0MV1LX",
        "outputId": "3275b90e-7f33-48fb-a233-24b3e195f13a"
      },
      "execution_count": null,
      "outputs": [
        {
          "output_type": "execute_result",
          "data": {
            "text/plain": [
              "(['x', 'x_2', 'x_3', 'x_4'], 1.16917)"
            ]
          },
          "metadata": {},
          "execution_count": 93
        }
      ]
    },
    {
      "cell_type": "markdown",
      "source": [
        "## 8d"
      ],
      "metadata": {
        "id": "zugL9lN4WCYW"
      }
    },
    {
      "cell_type": "code",
      "source": [
        "random.seed(2)\n"
      ],
      "metadata": {
        "id": "KLOwK2etFGR4"
      },
      "execution_count": null,
      "outputs": []
    },
    {
      "cell_type": "code",
      "source": [
        "loocv(df, [1])"
      ],
      "metadata": {
        "colab": {
          "base_uri": "https://localhost:8080/"
        },
        "id": "nBZQe440HhPV",
        "outputId": "170f6e31-1c95-4a3d-973b-e35fa1cec4ec"
      },
      "execution_count": null,
      "outputs": [
        {
          "output_type": "execute_result",
          "data": {
            "text/plain": [
              "(['x'], 7.27219)"
            ]
          },
          "metadata": {},
          "execution_count": 95
        }
      ]
    },
    {
      "cell_type": "markdown",
      "source": [
        "## 8f"
      ],
      "metadata": {
        "id": "4dwmby8oWge5"
      }
    },
    {
      "cell_type": "code",
      "source": [
        "powers = [1, 2, 3, 4]\n",
        "for power in powers:\n",
        "    if power != 1:\n",
        "        var_name = \"x_\" + str(power)\n",
        "        df[var_name] = np.power(df['x'], power)\n",
        "\n",
        "df.head()"
      ],
      "metadata": {
        "colab": {
          "base_uri": "https://localhost:8080/",
          "height": 206
        },
        "id": "1gpA_Fc0WUQB",
        "outputId": "a5b9ba23-6acc-4334-9de9-70b90c3c33b7"
      },
      "execution_count": null,
      "outputs": [
        {
          "output_type": "execute_result",
          "data": {
            "text/plain": [
              "          x         y       x_2       x_3       x_4\n",
              "0  0.559280  2.569986  0.312794  0.174939  0.097840\n",
              "1  0.957178 -2.344368  0.916189  0.876956  0.839402\n",
              "2 -1.134037 -3.923238  1.286039 -1.458415  1.653896\n",
              "3  0.837402 -1.843921  0.701242  0.587221  0.491740\n",
              "4  0.228538  0.692900  0.052229  0.011936  0.002728"
            ],
            "text/html": [
              "\n",
              "  <div id=\"df-d1853241-441a-427c-a375-6b154753b644\">\n",
              "    <div class=\"colab-df-container\">\n",
              "      <div>\n",
              "<style scoped>\n",
              "    .dataframe tbody tr th:only-of-type {\n",
              "        vertical-align: middle;\n",
              "    }\n",
              "\n",
              "    .dataframe tbody tr th {\n",
              "        vertical-align: top;\n",
              "    }\n",
              "\n",
              "    .dataframe thead th {\n",
              "        text-align: right;\n",
              "    }\n",
              "</style>\n",
              "<table border=\"1\" class=\"dataframe\">\n",
              "  <thead>\n",
              "    <tr style=\"text-align: right;\">\n",
              "      <th></th>\n",
              "      <th>x</th>\n",
              "      <th>y</th>\n",
              "      <th>x_2</th>\n",
              "      <th>x_3</th>\n",
              "      <th>x_4</th>\n",
              "    </tr>\n",
              "  </thead>\n",
              "  <tbody>\n",
              "    <tr>\n",
              "      <th>0</th>\n",
              "      <td>0.559280</td>\n",
              "      <td>2.569986</td>\n",
              "      <td>0.312794</td>\n",
              "      <td>0.174939</td>\n",
              "      <td>0.097840</td>\n",
              "    </tr>\n",
              "    <tr>\n",
              "      <th>1</th>\n",
              "      <td>0.957178</td>\n",
              "      <td>-2.344368</td>\n",
              "      <td>0.916189</td>\n",
              "      <td>0.876956</td>\n",
              "      <td>0.839402</td>\n",
              "    </tr>\n",
              "    <tr>\n",
              "      <th>2</th>\n",
              "      <td>-1.134037</td>\n",
              "      <td>-3.923238</td>\n",
              "      <td>1.286039</td>\n",
              "      <td>-1.458415</td>\n",
              "      <td>1.653896</td>\n",
              "    </tr>\n",
              "    <tr>\n",
              "      <th>3</th>\n",
              "      <td>0.837402</td>\n",
              "      <td>-1.843921</td>\n",
              "      <td>0.701242</td>\n",
              "      <td>0.587221</td>\n",
              "      <td>0.491740</td>\n",
              "    </tr>\n",
              "    <tr>\n",
              "      <th>4</th>\n",
              "      <td>0.228538</td>\n",
              "      <td>0.692900</td>\n",
              "      <td>0.052229</td>\n",
              "      <td>0.011936</td>\n",
              "      <td>0.002728</td>\n",
              "    </tr>\n",
              "  </tbody>\n",
              "</table>\n",
              "</div>\n",
              "      <button class=\"colab-df-convert\" onclick=\"convertToInteractive('df-d1853241-441a-427c-a375-6b154753b644')\"\n",
              "              title=\"Convert this dataframe to an interactive table.\"\n",
              "              style=\"display:none;\">\n",
              "        \n",
              "  <svg xmlns=\"http://www.w3.org/2000/svg\" height=\"24px\"viewBox=\"0 0 24 24\"\n",
              "       width=\"24px\">\n",
              "    <path d=\"M0 0h24v24H0V0z\" fill=\"none\"/>\n",
              "    <path d=\"M18.56 5.44l.94 2.06.94-2.06 2.06-.94-2.06-.94-.94-2.06-.94 2.06-2.06.94zm-11 1L8.5 8.5l.94-2.06 2.06-.94-2.06-.94L8.5 2.5l-.94 2.06-2.06.94zm10 10l.94 2.06.94-2.06 2.06-.94-2.06-.94-.94-2.06-.94 2.06-2.06.94z\"/><path d=\"M17.41 7.96l-1.37-1.37c-.4-.4-.92-.59-1.43-.59-.52 0-1.04.2-1.43.59L10.3 9.45l-7.72 7.72c-.78.78-.78 2.05 0 2.83L4 21.41c.39.39.9.59 1.41.59.51 0 1.02-.2 1.41-.59l7.78-7.78 2.81-2.81c.8-.78.8-2.07 0-2.86zM5.41 20L4 18.59l7.72-7.72 1.47 1.35L5.41 20z\"/>\n",
              "  </svg>\n",
              "      </button>\n",
              "      \n",
              "  <style>\n",
              "    .colab-df-container {\n",
              "      display:flex;\n",
              "      flex-wrap:wrap;\n",
              "      gap: 12px;\n",
              "    }\n",
              "\n",
              "    .colab-df-convert {\n",
              "      background-color: #E8F0FE;\n",
              "      border: none;\n",
              "      border-radius: 50%;\n",
              "      cursor: pointer;\n",
              "      display: none;\n",
              "      fill: #1967D2;\n",
              "      height: 32px;\n",
              "      padding: 0 0 0 0;\n",
              "      width: 32px;\n",
              "    }\n",
              "\n",
              "    .colab-df-convert:hover {\n",
              "      background-color: #E2EBFA;\n",
              "      box-shadow: 0px 1px 2px rgba(60, 64, 67, 0.3), 0px 1px 3px 1px rgba(60, 64, 67, 0.15);\n",
              "      fill: #174EA6;\n",
              "    }\n",
              "\n",
              "    [theme=dark] .colab-df-convert {\n",
              "      background-color: #3B4455;\n",
              "      fill: #D2E3FC;\n",
              "    }\n",
              "\n",
              "    [theme=dark] .colab-df-convert:hover {\n",
              "      background-color: #434B5C;\n",
              "      box-shadow: 0px 1px 3px 1px rgba(0, 0, 0, 0.15);\n",
              "      filter: drop-shadow(0px 1px 2px rgba(0, 0, 0, 0.3));\n",
              "      fill: #FFFFFF;\n",
              "    }\n",
              "  </style>\n",
              "\n",
              "      <script>\n",
              "        const buttonEl =\n",
              "          document.querySelector('#df-d1853241-441a-427c-a375-6b154753b644 button.colab-df-convert');\n",
              "        buttonEl.style.display =\n",
              "          google.colab.kernel.accessAllowed ? 'block' : 'none';\n",
              "\n",
              "        async function convertToInteractive(key) {\n",
              "          const element = document.querySelector('#df-d1853241-441a-427c-a375-6b154753b644');\n",
              "          const dataTable =\n",
              "            await google.colab.kernel.invokeFunction('convertToInteractive',\n",
              "                                                     [key], {});\n",
              "          if (!dataTable) return;\n",
              "\n",
              "          const docLinkHtml = 'Like what you see? Visit the ' +\n",
              "            '<a target=\"_blank\" href=https://colab.research.google.com/notebooks/data_table.ipynb>data table notebook</a>'\n",
              "            + ' to learn more about interactive tables.';\n",
              "          element.innerHTML = '';\n",
              "          dataTable['output_type'] = 'display_data';\n",
              "          await google.colab.output.renderOutput(dataTable, element);\n",
              "          const docLink = document.createElement('div');\n",
              "          docLink.innerHTML = docLinkHtml;\n",
              "          element.appendChild(docLink);\n",
              "        }\n",
              "      </script>\n",
              "    </div>\n",
              "  </div>\n",
              "  "
            ]
          },
          "metadata": {},
          "execution_count": 96
        }
      ]
    },
    {
      "cell_type": "code",
      "source": [
        "df = sm.add_constant(df)\n",
        "df.head()"
      ],
      "metadata": {
        "colab": {
          "base_uri": "https://localhost:8080/",
          "height": 261
        },
        "id": "WPJQxrlQW0QQ",
        "outputId": "fba58792-dbc8-4566-be43-643199d48b8a"
      },
      "execution_count": null,
      "outputs": [
        {
          "output_type": "stream",
          "name": "stderr",
          "text": [
            "/usr/local/lib/python3.8/dist-packages/statsmodels/tsa/tsatools.py:142: FutureWarning: In a future version of pandas all arguments of concat except for the argument 'objs' will be keyword-only\n",
            "  x = pd.concat(x[::order], 1)\n"
          ]
        },
        {
          "output_type": "execute_result",
          "data": {
            "text/plain": [
              "   const         x         y       x_2       x_3       x_4\n",
              "0    1.0  0.559280  2.569986  0.312794  0.174939  0.097840\n",
              "1    1.0  0.957178 -2.344368  0.916189  0.876956  0.839402\n",
              "2    1.0 -1.134037 -3.923238  1.286039 -1.458415  1.653896\n",
              "3    1.0  0.837402 -1.843921  0.701242  0.587221  0.491740\n",
              "4    1.0  0.228538  0.692900  0.052229  0.011936  0.002728"
            ],
            "text/html": [
              "\n",
              "  <div id=\"df-1df3c9a5-fe70-453c-a7a6-9891de9146bb\">\n",
              "    <div class=\"colab-df-container\">\n",
              "      <div>\n",
              "<style scoped>\n",
              "    .dataframe tbody tr th:only-of-type {\n",
              "        vertical-align: middle;\n",
              "    }\n",
              "\n",
              "    .dataframe tbody tr th {\n",
              "        vertical-align: top;\n",
              "    }\n",
              "\n",
              "    .dataframe thead th {\n",
              "        text-align: right;\n",
              "    }\n",
              "</style>\n",
              "<table border=\"1\" class=\"dataframe\">\n",
              "  <thead>\n",
              "    <tr style=\"text-align: right;\">\n",
              "      <th></th>\n",
              "      <th>const</th>\n",
              "      <th>x</th>\n",
              "      <th>y</th>\n",
              "      <th>x_2</th>\n",
              "      <th>x_3</th>\n",
              "      <th>x_4</th>\n",
              "    </tr>\n",
              "  </thead>\n",
              "  <tbody>\n",
              "    <tr>\n",
              "      <th>0</th>\n",
              "      <td>1.0</td>\n",
              "      <td>0.559280</td>\n",
              "      <td>2.569986</td>\n",
              "      <td>0.312794</td>\n",
              "      <td>0.174939</td>\n",
              "      <td>0.097840</td>\n",
              "    </tr>\n",
              "    <tr>\n",
              "      <th>1</th>\n",
              "      <td>1.0</td>\n",
              "      <td>0.957178</td>\n",
              "      <td>-2.344368</td>\n",
              "      <td>0.916189</td>\n",
              "      <td>0.876956</td>\n",
              "      <td>0.839402</td>\n",
              "    </tr>\n",
              "    <tr>\n",
              "      <th>2</th>\n",
              "      <td>1.0</td>\n",
              "      <td>-1.134037</td>\n",
              "      <td>-3.923238</td>\n",
              "      <td>1.286039</td>\n",
              "      <td>-1.458415</td>\n",
              "      <td>1.653896</td>\n",
              "    </tr>\n",
              "    <tr>\n",
              "      <th>3</th>\n",
              "      <td>1.0</td>\n",
              "      <td>0.837402</td>\n",
              "      <td>-1.843921</td>\n",
              "      <td>0.701242</td>\n",
              "      <td>0.587221</td>\n",
              "      <td>0.491740</td>\n",
              "    </tr>\n",
              "    <tr>\n",
              "      <th>4</th>\n",
              "      <td>1.0</td>\n",
              "      <td>0.228538</td>\n",
              "      <td>0.692900</td>\n",
              "      <td>0.052229</td>\n",
              "      <td>0.011936</td>\n",
              "      <td>0.002728</td>\n",
              "    </tr>\n",
              "  </tbody>\n",
              "</table>\n",
              "</div>\n",
              "      <button class=\"colab-df-convert\" onclick=\"convertToInteractive('df-1df3c9a5-fe70-453c-a7a6-9891de9146bb')\"\n",
              "              title=\"Convert this dataframe to an interactive table.\"\n",
              "              style=\"display:none;\">\n",
              "        \n",
              "  <svg xmlns=\"http://www.w3.org/2000/svg\" height=\"24px\"viewBox=\"0 0 24 24\"\n",
              "       width=\"24px\">\n",
              "    <path d=\"M0 0h24v24H0V0z\" fill=\"none\"/>\n",
              "    <path d=\"M18.56 5.44l.94 2.06.94-2.06 2.06-.94-2.06-.94-.94-2.06-.94 2.06-2.06.94zm-11 1L8.5 8.5l.94-2.06 2.06-.94-2.06-.94L8.5 2.5l-.94 2.06-2.06.94zm10 10l.94 2.06.94-2.06 2.06-.94-2.06-.94-.94-2.06-.94 2.06-2.06.94z\"/><path d=\"M17.41 7.96l-1.37-1.37c-.4-.4-.92-.59-1.43-.59-.52 0-1.04.2-1.43.59L10.3 9.45l-7.72 7.72c-.78.78-.78 2.05 0 2.83L4 21.41c.39.39.9.59 1.41.59.51 0 1.02-.2 1.41-.59l7.78-7.78 2.81-2.81c.8-.78.8-2.07 0-2.86zM5.41 20L4 18.59l7.72-7.72 1.47 1.35L5.41 20z\"/>\n",
              "  </svg>\n",
              "      </button>\n",
              "      \n",
              "  <style>\n",
              "    .colab-df-container {\n",
              "      display:flex;\n",
              "      flex-wrap:wrap;\n",
              "      gap: 12px;\n",
              "    }\n",
              "\n",
              "    .colab-df-convert {\n",
              "      background-color: #E8F0FE;\n",
              "      border: none;\n",
              "      border-radius: 50%;\n",
              "      cursor: pointer;\n",
              "      display: none;\n",
              "      fill: #1967D2;\n",
              "      height: 32px;\n",
              "      padding: 0 0 0 0;\n",
              "      width: 32px;\n",
              "    }\n",
              "\n",
              "    .colab-df-convert:hover {\n",
              "      background-color: #E2EBFA;\n",
              "      box-shadow: 0px 1px 2px rgba(60, 64, 67, 0.3), 0px 1px 3px 1px rgba(60, 64, 67, 0.15);\n",
              "      fill: #174EA6;\n",
              "    }\n",
              "\n",
              "    [theme=dark] .colab-df-convert {\n",
              "      background-color: #3B4455;\n",
              "      fill: #D2E3FC;\n",
              "    }\n",
              "\n",
              "    [theme=dark] .colab-df-convert:hover {\n",
              "      background-color: #434B5C;\n",
              "      box-shadow: 0px 1px 3px 1px rgba(0, 0, 0, 0.15);\n",
              "      filter: drop-shadow(0px 1px 2px rgba(0, 0, 0, 0.3));\n",
              "      fill: #FFFFFF;\n",
              "    }\n",
              "  </style>\n",
              "\n",
              "      <script>\n",
              "        const buttonEl =\n",
              "          document.querySelector('#df-1df3c9a5-fe70-453c-a7a6-9891de9146bb button.colab-df-convert');\n",
              "        buttonEl.style.display =\n",
              "          google.colab.kernel.accessAllowed ? 'block' : 'none';\n",
              "\n",
              "        async function convertToInteractive(key) {\n",
              "          const element = document.querySelector('#df-1df3c9a5-fe70-453c-a7a6-9891de9146bb');\n",
              "          const dataTable =\n",
              "            await google.colab.kernel.invokeFunction('convertToInteractive',\n",
              "                                                     [key], {});\n",
              "          if (!dataTable) return;\n",
              "\n",
              "          const docLinkHtml = 'Like what you see? Visit the ' +\n",
              "            '<a target=\"_blank\" href=https://colab.research.google.com/notebooks/data_table.ipynb>data table notebook</a>'\n",
              "            + ' to learn more about interactive tables.';\n",
              "          element.innerHTML = '';\n",
              "          dataTable['output_type'] = 'display_data';\n",
              "          await google.colab.output.renderOutput(dataTable, element);\n",
              "          const docLink = document.createElement('div');\n",
              "          docLink.innerHTML = docLinkHtml;\n",
              "          element.appendChild(docLink);\n",
              "        }\n",
              "      </script>\n",
              "    </div>\n",
              "  </div>\n",
              "  "
            ]
          },
          "metadata": {},
          "execution_count": 102
        }
      ]
    },
    {
      "cell_type": "code",
      "source": [
        "mod = sm.OLS(df['y'], df.drop(['y'], axis = 1))\n",
        "res = mod.fit()\n",
        "print(res.summary())"
      ],
      "metadata": {
        "colab": {
          "base_uri": "https://localhost:8080/"
        },
        "id": "xXW8lAuTXgoV",
        "outputId": "f4c54b37-a7ad-4c8b-f075-0060da51372a"
      },
      "execution_count": null,
      "outputs": [
        {
          "output_type": "stream",
          "name": "stdout",
          "text": [
            "                            OLS Regression Results                            \n",
            "==============================================================================\n",
            "Dep. Variable:                      y   R-squared:                       0.875\n",
            "Model:                            OLS   Adj. R-squared:                  0.870\n",
            "Method:                 Least Squares   F-statistic:                     166.1\n",
            "Date:                Wed, 15 Feb 2023   Prob (F-statistic):           5.54e-42\n",
            "Time:                        04:42:14   Log-Likelihood:                -143.74\n",
            "No. Observations:                 100   AIC:                             297.5\n",
            "Df Residuals:                      95   BIC:                             310.5\n",
            "Df Model:                           4                                         \n",
            "Covariance Type:            nonrobust                                         \n",
            "==============================================================================\n",
            "                 coef    std err          t      P>|t|      [0.025      0.975]\n",
            "------------------------------------------------------------------------------\n",
            "const          0.2578      0.163      1.582      0.117      -0.066       0.581\n",
            "x              0.5135      0.208      2.463      0.016       0.100       0.927\n",
            "x_2           -2.3577      0.269     -8.780      0.000      -2.891      -1.825\n",
            "x_3            0.1789      0.085      2.109      0.038       0.010       0.347\n",
            "x_4            0.0870      0.063      1.390      0.168      -0.037       0.211\n",
            "==============================================================================\n",
            "Omnibus:                        0.193   Durbin-Watson:                   1.966\n",
            "Prob(Omnibus):                  0.908   Jarque-Bera (JB):                0.047\n",
            "Skew:                           0.052   Prob(JB):                        0.977\n",
            "Kurtosis:                       3.026   Cond. No.                         19.4\n",
            "==============================================================================\n",
            "\n",
            "Notes:\n",
            "[1] Standard Errors assume that the covariance matrix of the errors is correctly specified.\n"
          ]
        }
      ]
    },
    {
      "cell_type": "markdown",
      "source": [
        "# Chapter 6 - Question 11"
      ],
      "metadata": {
        "id": "WLDr13dHYktr"
      }
    },
    {
      "cell_type": "code",
      "source": [
        "boston = pd.read_csv('/drive/My Drive/Colab Notebooks/Boston.csv')\n",
        "boston.head()"
      ],
      "metadata": {
        "colab": {
          "base_uri": "https://localhost:8080/",
          "height": 206
        },
        "id": "0c9ERxCcX3rg",
        "outputId": "f8ddbc28-6af4-41d3-953d-b4b1c93ed3d8"
      },
      "execution_count": 3,
      "outputs": [
        {
          "output_type": "execute_result",
          "data": {
            "text/plain": [
              "      CRIM    ZN  INDUS  CHAS    NOX     RM   AGE     DIS  RAD    TAX  \\\n",
              "0  0.00632  18.0   2.31   0.0  0.538  6.575  65.2  4.0900  1.0  296.0   \n",
              "1  0.02731   0.0   7.07   0.0  0.469  6.421  78.9  4.9671  2.0  242.0   \n",
              "2  0.02729   0.0   7.07   0.0  0.469  7.185  61.1  4.9671  2.0  242.0   \n",
              "3  0.03237   0.0   2.18   0.0  0.458  6.998  45.8  6.0622  3.0  222.0   \n",
              "4  0.06905   0.0   2.18   0.0  0.458  7.147  54.2  6.0622  3.0  222.0   \n",
              "\n",
              "   PTRATIO       B  LSTAT  MDEV  \n",
              "0     15.3  396.90   4.98  24.0  \n",
              "1     17.8  396.90   9.14  21.6  \n",
              "2     17.8  392.83   4.03  34.7  \n",
              "3     18.7  394.63   2.94  33.4  \n",
              "4     18.7  396.90   5.33  36.2  "
            ],
            "text/html": [
              "\n",
              "  <div id=\"df-7d8c8c9f-3c97-4256-bdff-74917841255f\">\n",
              "    <div class=\"colab-df-container\">\n",
              "      <div>\n",
              "<style scoped>\n",
              "    .dataframe tbody tr th:only-of-type {\n",
              "        vertical-align: middle;\n",
              "    }\n",
              "\n",
              "    .dataframe tbody tr th {\n",
              "        vertical-align: top;\n",
              "    }\n",
              "\n",
              "    .dataframe thead th {\n",
              "        text-align: right;\n",
              "    }\n",
              "</style>\n",
              "<table border=\"1\" class=\"dataframe\">\n",
              "  <thead>\n",
              "    <tr style=\"text-align: right;\">\n",
              "      <th></th>\n",
              "      <th>CRIM</th>\n",
              "      <th>ZN</th>\n",
              "      <th>INDUS</th>\n",
              "      <th>CHAS</th>\n",
              "      <th>NOX</th>\n",
              "      <th>RM</th>\n",
              "      <th>AGE</th>\n",
              "      <th>DIS</th>\n",
              "      <th>RAD</th>\n",
              "      <th>TAX</th>\n",
              "      <th>PTRATIO</th>\n",
              "      <th>B</th>\n",
              "      <th>LSTAT</th>\n",
              "      <th>MDEV</th>\n",
              "    </tr>\n",
              "  </thead>\n",
              "  <tbody>\n",
              "    <tr>\n",
              "      <th>0</th>\n",
              "      <td>0.00632</td>\n",
              "      <td>18.0</td>\n",
              "      <td>2.31</td>\n",
              "      <td>0.0</td>\n",
              "      <td>0.538</td>\n",
              "      <td>6.575</td>\n",
              "      <td>65.2</td>\n",
              "      <td>4.0900</td>\n",
              "      <td>1.0</td>\n",
              "      <td>296.0</td>\n",
              "      <td>15.3</td>\n",
              "      <td>396.90</td>\n",
              "      <td>4.98</td>\n",
              "      <td>24.0</td>\n",
              "    </tr>\n",
              "    <tr>\n",
              "      <th>1</th>\n",
              "      <td>0.02731</td>\n",
              "      <td>0.0</td>\n",
              "      <td>7.07</td>\n",
              "      <td>0.0</td>\n",
              "      <td>0.469</td>\n",
              "      <td>6.421</td>\n",
              "      <td>78.9</td>\n",
              "      <td>4.9671</td>\n",
              "      <td>2.0</td>\n",
              "      <td>242.0</td>\n",
              "      <td>17.8</td>\n",
              "      <td>396.90</td>\n",
              "      <td>9.14</td>\n",
              "      <td>21.6</td>\n",
              "    </tr>\n",
              "    <tr>\n",
              "      <th>2</th>\n",
              "      <td>0.02729</td>\n",
              "      <td>0.0</td>\n",
              "      <td>7.07</td>\n",
              "      <td>0.0</td>\n",
              "      <td>0.469</td>\n",
              "      <td>7.185</td>\n",
              "      <td>61.1</td>\n",
              "      <td>4.9671</td>\n",
              "      <td>2.0</td>\n",
              "      <td>242.0</td>\n",
              "      <td>17.8</td>\n",
              "      <td>392.83</td>\n",
              "      <td>4.03</td>\n",
              "      <td>34.7</td>\n",
              "    </tr>\n",
              "    <tr>\n",
              "      <th>3</th>\n",
              "      <td>0.03237</td>\n",
              "      <td>0.0</td>\n",
              "      <td>2.18</td>\n",
              "      <td>0.0</td>\n",
              "      <td>0.458</td>\n",
              "      <td>6.998</td>\n",
              "      <td>45.8</td>\n",
              "      <td>6.0622</td>\n",
              "      <td>3.0</td>\n",
              "      <td>222.0</td>\n",
              "      <td>18.7</td>\n",
              "      <td>394.63</td>\n",
              "      <td>2.94</td>\n",
              "      <td>33.4</td>\n",
              "    </tr>\n",
              "    <tr>\n",
              "      <th>4</th>\n",
              "      <td>0.06905</td>\n",
              "      <td>0.0</td>\n",
              "      <td>2.18</td>\n",
              "      <td>0.0</td>\n",
              "      <td>0.458</td>\n",
              "      <td>7.147</td>\n",
              "      <td>54.2</td>\n",
              "      <td>6.0622</td>\n",
              "      <td>3.0</td>\n",
              "      <td>222.0</td>\n",
              "      <td>18.7</td>\n",
              "      <td>396.90</td>\n",
              "      <td>5.33</td>\n",
              "      <td>36.2</td>\n",
              "    </tr>\n",
              "  </tbody>\n",
              "</table>\n",
              "</div>\n",
              "      <button class=\"colab-df-convert\" onclick=\"convertToInteractive('df-7d8c8c9f-3c97-4256-bdff-74917841255f')\"\n",
              "              title=\"Convert this dataframe to an interactive table.\"\n",
              "              style=\"display:none;\">\n",
              "        \n",
              "  <svg xmlns=\"http://www.w3.org/2000/svg\" height=\"24px\"viewBox=\"0 0 24 24\"\n",
              "       width=\"24px\">\n",
              "    <path d=\"M0 0h24v24H0V0z\" fill=\"none\"/>\n",
              "    <path d=\"M18.56 5.44l.94 2.06.94-2.06 2.06-.94-2.06-.94-.94-2.06-.94 2.06-2.06.94zm-11 1L8.5 8.5l.94-2.06 2.06-.94-2.06-.94L8.5 2.5l-.94 2.06-2.06.94zm10 10l.94 2.06.94-2.06 2.06-.94-2.06-.94-.94-2.06-.94 2.06-2.06.94z\"/><path d=\"M17.41 7.96l-1.37-1.37c-.4-.4-.92-.59-1.43-.59-.52 0-1.04.2-1.43.59L10.3 9.45l-7.72 7.72c-.78.78-.78 2.05 0 2.83L4 21.41c.39.39.9.59 1.41.59.51 0 1.02-.2 1.41-.59l7.78-7.78 2.81-2.81c.8-.78.8-2.07 0-2.86zM5.41 20L4 18.59l7.72-7.72 1.47 1.35L5.41 20z\"/>\n",
              "  </svg>\n",
              "      </button>\n",
              "      \n",
              "  <style>\n",
              "    .colab-df-container {\n",
              "      display:flex;\n",
              "      flex-wrap:wrap;\n",
              "      gap: 12px;\n",
              "    }\n",
              "\n",
              "    .colab-df-convert {\n",
              "      background-color: #E8F0FE;\n",
              "      border: none;\n",
              "      border-radius: 50%;\n",
              "      cursor: pointer;\n",
              "      display: none;\n",
              "      fill: #1967D2;\n",
              "      height: 32px;\n",
              "      padding: 0 0 0 0;\n",
              "      width: 32px;\n",
              "    }\n",
              "\n",
              "    .colab-df-convert:hover {\n",
              "      background-color: #E2EBFA;\n",
              "      box-shadow: 0px 1px 2px rgba(60, 64, 67, 0.3), 0px 1px 3px 1px rgba(60, 64, 67, 0.15);\n",
              "      fill: #174EA6;\n",
              "    }\n",
              "\n",
              "    [theme=dark] .colab-df-convert {\n",
              "      background-color: #3B4455;\n",
              "      fill: #D2E3FC;\n",
              "    }\n",
              "\n",
              "    [theme=dark] .colab-df-convert:hover {\n",
              "      background-color: #434B5C;\n",
              "      box-shadow: 0px 1px 3px 1px rgba(0, 0, 0, 0.15);\n",
              "      filter: drop-shadow(0px 1px 2px rgba(0, 0, 0, 0.3));\n",
              "      fill: #FFFFFF;\n",
              "    }\n",
              "  </style>\n",
              "\n",
              "      <script>\n",
              "        const buttonEl =\n",
              "          document.querySelector('#df-7d8c8c9f-3c97-4256-bdff-74917841255f button.colab-df-convert');\n",
              "        buttonEl.style.display =\n",
              "          google.colab.kernel.accessAllowed ? 'block' : 'none';\n",
              "\n",
              "        async function convertToInteractive(key) {\n",
              "          const element = document.querySelector('#df-7d8c8c9f-3c97-4256-bdff-74917841255f');\n",
              "          const dataTable =\n",
              "            await google.colab.kernel.invokeFunction('convertToInteractive',\n",
              "                                                     [key], {});\n",
              "          if (!dataTable) return;\n",
              "\n",
              "          const docLinkHtml = 'Like what you see? Visit the ' +\n",
              "            '<a target=\"_blank\" href=https://colab.research.google.com/notebooks/data_table.ipynb>data table notebook</a>'\n",
              "            + ' to learn more about interactive tables.';\n",
              "          element.innerHTML = '';\n",
              "          dataTable['output_type'] = 'display_data';\n",
              "          await google.colab.output.renderOutput(dataTable, element);\n",
              "          const docLink = document.createElement('div');\n",
              "          docLink.innerHTML = docLinkHtml;\n",
              "          element.appendChild(docLink);\n",
              "        }\n",
              "      </script>\n",
              "    </div>\n",
              "  </div>\n",
              "  "
            ]
          },
          "metadata": {},
          "execution_count": 3
        }
      ]
    },
    {
      "cell_type": "code",
      "source": [
        "X = boston.drop(['CRIM'], axis = 1)\n",
        "y = boston['CRIM']"
      ],
      "metadata": {
        "id": "q2xddjx7cGD2"
      },
      "execution_count": 4,
      "outputs": []
    },
    {
      "cell_type": "markdown",
      "source": [
        "## 11a. \n",
        "in part (a), use forward stepwise & backwards stepwise selection (FSS & BSS) instead of the methods the book lists. Do so based on a mathematical ad- justment approach (AIC) and 5-Fold Cross-Validation (5FCV) to estimat the test error. (This means you will select a model four different ways: FSS-AIC, FSS- 5FCV, BSS-AIC, BSS-5FCV.)\n"
      ],
      "metadata": {
        "id": "b0aD5opuY7uw"
      }
    },
    {
      "cell_type": "markdown",
      "source": [
        "## Forward Selection with sklearn"
      ],
      "metadata": {
        "id": "KWXUaasHXXpS"
      }
    },
    {
      "cell_type": "code",
      "source": [
        "sfs = SequentialFeatureSelector(LinearRegression(), n_features_to_select = None, scoring = 'neg_mean_squared_error')\n",
        "sfs.fit(X, y).feature_names_in_"
      ],
      "metadata": {
        "colab": {
          "base_uri": "https://localhost:8080/"
        },
        "id": "bUqWkwjaY3CT",
        "outputId": "0ecbe6d4-6ba8-47a2-bf7f-df521bde54f5"
      },
      "execution_count": null,
      "outputs": [
        {
          "output_type": "execute_result",
          "data": {
            "text/plain": [
              "array(['constant', 'RAD', 'LSTAT', 'B', 'MDEV', 'ZN', 'DIS', 'NOX',\n",
              "       'PTRATIO', 'TAX'], dtype=object)"
            ]
          },
          "metadata": {},
          "execution_count": 18
        }
      ]
    },
    {
      "cell_type": "code",
      "source": [
        "sfs.support_"
      ],
      "metadata": {
        "colab": {
          "base_uri": "https://localhost:8080/"
        },
        "id": "ljtN1bHedXam",
        "outputId": "21791ee0-44b8-429c-d629-fd0ed752ac95"
      },
      "execution_count": null,
      "outputs": [
        {
          "output_type": "execute_result",
          "data": {
            "text/plain": [
              "array([ True,  True,  True, False, False,  True, False, False,  True,\n",
              "       False])"
            ]
          },
          "metadata": {},
          "execution_count": 19
        }
      ]
    },
    {
      "cell_type": "code",
      "source": [
        "sfs.feature_names_in_[sfs.support_]"
      ],
      "metadata": {
        "id": "A46d39Ebdslp",
        "outputId": "0df708fb-7f99-4f0e-bb3b-4a847b42976a",
        "colab": {
          "base_uri": "https://localhost:8080/"
        }
      },
      "execution_count": null,
      "outputs": [
        {
          "output_type": "execute_result",
          "data": {
            "text/plain": [
              "array(['constant', 'RAD', 'LSTAT', 'ZN', 'PTRATIO'], dtype=object)"
            ]
          },
          "metadata": {},
          "execution_count": 20
        }
      ]
    },
    {
      "cell_type": "markdown",
      "source": [
        "Sad... can't really do the same thing with sklearn because cannot specify custom stopping rule (i.e. stopping when the minimum error is larger than the current error). Though does seem that newer releases will allow for a tolerance parameter but currently can't use..."
      ],
      "metadata": {
        "id": "AijCGxpFd8dc"
      }
    },
    {
      "cell_type": "markdown",
      "source": [
        "## Forward selection with lab code"
      ],
      "metadata": {
        "id": "7qT0uwxbXftY"
      }
    },
    {
      "cell_type": "markdown",
      "source": [
        "### 5-Fold Cross Validation"
      ],
      "metadata": {
        "id": "ia00FWSlY0Gv"
      }
    },
    {
      "cell_type": "code",
      "source": [
        "# Add constant to dataframe\n",
        "boston['constant'] = 1 \n",
        "\n",
        "# Specify target\n",
        "Y = boston['CRIM']\n",
        "\n",
        "# Variables to use in forward propagation\n",
        "vars_left_add = ['ZN', 'INDUS', 'CHAS', 'NOX', 'RM', 'AGE', 'DIS', 'RAD', 'TAX',\n",
        "       'PTRATIO', 'B', 'LSTAT', 'MDEV'] \n",
        "\n",
        "# Regression type\n",
        "ols = LinearRegression()\n",
        "\n",
        "# Starting variables (constant initially)\n",
        "current_vars = ['constant']\n",
        "\n",
        "X = boston[current_vars]\n",
        "benchmark_error = np.mean(-1*cross_val_score(ols, X, Y, cv = 5, scoring = 'neg_mean_squared_error'))\n",
        "print(' Initial run with only one var (constant term/only bias weight):', current_vars)\n",
        "print('      Benchmark error:', benchmark_error)\n",
        "print('')\n",
        "\n",
        "# Keep adding the best variables (until no improvement can be made)\n",
        "for iter in range(len(vars_left_add)):\n",
        "    print('\\033[1m'+ 'Iteration:', iter, '\\033[0m')\n",
        "    error_list = []\n",
        "    # Iterate over all the variables left to add\n",
        "    for var in vars_left_add:\n",
        "        # Modify X according to current iteration\n",
        "        X = boston[current_vars + [var]]\n",
        "        # Perform 5-fold CV to get errors\n",
        "        error = np.mean(-1*cross_val_score(ols, X, Y, cv = 5, scoring = 'neg_mean_squared_error'))\n",
        "        error_list.append(error)\n",
        "        print(' Running model with:', current_vars + [var])\n",
        "        print('      Error:', error)\n",
        "\n",
        "    # Chose the smallest error\n",
        "    min_error = min(error_list)\n",
        "    chosen_col_index = error_list.index(min_error)\n",
        "\n",
        "    # If our current smallest error is smaller than our previous error, than we add a variable\n",
        "    if min_error < benchmark_error:\n",
        "        print('          *** Variable selected:', vars_left_add[chosen_col_index])\n",
        "        print('          *** Min error selected:', min_error)\n",
        "        print('          *** Chose the variable that generated the min error + was lower than previous error')\n",
        "        print('')\n",
        "        # Add the variable that produced the smallest error to current_vars\n",
        "        current_vars.append(vars_left_add[chosen_col_index])\n",
        "        # Delete chosen variable from vars_left_add\n",
        "        del vars_left_add[chosen_col_index] \n",
        "        # Update benchmark_error\n",
        "        benchmark_error = min_error\n",
        "    \n",
        "    # Otherwise, we stop our model\n",
        "    else:\n",
        "        print('          \\033[4m*** No variable was selected', '\\033[0m')\n",
        "        print('          *** Previous error rate (', benchmark_error,') is lower than smallest error rate of this iteration (', min_error ,')')\n",
        "        print('          *** Break')\n",
        "        break\n",
        "\n",
        "print('')\n",
        "print('Variables chosen for our model', current_vars)"
      ],
      "metadata": {
        "id": "Y4FRJrgEdxHm",
        "colab": {
          "base_uri": "https://localhost:8080/"
        },
        "outputId": "48989815-962d-46bb-ab20-50b32a6fff4b"
      },
      "execution_count": 10,
      "outputs": [
        {
          "output_type": "stream",
          "name": "stdout",
          "text": [
            " Initial run with only one var (constant term/only bias weight): ['constant']\n",
            "      Benchmark error: 82.92758188752097\n",
            "\n",
            "\u001b[1mIteration: 0 \u001b[0m\n",
            " Running model with: ['constant', 'ZN']\n",
            "      Error: 80.2739780556212\n",
            " Running model with: ['constant', 'INDUS']\n",
            "      Error: 74.78890656928952\n",
            " Running model with: ['constant', 'CHAS']\n",
            "      Error: 83.41765212625346\n",
            " Running model with: ['constant', 'NOX']\n",
            "      Error: 72.93199505968975\n",
            " Running model with: ['constant', 'RM']\n",
            "      Error: 79.28682676023121\n",
            " Running model with: ['constant', 'AGE']\n",
            "      Error: 76.67580886003631\n",
            " Running model with: ['constant', 'DIS']\n",
            "      Error: 74.28733132761663\n",
            " Running model with: ['constant', 'RAD']\n",
            "      Error: 45.82003611707332\n",
            " Running model with: ['constant', 'TAX']\n",
            "      Error: 49.99382062232204\n",
            " Running model with: ['constant', 'PTRATIO']\n",
            "      Error: 77.67773955150695\n",
            " Running model with: ['constant', 'B']\n",
            "      Error: 76.79597319366994\n",
            " Running model with: ['constant', 'LSTAT']\n",
            "      Error: 67.79590067769361\n",
            " Running model with: ['constant', 'MDEV']\n",
            "      Error: 73.36961819142553\n",
            "          *** Variable selected: RAD\n",
            "          *** Min error selected: 45.82003611707332\n",
            "          *** Chose the variable that generated the min error + was lower than previous error\n",
            "\n",
            "\u001b[1mIteration: 1 \u001b[0m\n",
            " Running model with: ['constant', 'RAD', 'ZN']\n",
            "      Error: 45.82198169501372\n",
            " Running model with: ['constant', 'RAD', 'INDUS']\n",
            "      Error: 45.66935547677909\n",
            " Running model with: ['constant', 'RAD', 'CHAS']\n",
            "      Error: 46.324779549788914\n",
            " Running model with: ['constant', 'RAD', 'NOX']\n",
            "      Error: 45.58118857348601\n",
            " Running model with: ['constant', 'RAD', 'RM']\n",
            "      Error: 45.76346608013206\n",
            " Running model with: ['constant', 'RAD', 'AGE']\n",
            "      Error: 45.637573238661254\n",
            " Running model with: ['constant', 'RAD', 'DIS']\n",
            "      Error: 45.51141190783985\n",
            " Running model with: ['constant', 'RAD', 'TAX']\n",
            "      Error: 45.814201876450944\n",
            " Running model with: ['constant', 'RAD', 'PTRATIO']\n",
            "      Error: 45.95542344588004\n",
            " Running model with: ['constant', 'RAD', 'B']\n",
            "      Error: 47.09155124840815\n",
            " Running model with: ['constant', 'RAD', 'LSTAT']\n",
            "      Error: 44.618489682139575\n",
            " Running model with: ['constant', 'RAD', 'MDEV']\n",
            "      Error: 45.50653025939223\n",
            "          *** Variable selected: LSTAT\n",
            "          *** Min error selected: 44.618489682139575\n",
            "          *** Chose the variable that generated the min error + was lower than previous error\n",
            "\n",
            "\u001b[1mIteration: 2 \u001b[0m\n",
            " Running model with: ['constant', 'RAD', 'LSTAT', 'ZN']\n",
            "      Error: 44.46585900848579\n",
            " Running model with: ['constant', 'RAD', 'LSTAT', 'INDUS']\n",
            "      Error: 44.74615589188473\n",
            " Running model with: ['constant', 'RAD', 'LSTAT', 'CHAS']\n",
            "      Error: 44.83961299896133\n",
            " Running model with: ['constant', 'RAD', 'LSTAT', 'NOX']\n",
            "      Error: 44.80446698968039\n",
            " Running model with: ['constant', 'RAD', 'LSTAT', 'RM']\n",
            "      Error: 45.57611123204305\n",
            " Running model with: ['constant', 'RAD', 'LSTAT', 'AGE']\n",
            "      Error: 44.853361470969375\n",
            " Running model with: ['constant', 'RAD', 'LSTAT', 'DIS']\n",
            "      Error: 44.89758208685342\n",
            " Running model with: ['constant', 'RAD', 'LSTAT', 'TAX']\n",
            "      Error: 44.78242725825821\n",
            " Running model with: ['constant', 'RAD', 'LSTAT', 'PTRATIO']\n",
            "      Error: 44.58789421456339\n",
            " Running model with: ['constant', 'RAD', 'LSTAT', 'B']\n",
            "      Error: 46.37189489580934\n",
            " Running model with: ['constant', 'RAD', 'LSTAT', 'MDEV']\n",
            "      Error: 44.947920595017784\n",
            "          *** Variable selected: ZN\n",
            "          *** Min error selected: 44.46585900848579\n",
            "          *** Chose the variable that generated the min error + was lower than previous error\n",
            "\n",
            "\u001b[1mIteration: 3 \u001b[0m\n",
            " Running model with: ['constant', 'RAD', 'LSTAT', 'ZN', 'INDUS']\n",
            "      Error: 44.60690146833299\n",
            " Running model with: ['constant', 'RAD', 'LSTAT', 'ZN', 'CHAS']\n",
            "      Error: 44.67454775925564\n",
            " Running model with: ['constant', 'RAD', 'LSTAT', 'ZN', 'NOX']\n",
            "      Error: 44.66480581979352\n",
            " Running model with: ['constant', 'RAD', 'LSTAT', 'ZN', 'RM']\n",
            "      Error: 45.441664823203396\n",
            " Running model with: ['constant', 'RAD', 'LSTAT', 'ZN', 'AGE']\n",
            "      Error: 44.88114697040826\n",
            " Running model with: ['constant', 'RAD', 'LSTAT', 'ZN', 'DIS']\n",
            "      Error: 44.64818414734465\n",
            " Running model with: ['constant', 'RAD', 'LSTAT', 'ZN', 'TAX']\n",
            "      Error: 44.62155410125714\n",
            " Running model with: ['constant', 'RAD', 'LSTAT', 'ZN', 'PTRATIO']\n",
            "      Error: 44.50780000555501\n",
            " Running model with: ['constant', 'RAD', 'LSTAT', 'ZN', 'B']\n",
            "      Error: 46.11173998209388\n",
            " Running model with: ['constant', 'RAD', 'LSTAT', 'ZN', 'MDEV']\n",
            "      Error: 44.740394810761565\n",
            "          \u001b[4m*** No variable was selected \u001b[0m\n",
            "          *** Previous error rate ( 44.46585900848579 ) is lower than smallest error rate of this iteration ( 44.50780000555501 )\n",
            "          *** Break\n",
            "\n",
            "Variables chosen for our model ['constant', 'RAD', 'LSTAT', 'ZN']\n"
          ]
        }
      ]
    },
    {
      "cell_type": "markdown",
      "source": [
        "### AIC"
      ],
      "metadata": {
        "id": "L1voF8CIZ6bw"
      }
    },
    {
      "cell_type": "code",
      "source": [
        "# Add constant to dataframe\n",
        "boston['constant'] = 1 \n",
        "\n",
        "# Specify target\n",
        "Y = boston['CRIM']\n",
        "\n",
        "# Variables to use in forward propagation\n",
        "vars_left_add = ['ZN', 'INDUS', 'CHAS', 'NOX', 'RM', 'AGE', 'DIS', 'RAD', 'TAX',\n",
        "       'PTRATIO', 'B', 'LSTAT', 'MDEV'] \n",
        "\n",
        "# Regression type\n",
        "ols = LinearRegression()\n",
        "\n",
        "# Starting variables (constant initially)\n",
        "current_vars = ['constant']\n",
        "\n",
        "X = boston[current_vars]\n",
        "benchmark_error = OLS(Y, X).fit().aic\n",
        "print(' Initial run with only one var (constant term/only bias weight):', current_vars)\n",
        "print('      Benchmark error:', benchmark_error)\n",
        "print('')\n",
        "\n",
        "# Keep adding the best variables (until no improvement can be made)\n",
        "for iter in range(len(vars_left_add)):\n",
        "    print('\\033[1m'+ 'Iteration:', iter, '\\033[0m')\n",
        "    error_list = []\n",
        "    # Iterate over all the variables left to add\n",
        "    for var in vars_left_add:\n",
        "        # Modify X according to current iteration\n",
        "        X = boston[current_vars + [var]]\n",
        "        # Perform 5-fold CV to get errors\n",
        "        error = OLS(Y, X).fit().aic\n",
        "        error_list.append(error)\n",
        "        print(' Running model with:', current_vars + [var])\n",
        "        print('      Error:', error)\n",
        "\n",
        "    # Chose the smallest error\n",
        "    min_error = min(error_list)\n",
        "    chosen_col_index = error_list.index(min_error)\n",
        "\n",
        "    # If our current smallest error is smaller than our previous error, than we add a variable\n",
        "    if min_error < benchmark_error:\n",
        "        print('          *** Variable selected:', vars_left_add[chosen_col_index])\n",
        "        print('          *** Min error selected:', min_error)\n",
        "        print('          *** Chose the variable that generated the min error + was lower than previous error')\n",
        "        print('')\n",
        "        # Add the variable that produced the smallest error to current_vars\n",
        "        current_vars.append(vars_left_add[chosen_col_index])\n",
        "        # Delete chosen variable from vars_left_add\n",
        "        del vars_left_add[chosen_col_index] \n",
        "        # Update benchmark_error\n",
        "        benchmark_error = min_error\n",
        "    \n",
        "    # Otherwise, we stop our model\n",
        "    else:\n",
        "        print('          \\033[4m*** No variable was selected', '\\033[0m')\n",
        "        print('          *** Previous error rate (', benchmark_error,') is lower than smallest error rate of this iteration (', min_error ,')')\n",
        "        print('          *** Break')\n",
        "        break\n",
        "\n",
        "print('')\n",
        "print('Variables chosen for our model', current_vars)"
      ],
      "metadata": {
        "colab": {
          "base_uri": "https://localhost:8080/"
        },
        "id": "wSQz5tKtZ7zA",
        "outputId": "004f31fa-5d0b-4b87-fbd7-3d48b7a7025e"
      },
      "execution_count": 11,
      "outputs": [
        {
          "output_type": "stream",
          "name": "stdout",
          "text": [
            " Initial run with only one var (constant term/only bias weight): ['constant']\n",
            "      Benchmark error: 3614.1694785562504\n",
            "\n",
            "\u001b[1mIteration: 0 \u001b[0m\n",
            " Running model with: ['constant', 'ZN']\n",
            "      Error: 3595.627661797868\n",
            " Running model with: ['constant', 'INDUS']\n",
            "      Error: 3525.7755232365867\n",
            " Running model with: ['constant', 'CHAS']\n",
            "      Error: 3614.619980334153\n",
            " Running model with: ['constant', 'NOX']\n",
            "      Error: 3519.243655311626\n",
            " Running model with: ['constant', 'RM']\n",
            "      Error: 3591.08064952379\n",
            " Running model with: ['constant', 'AGE']\n",
            "      Error: 3549.7294697160696\n",
            " Running model with: ['constant', 'DIS']\n",
            "      Error: 3538.1963952494225\n",
            " Running model with: ['constant', 'RAD']\n",
            "      Error: 3368.604026632944\n",
            " Running model with: ['constant', 'TAX']\n",
            "      Error: 3409.056271006969\n",
            " Running model with: ['constant', 'PTRATIO']\n",
            "      Error: 3572.2770418517935\n",
            " Running model with: ['constant', 'B']\n",
            "      Error: 3538.4366380342935\n",
            " Running model with: ['constant', 'LSTAT']\n",
            "      Error: 3500.4025345835294\n",
            " Running model with: ['constant', 'MDEV']\n",
            "      Error: 3534.609458612529\n",
            "          *** Variable selected: RAD\n",
            "          *** Min error selected: 3368.604026632944\n",
            "          *** Chose the variable that generated the min error + was lower than previous error\n",
            "\n",
            "\u001b[1mIteration: 1 \u001b[0m\n",
            " Running model with: ['constant', 'RAD', 'ZN']\n",
            "      Error: 3370.577192490913\n",
            " Running model with: ['constant', 'RAD', 'INDUS']\n",
            "      Error: 3369.0997551175096\n",
            " Running model with: ['constant', 'RAD', 'CHAS']\n",
            "      Error: 3368.4769119613816\n",
            " Running model with: ['constant', 'RAD', 'NOX']\n",
            "      Error: 3368.7778437770467\n",
            " Running model with: ['constant', 'RAD', 'RM']\n",
            "      Error: 3363.654841833111\n",
            " Running model with: ['constant', 'RAD', 'AGE']\n",
            "      Error: 3365.8869887889996\n",
            " Running model with: ['constant', 'RAD', 'DIS']\n",
            "      Error: 3365.1821077706627\n",
            " Running model with: ['constant', 'RAD', 'TAX']\n",
            "      Error: 3369.7421749160776\n",
            " Running model with: ['constant', 'RAD', 'PTRATIO']\n",
            "      Error: 3370.603297418971\n",
            " Running model with: ['constant', 'RAD', 'B']\n",
            "      Error: 3360.0178393224005\n",
            " Running model with: ['constant', 'RAD', 'LSTAT']\n",
            "      Error: 3346.194660602593\n",
            " Running model with: ['constant', 'RAD', 'MDEV']\n",
            "      Error: 3348.8546253325494\n",
            "          *** Variable selected: LSTAT\n",
            "          *** Min error selected: 3346.194660602593\n",
            "          *** Chose the variable that generated the min error + was lower than previous error\n",
            "\n",
            "\u001b[1mIteration: 2 \u001b[0m\n",
            " Running model with: ['constant', 'RAD', 'LSTAT', 'ZN']\n",
            "      Error: 3346.0024088660293\n",
            " Running model with: ['constant', 'RAD', 'LSTAT', 'INDUS']\n",
            "      Error: 3347.0018288339215\n",
            " Running model with: ['constant', 'RAD', 'LSTAT', 'CHAS']\n",
            "      Error: 3346.7380613433907\n",
            " Running model with: ['constant', 'RAD', 'LSTAT', 'NOX']\n",
            "      Error: 3347.5404976340633\n",
            " Running model with: ['constant', 'RAD', 'LSTAT', 'RM']\n",
            "      Error: 3348.0485862816504\n",
            " Running model with: ['constant', 'RAD', 'LSTAT', 'AGE']\n",
            "      Error: 3348.1285205194026\n",
            " Running model with: ['constant', 'RAD', 'LSTAT', 'DIS']\n",
            "      Error: 3347.649133475363\n",
            " Running model with: ['constant', 'RAD', 'LSTAT', 'TAX']\n",
            "      Error: 3348.0017977641664\n",
            " Running model with: ['constant', 'RAD', 'LSTAT', 'PTRATIO']\n",
            "      Error: 3347.199616915427\n",
            " Running model with: ['constant', 'RAD', 'LSTAT', 'B']\n",
            "      Error: 3342.3675148809493\n",
            " Running model with: ['constant', 'RAD', 'LSTAT', 'MDEV']\n",
            "      Error: 3344.970144517545\n",
            "          *** Variable selected: B\n",
            "          *** Min error selected: 3342.3675148809493\n",
            "          *** Chose the variable that generated the min error + was lower than previous error\n",
            "\n",
            "\u001b[1mIteration: 3 \u001b[0m\n",
            " Running model with: ['constant', 'RAD', 'LSTAT', 'B', 'ZN']\n",
            "      Error: 3342.2757471020996\n",
            " Running model with: ['constant', 'RAD', 'LSTAT', 'B', 'INDUS']\n",
            "      Error: 3342.8793447082276\n",
            " Running model with: ['constant', 'RAD', 'LSTAT', 'B', 'CHAS']\n",
            "      Error: 3343.1215136593323\n",
            " Running model with: ['constant', 'RAD', 'LSTAT', 'B', 'NOX']\n",
            "      Error: 3343.340191792265\n",
            " Running model with: ['constant', 'RAD', 'LSTAT', 'B', 'RM']\n",
            "      Error: 3344.343265366195\n",
            " Running model with: ['constant', 'RAD', 'LSTAT', 'B', 'AGE']\n",
            "      Error: 3344.306643079205\n",
            " Running model with: ['constant', 'RAD', 'LSTAT', 'B', 'DIS']\n",
            "      Error: 3343.9187447775876\n",
            " Running model with: ['constant', 'RAD', 'LSTAT', 'B', 'TAX']\n",
            "      Error: 3344.0469959165653\n",
            " Running model with: ['constant', 'RAD', 'LSTAT', 'B', 'PTRATIO']\n",
            "      Error: 3343.6917247812735\n",
            " Running model with: ['constant', 'RAD', 'LSTAT', 'B', 'MDEV']\n",
            "      Error: 3341.8597369091076\n",
            "          *** Variable selected: MDEV\n",
            "          *** Min error selected: 3341.8597369091076\n",
            "          *** Chose the variable that generated the min error + was lower than previous error\n",
            "\n",
            "\u001b[1mIteration: 4 \u001b[0m\n",
            " Running model with: ['constant', 'RAD', 'LSTAT', 'B', 'MDEV', 'ZN']\n",
            "      Error: 3341.3080618441213\n",
            " Running model with: ['constant', 'RAD', 'LSTAT', 'B', 'MDEV', 'INDUS']\n",
            "      Error: 3342.126718411293\n",
            " Running model with: ['constant', 'RAD', 'LSTAT', 'B', 'MDEV', 'CHAS']\n",
            "      Error: 3343.1885360633833\n",
            " Running model with: ['constant', 'RAD', 'LSTAT', 'B', 'MDEV', 'NOX']\n",
            "      Error: 3342.963278561945\n",
            " Running model with: ['constant', 'RAD', 'LSTAT', 'B', 'MDEV', 'RM']\n",
            "      Error: 3342.7793351316604\n",
            " Running model with: ['constant', 'RAD', 'LSTAT', 'B', 'MDEV', 'AGE']\n",
            "      Error: 3343.858843696962\n",
            " Running model with: ['constant', 'RAD', 'LSTAT', 'B', 'MDEV', 'DIS']\n",
            "      Error: 3342.733214095413\n",
            " Running model with: ['constant', 'RAD', 'LSTAT', 'B', 'MDEV', 'TAX']\n",
            "      Error: 3343.1077911612324\n",
            " Running model with: ['constant', 'RAD', 'LSTAT', 'B', 'MDEV', 'PTRATIO']\n",
            "      Error: 3341.3853906584372\n",
            "          *** Variable selected: ZN\n",
            "          *** Min error selected: 3341.3080618441213\n",
            "          *** Chose the variable that generated the min error + was lower than previous error\n",
            "\n",
            "\u001b[1mIteration: 5 \u001b[0m\n",
            " Running model with: ['constant', 'RAD', 'LSTAT', 'B', 'MDEV', 'ZN', 'INDUS']\n",
            "      Error: 3342.6955843801916\n",
            " Running model with: ['constant', 'RAD', 'LSTAT', 'B', 'MDEV', 'ZN', 'CHAS']\n",
            "      Error: 3342.8418874967692\n",
            " Running model with: ['constant', 'RAD', 'LSTAT', 'B', 'MDEV', 'ZN', 'NOX']\n",
            "      Error: 3343.1452662991264\n",
            " Running model with: ['constant', 'RAD', 'LSTAT', 'B', 'MDEV', 'ZN', 'RM']\n",
            "      Error: 3342.427443911504\n",
            " Running model with: ['constant', 'RAD', 'LSTAT', 'B', 'MDEV', 'ZN', 'AGE']\n",
            "      Error: 3342.7356814023256\n",
            " Running model with: ['constant', 'RAD', 'LSTAT', 'B', 'MDEV', 'ZN', 'DIS']\n",
            "      Error: 3336.5879296778267\n",
            " Running model with: ['constant', 'RAD', 'LSTAT', 'B', 'MDEV', 'ZN', 'TAX']\n",
            "      Error: 3342.481042829595\n",
            " Running model with: ['constant', 'RAD', 'LSTAT', 'B', 'MDEV', 'ZN', 'PTRATIO']\n",
            "      Error: 3341.7829067515004\n",
            "          *** Variable selected: DIS\n",
            "          *** Min error selected: 3336.5879296778267\n",
            "          *** Chose the variable that generated the min error + was lower than previous error\n",
            "\n",
            "\u001b[1mIteration: 6 \u001b[0m\n",
            " Running model with: ['constant', 'RAD', 'LSTAT', 'B', 'MDEV', 'ZN', 'DIS', 'INDUS']\n",
            "      Error: 3333.8715257631347\n",
            " Running model with: ['constant', 'RAD', 'LSTAT', 'B', 'MDEV', 'ZN', 'DIS', 'CHAS']\n",
            "      Error: 3337.83803089632\n",
            " Running model with: ['constant', 'RAD', 'LSTAT', 'B', 'MDEV', 'ZN', 'DIS', 'NOX']\n",
            "      Error: 3333.4044316181694\n",
            " Running model with: ['constant', 'RAD', 'LSTAT', 'B', 'MDEV', 'ZN', 'DIS', 'RM']\n",
            "      Error: 3337.916611851849\n",
            " Running model with: ['constant', 'RAD', 'LSTAT', 'B', 'MDEV', 'ZN', 'DIS', 'AGE']\n",
            "      Error: 3338.272922140982\n",
            " Running model with: ['constant', 'RAD', 'LSTAT', 'B', 'MDEV', 'ZN', 'DIS', 'TAX']\n",
            "      Error: 3335.667059782153\n",
            " Running model with: ['constant', 'RAD', 'LSTAT', 'B', 'MDEV', 'ZN', 'DIS', 'PTRATIO']\n",
            "      Error: 3337.8424601859633\n",
            "          *** Variable selected: NOX\n",
            "          *** Min error selected: 3333.4044316181694\n",
            "          *** Chose the variable that generated the min error + was lower than previous error\n",
            "\n",
            "\u001b[1mIteration: 7 \u001b[0m\n",
            " Running model with: ['constant', 'RAD', 'LSTAT', 'B', 'MDEV', 'ZN', 'DIS', 'NOX', 'INDUS']\n",
            "      Error: 3332.973115088829\n",
            " Running model with: ['constant', 'RAD', 'LSTAT', 'B', 'MDEV', 'ZN', 'DIS', 'NOX', 'CHAS']\n",
            "      Error: 3335.0440070836794\n",
            " Running model with: ['constant', 'RAD', 'LSTAT', 'B', 'MDEV', 'ZN', 'DIS', 'NOX', 'RM']\n",
            "      Error: 3334.671907275078\n",
            " Running model with: ['constant', 'RAD', 'LSTAT', 'B', 'MDEV', 'ZN', 'DIS', 'NOX', 'AGE']\n",
            "      Error: 3335.3996115151463\n",
            " Running model with: ['constant', 'RAD', 'LSTAT', 'B', 'MDEV', 'ZN', 'DIS', 'NOX', 'TAX']\n",
            "      Error: 3333.610269065178\n",
            " Running model with: ['constant', 'RAD', 'LSTAT', 'B', 'MDEV', 'ZN', 'DIS', 'NOX', 'PTRATIO']\n",
            "      Error: 3332.396301742922\n",
            "          *** Variable selected: PTRATIO\n",
            "          *** Min error selected: 3332.396301742922\n",
            "          *** Chose the variable that generated the min error + was lower than previous error\n",
            "\n",
            "\u001b[1mIteration: 8 \u001b[0m\n",
            " Running model with: ['constant', 'RAD', 'LSTAT', 'B', 'MDEV', 'ZN', 'DIS', 'NOX', 'PTRATIO', 'INDUS']\n",
            "      Error: 3332.701557391131\n",
            " Running model with: ['constant', 'RAD', 'LSTAT', 'B', 'MDEV', 'ZN', 'DIS', 'NOX', 'PTRATIO', 'CHAS']\n",
            "      Error: 3333.9638374558717\n",
            " Running model with: ['constant', 'RAD', 'LSTAT', 'B', 'MDEV', 'ZN', 'DIS', 'NOX', 'PTRATIO', 'RM']\n",
            "      Error: 3333.737183528465\n",
            " Running model with: ['constant', 'RAD', 'LSTAT', 'B', 'MDEV', 'ZN', 'DIS', 'NOX', 'PTRATIO', 'AGE']\n",
            "      Error: 3334.3586588264757\n",
            " Running model with: ['constant', 'RAD', 'LSTAT', 'B', 'MDEV', 'ZN', 'DIS', 'NOX', 'PTRATIO', 'TAX']\n",
            "      Error: 3333.0184122535993\n",
            "          \u001b[4m*** No variable was selected \u001b[0m\n",
            "          *** Previous error rate ( 3332.396301742922 ) is lower than smallest error rate of this iteration ( 3332.701557391131 )\n",
            "          *** Break\n",
            "\n",
            "Variables chosen for our model ['constant', 'RAD', 'LSTAT', 'B', 'MDEV', 'ZN', 'DIS', 'NOX', 'PTRATIO']\n"
          ]
        }
      ]
    },
    {
      "cell_type": "markdown",
      "source": [
        "## Backward Selection with lab code"
      ],
      "metadata": {
        "id": "YVdkksR9e44g"
      }
    },
    {
      "cell_type": "markdown",
      "source": [
        "### 5-Fold Cross Validation"
      ],
      "metadata": {
        "id": "3fTug543fIhl"
      }
    },
    {
      "cell_type": "code",
      "source": [
        "# Add constant to dataframe\n",
        "boston['constant'] = 1 \n",
        "\n",
        "# Specify target\n",
        "Y = boston['CRIM']\n",
        "\n",
        "# Variables to use in forward propagation\n",
        "vars_left_to_drop = ['ZN', 'INDUS', 'CHAS', 'NOX', 'RM', 'AGE', 'DIS', 'RAD', 'TAX',\n",
        "       'PTRATIO', 'B', 'LSTAT', 'MDEV'] \n",
        "\n",
        "# Regression type\n",
        "ols = LinearRegression()\n",
        "\n",
        "\n",
        "# Starting variables (all)\n",
        "current_vars = ['constant'] + vars_left_to_drop\n",
        "\n",
        "X = boston[current_vars]\n",
        "benchmark_error = np.mean(-1*cross_val_score(ols, X, Y, cv = 5, scoring = 'neg_mean_squared_error'))\n",
        "print(' Initial run with all vars:', current_vars)\n",
        "print('      Benchmark error:', benchmark_error)\n",
        "print('')\n",
        "\n",
        "# Keep removing the worst variables (until no improvement can be made)\n",
        "for iter in range(len(vars_left_to_drop)):\n",
        "    print('\\033[1m'+ 'Iteration:', iter, '\\033[0m')\n",
        "    error_list = []\n",
        "    # Iterate over all the variables left to remove\n",
        "    for var in vars_left_to_drop:\n",
        "        # Modify X according to current iteration\n",
        "        vars_to_be_used = ['constant'] + [i for i in vars_left_to_drop if i != var]\n",
        "        X = boston[['constant'] + [i for i in vars_left_to_drop if i != var]]\n",
        "        # Perform 5-fold CV to get errors\n",
        "        error = np.mean(-1*cross_val_score(ols, X, Y, cv = 5, scoring = 'neg_mean_squared_error'))\n",
        "        error_list.append(error)\n",
        "        print(' Running model with:', vars_to_be_used)\n",
        "        print('      Error:', error)\n",
        "\n",
        "    # Chose the largest error\n",
        "    min_error = min(error_list)\n",
        "    chosen_col_index = error_list.index(min_error)\n",
        "\n",
        "    # If our current smallest error is smaller than our previous error, then we drop the variable associated with it\n",
        "    if min_error < benchmark_error:\n",
        "        print('          *** Will drop:', vars_left_to_drop[chosen_col_index])\n",
        "        print('          *** Min error selected:', min_error)\n",
        "        print('          *** Chose the variable that generated the min error + was lower than previous error')\n",
        "        print('')\n",
        "        # Delete chosen variable from current_vars and vars_left_to_drop\n",
        "        del current_vars[chosen_col_index + 1]\n",
        "        del vars_left_to_drop[chosen_col_index]\n",
        "        # Update benchmark_error\n",
        "        benchmark_error = min_error\n",
        "    \n",
        "    # If not, we keep our model\n",
        "    else:\n",
        "        print('          \\033[4m*** No variable was selected', '\\033[0m')\n",
        "        print('          *** Previous error rate (', benchmark_error,') is lower than smallest error rate of this iteration (', min_error ,')')\n",
        "        print('          *** Break')\n",
        "        break\n",
        "\n",
        "print('')\n",
        "print('Variables chosen for our model', current_vars)"
      ],
      "metadata": {
        "colab": {
          "base_uri": "https://localhost:8080/"
        },
        "id": "hrh28l5Fe9hK",
        "outputId": "43c7ce40-c8c7-4aa5-98e5-df7ab16ab80c"
      },
      "execution_count": 12,
      "outputs": [
        {
          "output_type": "stream",
          "name": "stdout",
          "text": [
            " Initial run with all vars: ['constant', 'ZN', 'INDUS', 'CHAS', 'NOX', 'RM', 'AGE', 'DIS', 'RAD', 'TAX', 'PTRATIO', 'B', 'LSTAT', 'MDEV']\n",
            "      Benchmark error: 50.377834267265555\n",
            "\n",
            "\u001b[1mIteration: 0 \u001b[0m\n",
            " Running model with: ['constant', 'INDUS', 'CHAS', 'NOX', 'RM', 'AGE', 'DIS', 'RAD', 'TAX', 'PTRATIO', 'B', 'LSTAT', 'MDEV']\n",
            "      Error: 51.05837513173866\n",
            " Running model with: ['constant', 'ZN', 'CHAS', 'NOX', 'RM', 'AGE', 'DIS', 'RAD', 'TAX', 'PTRATIO', 'B', 'LSTAT', 'MDEV']\n",
            "      Error: 49.45033720517616\n",
            " Running model with: ['constant', 'ZN', 'INDUS', 'NOX', 'RM', 'AGE', 'DIS', 'RAD', 'TAX', 'PTRATIO', 'B', 'LSTAT', 'MDEV']\n",
            "      Error: 50.1386179125515\n",
            " Running model with: ['constant', 'ZN', 'INDUS', 'CHAS', 'RM', 'AGE', 'DIS', 'RAD', 'TAX', 'PTRATIO', 'B', 'LSTAT', 'MDEV']\n",
            "      Error: 49.56409044975207\n",
            " Running model with: ['constant', 'ZN', 'INDUS', 'CHAS', 'NOX', 'AGE', 'DIS', 'RAD', 'TAX', 'PTRATIO', 'B', 'LSTAT', 'MDEV']\n",
            "      Error: 47.10566457565359\n",
            " Running model with: ['constant', 'ZN', 'INDUS', 'CHAS', 'NOX', 'RM', 'DIS', 'RAD', 'TAX', 'PTRATIO', 'B', 'LSTAT', 'MDEV']\n",
            "      Error: 49.397179095143386\n",
            " Running model with: ['constant', 'ZN', 'INDUS', 'CHAS', 'NOX', 'RM', 'AGE', 'RAD', 'TAX', 'PTRATIO', 'B', 'LSTAT', 'MDEV']\n",
            "      Error: 50.965489302090646\n",
            " Running model with: ['constant', 'ZN', 'INDUS', 'CHAS', 'NOX', 'RM', 'AGE', 'DIS', 'TAX', 'PTRATIO', 'B', 'LSTAT', 'MDEV']\n",
            "      Error: 54.689231752912995\n",
            " Running model with: ['constant', 'ZN', 'INDUS', 'CHAS', 'NOX', 'RM', 'AGE', 'DIS', 'RAD', 'PTRATIO', 'B', 'LSTAT', 'MDEV']\n",
            "      Error: 50.325934079844025\n",
            " Running model with: ['constant', 'ZN', 'INDUS', 'CHAS', 'NOX', 'RM', 'AGE', 'DIS', 'RAD', 'TAX', 'B', 'LSTAT', 'MDEV']\n",
            "      Error: 50.65347837221943\n",
            " Running model with: ['constant', 'ZN', 'INDUS', 'CHAS', 'NOX', 'RM', 'AGE', 'DIS', 'RAD', 'TAX', 'PTRATIO', 'LSTAT', 'MDEV']\n",
            "      Error: 47.912510542862435\n",
            " Running model with: ['constant', 'ZN', 'INDUS', 'CHAS', 'NOX', 'RM', 'AGE', 'DIS', 'RAD', 'TAX', 'PTRATIO', 'B', 'MDEV']\n",
            "      Error: 50.042326669924094\n",
            " Running model with: ['constant', 'ZN', 'INDUS', 'CHAS', 'NOX', 'RM', 'AGE', 'DIS', 'RAD', 'TAX', 'PTRATIO', 'B', 'LSTAT']\n",
            "      Error: 49.12687920991867\n",
            "          *** Will drop: RM\n",
            "          *** Min error selected: 47.10566457565359\n",
            "          *** Chose the variable that generated the min error + was lower than previous error\n",
            "\n",
            "\u001b[1mIteration: 1 \u001b[0m\n",
            " Running model with: ['constant', 'INDUS', 'CHAS', 'NOX', 'AGE', 'DIS', 'RAD', 'TAX', 'PTRATIO', 'B', 'LSTAT', 'MDEV']\n",
            "      Error: 48.02855491239974\n",
            " Running model with: ['constant', 'ZN', 'CHAS', 'NOX', 'AGE', 'DIS', 'RAD', 'TAX', 'PTRATIO', 'B', 'LSTAT', 'MDEV']\n",
            "      Error: 46.301792691874994\n",
            " Running model with: ['constant', 'ZN', 'INDUS', 'NOX', 'AGE', 'DIS', 'RAD', 'TAX', 'PTRATIO', 'B', 'LSTAT', 'MDEV']\n",
            "      Error: 46.94985027981143\n",
            " Running model with: ['constant', 'ZN', 'INDUS', 'CHAS', 'AGE', 'DIS', 'RAD', 'TAX', 'PTRATIO', 'B', 'LSTAT', 'MDEV']\n",
            "      Error: 46.38851333762739\n",
            " Running model with: ['constant', 'ZN', 'INDUS', 'CHAS', 'NOX', 'DIS', 'RAD', 'TAX', 'PTRATIO', 'B', 'LSTAT', 'MDEV']\n",
            "      Error: 46.82929011960676\n",
            " Running model with: ['constant', 'ZN', 'INDUS', 'CHAS', 'NOX', 'AGE', 'RAD', 'TAX', 'PTRATIO', 'B', 'LSTAT', 'MDEV']\n",
            "      Error: 47.37482420952082\n",
            " Running model with: ['constant', 'ZN', 'INDUS', 'CHAS', 'NOX', 'AGE', 'DIS', 'TAX', 'PTRATIO', 'B', 'LSTAT', 'MDEV']\n",
            "      Error: 53.432530627437394\n",
            " Running model with: ['constant', 'ZN', 'INDUS', 'CHAS', 'NOX', 'AGE', 'DIS', 'RAD', 'PTRATIO', 'B', 'LSTAT', 'MDEV']\n",
            "      Error: 46.98723679643493\n",
            " Running model with: ['constant', 'ZN', 'INDUS', 'CHAS', 'NOX', 'AGE', 'DIS', 'RAD', 'TAX', 'B', 'LSTAT', 'MDEV']\n",
            "      Error: 47.2829490185273\n",
            " Running model with: ['constant', 'ZN', 'INDUS', 'CHAS', 'NOX', 'AGE', 'DIS', 'RAD', 'TAX', 'PTRATIO', 'LSTAT', 'MDEV']\n",
            "      Error: 46.03706169147075\n",
            " Running model with: ['constant', 'ZN', 'INDUS', 'CHAS', 'NOX', 'AGE', 'DIS', 'RAD', 'TAX', 'PTRATIO', 'B', 'MDEV']\n",
            "      Error: 47.29201315352871\n",
            " Running model with: ['constant', 'ZN', 'INDUS', 'CHAS', 'NOX', 'AGE', 'DIS', 'RAD', 'TAX', 'PTRATIO', 'B', 'LSTAT']\n",
            "      Error: 47.0477915097547\n",
            "          *** Will drop: B\n",
            "          *** Min error selected: 46.03706169147075\n",
            "          *** Chose the variable that generated the min error + was lower than previous error\n",
            "\n",
            "\u001b[1mIteration: 2 \u001b[0m\n",
            " Running model with: ['constant', 'INDUS', 'CHAS', 'NOX', 'AGE', 'DIS', 'RAD', 'TAX', 'PTRATIO', 'LSTAT', 'MDEV']\n",
            "      Error: 46.84822558126783\n",
            " Running model with: ['constant', 'ZN', 'CHAS', 'NOX', 'AGE', 'DIS', 'RAD', 'TAX', 'PTRATIO', 'LSTAT', 'MDEV']\n",
            "      Error: 45.06572181383616\n",
            " Running model with: ['constant', 'ZN', 'INDUS', 'NOX', 'AGE', 'DIS', 'RAD', 'TAX', 'PTRATIO', 'LSTAT', 'MDEV']\n",
            "      Error: 45.90785898026441\n",
            " Running model with: ['constant', 'ZN', 'INDUS', 'CHAS', 'AGE', 'DIS', 'RAD', 'TAX', 'PTRATIO', 'LSTAT', 'MDEV']\n",
            "      Error: 44.942721140633104\n",
            " Running model with: ['constant', 'ZN', 'INDUS', 'CHAS', 'NOX', 'DIS', 'RAD', 'TAX', 'PTRATIO', 'LSTAT', 'MDEV']\n",
            "      Error: 45.813588309996156\n",
            " Running model with: ['constant', 'ZN', 'INDUS', 'CHAS', 'NOX', 'AGE', 'RAD', 'TAX', 'PTRATIO', 'LSTAT', 'MDEV']\n",
            "      Error: 45.83816337682352\n",
            " Running model with: ['constant', 'ZN', 'INDUS', 'CHAS', 'NOX', 'AGE', 'DIS', 'TAX', 'PTRATIO', 'LSTAT', 'MDEV']\n",
            "      Error: 49.71420384354161\n",
            " Running model with: ['constant', 'ZN', 'INDUS', 'CHAS', 'NOX', 'AGE', 'DIS', 'RAD', 'PTRATIO', 'LSTAT', 'MDEV']\n",
            "      Error: 45.86296495802091\n",
            " Running model with: ['constant', 'ZN', 'INDUS', 'CHAS', 'NOX', 'AGE', 'DIS', 'RAD', 'TAX', 'LSTAT', 'MDEV']\n",
            "      Error: 46.28488087671645\n",
            " Running model with: ['constant', 'ZN', 'INDUS', 'CHAS', 'NOX', 'AGE', 'DIS', 'RAD', 'TAX', 'PTRATIO', 'MDEV']\n",
            "      Error: 46.206656310480284\n",
            " Running model with: ['constant', 'ZN', 'INDUS', 'CHAS', 'NOX', 'AGE', 'DIS', 'RAD', 'TAX', 'PTRATIO', 'LSTAT']\n",
            "      Error: 46.01178313707685\n",
            "          *** Will drop: NOX\n",
            "          *** Min error selected: 44.942721140633104\n",
            "          *** Chose the variable that generated the min error + was lower than previous error\n",
            "\n",
            "\u001b[1mIteration: 3 \u001b[0m\n",
            " Running model with: ['constant', 'INDUS', 'CHAS', 'AGE', 'DIS', 'RAD', 'TAX', 'PTRATIO', 'LSTAT', 'MDEV']\n",
            "      Error: 45.41948351730666\n",
            " Running model with: ['constant', 'ZN', 'CHAS', 'AGE', 'DIS', 'RAD', 'TAX', 'PTRATIO', 'LSTAT', 'MDEV']\n",
            "      Error: 44.922916467447926\n",
            " Running model with: ['constant', 'ZN', 'INDUS', 'AGE', 'DIS', 'RAD', 'TAX', 'PTRATIO', 'LSTAT', 'MDEV']\n",
            "      Error: 44.893045000756594\n",
            " Running model with: ['constant', 'ZN', 'INDUS', 'CHAS', 'DIS', 'RAD', 'TAX', 'PTRATIO', 'LSTAT', 'MDEV']\n",
            "      Error: 44.697570254819794\n",
            " Running model with: ['constant', 'ZN', 'INDUS', 'CHAS', 'AGE', 'RAD', 'TAX', 'PTRATIO', 'LSTAT', 'MDEV']\n",
            "      Error: 45.40214888935259\n",
            " Running model with: ['constant', 'ZN', 'INDUS', 'CHAS', 'AGE', 'DIS', 'TAX', 'PTRATIO', 'LSTAT', 'MDEV']\n",
            "      Error: 49.55703370732756\n",
            " Running model with: ['constant', 'ZN', 'INDUS', 'CHAS', 'AGE', 'DIS', 'RAD', 'PTRATIO', 'LSTAT', 'MDEV']\n",
            "      Error: 44.937728927396705\n",
            " Running model with: ['constant', 'ZN', 'INDUS', 'CHAS', 'AGE', 'DIS', 'RAD', 'TAX', 'LSTAT', 'MDEV']\n",
            "      Error: 45.02637918465123\n",
            " Running model with: ['constant', 'ZN', 'INDUS', 'CHAS', 'AGE', 'DIS', 'RAD', 'TAX', 'PTRATIO', 'MDEV']\n",
            "      Error: 45.10400403023094\n",
            " Running model with: ['constant', 'ZN', 'INDUS', 'CHAS', 'AGE', 'DIS', 'RAD', 'TAX', 'PTRATIO', 'LSTAT']\n",
            "      Error: 45.34230394026995\n",
            "          *** Will drop: AGE\n",
            "          *** Min error selected: 44.697570254819794\n",
            "          *** Chose the variable that generated the min error + was lower than previous error\n",
            "\n",
            "\u001b[1mIteration: 4 \u001b[0m\n",
            " Running model with: ['constant', 'INDUS', 'CHAS', 'DIS', 'RAD', 'TAX', 'PTRATIO', 'LSTAT', 'MDEV']\n",
            "      Error: 45.216846292582034\n",
            " Running model with: ['constant', 'ZN', 'CHAS', 'DIS', 'RAD', 'TAX', 'PTRATIO', 'LSTAT', 'MDEV']\n",
            "      Error: 44.795595717823495\n",
            " Running model with: ['constant', 'ZN', 'INDUS', 'DIS', 'RAD', 'TAX', 'PTRATIO', 'LSTAT', 'MDEV']\n",
            "      Error: 44.62447779796319\n",
            " Running model with: ['constant', 'ZN', 'INDUS', 'CHAS', 'RAD', 'TAX', 'PTRATIO', 'LSTAT', 'MDEV']\n",
            "      Error: 44.90938059460608\n",
            " Running model with: ['constant', 'ZN', 'INDUS', 'CHAS', 'DIS', 'TAX', 'PTRATIO', 'LSTAT', 'MDEV']\n",
            "      Error: 49.407607709545005\n",
            " Running model with: ['constant', 'ZN', 'INDUS', 'CHAS', 'DIS', 'RAD', 'PTRATIO', 'LSTAT', 'MDEV']\n",
            "      Error: 44.717109345377835\n",
            " Running model with: ['constant', 'ZN', 'INDUS', 'CHAS', 'DIS', 'RAD', 'TAX', 'LSTAT', 'MDEV']\n",
            "      Error: 44.75665817699233\n",
            " Running model with: ['constant', 'ZN', 'INDUS', 'CHAS', 'DIS', 'RAD', 'TAX', 'PTRATIO', 'MDEV']\n",
            "      Error: 44.94735616789143\n",
            " Running model with: ['constant', 'ZN', 'INDUS', 'CHAS', 'DIS', 'RAD', 'TAX', 'PTRATIO', 'LSTAT']\n",
            "      Error: 45.08026159583901\n",
            "          *** Will drop: CHAS\n",
            "          *** Min error selected: 44.62447779796319\n",
            "          *** Chose the variable that generated the min error + was lower than previous error\n",
            "\n",
            "\u001b[1mIteration: 5 \u001b[0m\n",
            " Running model with: ['constant', 'INDUS', 'DIS', 'RAD', 'TAX', 'PTRATIO', 'LSTAT', 'MDEV']\n",
            "      Error: 45.16084835755393\n",
            " Running model with: ['constant', 'ZN', 'DIS', 'RAD', 'TAX', 'PTRATIO', 'LSTAT', 'MDEV']\n",
            "      Error: 44.734345046929356\n",
            " Running model with: ['constant', 'ZN', 'INDUS', 'RAD', 'TAX', 'PTRATIO', 'LSTAT', 'MDEV']\n",
            "      Error: 44.792289351799596\n",
            " Running model with: ['constant', 'ZN', 'INDUS', 'DIS', 'TAX', 'PTRATIO', 'LSTAT', 'MDEV']\n",
            "      Error: 49.29197501407013\n",
            " Running model with: ['constant', 'ZN', 'INDUS', 'DIS', 'RAD', 'PTRATIO', 'LSTAT', 'MDEV']\n",
            "      Error: 44.57164670513222\n",
            " Running model with: ['constant', 'ZN', 'INDUS', 'DIS', 'RAD', 'TAX', 'LSTAT', 'MDEV']\n",
            "      Error: 44.66944643257212\n",
            " Running model with: ['constant', 'ZN', 'INDUS', 'DIS', 'RAD', 'TAX', 'PTRATIO', 'MDEV']\n",
            "      Error: 44.8638600542364\n",
            " Running model with: ['constant', 'ZN', 'INDUS', 'DIS', 'RAD', 'TAX', 'PTRATIO', 'LSTAT']\n",
            "      Error: 45.006209304552485\n",
            "          *** Will drop: TAX\n",
            "          *** Min error selected: 44.57164670513222\n",
            "          *** Chose the variable that generated the min error + was lower than previous error\n",
            "\n",
            "\u001b[1mIteration: 6 \u001b[0m\n",
            " Running model with: ['constant', 'INDUS', 'DIS', 'RAD', 'PTRATIO', 'LSTAT', 'MDEV']\n",
            "      Error: 45.00557592403744\n",
            " Running model with: ['constant', 'ZN', 'DIS', 'RAD', 'PTRATIO', 'LSTAT', 'MDEV']\n",
            "      Error: 44.835543881109984\n",
            " Running model with: ['constant', 'ZN', 'INDUS', 'RAD', 'PTRATIO', 'LSTAT', 'MDEV']\n",
            "      Error: 44.75419504015118\n",
            " Running model with: ['constant', 'ZN', 'INDUS', 'DIS', 'PTRATIO', 'LSTAT', 'MDEV']\n",
            "      Error: 63.69552151762243\n",
            " Running model with: ['constant', 'ZN', 'INDUS', 'DIS', 'RAD', 'LSTAT', 'MDEV']\n",
            "      Error: 44.64223506545176\n",
            " Running model with: ['constant', 'ZN', 'INDUS', 'DIS', 'RAD', 'PTRATIO', 'MDEV']\n",
            "      Error: 44.866337769364364\n",
            " Running model with: ['constant', 'ZN', 'INDUS', 'DIS', 'RAD', 'PTRATIO', 'LSTAT']\n",
            "      Error: 44.81536568056383\n",
            "          \u001b[4m*** No variable was selected \u001b[0m\n",
            "          *** Previous error rate ( 44.57164670513222 ) is lower than smallest error rate of this iteration ( 44.64223506545176 )\n",
            "          *** Break\n",
            "\n",
            "Variables chosen for our model ['constant', 'ZN', 'INDUS', 'DIS', 'RAD', 'PTRATIO', 'LSTAT', 'MDEV']\n"
          ]
        }
      ]
    },
    {
      "cell_type": "markdown",
      "source": [
        "### AIC"
      ],
      "metadata": {
        "id": "ALIy0y_dfuGM"
      }
    },
    {
      "cell_type": "code",
      "source": [
        "# Add constant to dataframe\n",
        "boston['constant'] = 1 \n",
        "\n",
        "# Specify target\n",
        "Y = boston['CRIM']\n",
        "\n",
        "# Variables to use in forward propagation\n",
        "vars_left_to_drop = ['ZN', 'INDUS', 'CHAS', 'NOX', 'RM', 'AGE', 'DIS', 'RAD', 'TAX',\n",
        "       'PTRATIO', 'B', 'LSTAT', 'MDEV'] \n",
        "\n",
        "# Regression type\n",
        "ols = LinearRegression()\n",
        "\n",
        "\n",
        "# Starting variables (all)\n",
        "current_vars = ['constant'] + vars_left_to_drop\n",
        "\n",
        "X = boston[current_vars]\n",
        "benchmark_error = OLS(Y, X).fit().aic\n",
        "print(' Initial run with all vars:', current_vars)\n",
        "print('      Benchmark error:', benchmark_error)\n",
        "print('')\n",
        "\n",
        "# Keep removing the worst variables (until no improvement can be made)\n",
        "for iter in range(len(vars_left_to_drop)):\n",
        "    print('\\033[1m'+ 'Iteration:', iter, '\\033[0m')\n",
        "    error_list = []\n",
        "    # Iterate over all the variables left to remove\n",
        "    for var in vars_left_to_drop:\n",
        "        # Modify X according to current iteration\n",
        "        vars_to_be_used = ['constant'] + [i for i in vars_left_to_drop if i != var]\n",
        "        X = boston[['constant'] + [i for i in vars_left_to_drop if i != var]]\n",
        "        # Perform 5-fold CV to get errors\n",
        "        error = OLS(Y, X).fit().aic\n",
        "        error_list.append(error)\n",
        "        print(' Running model with:', vars_to_be_used)\n",
        "        print('      Error:', error)\n",
        "\n",
        "    # Chose the largest error\n",
        "    min_error = min(error_list)\n",
        "    chosen_col_index = error_list.index(min_error)\n",
        "\n",
        "    # If our current smallest error is smaller than our previous error, then we drop the variable associated with it\n",
        "    if min_error < benchmark_error:\n",
        "        print('          *** Will drop:', vars_left_to_drop[chosen_col_index])\n",
        "        print('          *** Min error selected:', min_error)\n",
        "        print('          *** Chose the variable that generated the min error + was lower than previous error')\n",
        "        print('')\n",
        "        # Delete chosen variable from current_vars and vars_left_to_drop\n",
        "        del current_vars[chosen_col_index + 1]\n",
        "        del vars_left_to_drop[chosen_col_index]\n",
        "        # Update benchmark_error\n",
        "        benchmark_error = min_error\n",
        "    \n",
        "    # If not, we keep our model\n",
        "    else:\n",
        "        print('          \\033[4m*** No variable was selected', '\\033[0m')\n",
        "        print('          *** Previous error rate (', benchmark_error,') is lower than smallest error rate of this iteration (', min_error ,')')\n",
        "        print('          *** Break')\n",
        "        break\n",
        "\n",
        "print('')\n",
        "print('Variables chosen for our model', current_vars)"
      ],
      "metadata": {
        "colab": {
          "base_uri": "https://localhost:8080/"
        },
        "outputId": "3f5aee9c-c54d-403a-d5b2-98ecf1e29083",
        "id": "WXyTNmbRfrvy"
      },
      "execution_count": 13,
      "outputs": [
        {
          "output_type": "stream",
          "name": "stdout",
          "text": [
            " Initial run with all vars: ['constant', 'ZN', 'INDUS', 'CHAS', 'NOX', 'RM', 'AGE', 'DIS', 'RAD', 'TAX', 'PTRATIO', 'B', 'LSTAT', 'MDEV']\n",
            "      Benchmark error: 3339.385162839013\n",
            "\n",
            "\u001b[1mIteration: 0 \u001b[0m\n",
            " Running model with: ['constant', 'INDUS', 'CHAS', 'NOX', 'RM', 'AGE', 'DIS', 'RAD', 'TAX', 'PTRATIO', 'B', 'LSTAT', 'MDEV']\n",
            "      Error: 3343.20771130992\n",
            " Running model with: ['constant', 'ZN', 'CHAS', 'NOX', 'RM', 'AGE', 'DIS', 'RAD', 'TAX', 'PTRATIO', 'B', 'LSTAT', 'MDEV']\n",
            "      Error: 3337.9400281667763\n",
            " Running model with: ['constant', 'ZN', 'INDUS', 'NOX', 'RM', 'AGE', 'DIS', 'RAD', 'TAX', 'PTRATIO', 'B', 'LSTAT', 'MDEV']\n",
            "      Error: 3337.7870578241814\n",
            " Running model with: ['constant', 'ZN', 'INDUS', 'CHAS', 'RM', 'AGE', 'DIS', 'RAD', 'TAX', 'PTRATIO', 'B', 'LSTAT', 'MDEV']\n",
            "      Error: 3341.5159785696305\n",
            " Running model with: ['constant', 'ZN', 'INDUS', 'CHAS', 'NOX', 'AGE', 'DIS', 'RAD', 'TAX', 'PTRATIO', 'B', 'LSTAT', 'MDEV']\n",
            "      Error: 3337.7788683231893\n",
            " Running model with: ['constant', 'ZN', 'INDUS', 'CHAS', 'NOX', 'RM', 'DIS', 'RAD', 'TAX', 'PTRATIO', 'B', 'LSTAT', 'MDEV']\n",
            "      Error: 3337.397987975169\n",
            " Running model with: ['constant', 'ZN', 'INDUS', 'CHAS', 'NOX', 'RM', 'AGE', 'RAD', 'TAX', 'PTRATIO', 'B', 'LSTAT', 'MDEV']\n",
            "      Error: 3349.9258617960922\n",
            " Running model with: ['constant', 'ZN', 'INDUS', 'CHAS', 'NOX', 'RM', 'AGE', 'DIS', 'TAX', 'PTRATIO', 'B', 'LSTAT', 'MDEV']\n",
            "      Error: 3381.0062976126505\n",
            " Running model with: ['constant', 'ZN', 'INDUS', 'CHAS', 'NOX', 'RM', 'AGE', 'DIS', 'RAD', 'PTRATIO', 'B', 'LSTAT', 'MDEV']\n",
            "      Error: 3337.9225600830205\n",
            " Running model with: ['constant', 'ZN', 'INDUS', 'CHAS', 'NOX', 'RM', 'AGE', 'DIS', 'RAD', 'TAX', 'B', 'LSTAT', 'MDEV']\n",
            "      Error: 3339.656488421626\n",
            " Running model with: ['constant', 'ZN', 'INDUS', 'CHAS', 'NOX', 'RM', 'AGE', 'DIS', 'RAD', 'TAX', 'PTRATIO', 'LSTAT', 'MDEV']\n",
            "      Error: 3340.9203200937704\n",
            " Running model with: ['constant', 'ZN', 'INDUS', 'CHAS', 'NOX', 'RM', 'AGE', 'DIS', 'RAD', 'TAX', 'PTRATIO', 'B', 'MDEV']\n",
            "      Error: 3339.9908199025413\n",
            " Running model with: ['constant', 'ZN', 'INDUS', 'CHAS', 'NOX', 'RM', 'AGE', 'DIS', 'RAD', 'TAX', 'PTRATIO', 'B', 'LSTAT']\n",
            "      Error: 3348.305400313703\n",
            "          *** Will drop: AGE\n",
            "          *** Min error selected: 3337.397987975169\n",
            "          *** Chose the variable that generated the min error + was lower than previous error\n",
            "\n",
            "\u001b[1mIteration: 1 \u001b[0m\n",
            " Running model with: ['constant', 'INDUS', 'CHAS', 'NOX', 'RM', 'DIS', 'RAD', 'TAX', 'PTRATIO', 'B', 'LSTAT', 'MDEV']\n",
            "      Error: 3341.2391331397025\n",
            " Running model with: ['constant', 'ZN', 'CHAS', 'NOX', 'RM', 'DIS', 'RAD', 'TAX', 'PTRATIO', 'B', 'LSTAT', 'MDEV']\n",
            "      Error: 3335.9526811508977\n",
            " Running model with: ['constant', 'ZN', 'INDUS', 'NOX', 'RM', 'DIS', 'RAD', 'TAX', 'PTRATIO', 'B', 'LSTAT', 'MDEV']\n",
            "      Error: 3335.793732467273\n",
            " Running model with: ['constant', 'ZN', 'INDUS', 'CHAS', 'RM', 'DIS', 'RAD', 'TAX', 'PTRATIO', 'B', 'LSTAT', 'MDEV']\n",
            "      Error: 3339.7015492431638\n",
            " Running model with: ['constant', 'ZN', 'INDUS', 'CHAS', 'NOX', 'DIS', 'RAD', 'TAX', 'PTRATIO', 'B', 'LSTAT', 'MDEV']\n",
            "      Error: 3335.835080095834\n",
            " Running model with: ['constant', 'ZN', 'INDUS', 'CHAS', 'NOX', 'RM', 'RAD', 'TAX', 'PTRATIO', 'B', 'LSTAT', 'MDEV']\n",
            "      Error: 3349.22690309678\n",
            " Running model with: ['constant', 'ZN', 'INDUS', 'CHAS', 'NOX', 'RM', 'DIS', 'TAX', 'PTRATIO', 'B', 'LSTAT', 'MDEV']\n",
            "      Error: 3379.1582873973734\n",
            " Running model with: ['constant', 'ZN', 'INDUS', 'CHAS', 'NOX', 'RM', 'DIS', 'RAD', 'PTRATIO', 'B', 'LSTAT', 'MDEV']\n",
            "      Error: 3335.930902970419\n",
            " Running model with: ['constant', 'ZN', 'INDUS', 'CHAS', 'NOX', 'RM', 'DIS', 'RAD', 'TAX', 'B', 'LSTAT', 'MDEV']\n",
            "      Error: 3337.6564884492054\n",
            " Running model with: ['constant', 'ZN', 'INDUS', 'CHAS', 'NOX', 'RM', 'DIS', 'RAD', 'TAX', 'PTRATIO', 'LSTAT', 'MDEV']\n",
            "      Error: 3338.9203404988752\n",
            " Running model with: ['constant', 'ZN', 'INDUS', 'CHAS', 'NOX', 'RM', 'DIS', 'RAD', 'TAX', 'PTRATIO', 'B', 'MDEV']\n",
            "      Error: 3338.4091521221235\n",
            " Running model with: ['constant', 'ZN', 'INDUS', 'CHAS', 'NOX', 'RM', 'DIS', 'RAD', 'TAX', 'PTRATIO', 'B', 'LSTAT']\n",
            "      Error: 3346.31662807504\n",
            "          *** Will drop: CHAS\n",
            "          *** Min error selected: 3335.793732467273\n",
            "          *** Chose the variable that generated the min error + was lower than previous error\n",
            "\n",
            "\u001b[1mIteration: 2 \u001b[0m\n",
            " Running model with: ['constant', 'INDUS', 'NOX', 'RM', 'DIS', 'RAD', 'TAX', 'PTRATIO', 'B', 'LSTAT', 'MDEV']\n",
            "      Error: 3339.6794096371004\n",
            " Running model with: ['constant', 'ZN', 'NOX', 'RM', 'DIS', 'RAD', 'TAX', 'PTRATIO', 'B', 'LSTAT', 'MDEV']\n",
            "      Error: 3334.4534231786656\n",
            " Running model with: ['constant', 'ZN', 'INDUS', 'RM', 'DIS', 'RAD', 'TAX', 'PTRATIO', 'B', 'LSTAT', 'MDEV']\n",
            "      Error: 3338.3317417859644\n",
            " Running model with: ['constant', 'ZN', 'INDUS', 'NOX', 'DIS', 'RAD', 'TAX', 'PTRATIO', 'B', 'LSTAT', 'MDEV']\n",
            "      Error: 3334.2440856526337\n",
            " Running model with: ['constant', 'ZN', 'INDUS', 'NOX', 'RM', 'RAD', 'TAX', 'PTRATIO', 'B', 'LSTAT', 'MDEV']\n",
            "      Error: 3347.7146777143707\n",
            " Running model with: ['constant', 'ZN', 'INDUS', 'NOX', 'RM', 'DIS', 'TAX', 'PTRATIO', 'B', 'LSTAT', 'MDEV']\n",
            "      Error: 3377.1864533665025\n",
            " Running model with: ['constant', 'ZN', 'INDUS', 'NOX', 'RM', 'DIS', 'RAD', 'PTRATIO', 'B', 'LSTAT', 'MDEV']\n",
            "      Error: 3334.245842612034\n",
            " Running model with: ['constant', 'ZN', 'INDUS', 'NOX', 'RM', 'DIS', 'RAD', 'TAX', 'B', 'LSTAT', 'MDEV']\n",
            "      Error: 3335.980335714623\n",
            " Running model with: ['constant', 'ZN', 'INDUS', 'NOX', 'RM', 'DIS', 'RAD', 'TAX', 'PTRATIO', 'LSTAT', 'MDEV']\n",
            "      Error: 3337.3996337999465\n",
            " Running model with: ['constant', 'ZN', 'INDUS', 'NOX', 'RM', 'DIS', 'RAD', 'TAX', 'PTRATIO', 'B', 'MDEV']\n",
            "      Error: 3336.7606023424505\n",
            " Running model with: ['constant', 'ZN', 'INDUS', 'NOX', 'RM', 'DIS', 'RAD', 'TAX', 'PTRATIO', 'B', 'LSTAT']\n",
            "      Error: 3345.5512776889755\n",
            "          *** Will drop: RM\n",
            "          *** Min error selected: 3334.2440856526337\n",
            "          *** Chose the variable that generated the min error + was lower than previous error\n",
            "\n",
            "\u001b[1mIteration: 3 \u001b[0m\n",
            " Running model with: ['constant', 'INDUS', 'NOX', 'DIS', 'RAD', 'TAX', 'PTRATIO', 'B', 'LSTAT', 'MDEV']\n",
            "      Error: 3338.37517684147\n",
            " Running model with: ['constant', 'ZN', 'NOX', 'DIS', 'RAD', 'TAX', 'PTRATIO', 'B', 'LSTAT', 'MDEV']\n",
            "      Error: 3333.0184122535993\n",
            " Running model with: ['constant', 'ZN', 'INDUS', 'DIS', 'RAD', 'TAX', 'PTRATIO', 'B', 'LSTAT', 'MDEV']\n",
            "      Error: 3336.6690371307222\n",
            " Running model with: ['constant', 'ZN', 'INDUS', 'NOX', 'RAD', 'TAX', 'PTRATIO', 'B', 'LSTAT', 'MDEV']\n",
            "      Error: 3346.4915746415354\n",
            " Running model with: ['constant', 'ZN', 'INDUS', 'NOX', 'DIS', 'TAX', 'PTRATIO', 'B', 'LSTAT', 'MDEV']\n",
            "      Error: 3376.304753055805\n",
            " Running model with: ['constant', 'ZN', 'INDUS', 'NOX', 'DIS', 'RAD', 'PTRATIO', 'B', 'LSTAT', 'MDEV']\n",
            "      Error: 3332.701557391131\n",
            " Running model with: ['constant', 'ZN', 'INDUS', 'NOX', 'DIS', 'RAD', 'TAX', 'B', 'LSTAT', 'MDEV']\n",
            "      Error: 3334.446734777459\n",
            " Running model with: ['constant', 'ZN', 'INDUS', 'NOX', 'DIS', 'RAD', 'TAX', 'PTRATIO', 'LSTAT', 'MDEV']\n",
            "      Error: 3336.3276398063344\n",
            " Running model with: ['constant', 'ZN', 'INDUS', 'NOX', 'DIS', 'RAD', 'TAX', 'PTRATIO', 'B', 'MDEV']\n",
            "      Error: 3334.827138337393\n",
            " Running model with: ['constant', 'ZN', 'INDUS', 'NOX', 'DIS', 'RAD', 'TAX', 'PTRATIO', 'B', 'LSTAT']\n",
            "      Error: 3344.0688727538445\n",
            "          *** Will drop: TAX\n",
            "          *** Min error selected: 3332.701557391131\n",
            "          *** Chose the variable that generated the min error + was lower than previous error\n",
            "\n",
            "\u001b[1mIteration: 4 \u001b[0m\n",
            " Running model with: ['constant', 'INDUS', 'NOX', 'DIS', 'RAD', 'PTRATIO', 'B', 'LSTAT', 'MDEV']\n",
            "      Error: 3336.3822574539126\n",
            " Running model with: ['constant', 'ZN', 'NOX', 'DIS', 'RAD', 'PTRATIO', 'B', 'LSTAT', 'MDEV']\n",
            "      Error: 3332.3963017429214\n",
            " Running model with: ['constant', 'ZN', 'INDUS', 'DIS', 'RAD', 'PTRATIO', 'B', 'LSTAT', 'MDEV']\n",
            "      Error: 3335.267965969556\n",
            " Running model with: ['constant', 'ZN', 'INDUS', 'NOX', 'RAD', 'PTRATIO', 'B', 'LSTAT', 'MDEV']\n",
            "      Error: 3344.7801575145654\n",
            " Running model with: ['constant', 'ZN', 'INDUS', 'NOX', 'DIS', 'PTRATIO', 'B', 'LSTAT', 'MDEV']\n",
            "      Error: 3436.8787010006267\n",
            " Running model with: ['constant', 'ZN', 'INDUS', 'NOX', 'DIS', 'RAD', 'B', 'LSTAT', 'MDEV']\n",
            "      Error: 3332.973115088829\n",
            " Running model with: ['constant', 'ZN', 'INDUS', 'NOX', 'DIS', 'RAD', 'PTRATIO', 'LSTAT', 'MDEV']\n",
            "      Error: 3334.778862995495\n",
            " Running model with: ['constant', 'ZN', 'INDUS', 'NOX', 'DIS', 'RAD', 'PTRATIO', 'B', 'MDEV']\n",
            "      Error: 3333.4644161482993\n",
            " Running model with: ['constant', 'ZN', 'INDUS', 'NOX', 'DIS', 'RAD', 'PTRATIO', 'B', 'LSTAT']\n",
            "      Error: 3342.07359489322\n",
            "          *** Will drop: INDUS\n",
            "          *** Min error selected: 3332.3963017429214\n",
            "          *** Chose the variable that generated the min error + was lower than previous error\n",
            "\n",
            "\u001b[1mIteration: 5 \u001b[0m\n",
            " Running model with: ['constant', 'NOX', 'DIS', 'RAD', 'PTRATIO', 'B', 'LSTAT', 'MDEV']\n",
            "      Error: 3336.1902631263456\n",
            " Running model with: ['constant', 'ZN', 'DIS', 'RAD', 'PTRATIO', 'B', 'LSTAT', 'MDEV']\n",
            "      Error: 3337.8424601859633\n",
            " Running model with: ['constant', 'ZN', 'NOX', 'RAD', 'PTRATIO', 'B', 'LSTAT', 'MDEV']\n",
            "      Error: 3342.9612773917115\n",
            " Running model with: ['constant', 'ZN', 'NOX', 'DIS', 'PTRATIO', 'B', 'LSTAT', 'MDEV']\n",
            "      Error: 3434.9064476045396\n",
            " Running model with: ['constant', 'ZN', 'NOX', 'DIS', 'RAD', 'B', 'LSTAT', 'MDEV']\n",
            "      Error: 3333.4044316181694\n",
            " Running model with: ['constant', 'ZN', 'NOX', 'DIS', 'RAD', 'PTRATIO', 'LSTAT', 'MDEV']\n",
            "      Error: 3334.3739982778625\n",
            " Running model with: ['constant', 'ZN', 'NOX', 'DIS', 'RAD', 'PTRATIO', 'B', 'MDEV']\n",
            "      Error: 3332.824449287047\n",
            " Running model with: ['constant', 'ZN', 'NOX', 'DIS', 'RAD', 'PTRATIO', 'B', 'LSTAT']\n",
            "      Error: 3341.066513914931\n",
            "          \u001b[4m*** No variable was selected \u001b[0m\n",
            "          *** Previous error rate ( 3332.3963017429214 ) is lower than smallest error rate of this iteration ( 3332.824449287047 )\n",
            "          *** Break\n",
            "\n",
            "Variables chosen for our model ['constant', 'ZN', 'NOX', 'DIS', 'RAD', 'PTRATIO', 'B', 'LSTAT', 'MDEV']\n"
          ]
        }
      ]
    },
    {
      "cell_type": "markdown",
      "source": [
        "## 11b  \n",
        "Propose a model (or set of models) that seem to perform well on\n",
        "this data set, and justify your answer. Make sure that you are\n",
        "evaluating model performance using validation set error, crossvalidation,\n",
        "or some other reasonable alternative, as opposed to\n",
        "using training error."
      ],
      "metadata": {
        "id": "CAFT-BBJgMC7"
      }
    },
    {
      "cell_type": "code",
      "source": [
        "def get_mean_error(data, features, outcome):\n",
        "    return np.mean(-1*cross_val_score(LinearRegression(), data[features], data[outcome], cv = 5, scoring = 'neg_mean_squared_error'))"
      ],
      "metadata": {
        "id": "nrT9P1SWMkuZ"
      },
      "execution_count": 8,
      "outputs": []
    },
    {
      "cell_type": "code",
      "source": [
        "get_mean_error(boston, ['AGE', 'B'], \"CRIM\")"
      ],
      "metadata": {
        "colab": {
          "base_uri": "https://localhost:8080/"
        },
        "id": "6SFSckAtNMY6",
        "outputId": "ab257311-52e9-405a-f780-199477970c98"
      },
      "execution_count": 18,
      "outputs": [
        {
          "output_type": "execute_result",
          "data": {
            "text/plain": [
              "77.70313920217322"
            ]
          },
          "metadata": {},
          "execution_count": 18
        }
      ]
    },
    {
      "cell_type": "code",
      "source": [
        "def compare_mods(mod_list, data, outcome, seed):\n",
        "    random.seed(seed)\n",
        "    comparisons = {}\n",
        "    for mod in mod_list:\n",
        "        error = get_mean_error(data, mod, outcome)\n",
        "        comparisons[str(mod)] = error\n",
        "\n",
        "    return comparisons"
      ],
      "metadata": {
        "id": "GmHnKdDngSYC"
      },
      "execution_count": 30,
      "outputs": []
    },
    {
      "cell_type": "code",
      "source": [
        "mods = [['RAD', 'LSTAT', 'ZN'], \\\n",
        "        ['RAD', 'LSTAT', 'B', 'MDEV', 'ZN', 'DIS', 'NOX', 'PTRATIO'], \\\n",
        "        ['ZN', 'INDUS', 'DIS', 'RAD', 'PTRATIO', 'LSTAT', 'MDEV'], \\\n",
        "        ['ZN', 'NOX', 'DIS', 'RAD', 'PTRATIO', 'B', 'LSTAT', 'MDEV']]"
      ],
      "metadata": {
        "id": "1q4PWeFJL1Rw"
      },
      "execution_count": 28,
      "outputs": []
    },
    {
      "cell_type": "code",
      "source": [
        "compare_mods(mods, boston, \"CRIM\", 42)"
      ],
      "metadata": {
        "colab": {
          "base_uri": "https://localhost:8080/"
        },
        "id": "ahgO-dsWL3_f",
        "outputId": "96307298-d2cc-457f-e4ba-55a321f609c3"
      },
      "execution_count": 31,
      "outputs": [
        {
          "output_type": "execute_result",
          "data": {
            "text/plain": [
              "{\"['RAD', 'LSTAT', 'ZN']\": 44.46585900848579,\n",
              " \"['RAD', 'LSTAT', 'B', 'MDEV', 'ZN', 'DIS', 'NOX', 'PTRATIO']\": 45.62012009007763,\n",
              " \"['ZN', 'INDUS', 'DIS', 'RAD', 'PTRATIO', 'LSTAT', 'MDEV']\": 44.57164670513218,\n",
              " \"['ZN', 'NOX', 'DIS', 'RAD', 'PTRATIO', 'B', 'LSTAT', 'MDEV']\": 45.62012009007771}"
            ]
          },
          "metadata": {},
          "execution_count": 31
        }
      ]
    }
  ]
}