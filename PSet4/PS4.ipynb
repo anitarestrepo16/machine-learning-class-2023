{
  "nbformat": 4,
  "nbformat_minor": 0,
  "metadata": {
    "colab": {
      "provenance": [],
      "authorship_tag": "ABX9TyNK6rUF3r94J2vLeSKa9PdD",
      "include_colab_link": true
    },
    "kernelspec": {
      "name": "python3",
      "display_name": "Python 3"
    },
    "language_info": {
      "name": "python"
    }
  },
  "cells": [
    {
      "cell_type": "markdown",
      "metadata": {
        "id": "view-in-github",
        "colab_type": "text"
      },
      "source": [
        "<a href=\"https://colab.research.google.com/github/anitarestrepo16/machine-learning-class-2023/blob/main/PS4.ipynb\" target=\"_parent\"><img src=\"https://colab.research.google.com/assets/colab-badge.svg\" alt=\"Open In Colab\"/></a>"
      ]
    },
    {
      "cell_type": "code",
      "execution_count": 1,
      "metadata": {
        "id": "1vwZPsUpjFmu"
      },
      "outputs": [],
      "source": [
        "# Data manipulation\n",
        "import numpy as np\n",
        "import pandas as pd\n",
        "\n",
        "# Sci-kit learn\n",
        "from sklearn.pipeline import make_pipeline\n",
        "from sklearn.model_selection import train_test_split\n",
        "from sklearn.linear_model import LinearRegression, Ridge, Lasso, RidgeCV, LassoCV\n",
        "from sklearn.preprocessing import StandardScaler\n",
        "from sklearn.decomposition import PCA\n",
        "from sklearn.model_selection import cross_val_score, GridSearchCV, KFold\n",
        "from sklearn.metrics import mean_squared_error\n",
        "from sklearn.cross_decomposition import PLSRegression\n",
        "from sklearn.tree import DecisionTreeClassifier\n",
        "from sklearn import tree\n",
        "from sklearn.metrics import confusion_matrix\n",
        "from sklearn.metrics import accuracy_score\n",
        "from sklearn.tree import plot_tree\n",
        "\n",
        "# Visualization\n",
        "import seaborn as sns\n",
        "from matplotlib import pyplot as plt"
      ]
    },
    {
      "cell_type": "code",
      "source": [
        "from google.colab import drive\n",
        "drive.mount('/drive')"
      ],
      "metadata": {
        "colab": {
          "base_uri": "https://localhost:8080/"
        },
        "id": "DFJFXTbyslbo",
        "outputId": "85d7fde7-3a28-4900-d057-06abc4b3ce33"
      },
      "execution_count": 2,
      "outputs": [
        {
          "output_type": "stream",
          "name": "stdout",
          "text": [
            "Mounted at /drive\n"
          ]
        }
      ]
    },
    {
      "cell_type": "markdown",
      "source": [
        "# Chapter 6 - Question 9"
      ],
      "metadata": {
        "id": "FLXk9SWSso5u"
      }
    },
    {
      "cell_type": "code",
      "source": [
        "college = pd.read_csv('/drive/My Drive/Colab Notebooks/Data-College.csv')\n",
        "college.head()"
      ],
      "metadata": {
        "colab": {
          "base_uri": "https://localhost:8080/",
          "height": 426
        },
        "id": "9IkZ0FlCsrGF",
        "outputId": "d982ef65-dd68-4b7a-a529-4e1e1f9de273"
      },
      "execution_count": 3,
      "outputs": [
        {
          "output_type": "execute_result",
          "data": {
            "text/plain": [
              "                     Unnamed: 0 Private  Apps  Accept  Enroll  Top10perc  \\\n",
              "0  Abilene Christian University     Yes  1660    1232     721         23   \n",
              "1            Adelphi University     Yes  2186    1924     512         16   \n",
              "2                Adrian College     Yes  1428    1097     336         22   \n",
              "3           Agnes Scott College     Yes   417     349     137         60   \n",
              "4     Alaska Pacific University     Yes   193     146      55         16   \n",
              "\n",
              "   Top25perc  F.Undergrad  P.Undergrad  Outstate  Room.Board  Books  Personal  \\\n",
              "0         52         2885          537      7440        3300    450      2200   \n",
              "1         29         2683         1227     12280        6450    750      1500   \n",
              "2         50         1036           99     11250        3750    400      1165   \n",
              "3         89          510           63     12960        5450    450       875   \n",
              "4         44          249          869      7560        4120    800      1500   \n",
              "\n",
              "   PhD  Terminal  S.F.Ratio  perc.alumni  Expend  Grad.Rate  \n",
              "0   70        78       18.1           12    7041         60  \n",
              "1   29        30       12.2           16   10527         56  \n",
              "2   53        66       12.9           30    8735         54  \n",
              "3   92        97        7.7           37   19016         59  \n",
              "4   76        72       11.9            2   10922         15  "
            ],
            "text/html": [
              "\n",
              "  <div id=\"df-9b0cb29a-858b-4734-a44b-869e205d7d3e\">\n",
              "    <div class=\"colab-df-container\">\n",
              "      <div>\n",
              "<style scoped>\n",
              "    .dataframe tbody tr th:only-of-type {\n",
              "        vertical-align: middle;\n",
              "    }\n",
              "\n",
              "    .dataframe tbody tr th {\n",
              "        vertical-align: top;\n",
              "    }\n",
              "\n",
              "    .dataframe thead th {\n",
              "        text-align: right;\n",
              "    }\n",
              "</style>\n",
              "<table border=\"1\" class=\"dataframe\">\n",
              "  <thead>\n",
              "    <tr style=\"text-align: right;\">\n",
              "      <th></th>\n",
              "      <th>Unnamed: 0</th>\n",
              "      <th>Private</th>\n",
              "      <th>Apps</th>\n",
              "      <th>Accept</th>\n",
              "      <th>Enroll</th>\n",
              "      <th>Top10perc</th>\n",
              "      <th>Top25perc</th>\n",
              "      <th>F.Undergrad</th>\n",
              "      <th>P.Undergrad</th>\n",
              "      <th>Outstate</th>\n",
              "      <th>Room.Board</th>\n",
              "      <th>Books</th>\n",
              "      <th>Personal</th>\n",
              "      <th>PhD</th>\n",
              "      <th>Terminal</th>\n",
              "      <th>S.F.Ratio</th>\n",
              "      <th>perc.alumni</th>\n",
              "      <th>Expend</th>\n",
              "      <th>Grad.Rate</th>\n",
              "    </tr>\n",
              "  </thead>\n",
              "  <tbody>\n",
              "    <tr>\n",
              "      <th>0</th>\n",
              "      <td>Abilene Christian University</td>\n",
              "      <td>Yes</td>\n",
              "      <td>1660</td>\n",
              "      <td>1232</td>\n",
              "      <td>721</td>\n",
              "      <td>23</td>\n",
              "      <td>52</td>\n",
              "      <td>2885</td>\n",
              "      <td>537</td>\n",
              "      <td>7440</td>\n",
              "      <td>3300</td>\n",
              "      <td>450</td>\n",
              "      <td>2200</td>\n",
              "      <td>70</td>\n",
              "      <td>78</td>\n",
              "      <td>18.1</td>\n",
              "      <td>12</td>\n",
              "      <td>7041</td>\n",
              "      <td>60</td>\n",
              "    </tr>\n",
              "    <tr>\n",
              "      <th>1</th>\n",
              "      <td>Adelphi University</td>\n",
              "      <td>Yes</td>\n",
              "      <td>2186</td>\n",
              "      <td>1924</td>\n",
              "      <td>512</td>\n",
              "      <td>16</td>\n",
              "      <td>29</td>\n",
              "      <td>2683</td>\n",
              "      <td>1227</td>\n",
              "      <td>12280</td>\n",
              "      <td>6450</td>\n",
              "      <td>750</td>\n",
              "      <td>1500</td>\n",
              "      <td>29</td>\n",
              "      <td>30</td>\n",
              "      <td>12.2</td>\n",
              "      <td>16</td>\n",
              "      <td>10527</td>\n",
              "      <td>56</td>\n",
              "    </tr>\n",
              "    <tr>\n",
              "      <th>2</th>\n",
              "      <td>Adrian College</td>\n",
              "      <td>Yes</td>\n",
              "      <td>1428</td>\n",
              "      <td>1097</td>\n",
              "      <td>336</td>\n",
              "      <td>22</td>\n",
              "      <td>50</td>\n",
              "      <td>1036</td>\n",
              "      <td>99</td>\n",
              "      <td>11250</td>\n",
              "      <td>3750</td>\n",
              "      <td>400</td>\n",
              "      <td>1165</td>\n",
              "      <td>53</td>\n",
              "      <td>66</td>\n",
              "      <td>12.9</td>\n",
              "      <td>30</td>\n",
              "      <td>8735</td>\n",
              "      <td>54</td>\n",
              "    </tr>\n",
              "    <tr>\n",
              "      <th>3</th>\n",
              "      <td>Agnes Scott College</td>\n",
              "      <td>Yes</td>\n",
              "      <td>417</td>\n",
              "      <td>349</td>\n",
              "      <td>137</td>\n",
              "      <td>60</td>\n",
              "      <td>89</td>\n",
              "      <td>510</td>\n",
              "      <td>63</td>\n",
              "      <td>12960</td>\n",
              "      <td>5450</td>\n",
              "      <td>450</td>\n",
              "      <td>875</td>\n",
              "      <td>92</td>\n",
              "      <td>97</td>\n",
              "      <td>7.7</td>\n",
              "      <td>37</td>\n",
              "      <td>19016</td>\n",
              "      <td>59</td>\n",
              "    </tr>\n",
              "    <tr>\n",
              "      <th>4</th>\n",
              "      <td>Alaska Pacific University</td>\n",
              "      <td>Yes</td>\n",
              "      <td>193</td>\n",
              "      <td>146</td>\n",
              "      <td>55</td>\n",
              "      <td>16</td>\n",
              "      <td>44</td>\n",
              "      <td>249</td>\n",
              "      <td>869</td>\n",
              "      <td>7560</td>\n",
              "      <td>4120</td>\n",
              "      <td>800</td>\n",
              "      <td>1500</td>\n",
              "      <td>76</td>\n",
              "      <td>72</td>\n",
              "      <td>11.9</td>\n",
              "      <td>2</td>\n",
              "      <td>10922</td>\n",
              "      <td>15</td>\n",
              "    </tr>\n",
              "  </tbody>\n",
              "</table>\n",
              "</div>\n",
              "      <button class=\"colab-df-convert\" onclick=\"convertToInteractive('df-9b0cb29a-858b-4734-a44b-869e205d7d3e')\"\n",
              "              title=\"Convert this dataframe to an interactive table.\"\n",
              "              style=\"display:none;\">\n",
              "        \n",
              "  <svg xmlns=\"http://www.w3.org/2000/svg\" height=\"24px\"viewBox=\"0 0 24 24\"\n",
              "       width=\"24px\">\n",
              "    <path d=\"M0 0h24v24H0V0z\" fill=\"none\"/>\n",
              "    <path d=\"M18.56 5.44l.94 2.06.94-2.06 2.06-.94-2.06-.94-.94-2.06-.94 2.06-2.06.94zm-11 1L8.5 8.5l.94-2.06 2.06-.94-2.06-.94L8.5 2.5l-.94 2.06-2.06.94zm10 10l.94 2.06.94-2.06 2.06-.94-2.06-.94-.94-2.06-.94 2.06-2.06.94z\"/><path d=\"M17.41 7.96l-1.37-1.37c-.4-.4-.92-.59-1.43-.59-.52 0-1.04.2-1.43.59L10.3 9.45l-7.72 7.72c-.78.78-.78 2.05 0 2.83L4 21.41c.39.39.9.59 1.41.59.51 0 1.02-.2 1.41-.59l7.78-7.78 2.81-2.81c.8-.78.8-2.07 0-2.86zM5.41 20L4 18.59l7.72-7.72 1.47 1.35L5.41 20z\"/>\n",
              "  </svg>\n",
              "      </button>\n",
              "      \n",
              "  <style>\n",
              "    .colab-df-container {\n",
              "      display:flex;\n",
              "      flex-wrap:wrap;\n",
              "      gap: 12px;\n",
              "    }\n",
              "\n",
              "    .colab-df-convert {\n",
              "      background-color: #E8F0FE;\n",
              "      border: none;\n",
              "      border-radius: 50%;\n",
              "      cursor: pointer;\n",
              "      display: none;\n",
              "      fill: #1967D2;\n",
              "      height: 32px;\n",
              "      padding: 0 0 0 0;\n",
              "      width: 32px;\n",
              "    }\n",
              "\n",
              "    .colab-df-convert:hover {\n",
              "      background-color: #E2EBFA;\n",
              "      box-shadow: 0px 1px 2px rgba(60, 64, 67, 0.3), 0px 1px 3px 1px rgba(60, 64, 67, 0.15);\n",
              "      fill: #174EA6;\n",
              "    }\n",
              "\n",
              "    [theme=dark] .colab-df-convert {\n",
              "      background-color: #3B4455;\n",
              "      fill: #D2E3FC;\n",
              "    }\n",
              "\n",
              "    [theme=dark] .colab-df-convert:hover {\n",
              "      background-color: #434B5C;\n",
              "      box-shadow: 0px 1px 3px 1px rgba(0, 0, 0, 0.15);\n",
              "      filter: drop-shadow(0px 1px 2px rgba(0, 0, 0, 0.3));\n",
              "      fill: #FFFFFF;\n",
              "    }\n",
              "  </style>\n",
              "\n",
              "      <script>\n",
              "        const buttonEl =\n",
              "          document.querySelector('#df-9b0cb29a-858b-4734-a44b-869e205d7d3e button.colab-df-convert');\n",
              "        buttonEl.style.display =\n",
              "          google.colab.kernel.accessAllowed ? 'block' : 'none';\n",
              "\n",
              "        async function convertToInteractive(key) {\n",
              "          const element = document.querySelector('#df-9b0cb29a-858b-4734-a44b-869e205d7d3e');\n",
              "          const dataTable =\n",
              "            await google.colab.kernel.invokeFunction('convertToInteractive',\n",
              "                                                     [key], {});\n",
              "          if (!dataTable) return;\n",
              "\n",
              "          const docLinkHtml = 'Like what you see? Visit the ' +\n",
              "            '<a target=\"_blank\" href=https://colab.research.google.com/notebooks/data_table.ipynb>data table notebook</a>'\n",
              "            + ' to learn more about interactive tables.';\n",
              "          element.innerHTML = '';\n",
              "          dataTable['output_type'] = 'display_data';\n",
              "          await google.colab.output.renderOutput(dataTable, element);\n",
              "          const docLink = document.createElement('div');\n",
              "          docLink.innerHTML = docLinkHtml;\n",
              "          element.appendChild(docLink);\n",
              "        }\n",
              "      </script>\n",
              "    </div>\n",
              "  </div>\n",
              "  "
            ]
          },
          "metadata": {},
          "execution_count": 3
        }
      ]
    },
    {
      "cell_type": "code",
      "source": [
        "college[\"Private\"].unique()"
      ],
      "metadata": {
        "colab": {
          "base_uri": "https://localhost:8080/"
        },
        "id": "ZoVCe0Pc0VbC",
        "outputId": "fe4f0ded-a06c-4628-87ba-55a86df23359"
      },
      "execution_count": 4,
      "outputs": [
        {
          "output_type": "execute_result",
          "data": {
            "text/plain": [
              "array(['Yes', 'No'], dtype=object)"
            ]
          },
          "metadata": {},
          "execution_count": 4
        }
      ]
    },
    {
      "cell_type": "code",
      "source": [
        "college[\"Private\"] = np.where(college['Private'] == \"Yes\", 1, 0)\n",
        "college[\"Private\"].unique()"
      ],
      "metadata": {
        "colab": {
          "base_uri": "https://localhost:8080/"
        },
        "id": "gL33oMo4z-hU",
        "outputId": "2ea435ed-da31-4d4e-d103-3b20701a3077"
      },
      "execution_count": 5,
      "outputs": [
        {
          "output_type": "execute_result",
          "data": {
            "text/plain": [
              "array([1, 0])"
            ]
          },
          "metadata": {},
          "execution_count": 5
        }
      ]
    },
    {
      "cell_type": "code",
      "source": [
        "mod_MSEs = {}"
      ],
      "metadata": {
        "id": "H0HTJhZHcjHq"
      },
      "execution_count": 6,
      "outputs": []
    },
    {
      "cell_type": "markdown",
      "source": [
        "## 9a\n",
        "Split Data"
      ],
      "metadata": {
        "id": "KxuydzJPt4z_"
      }
    },
    {
      "cell_type": "code",
      "source": [
        "train, test = train_test_split(college, test_size = 0.5, random_state = 37)\n",
        "test.head()"
      ],
      "metadata": {
        "colab": {
          "base_uri": "https://localhost:8080/",
          "height": 443
        },
        "id": "3DFNcCDetcBL",
        "outputId": "b9f85f59-95a9-4c4a-bca2-b5d8cb824a93"
      },
      "execution_count": 7,
      "outputs": [
        {
          "output_type": "execute_result",
          "data": {
            "text/plain": [
              "                         Unnamed: 0  Private  Apps  Accept  Enroll  Top10perc  \\\n",
              "255                   Hiram College        1   922     729     244         37   \n",
              "707           Valparaiso University        1  2075    1727     520         49   \n",
              "468  Randolph-Macon Woman's College        1   696     616     169         35   \n",
              "325       Louisiana Tech University        0  2397    2144    1525         22   \n",
              "34          Baldwin-Wallace College        1  1690    1366     662         30   \n",
              "\n",
              "     Top25perc  F.Undergrad  P.Undergrad  Outstate  Room.Board  Books  \\\n",
              "255         66         1000          275     14067        4560    400   \n",
              "707         81         2501          198     11800        3260    500   \n",
              "468         66          653           56     13970        6110    370   \n",
              "325         45         6720         1822      3957        2325    618   \n",
              "34          61         2718         1460     10995        4410   1000   \n",
              "\n",
              "     Personal  PhD  Terminal  S.F.Ratio  perc.alumni  Expend  Grad.Rate  \n",
              "255      1000   75        95       10.6           34   12165         79  \n",
              "707       800   87        89       14.2           23    9681         95  \n",
              "468       920   88        97        9.2           24   16358         68  \n",
              "325      1656   66        77       20.0           13    4546         45  \n",
              "34       1000   68        74       17.6           20    8086         85  "
            ],
            "text/html": [
              "\n",
              "  <div id=\"df-031135eb-f25d-4f75-b692-403f44eefb4f\">\n",
              "    <div class=\"colab-df-container\">\n",
              "      <div>\n",
              "<style scoped>\n",
              "    .dataframe tbody tr th:only-of-type {\n",
              "        vertical-align: middle;\n",
              "    }\n",
              "\n",
              "    .dataframe tbody tr th {\n",
              "        vertical-align: top;\n",
              "    }\n",
              "\n",
              "    .dataframe thead th {\n",
              "        text-align: right;\n",
              "    }\n",
              "</style>\n",
              "<table border=\"1\" class=\"dataframe\">\n",
              "  <thead>\n",
              "    <tr style=\"text-align: right;\">\n",
              "      <th></th>\n",
              "      <th>Unnamed: 0</th>\n",
              "      <th>Private</th>\n",
              "      <th>Apps</th>\n",
              "      <th>Accept</th>\n",
              "      <th>Enroll</th>\n",
              "      <th>Top10perc</th>\n",
              "      <th>Top25perc</th>\n",
              "      <th>F.Undergrad</th>\n",
              "      <th>P.Undergrad</th>\n",
              "      <th>Outstate</th>\n",
              "      <th>Room.Board</th>\n",
              "      <th>Books</th>\n",
              "      <th>Personal</th>\n",
              "      <th>PhD</th>\n",
              "      <th>Terminal</th>\n",
              "      <th>S.F.Ratio</th>\n",
              "      <th>perc.alumni</th>\n",
              "      <th>Expend</th>\n",
              "      <th>Grad.Rate</th>\n",
              "    </tr>\n",
              "  </thead>\n",
              "  <tbody>\n",
              "    <tr>\n",
              "      <th>255</th>\n",
              "      <td>Hiram College</td>\n",
              "      <td>1</td>\n",
              "      <td>922</td>\n",
              "      <td>729</td>\n",
              "      <td>244</td>\n",
              "      <td>37</td>\n",
              "      <td>66</td>\n",
              "      <td>1000</td>\n",
              "      <td>275</td>\n",
              "      <td>14067</td>\n",
              "      <td>4560</td>\n",
              "      <td>400</td>\n",
              "      <td>1000</td>\n",
              "      <td>75</td>\n",
              "      <td>95</td>\n",
              "      <td>10.6</td>\n",
              "      <td>34</td>\n",
              "      <td>12165</td>\n",
              "      <td>79</td>\n",
              "    </tr>\n",
              "    <tr>\n",
              "      <th>707</th>\n",
              "      <td>Valparaiso University</td>\n",
              "      <td>1</td>\n",
              "      <td>2075</td>\n",
              "      <td>1727</td>\n",
              "      <td>520</td>\n",
              "      <td>49</td>\n",
              "      <td>81</td>\n",
              "      <td>2501</td>\n",
              "      <td>198</td>\n",
              "      <td>11800</td>\n",
              "      <td>3260</td>\n",
              "      <td>500</td>\n",
              "      <td>800</td>\n",
              "      <td>87</td>\n",
              "      <td>89</td>\n",
              "      <td>14.2</td>\n",
              "      <td>23</td>\n",
              "      <td>9681</td>\n",
              "      <td>95</td>\n",
              "    </tr>\n",
              "    <tr>\n",
              "      <th>468</th>\n",
              "      <td>Randolph-Macon Woman's College</td>\n",
              "      <td>1</td>\n",
              "      <td>696</td>\n",
              "      <td>616</td>\n",
              "      <td>169</td>\n",
              "      <td>35</td>\n",
              "      <td>66</td>\n",
              "      <td>653</td>\n",
              "      <td>56</td>\n",
              "      <td>13970</td>\n",
              "      <td>6110</td>\n",
              "      <td>370</td>\n",
              "      <td>920</td>\n",
              "      <td>88</td>\n",
              "      <td>97</td>\n",
              "      <td>9.2</td>\n",
              "      <td>24</td>\n",
              "      <td>16358</td>\n",
              "      <td>68</td>\n",
              "    </tr>\n",
              "    <tr>\n",
              "      <th>325</th>\n",
              "      <td>Louisiana Tech University</td>\n",
              "      <td>0</td>\n",
              "      <td>2397</td>\n",
              "      <td>2144</td>\n",
              "      <td>1525</td>\n",
              "      <td>22</td>\n",
              "      <td>45</td>\n",
              "      <td>6720</td>\n",
              "      <td>1822</td>\n",
              "      <td>3957</td>\n",
              "      <td>2325</td>\n",
              "      <td>618</td>\n",
              "      <td>1656</td>\n",
              "      <td>66</td>\n",
              "      <td>77</td>\n",
              "      <td>20.0</td>\n",
              "      <td>13</td>\n",
              "      <td>4546</td>\n",
              "      <td>45</td>\n",
              "    </tr>\n",
              "    <tr>\n",
              "      <th>34</th>\n",
              "      <td>Baldwin-Wallace College</td>\n",
              "      <td>1</td>\n",
              "      <td>1690</td>\n",
              "      <td>1366</td>\n",
              "      <td>662</td>\n",
              "      <td>30</td>\n",
              "      <td>61</td>\n",
              "      <td>2718</td>\n",
              "      <td>1460</td>\n",
              "      <td>10995</td>\n",
              "      <td>4410</td>\n",
              "      <td>1000</td>\n",
              "      <td>1000</td>\n",
              "      <td>68</td>\n",
              "      <td>74</td>\n",
              "      <td>17.6</td>\n",
              "      <td>20</td>\n",
              "      <td>8086</td>\n",
              "      <td>85</td>\n",
              "    </tr>\n",
              "  </tbody>\n",
              "</table>\n",
              "</div>\n",
              "      <button class=\"colab-df-convert\" onclick=\"convertToInteractive('df-031135eb-f25d-4f75-b692-403f44eefb4f')\"\n",
              "              title=\"Convert this dataframe to an interactive table.\"\n",
              "              style=\"display:none;\">\n",
              "        \n",
              "  <svg xmlns=\"http://www.w3.org/2000/svg\" height=\"24px\"viewBox=\"0 0 24 24\"\n",
              "       width=\"24px\">\n",
              "    <path d=\"M0 0h24v24H0V0z\" fill=\"none\"/>\n",
              "    <path d=\"M18.56 5.44l.94 2.06.94-2.06 2.06-.94-2.06-.94-.94-2.06-.94 2.06-2.06.94zm-11 1L8.5 8.5l.94-2.06 2.06-.94-2.06-.94L8.5 2.5l-.94 2.06-2.06.94zm10 10l.94 2.06.94-2.06 2.06-.94-2.06-.94-.94-2.06-.94 2.06-2.06.94z\"/><path d=\"M17.41 7.96l-1.37-1.37c-.4-.4-.92-.59-1.43-.59-.52 0-1.04.2-1.43.59L10.3 9.45l-7.72 7.72c-.78.78-.78 2.05 0 2.83L4 21.41c.39.39.9.59 1.41.59.51 0 1.02-.2 1.41-.59l7.78-7.78 2.81-2.81c.8-.78.8-2.07 0-2.86zM5.41 20L4 18.59l7.72-7.72 1.47 1.35L5.41 20z\"/>\n",
              "  </svg>\n",
              "      </button>\n",
              "      \n",
              "  <style>\n",
              "    .colab-df-container {\n",
              "      display:flex;\n",
              "      flex-wrap:wrap;\n",
              "      gap: 12px;\n",
              "    }\n",
              "\n",
              "    .colab-df-convert {\n",
              "      background-color: #E8F0FE;\n",
              "      border: none;\n",
              "      border-radius: 50%;\n",
              "      cursor: pointer;\n",
              "      display: none;\n",
              "      fill: #1967D2;\n",
              "      height: 32px;\n",
              "      padding: 0 0 0 0;\n",
              "      width: 32px;\n",
              "    }\n",
              "\n",
              "    .colab-df-convert:hover {\n",
              "      background-color: #E2EBFA;\n",
              "      box-shadow: 0px 1px 2px rgba(60, 64, 67, 0.3), 0px 1px 3px 1px rgba(60, 64, 67, 0.15);\n",
              "      fill: #174EA6;\n",
              "    }\n",
              "\n",
              "    [theme=dark] .colab-df-convert {\n",
              "      background-color: #3B4455;\n",
              "      fill: #D2E3FC;\n",
              "    }\n",
              "\n",
              "    [theme=dark] .colab-df-convert:hover {\n",
              "      background-color: #434B5C;\n",
              "      box-shadow: 0px 1px 3px 1px rgba(0, 0, 0, 0.15);\n",
              "      filter: drop-shadow(0px 1px 2px rgba(0, 0, 0, 0.3));\n",
              "      fill: #FFFFFF;\n",
              "    }\n",
              "  </style>\n",
              "\n",
              "      <script>\n",
              "        const buttonEl =\n",
              "          document.querySelector('#df-031135eb-f25d-4f75-b692-403f44eefb4f button.colab-df-convert');\n",
              "        buttonEl.style.display =\n",
              "          google.colab.kernel.accessAllowed ? 'block' : 'none';\n",
              "\n",
              "        async function convertToInteractive(key) {\n",
              "          const element = document.querySelector('#df-031135eb-f25d-4f75-b692-403f44eefb4f');\n",
              "          const dataTable =\n",
              "            await google.colab.kernel.invokeFunction('convertToInteractive',\n",
              "                                                     [key], {});\n",
              "          if (!dataTable) return;\n",
              "\n",
              "          const docLinkHtml = 'Like what you see? Visit the ' +\n",
              "            '<a target=\"_blank\" href=https://colab.research.google.com/notebooks/data_table.ipynb>data table notebook</a>'\n",
              "            + ' to learn more about interactive tables.';\n",
              "          element.innerHTML = '';\n",
              "          dataTable['output_type'] = 'display_data';\n",
              "          await google.colab.output.renderOutput(dataTable, element);\n",
              "          const docLink = document.createElement('div');\n",
              "          docLink.innerHTML = docLinkHtml;\n",
              "          element.appendChild(docLink);\n",
              "        }\n",
              "      </script>\n",
              "    </div>\n",
              "  </div>\n",
              "  "
            ]
          },
          "metadata": {},
          "execution_count": 7
        }
      ]
    },
    {
      "cell_type": "code",
      "source": [
        "X_train = train.drop(['Unnamed: 0', 'Apps'], axis = 1)\n",
        "y_train = train['Apps']\n",
        "X_test = test.drop(['Unnamed: 0', 'Apps'], axis = 1)\n",
        "y_test = test['Apps']"
      ],
      "metadata": {
        "id": "wvakDoy3tvpG"
      },
      "execution_count": 8,
      "outputs": []
    },
    {
      "cell_type": "markdown",
      "source": [
        "## 6b\n",
        "OLS"
      ],
      "metadata": {
        "id": "u3Ori-iMursh"
      }
    },
    {
      "cell_type": "code",
      "source": [
        "pipe = make_pipeline(StandardScaler(), LinearRegression())\n",
        "pipe.fit(X_train, y_train)"
      ],
      "metadata": {
        "colab": {
          "base_uri": "https://localhost:8080/"
        },
        "id": "VrHvWKhdusme",
        "outputId": "a8f346d5-497e-4ee5-860e-285a791d7a9c"
      },
      "execution_count": 9,
      "outputs": [
        {
          "output_type": "execute_result",
          "data": {
            "text/plain": [
              "Pipeline(steps=[('standardscaler', StandardScaler()),\n",
              "                ('linearregression', LinearRegression())])"
            ]
          },
          "metadata": {},
          "execution_count": 9
        }
      ]
    },
    {
      "cell_type": "code",
      "source": [
        "mod_MSEs[\"OLS\"] = mean_squared_error(y_test, pipe.predict(X_test))"
      ],
      "metadata": {
        "id": "wAgRKvyJzhhn"
      },
      "execution_count": 10,
      "outputs": []
    },
    {
      "cell_type": "markdown",
      "source": [
        "## 6c\n",
        "Ridge Regression"
      ],
      "metadata": {
        "id": "I2V_EvgrLOYy"
      }
    },
    {
      "cell_type": "code",
      "source": [
        "params = {'alpha': np.linspace(.01, 10, 100)}\n",
        "ridge_cv = GridSearchCV(estimator = Ridge(), param_grid = params, scoring = 'neg_mean_squared_error', cv = 10, return_train_score = True)\n",
        "pipe = make_pipeline(StandardScaler(), ridge_cv).fit(X_train, y_train)\n",
        "ridge = pipe[-1]"
      ],
      "metadata": {
        "id": "PeNXhNkcLJaj"
      },
      "execution_count": 11,
      "outputs": []
    },
    {
      "cell_type": "code",
      "source": [
        "cv_ridge_res = pd.DataFrame(ridge.cv_results_)\n",
        "cv_ridge_res.head()"
      ],
      "metadata": {
        "colab": {
          "base_uri": "https://localhost:8080/",
          "height": 369
        },
        "id": "O4DeFTGxOBGl",
        "outputId": "ca46e3dc-c015-42c4-f827-bc1b1667b40b"
      },
      "execution_count": 12,
      "outputs": [
        {
          "output_type": "execute_result",
          "data": {
            "text/plain": [
              "   mean_fit_time  std_fit_time  mean_score_time  std_score_time param_alpha  \\\n",
              "0       0.009010      0.005259         0.005233        0.007139        0.01   \n",
              "1       0.013072      0.013223         0.002009        0.003447    0.110909   \n",
              "2       0.003628      0.003209         0.000735        0.000118    0.211818   \n",
              "3       0.001924      0.000504         0.000646        0.000032    0.312727   \n",
              "4       0.002487      0.001122         0.000769        0.000243    0.413636   \n",
              "\n",
              "                           params  split0_test_score  split1_test_score  \\\n",
              "0                 {'alpha': 0.01}      -1.381983e+06      -1.800840e+06   \n",
              "1   {'alpha': 0.1109090909090909}      -1.381489e+06      -1.800974e+06   \n",
              "2  {'alpha': 0.21181818181818182}      -1.380961e+06      -1.801154e+06   \n",
              "3  {'alpha': 0.31272727272727274}      -1.380404e+06      -1.801376e+06   \n",
              "4  {'alpha': 0.41363636363636364}      -1.379817e+06      -1.801639e+06   \n",
              "\n",
              "   split2_test_score  split3_test_score  ...  split2_train_score  \\\n",
              "0     -432993.502402      -1.018770e+06  ...       -1.234224e+06   \n",
              "1     -433605.658080      -1.020206e+06  ...       -1.234236e+06   \n",
              "2     -434216.400757      -1.021625e+06  ...       -1.234267e+06   \n",
              "3     -434825.720400      -1.023029e+06  ...       -1.234317e+06   \n",
              "4     -435433.608895      -1.024418e+06  ...       -1.234385e+06   \n",
              "\n",
              "   split3_train_score  split4_train_score  split5_train_score  \\\n",
              "0       -1.175014e+06       -1.178713e+06       -1.093627e+06   \n",
              "1       -1.175025e+06       -1.178729e+06       -1.093648e+06   \n",
              "2       -1.175055e+06       -1.178771e+06       -1.093702e+06   \n",
              "3       -1.175102e+06       -1.178836e+06       -1.093789e+06   \n",
              "4       -1.175165e+06       -1.178925e+06       -1.093905e+06   \n",
              "\n",
              "   split6_train_score  split7_train_score  split8_train_score  \\\n",
              "0       -1.215409e+06       -1.050730e+06       -1.070780e+06   \n",
              "1       -1.215420e+06       -1.050744e+06       -1.070795e+06   \n",
              "2       -1.215449e+06       -1.050780e+06       -1.070836e+06   \n",
              "3       -1.215495e+06       -1.050837e+06       -1.070900e+06   \n",
              "4       -1.215558e+06       -1.050914e+06       -1.070987e+06   \n",
              "\n",
              "   split9_train_score  mean_train_score  std_train_score  \n",
              "0       -1.137190e+06     -1.139469e+06     59449.715143  \n",
              "1       -1.137204e+06     -1.139483e+06     59448.135475  \n",
              "2       -1.137241e+06     -1.139519e+06     59444.041803  \n",
              "3       -1.137300e+06     -1.139576e+06     59437.594049  \n",
              "4       -1.137379e+06     -1.139653e+06     59428.942366  \n",
              "\n",
              "[5 rows x 31 columns]"
            ],
            "text/html": [
              "\n",
              "  <div id=\"df-b6018abc-6153-4160-ae77-973107807e3b\">\n",
              "    <div class=\"colab-df-container\">\n",
              "      <div>\n",
              "<style scoped>\n",
              "    .dataframe tbody tr th:only-of-type {\n",
              "        vertical-align: middle;\n",
              "    }\n",
              "\n",
              "    .dataframe tbody tr th {\n",
              "        vertical-align: top;\n",
              "    }\n",
              "\n",
              "    .dataframe thead th {\n",
              "        text-align: right;\n",
              "    }\n",
              "</style>\n",
              "<table border=\"1\" class=\"dataframe\">\n",
              "  <thead>\n",
              "    <tr style=\"text-align: right;\">\n",
              "      <th></th>\n",
              "      <th>mean_fit_time</th>\n",
              "      <th>std_fit_time</th>\n",
              "      <th>mean_score_time</th>\n",
              "      <th>std_score_time</th>\n",
              "      <th>param_alpha</th>\n",
              "      <th>params</th>\n",
              "      <th>split0_test_score</th>\n",
              "      <th>split1_test_score</th>\n",
              "      <th>split2_test_score</th>\n",
              "      <th>split3_test_score</th>\n",
              "      <th>...</th>\n",
              "      <th>split2_train_score</th>\n",
              "      <th>split3_train_score</th>\n",
              "      <th>split4_train_score</th>\n",
              "      <th>split5_train_score</th>\n",
              "      <th>split6_train_score</th>\n",
              "      <th>split7_train_score</th>\n",
              "      <th>split8_train_score</th>\n",
              "      <th>split9_train_score</th>\n",
              "      <th>mean_train_score</th>\n",
              "      <th>std_train_score</th>\n",
              "    </tr>\n",
              "  </thead>\n",
              "  <tbody>\n",
              "    <tr>\n",
              "      <th>0</th>\n",
              "      <td>0.009010</td>\n",
              "      <td>0.005259</td>\n",
              "      <td>0.005233</td>\n",
              "      <td>0.007139</td>\n",
              "      <td>0.01</td>\n",
              "      <td>{'alpha': 0.01}</td>\n",
              "      <td>-1.381983e+06</td>\n",
              "      <td>-1.800840e+06</td>\n",
              "      <td>-432993.502402</td>\n",
              "      <td>-1.018770e+06</td>\n",
              "      <td>...</td>\n",
              "      <td>-1.234224e+06</td>\n",
              "      <td>-1.175014e+06</td>\n",
              "      <td>-1.178713e+06</td>\n",
              "      <td>-1.093627e+06</td>\n",
              "      <td>-1.215409e+06</td>\n",
              "      <td>-1.050730e+06</td>\n",
              "      <td>-1.070780e+06</td>\n",
              "      <td>-1.137190e+06</td>\n",
              "      <td>-1.139469e+06</td>\n",
              "      <td>59449.715143</td>\n",
              "    </tr>\n",
              "    <tr>\n",
              "      <th>1</th>\n",
              "      <td>0.013072</td>\n",
              "      <td>0.013223</td>\n",
              "      <td>0.002009</td>\n",
              "      <td>0.003447</td>\n",
              "      <td>0.110909</td>\n",
              "      <td>{'alpha': 0.1109090909090909}</td>\n",
              "      <td>-1.381489e+06</td>\n",
              "      <td>-1.800974e+06</td>\n",
              "      <td>-433605.658080</td>\n",
              "      <td>-1.020206e+06</td>\n",
              "      <td>...</td>\n",
              "      <td>-1.234236e+06</td>\n",
              "      <td>-1.175025e+06</td>\n",
              "      <td>-1.178729e+06</td>\n",
              "      <td>-1.093648e+06</td>\n",
              "      <td>-1.215420e+06</td>\n",
              "      <td>-1.050744e+06</td>\n",
              "      <td>-1.070795e+06</td>\n",
              "      <td>-1.137204e+06</td>\n",
              "      <td>-1.139483e+06</td>\n",
              "      <td>59448.135475</td>\n",
              "    </tr>\n",
              "    <tr>\n",
              "      <th>2</th>\n",
              "      <td>0.003628</td>\n",
              "      <td>0.003209</td>\n",
              "      <td>0.000735</td>\n",
              "      <td>0.000118</td>\n",
              "      <td>0.211818</td>\n",
              "      <td>{'alpha': 0.21181818181818182}</td>\n",
              "      <td>-1.380961e+06</td>\n",
              "      <td>-1.801154e+06</td>\n",
              "      <td>-434216.400757</td>\n",
              "      <td>-1.021625e+06</td>\n",
              "      <td>...</td>\n",
              "      <td>-1.234267e+06</td>\n",
              "      <td>-1.175055e+06</td>\n",
              "      <td>-1.178771e+06</td>\n",
              "      <td>-1.093702e+06</td>\n",
              "      <td>-1.215449e+06</td>\n",
              "      <td>-1.050780e+06</td>\n",
              "      <td>-1.070836e+06</td>\n",
              "      <td>-1.137241e+06</td>\n",
              "      <td>-1.139519e+06</td>\n",
              "      <td>59444.041803</td>\n",
              "    </tr>\n",
              "    <tr>\n",
              "      <th>3</th>\n",
              "      <td>0.001924</td>\n",
              "      <td>0.000504</td>\n",
              "      <td>0.000646</td>\n",
              "      <td>0.000032</td>\n",
              "      <td>0.312727</td>\n",
              "      <td>{'alpha': 0.31272727272727274}</td>\n",
              "      <td>-1.380404e+06</td>\n",
              "      <td>-1.801376e+06</td>\n",
              "      <td>-434825.720400</td>\n",
              "      <td>-1.023029e+06</td>\n",
              "      <td>...</td>\n",
              "      <td>-1.234317e+06</td>\n",
              "      <td>-1.175102e+06</td>\n",
              "      <td>-1.178836e+06</td>\n",
              "      <td>-1.093789e+06</td>\n",
              "      <td>-1.215495e+06</td>\n",
              "      <td>-1.050837e+06</td>\n",
              "      <td>-1.070900e+06</td>\n",
              "      <td>-1.137300e+06</td>\n",
              "      <td>-1.139576e+06</td>\n",
              "      <td>59437.594049</td>\n",
              "    </tr>\n",
              "    <tr>\n",
              "      <th>4</th>\n",
              "      <td>0.002487</td>\n",
              "      <td>0.001122</td>\n",
              "      <td>0.000769</td>\n",
              "      <td>0.000243</td>\n",
              "      <td>0.413636</td>\n",
              "      <td>{'alpha': 0.41363636363636364}</td>\n",
              "      <td>-1.379817e+06</td>\n",
              "      <td>-1.801639e+06</td>\n",
              "      <td>-435433.608895</td>\n",
              "      <td>-1.024418e+06</td>\n",
              "      <td>...</td>\n",
              "      <td>-1.234385e+06</td>\n",
              "      <td>-1.175165e+06</td>\n",
              "      <td>-1.178925e+06</td>\n",
              "      <td>-1.093905e+06</td>\n",
              "      <td>-1.215558e+06</td>\n",
              "      <td>-1.050914e+06</td>\n",
              "      <td>-1.070987e+06</td>\n",
              "      <td>-1.137379e+06</td>\n",
              "      <td>-1.139653e+06</td>\n",
              "      <td>59428.942366</td>\n",
              "    </tr>\n",
              "  </tbody>\n",
              "</table>\n",
              "<p>5 rows × 31 columns</p>\n",
              "</div>\n",
              "      <button class=\"colab-df-convert\" onclick=\"convertToInteractive('df-b6018abc-6153-4160-ae77-973107807e3b')\"\n",
              "              title=\"Convert this dataframe to an interactive table.\"\n",
              "              style=\"display:none;\">\n",
              "        \n",
              "  <svg xmlns=\"http://www.w3.org/2000/svg\" height=\"24px\"viewBox=\"0 0 24 24\"\n",
              "       width=\"24px\">\n",
              "    <path d=\"M0 0h24v24H0V0z\" fill=\"none\"/>\n",
              "    <path d=\"M18.56 5.44l.94 2.06.94-2.06 2.06-.94-2.06-.94-.94-2.06-.94 2.06-2.06.94zm-11 1L8.5 8.5l.94-2.06 2.06-.94-2.06-.94L8.5 2.5l-.94 2.06-2.06.94zm10 10l.94 2.06.94-2.06 2.06-.94-2.06-.94-.94-2.06-.94 2.06-2.06.94z\"/><path d=\"M17.41 7.96l-1.37-1.37c-.4-.4-.92-.59-1.43-.59-.52 0-1.04.2-1.43.59L10.3 9.45l-7.72 7.72c-.78.78-.78 2.05 0 2.83L4 21.41c.39.39.9.59 1.41.59.51 0 1.02-.2 1.41-.59l7.78-7.78 2.81-2.81c.8-.78.8-2.07 0-2.86zM5.41 20L4 18.59l7.72-7.72 1.47 1.35L5.41 20z\"/>\n",
              "  </svg>\n",
              "      </button>\n",
              "      \n",
              "  <style>\n",
              "    .colab-df-container {\n",
              "      display:flex;\n",
              "      flex-wrap:wrap;\n",
              "      gap: 12px;\n",
              "    }\n",
              "\n",
              "    .colab-df-convert {\n",
              "      background-color: #E8F0FE;\n",
              "      border: none;\n",
              "      border-radius: 50%;\n",
              "      cursor: pointer;\n",
              "      display: none;\n",
              "      fill: #1967D2;\n",
              "      height: 32px;\n",
              "      padding: 0 0 0 0;\n",
              "      width: 32px;\n",
              "    }\n",
              "\n",
              "    .colab-df-convert:hover {\n",
              "      background-color: #E2EBFA;\n",
              "      box-shadow: 0px 1px 2px rgba(60, 64, 67, 0.3), 0px 1px 3px 1px rgba(60, 64, 67, 0.15);\n",
              "      fill: #174EA6;\n",
              "    }\n",
              "\n",
              "    [theme=dark] .colab-df-convert {\n",
              "      background-color: #3B4455;\n",
              "      fill: #D2E3FC;\n",
              "    }\n",
              "\n",
              "    [theme=dark] .colab-df-convert:hover {\n",
              "      background-color: #434B5C;\n",
              "      box-shadow: 0px 1px 3px 1px rgba(0, 0, 0, 0.15);\n",
              "      filter: drop-shadow(0px 1px 2px rgba(0, 0, 0, 0.3));\n",
              "      fill: #FFFFFF;\n",
              "    }\n",
              "  </style>\n",
              "\n",
              "      <script>\n",
              "        const buttonEl =\n",
              "          document.querySelector('#df-b6018abc-6153-4160-ae77-973107807e3b button.colab-df-convert');\n",
              "        buttonEl.style.display =\n",
              "          google.colab.kernel.accessAllowed ? 'block' : 'none';\n",
              "\n",
              "        async function convertToInteractive(key) {\n",
              "          const element = document.querySelector('#df-b6018abc-6153-4160-ae77-973107807e3b');\n",
              "          const dataTable =\n",
              "            await google.colab.kernel.invokeFunction('convertToInteractive',\n",
              "                                                     [key], {});\n",
              "          if (!dataTable) return;\n",
              "\n",
              "          const docLinkHtml = 'Like what you see? Visit the ' +\n",
              "            '<a target=\"_blank\" href=https://colab.research.google.com/notebooks/data_table.ipynb>data table notebook</a>'\n",
              "            + ' to learn more about interactive tables.';\n",
              "          element.innerHTML = '';\n",
              "          dataTable['output_type'] = 'display_data';\n",
              "          await google.colab.output.renderOutput(dataTable, element);\n",
              "          const docLink = document.createElement('div');\n",
              "          docLink.innerHTML = docLinkHtml;\n",
              "          element.appendChild(docLink);\n",
              "        }\n",
              "      </script>\n",
              "    </div>\n",
              "  </div>\n",
              "  "
            ]
          },
          "metadata": {},
          "execution_count": 12
        }
      ]
    },
    {
      "cell_type": "code",
      "source": [
        "ridge.best_params_"
      ],
      "metadata": {
        "colab": {
          "base_uri": "https://localhost:8080/"
        },
        "id": "_Dbg2LowObKF",
        "outputId": "b8d25fe4-9955-4ba1-9efb-afb6fa92d3a4"
      },
      "execution_count": 13,
      "outputs": [
        {
          "output_type": "execute_result",
          "data": {
            "text/plain": [
              "{'alpha': 4.752727272727272}"
            ]
          },
          "metadata": {},
          "execution_count": 13
        }
      ]
    },
    {
      "cell_type": "code",
      "source": [
        "pipe = make_pipeline(StandardScaler(), RidgeCV(alphas = [4.75], scoring = 'neg_mean_squared_error', cv = 10))\n",
        "pipe.fit(X_train, y_train)"
      ],
      "metadata": {
        "colab": {
          "base_uri": "https://localhost:8080/"
        },
        "id": "pdeEVd2EOtap",
        "outputId": "a443b7ec-07f8-4812-dd77-cb8afe0ec5b8"
      },
      "execution_count": 14,
      "outputs": [
        {
          "output_type": "execute_result",
          "data": {
            "text/plain": [
              "Pipeline(steps=[('standardscaler', StandardScaler()),\n",
              "                ('ridgecv',\n",
              "                 RidgeCV(alphas=array([4.75]), cv=10,\n",
              "                         scoring='neg_mean_squared_error'))])"
            ]
          },
          "metadata": {},
          "execution_count": 14
        }
      ]
    },
    {
      "cell_type": "code",
      "source": [
        "mod_MSEs[\"Ridge\"] = mean_squared_error(y_test, pipe.predict(X_test))"
      ],
      "metadata": {
        "id": "vbZW0RdoPz6k"
      },
      "execution_count": 15,
      "outputs": []
    },
    {
      "cell_type": "markdown",
      "source": [
        "## 6d\n",
        "Lasso"
      ],
      "metadata": {
        "id": "k0hBfs3mPyjk"
      }
    },
    {
      "cell_type": "code",
      "source": [
        "params = {'alpha': np.linspace(.01, 30, 100)}\n",
        "lasso_cv = GridSearchCV(estimator = Lasso(), param_grid = params, scoring = 'neg_mean_squared_error', cv = 10, return_train_score = True)\n",
        "pipe = make_pipeline(StandardScaler(), lasso_cv).fit(X_train, y_train)\n",
        "lasso = pipe[-1]"
      ],
      "metadata": {
        "id": "MvS7o-HMPDcj"
      },
      "execution_count": 16,
      "outputs": []
    },
    {
      "cell_type": "code",
      "source": [
        "lasso.best_params_"
      ],
      "metadata": {
        "colab": {
          "base_uri": "https://localhost:8080/"
        },
        "id": "Qp2VznTQQXUh",
        "outputId": "50c166b1-c74e-46ca-c9e5-5cc918ec5a89"
      },
      "execution_count": 17,
      "outputs": [
        {
          "output_type": "execute_result",
          "data": {
            "text/plain": [
              "{'alpha': 19.094545454545457}"
            ]
          },
          "metadata": {},
          "execution_count": 17
        }
      ]
    },
    {
      "cell_type": "code",
      "source": [
        "pipe = make_pipeline(StandardScaler(), LassoCV(alphas = [19.09], cv = 10))\n",
        "pipe.fit(X_train, y_train)"
      ],
      "metadata": {
        "colab": {
          "base_uri": "https://localhost:8080/"
        },
        "id": "e4Qe26O5QbSp",
        "outputId": "0c118f98-85ec-4d1f-8e72-b57964950788"
      },
      "execution_count": 18,
      "outputs": [
        {
          "output_type": "execute_result",
          "data": {
            "text/plain": [
              "Pipeline(steps=[('standardscaler', StandardScaler()),\n",
              "                ('lassocv', LassoCV(alphas=[19.09], cv=10))])"
            ]
          },
          "metadata": {},
          "execution_count": 18
        }
      ]
    },
    {
      "cell_type": "code",
      "source": [
        "mod_MSEs[\"Lasso\"] = mean_squared_error(y_test, pipe.predict(X_test))"
      ],
      "metadata": {
        "id": "Kr2Aae9RQsnf"
      },
      "execution_count": 19,
      "outputs": []
    },
    {
      "cell_type": "code",
      "source": [
        "lasso = pipe[-1]"
      ],
      "metadata": {
        "id": "M3dLyl0oRAW9"
      },
      "execution_count": 20,
      "outputs": []
    },
    {
      "cell_type": "code",
      "source": [
        "coefs = pd.DataFrame({\"Feature\": X_train.columns, \"coef\": lasso.coef_})\n",
        "coefs[\"removed\"] = np.where(coefs[\"coef\"] == 0, \"Yes\", \"No\")"
      ],
      "metadata": {
        "id": "NPNqIlHlSbTP"
      },
      "execution_count": 21,
      "outputs": []
    },
    {
      "cell_type": "code",
      "source": [
        "coefs"
      ],
      "metadata": {
        "colab": {
          "base_uri": "https://localhost:8080/",
          "height": 582
        },
        "id": "Zg5nbAHKSx6D",
        "outputId": "6402fe52-6e0e-405e-d912-94d5cb019cfe"
      },
      "execution_count": 22,
      "outputs": [
        {
          "output_type": "execute_result",
          "data": {
            "text/plain": [
              "        Feature         coef removed\n",
              "0       Private  -248.448625      No\n",
              "1        Accept  2816.832434      No\n",
              "2        Enroll     0.000000     Yes\n",
              "3     Top10perc   801.826843      No\n",
              "4     Top25perc  -155.290807      No\n",
              "5   F.Undergrad   305.243172      No\n",
              "6   P.Undergrad     1.507739      No\n",
              "7      Outstate  -136.577694      No\n",
              "8    Room.Board   138.083844      No\n",
              "9         Books    -0.000000     Yes\n",
              "10     Personal     0.000000     Yes\n",
              "11          PhD  -197.381703      No\n",
              "12     Terminal    -0.000000     Yes\n",
              "13    S.F.Ratio    89.744374      No\n",
              "14  perc.alumni   -88.709785      No\n",
              "15       Expend   434.823932      No\n",
              "16    Grad.Rate   165.533986      No"
            ],
            "text/html": [
              "\n",
              "  <div id=\"df-8343175b-8bc7-46e3-9880-2e3432208fd1\">\n",
              "    <div class=\"colab-df-container\">\n",
              "      <div>\n",
              "<style scoped>\n",
              "    .dataframe tbody tr th:only-of-type {\n",
              "        vertical-align: middle;\n",
              "    }\n",
              "\n",
              "    .dataframe tbody tr th {\n",
              "        vertical-align: top;\n",
              "    }\n",
              "\n",
              "    .dataframe thead th {\n",
              "        text-align: right;\n",
              "    }\n",
              "</style>\n",
              "<table border=\"1\" class=\"dataframe\">\n",
              "  <thead>\n",
              "    <tr style=\"text-align: right;\">\n",
              "      <th></th>\n",
              "      <th>Feature</th>\n",
              "      <th>coef</th>\n",
              "      <th>removed</th>\n",
              "    </tr>\n",
              "  </thead>\n",
              "  <tbody>\n",
              "    <tr>\n",
              "      <th>0</th>\n",
              "      <td>Private</td>\n",
              "      <td>-248.448625</td>\n",
              "      <td>No</td>\n",
              "    </tr>\n",
              "    <tr>\n",
              "      <th>1</th>\n",
              "      <td>Accept</td>\n",
              "      <td>2816.832434</td>\n",
              "      <td>No</td>\n",
              "    </tr>\n",
              "    <tr>\n",
              "      <th>2</th>\n",
              "      <td>Enroll</td>\n",
              "      <td>0.000000</td>\n",
              "      <td>Yes</td>\n",
              "    </tr>\n",
              "    <tr>\n",
              "      <th>3</th>\n",
              "      <td>Top10perc</td>\n",
              "      <td>801.826843</td>\n",
              "      <td>No</td>\n",
              "    </tr>\n",
              "    <tr>\n",
              "      <th>4</th>\n",
              "      <td>Top25perc</td>\n",
              "      <td>-155.290807</td>\n",
              "      <td>No</td>\n",
              "    </tr>\n",
              "    <tr>\n",
              "      <th>5</th>\n",
              "      <td>F.Undergrad</td>\n",
              "      <td>305.243172</td>\n",
              "      <td>No</td>\n",
              "    </tr>\n",
              "    <tr>\n",
              "      <th>6</th>\n",
              "      <td>P.Undergrad</td>\n",
              "      <td>1.507739</td>\n",
              "      <td>No</td>\n",
              "    </tr>\n",
              "    <tr>\n",
              "      <th>7</th>\n",
              "      <td>Outstate</td>\n",
              "      <td>-136.577694</td>\n",
              "      <td>No</td>\n",
              "    </tr>\n",
              "    <tr>\n",
              "      <th>8</th>\n",
              "      <td>Room.Board</td>\n",
              "      <td>138.083844</td>\n",
              "      <td>No</td>\n",
              "    </tr>\n",
              "    <tr>\n",
              "      <th>9</th>\n",
              "      <td>Books</td>\n",
              "      <td>-0.000000</td>\n",
              "      <td>Yes</td>\n",
              "    </tr>\n",
              "    <tr>\n",
              "      <th>10</th>\n",
              "      <td>Personal</td>\n",
              "      <td>0.000000</td>\n",
              "      <td>Yes</td>\n",
              "    </tr>\n",
              "    <tr>\n",
              "      <th>11</th>\n",
              "      <td>PhD</td>\n",
              "      <td>-197.381703</td>\n",
              "      <td>No</td>\n",
              "    </tr>\n",
              "    <tr>\n",
              "      <th>12</th>\n",
              "      <td>Terminal</td>\n",
              "      <td>-0.000000</td>\n",
              "      <td>Yes</td>\n",
              "    </tr>\n",
              "    <tr>\n",
              "      <th>13</th>\n",
              "      <td>S.F.Ratio</td>\n",
              "      <td>89.744374</td>\n",
              "      <td>No</td>\n",
              "    </tr>\n",
              "    <tr>\n",
              "      <th>14</th>\n",
              "      <td>perc.alumni</td>\n",
              "      <td>-88.709785</td>\n",
              "      <td>No</td>\n",
              "    </tr>\n",
              "    <tr>\n",
              "      <th>15</th>\n",
              "      <td>Expend</td>\n",
              "      <td>434.823932</td>\n",
              "      <td>No</td>\n",
              "    </tr>\n",
              "    <tr>\n",
              "      <th>16</th>\n",
              "      <td>Grad.Rate</td>\n",
              "      <td>165.533986</td>\n",
              "      <td>No</td>\n",
              "    </tr>\n",
              "  </tbody>\n",
              "</table>\n",
              "</div>\n",
              "      <button class=\"colab-df-convert\" onclick=\"convertToInteractive('df-8343175b-8bc7-46e3-9880-2e3432208fd1')\"\n",
              "              title=\"Convert this dataframe to an interactive table.\"\n",
              "              style=\"display:none;\">\n",
              "        \n",
              "  <svg xmlns=\"http://www.w3.org/2000/svg\" height=\"24px\"viewBox=\"0 0 24 24\"\n",
              "       width=\"24px\">\n",
              "    <path d=\"M0 0h24v24H0V0z\" fill=\"none\"/>\n",
              "    <path d=\"M18.56 5.44l.94 2.06.94-2.06 2.06-.94-2.06-.94-.94-2.06-.94 2.06-2.06.94zm-11 1L8.5 8.5l.94-2.06 2.06-.94-2.06-.94L8.5 2.5l-.94 2.06-2.06.94zm10 10l.94 2.06.94-2.06 2.06-.94-2.06-.94-.94-2.06-.94 2.06-2.06.94z\"/><path d=\"M17.41 7.96l-1.37-1.37c-.4-.4-.92-.59-1.43-.59-.52 0-1.04.2-1.43.59L10.3 9.45l-7.72 7.72c-.78.78-.78 2.05 0 2.83L4 21.41c.39.39.9.59 1.41.59.51 0 1.02-.2 1.41-.59l7.78-7.78 2.81-2.81c.8-.78.8-2.07 0-2.86zM5.41 20L4 18.59l7.72-7.72 1.47 1.35L5.41 20z\"/>\n",
              "  </svg>\n",
              "      </button>\n",
              "      \n",
              "  <style>\n",
              "    .colab-df-container {\n",
              "      display:flex;\n",
              "      flex-wrap:wrap;\n",
              "      gap: 12px;\n",
              "    }\n",
              "\n",
              "    .colab-df-convert {\n",
              "      background-color: #E8F0FE;\n",
              "      border: none;\n",
              "      border-radius: 50%;\n",
              "      cursor: pointer;\n",
              "      display: none;\n",
              "      fill: #1967D2;\n",
              "      height: 32px;\n",
              "      padding: 0 0 0 0;\n",
              "      width: 32px;\n",
              "    }\n",
              "\n",
              "    .colab-df-convert:hover {\n",
              "      background-color: #E2EBFA;\n",
              "      box-shadow: 0px 1px 2px rgba(60, 64, 67, 0.3), 0px 1px 3px 1px rgba(60, 64, 67, 0.15);\n",
              "      fill: #174EA6;\n",
              "    }\n",
              "\n",
              "    [theme=dark] .colab-df-convert {\n",
              "      background-color: #3B4455;\n",
              "      fill: #D2E3FC;\n",
              "    }\n",
              "\n",
              "    [theme=dark] .colab-df-convert:hover {\n",
              "      background-color: #434B5C;\n",
              "      box-shadow: 0px 1px 3px 1px rgba(0, 0, 0, 0.15);\n",
              "      filter: drop-shadow(0px 1px 2px rgba(0, 0, 0, 0.3));\n",
              "      fill: #FFFFFF;\n",
              "    }\n",
              "  </style>\n",
              "\n",
              "      <script>\n",
              "        const buttonEl =\n",
              "          document.querySelector('#df-8343175b-8bc7-46e3-9880-2e3432208fd1 button.colab-df-convert');\n",
              "        buttonEl.style.display =\n",
              "          google.colab.kernel.accessAllowed ? 'block' : 'none';\n",
              "\n",
              "        async function convertToInteractive(key) {\n",
              "          const element = document.querySelector('#df-8343175b-8bc7-46e3-9880-2e3432208fd1');\n",
              "          const dataTable =\n",
              "            await google.colab.kernel.invokeFunction('convertToInteractive',\n",
              "                                                     [key], {});\n",
              "          if (!dataTable) return;\n",
              "\n",
              "          const docLinkHtml = 'Like what you see? Visit the ' +\n",
              "            '<a target=\"_blank\" href=https://colab.research.google.com/notebooks/data_table.ipynb>data table notebook</a>'\n",
              "            + ' to learn more about interactive tables.';\n",
              "          element.innerHTML = '';\n",
              "          dataTable['output_type'] = 'display_data';\n",
              "          await google.colab.output.renderOutput(dataTable, element);\n",
              "          const docLink = document.createElement('div');\n",
              "          docLink.innerHTML = docLinkHtml;\n",
              "          element.appendChild(docLink);\n",
              "        }\n",
              "      </script>\n",
              "    </div>\n",
              "  </div>\n",
              "  "
            ]
          },
          "metadata": {},
          "execution_count": 22
        }
      ]
    },
    {
      "cell_type": "markdown",
      "source": [
        "## 6e\n",
        "PCA"
      ],
      "metadata": {
        "id": "Q3Oe9Rx_Qdik"
      }
    },
    {
      "cell_type": "code",
      "source": [
        "M = range(1, X_train.shape[1] + 1)\n",
        "scores = {}\n",
        "for m in M:\n",
        "    pcr = make_pipeline(\n",
        "        StandardScaler(),       # First transformer\n",
        "        PCA(n_components=m),    # Second transformer\n",
        "        LinearRegression()      # Estimator\n",
        "        )\n",
        "    score = -1*np.mean(cross_val_score(pcr, X_train, y_train, cv = 10, scoring = \"neg_mean_squared_error\"))\n",
        "    scores[str(m)] = score"
      ],
      "metadata": {
        "id": "ZZG_Kw_dU_rN"
      },
      "execution_count": 23,
      "outputs": []
    },
    {
      "cell_type": "code",
      "source": [
        "scores"
      ],
      "metadata": {
        "colab": {
          "base_uri": "https://localhost:8080/"
        },
        "id": "a6oLw-N6X0jj",
        "outputId": "e5611436-65cc-485e-bd8c-696c550c7d16"
      },
      "execution_count": 24,
      "outputs": [
        {
          "output_type": "execute_result",
          "data": {
            "text/plain": [
              "{'1': 13159251.311893739,\n",
              " '2': 3245971.7315815045,\n",
              " '3': 3203376.62239917,\n",
              " '4': 2161915.4691368598,\n",
              " '5': 2064871.7630033563,\n",
              " '6': 1966250.1990602005,\n",
              " '7': 1893272.7192713432,\n",
              " '8': 1773814.7574368832,\n",
              " '9': 1664028.76207649,\n",
              " '10': 1734512.398065764,\n",
              " '11': 1767309.0786523398,\n",
              " '12': 1741623.44876008,\n",
              " '13': 1753042.4459046586,\n",
              " '14': 1763556.4212828379,\n",
              " '15': 1798311.5073877363,\n",
              " '16': 1379434.7981826242,\n",
              " '17': 1406069.9382529554}"
            ]
          },
          "metadata": {},
          "execution_count": 24
        }
      ]
    },
    {
      "cell_type": "code",
      "source": [
        "# Visualize the results\n",
        "plt.figure(facecolor='white')\n",
        "plt.plot(list(scores.keys()), list(scores.values()))\n",
        "plt.xlabel('m')\n",
        "plt.ylabel('10-Fold CV Average MSE')\n",
        "plt.title('Principal Component Regression')"
      ],
      "metadata": {
        "colab": {
          "base_uri": "https://localhost:8080/",
          "height": 312
        },
        "id": "Re6oa4nsX9VU",
        "outputId": "892bcff6-74d6-46f4-a33f-087aa5ff3226"
      },
      "execution_count": 25,
      "outputs": [
        {
          "output_type": "execute_result",
          "data": {
            "text/plain": [
              "Text(0.5, 1.0, 'Principal Component Regression')"
            ]
          },
          "metadata": {},
          "execution_count": 25
        },
        {
          "output_type": "display_data",
          "data": {
            "text/plain": [
              "<Figure size 432x288 with 1 Axes>"
            ],
            "image/png": "[encoded data removed]"
          },
          "metadata": {}
        }
      ]
    },
    {
      "cell_type": "code",
      "source": [
        "pipe = make_pipeline(\n",
        "    StandardScaler(),\n",
        "    PCA(n_components = 4),\n",
        "    LinearRegression()\n",
        ")\n",
        "pipe.fit(X_train, y_train)\n",
        "mod_MSEs[\"PCA\"] = mean_squared_error(y_test, pipe.predict(X_test))"
      ],
      "metadata": {
        "id": "vbzgso5eY0km"
      },
      "execution_count": 26,
      "outputs": []
    },
    {
      "cell_type": "markdown",
      "source": [
        "## 6f\n",
        "PLS"
      ],
      "metadata": {
        "id": "o4Tnq6MHZ_LC"
      }
    },
    {
      "cell_type": "code",
      "source": [
        "M = range(1, X_train.shape[1] + 1)\n",
        "scores = {}\n",
        "for m in M:\n",
        "    pls = make_pipeline(\n",
        "        StandardScaler(),       # First transformer\n",
        "        PLSRegression(n_components=m) # Estimator\n",
        "        )\n",
        "    score = -1*np.mean(cross_val_score(pls, X_train, y_train, cv = 10, scoring = \"neg_mean_squared_error\"))\n",
        "    scores[str(m)] = score"
      ],
      "metadata": {
        "id": "hBXBuCqqZm9_"
      },
      "execution_count": 27,
      "outputs": []
    },
    {
      "cell_type": "code",
      "source": [
        "# Visualize the results\n",
        "plt.figure(facecolor='white')\n",
        "plt.plot(list(scores.keys()), list(scores.values()))\n",
        "plt.xlabel('m')\n",
        "plt.ylabel('10-Fold CV Average MSE')\n",
        "plt.title('PLS Regression')"
      ],
      "metadata": {
        "colab": {
          "base_uri": "https://localhost:8080/",
          "height": 312
        },
        "id": "XCageJhAcOx9",
        "outputId": "c9332f69-cd6e-489d-f403-369611c22a48"
      },
      "execution_count": 28,
      "outputs": [
        {
          "output_type": "execute_result",
          "data": {
            "text/plain": [
              "Text(0.5, 1.0, 'PLS Regression')"
            ]
          },
          "metadata": {},
          "execution_count": 28
        },
        {
          "output_type": "display_data",
          "data": {
            "text/plain": [
              "<Figure size 432x288 with 1 Axes>"
            ],
            "image/png": "[encoded data removed]"
          },
          "metadata": {}
        }
      ]
    },
    {
      "cell_type": "code",
      "source": [
        "pipe = make_pipeline(\n",
        "    StandardScaler(),\n",
        "    PLSRegression(n_components = 7)\n",
        ")\n",
        "pipe.fit(X_train, y_train)\n",
        "mod_MSEs[\"PLS\"] = mean_squared_error(y_test, pipe.predict(X_test))"
      ],
      "metadata": {
        "id": "jbDjPn6ucRfc"
      },
      "execution_count": 29,
      "outputs": []
    },
    {
      "cell_type": "markdown",
      "source": [
        "## 6g\n",
        "Compare"
      ],
      "metadata": {
        "id": "261H9mY3dGx9"
      }
    },
    {
      "cell_type": "code",
      "source": [
        "mod_MSEs"
      ],
      "metadata": {
        "colab": {
          "base_uri": "https://localhost:8080/"
        },
        "id": "2WRiO8CtcaFG",
        "outputId": "d8df0dc1-5bd3-4f7f-82b5-83ae9f24b722"
      },
      "execution_count": 30,
      "outputs": [
        {
          "output_type": "execute_result",
          "data": {
            "text/plain": [
              "{'OLS': 1222954.0382534459,\n",
              " 'Ridge': 1405599.7724503141,\n",
              " 'Lasso': 1243425.7943309909,\n",
              " 'PCA': 3460816.154371419,\n",
              " 'PLS': 1392570.3911683063}"
            ]
          },
          "metadata": {},
          "execution_count": 30
        }
      ]
    },
    {
      "cell_type": "code",
      "source": [
        "# Visualize the results\n",
        "plt.figure(facecolor='white')\n",
        "plt.bar(list(mod_MSEs.keys()), list(mod_MSEs.values()))\n",
        "plt.xlabel('Model')\n",
        "plt.ylabel('Test MSE')\n",
        "plt.title('Model Comparisons')"
      ],
      "metadata": {
        "colab": {
          "base_uri": "https://localhost:8080/",
          "height": 312
        },
        "id": "VZPJHA8qdKVP",
        "outputId": "b1216f56-b5d4-41e1-f19e-0b0b18e7940b"
      },
      "execution_count": 31,
      "outputs": [
        {
          "output_type": "execute_result",
          "data": {
            "text/plain": [
              "Text(0.5, 1.0, 'Model Comparisons')"
            ]
          },
          "metadata": {},
          "execution_count": 31
        },
        {
          "output_type": "display_data",
          "data": {
            "text/plain": [
              "<Figure size 432x288 with 1 Axes>"
            ],
            "image/png": "[encoded data removed]"
          },
          "metadata": {}
        }
      ]
    },
    {
      "cell_type": "markdown",
      "source": [
        "#2B"
      ],
      "metadata": {
        "id": "8zp2a6sWf9az"
      }
    },
    {
      "cell_type": "code",
      "source": [
        "oj = pd.read_csv('/drive/My Drive/Colab Notebooks/Data-OJ.csv')\n",
        "oj.head()"
      ],
      "metadata": {
        "colab": {
          "base_uri": "https://localhost:8080/",
          "height": 270
        },
        "id": "mYlmK7CfdhZ-",
        "outputId": "5662a974-c480-42d2-a2c3-945c2236b3a2"
      },
      "execution_count": 32,
      "outputs": [
        {
          "output_type": "execute_result",
          "data": {
            "text/plain": [
              "  Purchase  WeekofPurchase  StoreID  PriceCH  PriceMM  DiscCH  DiscMM  \\\n",
              "0       CH             237        1     1.75     1.99    0.00     0.0   \n",
              "1       CH             239        1     1.75     1.99    0.00     0.3   \n",
              "2       CH             245        1     1.86     2.09    0.17     0.0   \n",
              "3       MM             227        1     1.69     1.69    0.00     0.0   \n",
              "4       CH             228        7     1.69     1.69    0.00     0.0   \n",
              "\n",
              "   SpecialCH  SpecialMM   LoyalCH  SalePriceMM  SalePriceCH  PriceDiff Store7  \\\n",
              "0          0          0  0.500000         1.99         1.75       0.24     No   \n",
              "1          0          1  0.600000         1.69         1.75      -0.06     No   \n",
              "2          0          0  0.680000         2.09         1.69       0.40     No   \n",
              "3          0          0  0.400000         1.69         1.69       0.00     No   \n",
              "4          0          0  0.956535         1.69         1.69       0.00    Yes   \n",
              "\n",
              "   PctDiscMM  PctDiscCH  ListPriceDiff  STORE  \n",
              "0   0.000000   0.000000           0.24      1  \n",
              "1   0.150754   0.000000           0.24      1  \n",
              "2   0.000000   0.091398           0.23      1  \n",
              "3   0.000000   0.000000           0.00      1  \n",
              "4   0.000000   0.000000           0.00      0  "
            ],
            "text/html": [
              "\n",
              "  <div id=\"df-2d6f5a14-419b-48a8-b911-5805cd39cd47\">\n",
              "    <div class=\"colab-df-container\">\n",
              "      <div>\n",
              "<style scoped>\n",
              "    .dataframe tbody tr th:only-of-type {\n",
              "        vertical-align: middle;\n",
              "    }\n",
              "\n",
              "    .dataframe tbody tr th {\n",
              "        vertical-align: top;\n",
              "    }\n",
              "\n",
              "    .dataframe thead th {\n",
              "        text-align: right;\n",
              "    }\n",
              "</style>\n",
              "<table border=\"1\" class=\"dataframe\">\n",
              "  <thead>\n",
              "    <tr style=\"text-align: right;\">\n",
              "      <th></th>\n",
              "      <th>Purchase</th>\n",
              "      <th>WeekofPurchase</th>\n",
              "      <th>StoreID</th>\n",
              "      <th>PriceCH</th>\n",
              "      <th>PriceMM</th>\n",
              "      <th>DiscCH</th>\n",
              "      <th>DiscMM</th>\n",
              "      <th>SpecialCH</th>\n",
              "      <th>SpecialMM</th>\n",
              "      <th>LoyalCH</th>\n",
              "      <th>SalePriceMM</th>\n",
              "      <th>SalePriceCH</th>\n",
              "      <th>PriceDiff</th>\n",
              "      <th>Store7</th>\n",
              "      <th>PctDiscMM</th>\n",
              "      <th>PctDiscCH</th>\n",
              "      <th>ListPriceDiff</th>\n",
              "      <th>STORE</th>\n",
              "    </tr>\n",
              "  </thead>\n",
              "  <tbody>\n",
              "    <tr>\n",
              "      <th>0</th>\n",
              "      <td>CH</td>\n",
              "      <td>237</td>\n",
              "      <td>1</td>\n",
              "      <td>1.75</td>\n",
              "      <td>1.99</td>\n",
              "      <td>0.00</td>\n",
              "      <td>0.0</td>\n",
              "      <td>0</td>\n",
              "      <td>0</td>\n",
              "      <td>0.500000</td>\n",
              "      <td>1.99</td>\n",
              "      <td>1.75</td>\n",
              "      <td>0.24</td>\n",
              "      <td>No</td>\n",
              "      <td>0.000000</td>\n",
              "      <td>0.000000</td>\n",
              "      <td>0.24</td>\n",
              "      <td>1</td>\n",
              "    </tr>\n",
              "    <tr>\n",
              "      <th>1</th>\n",
              "      <td>CH</td>\n",
              "      <td>239</td>\n",
              "      <td>1</td>\n",
              "      <td>1.75</td>\n",
              "      <td>1.99</td>\n",
              "      <td>0.00</td>\n",
              "      <td>0.3</td>\n",
              "      <td>0</td>\n",
              "      <td>1</td>\n",
              "      <td>0.600000</td>\n",
              "      <td>1.69</td>\n",
              "      <td>1.75</td>\n",
              "      <td>-0.06</td>\n",
              "      <td>No</td>\n",
              "      <td>0.150754</td>\n",
              "      <td>0.000000</td>\n",
              "      <td>0.24</td>\n",
              "      <td>1</td>\n",
              "    </tr>\n",
              "    <tr>\n",
              "      <th>2</th>\n",
              "      <td>CH</td>\n",
              "      <td>245</td>\n",
              "      <td>1</td>\n",
              "      <td>1.86</td>\n",
              "      <td>2.09</td>\n",
              "      <td>0.17</td>\n",
              "      <td>0.0</td>\n",
              "      <td>0</td>\n",
              "      <td>0</td>\n",
              "      <td>0.680000</td>\n",
              "      <td>2.09</td>\n",
              "      <td>1.69</td>\n",
              "      <td>0.40</td>\n",
              "      <td>No</td>\n",
              "      <td>0.000000</td>\n",
              "      <td>0.091398</td>\n",
              "      <td>0.23</td>\n",
              "      <td>1</td>\n",
              "    </tr>\n",
              "    <tr>\n",
              "      <th>3</th>\n",
              "      <td>MM</td>\n",
              "      <td>227</td>\n",
              "      <td>1</td>\n",
              "      <td>1.69</td>\n",
              "      <td>1.69</td>\n",
              "      <td>0.00</td>\n",
              "      <td>0.0</td>\n",
              "      <td>0</td>\n",
              "      <td>0</td>\n",
              "      <td>0.400000</td>\n",
              "      <td>1.69</td>\n",
              "      <td>1.69</td>\n",
              "      <td>0.00</td>\n",
              "      <td>No</td>\n",
              "      <td>0.000000</td>\n",
              "      <td>0.000000</td>\n",
              "      <td>0.00</td>\n",
              "      <td>1</td>\n",
              "    </tr>\n",
              "    <tr>\n",
              "      <th>4</th>\n",
              "      <td>CH</td>\n",
              "      <td>228</td>\n",
              "      <td>7</td>\n",
              "      <td>1.69</td>\n",
              "      <td>1.69</td>\n",
              "      <td>0.00</td>\n",
              "      <td>0.0</td>\n",
              "      <td>0</td>\n",
              "      <td>0</td>\n",
              "      <td>0.956535</td>\n",
              "      <td>1.69</td>\n",
              "      <td>1.69</td>\n",
              "      <td>0.00</td>\n",
              "      <td>Yes</td>\n",
              "      <td>0.000000</td>\n",
              "      <td>0.000000</td>\n",
              "      <td>0.00</td>\n",
              "      <td>0</td>\n",
              "    </tr>\n",
              "  </tbody>\n",
              "</table>\n",
              "</div>\n",
              "      <button class=\"colab-df-convert\" onclick=\"convertToInteractive('df-2d6f5a14-419b-48a8-b911-5805cd39cd47')\"\n",
              "              title=\"Convert this dataframe to an interactive table.\"\n",
              "              style=\"display:none;\">\n",
              "        \n",
              "  <svg xmlns=\"http://www.w3.org/2000/svg\" height=\"24px\"viewBox=\"0 0 24 24\"\n",
              "       width=\"24px\">\n",
              "    <path d=\"M0 0h24v24H0V0z\" fill=\"none\"/>\n",
              "    <path d=\"M18.56 5.44l.94 2.06.94-2.06 2.06-.94-2.06-.94-.94-2.06-.94 2.06-2.06.94zm-11 1L8.5 8.5l.94-2.06 2.06-.94-2.06-.94L8.5 2.5l-.94 2.06-2.06.94zm10 10l.94 2.06.94-2.06 2.06-.94-2.06-.94-.94-2.06-.94 2.06-2.06.94z\"/><path d=\"M17.41 7.96l-1.37-1.37c-.4-.4-.92-.59-1.43-.59-.52 0-1.04.2-1.43.59L10.3 9.45l-7.72 7.72c-.78.78-.78 2.05 0 2.83L4 21.41c.39.39.9.59 1.41.59.51 0 1.02-.2 1.41-.59l7.78-7.78 2.81-2.81c.8-.78.8-2.07 0-2.86zM5.41 20L4 18.59l7.72-7.72 1.47 1.35L5.41 20z\"/>\n",
              "  </svg>\n",
              "      </button>\n",
              "      \n",
              "  <style>\n",
              "    .colab-df-container {\n",
              "      display:flex;\n",
              "      flex-wrap:wrap;\n",
              "      gap: 12px;\n",
              "    }\n",
              "\n",
              "    .colab-df-convert {\n",
              "      background-color: #E8F0FE;\n",
              "      border: none;\n",
              "      border-radius: 50%;\n",
              "      cursor: pointer;\n",
              "      display: none;\n",
              "      fill: #1967D2;\n",
              "      height: 32px;\n",
              "      padding: 0 0 0 0;\n",
              "      width: 32px;\n",
              "    }\n",
              "\n",
              "    .colab-df-convert:hover {\n",
              "      background-color: #E2EBFA;\n",
              "      box-shadow: 0px 1px 2px rgba(60, 64, 67, 0.3), 0px 1px 3px 1px rgba(60, 64, 67, 0.15);\n",
              "      fill: #174EA6;\n",
              "    }\n",
              "\n",
              "    [theme=dark] .colab-df-convert {\n",
              "      background-color: #3B4455;\n",
              "      fill: #D2E3FC;\n",
              "    }\n",
              "\n",
              "    [theme=dark] .colab-df-convert:hover {\n",
              "      background-color: #434B5C;\n",
              "      box-shadow: 0px 1px 3px 1px rgba(0, 0, 0, 0.15);\n",
              "      filter: drop-shadow(0px 1px 2px rgba(0, 0, 0, 0.3));\n",
              "      fill: #FFFFFF;\n",
              "    }\n",
              "  </style>\n",
              "\n",
              "      <script>\n",
              "        const buttonEl =\n",
              "          document.querySelector('#df-2d6f5a14-419b-48a8-b911-5805cd39cd47 button.colab-df-convert');\n",
              "        buttonEl.style.display =\n",
              "          google.colab.kernel.accessAllowed ? 'block' : 'none';\n",
              "\n",
              "        async function convertToInteractive(key) {\n",
              "          const element = document.querySelector('#df-2d6f5a14-419b-48a8-b911-5805cd39cd47');\n",
              "          const dataTable =\n",
              "            await google.colab.kernel.invokeFunction('convertToInteractive',\n",
              "                                                     [key], {});\n",
              "          if (!dataTable) return;\n",
              "\n",
              "          const docLinkHtml = 'Like what you see? Visit the ' +\n",
              "            '<a target=\"_blank\" href=https://colab.research.google.com/notebooks/data_table.ipynb>data table notebook</a>'\n",
              "            + ' to learn more about interactive tables.';\n",
              "          element.innerHTML = '';\n",
              "          dataTable['output_type'] = 'display_data';\n",
              "          await google.colab.output.renderOutput(dataTable, element);\n",
              "          const docLink = document.createElement('div');\n",
              "          docLink.innerHTML = docLinkHtml;\n",
              "          element.appendChild(docLink);\n",
              "        }\n",
              "      </script>\n",
              "    </div>\n",
              "  </div>\n",
              "  "
            ]
          },
          "metadata": {},
          "execution_count": 32
        }
      ]
    },
    {
      "cell_type": "code",
      "source": [
        "oj.Store7.unique()"
      ],
      "metadata": {
        "colab": {
          "base_uri": "https://localhost:8080/"
        },
        "id": "IHOvWd41h8mu",
        "outputId": "06a606ca-9814-4d60-903b-26a98e6d7a6d"
      },
      "execution_count": 33,
      "outputs": [
        {
          "output_type": "execute_result",
          "data": {
            "text/plain": [
              "array(['No', 'Yes'], dtype=object)"
            ]
          },
          "metadata": {},
          "execution_count": 33
        }
      ]
    },
    {
      "cell_type": "code",
      "source": [
        "oj[\"Store7\"] = np.where(\n",
        "    oj[\"Store7\"] == \"Yes\", 1, 0\n",
        ")\n",
        "oj.Store7.unique()"
      ],
      "metadata": {
        "colab": {
          "base_uri": "https://localhost:8080/"
        },
        "id": "h9SYJW6aiBfR",
        "outputId": "605b237a-6b35-4395-ca2d-5d05bc0ee078"
      },
      "execution_count": 34,
      "outputs": [
        {
          "output_type": "execute_result",
          "data": {
            "text/plain": [
              "array([0, 1])"
            ]
          },
          "metadata": {},
          "execution_count": 34
        }
      ]
    },
    {
      "cell_type": "markdown",
      "source": [
        "##2bi\n",
        "Split data"
      ],
      "metadata": {
        "id": "pEMeXchRgOG2"
      }
    },
    {
      "cell_type": "code",
      "source": [
        "train, test = train_test_split(oj, train_size = 800, random_state = 37)"
      ],
      "metadata": {
        "id": "-iK-Lzw2gXm0"
      },
      "execution_count": 35,
      "outputs": []
    },
    {
      "cell_type": "code",
      "source": [
        "train.shape"
      ],
      "metadata": {
        "colab": {
          "base_uri": "https://localhost:8080/"
        },
        "id": "9DwUP6q-gjM6",
        "outputId": "549199e9-4570-41c9-d1f4-6101e5f6eed9"
      },
      "execution_count": 36,
      "outputs": [
        {
          "output_type": "execute_result",
          "data": {
            "text/plain": [
              "(800, 18)"
            ]
          },
          "metadata": {},
          "execution_count": 36
        }
      ]
    },
    {
      "cell_type": "code",
      "source": [
        "X_train = train.drop([\"Purchase\"], axis = 1)\n",
        "y_train = train[\"Purchase\"]\n",
        "X_test = test.drop([\"Purchase\"], axis = 1)\n",
        "y_test = test[\"Purchase\"]"
      ],
      "metadata": {
        "id": "n1FYapGPhwpa"
      },
      "execution_count": 37,
      "outputs": []
    },
    {
      "cell_type": "markdown",
      "source": [
        "##2bii"
      ],
      "metadata": {
        "id": "OazbcUMbhSHu"
      }
    },
    {
      "cell_type": "code",
      "source": [
        "tree = DecisionTreeClassifier(random_state = 1).fit(X_train, y_train)\n",
        "tree.score(X_train, y_train)"
      ],
      "metadata": {
        "colab": {
          "base_uri": "https://localhost:8080/"
        },
        "id": "YVjX6tsmizfl",
        "outputId": "31545d7e-cd82-4f75-dc63-cdf582b18f14"
      },
      "execution_count": 62,
      "outputs": [
        {
          "output_type": "execute_result",
          "data": {
            "text/plain": [
              "0.99"
            ]
          },
          "metadata": {},
          "execution_count": 62
        }
      ]
    },
    {
      "cell_type": "markdown",
      "source": [
        "##2biii"
      ],
      "metadata": {
        "id": "AtSj4biWjkXt"
      }
    },
    {
      "cell_type": "code",
      "source": [
        "plot_tree(tree)"
      ],
      "metadata": {
        "colab": {
          "base_uri": "https://localhost:8080/",
          "height": 1000
        },
        "id": "70V9ajbTjUyj",
        "outputId": "9120e8b0-bd9c-401b-ecea-c7b44558f18a"
      },
      "execution_count": 39,
      "outputs": [
        {
          "output_type": "execute_result",
          "data": {
            "text/plain": [
              "[Text(0.4521940418679549, 0.96875, 'X[8] <= 0.504\\ngini = 0.477\\nsamples = 800\\nvalue = [486, 314]'),\n",
              " Text(0.20471014492753623, 0.90625, 'X[8] <= 0.276\\ngini = 0.394\\nsamples = 352\\nvalue = [95, 257]'),\n",
              " Text(0.06602254428341385, 0.84375, 'X[8] <= 0.051\\ngini = 0.198\\nsamples = 171\\nvalue = [19, 152]'),\n",
              " Text(0.01288244766505636, 0.78125, 'X[0] <= 268.5\\ngini = 0.031\\nsamples = 64\\nvalue = [1, 63]'),\n",
              " Text(0.00644122383252818, 0.71875, 'gini = 0.0\\nsamples = 52\\nvalue = [0, 52]'),\n",
              " Text(0.01932367149758454, 0.71875, 'X[9] <= 2.15\\ngini = 0.153\\nsamples = 12\\nvalue = [1, 11]'),\n",
              " Text(0.01288244766505636, 0.65625, 'gini = 0.0\\nsamples = 10\\nvalue = [0, 10]'),\n",
              " Text(0.02576489533011272, 0.65625, 'X[0] <= 269.5\\ngini = 0.5\\nsamples = 2\\nvalue = [1, 1]'),\n",
              " Text(0.01932367149758454, 0.59375, 'gini = 0.0\\nsamples = 1\\nvalue = [1, 0]'),\n",
              " Text(0.0322061191626409, 0.59375, 'gini = 0.0\\nsamples = 1\\nvalue = [0, 1]'),\n",
              " Text(0.11916264090177134, 0.78125, 'X[10] <= 1.975\\ngini = 0.28\\nsamples = 107\\nvalue = [18, 89]'),\n",
              " Text(0.07407407407407407, 0.71875, 'X[10] <= 1.72\\ngini = 0.236\\nsamples = 95\\nvalue = [13, 82]'),\n",
              " Text(0.05152979066022544, 0.65625, 'X[16] <= 1.5\\ngini = 0.375\\nsamples = 20\\nvalue = [5, 15]'),\n",
              " Text(0.04508856682769726, 0.59375, 'X[4] <= 0.42\\ngini = 0.5\\nsamples = 10\\nvalue = [5, 5]'),\n",
              " Text(0.03864734299516908, 0.53125, 'X[8] <= 0.157\\ngini = 0.469\\nsamples = 8\\nvalue = [5, 3]'),\n",
              " Text(0.02576489533011272, 0.46875, 'X[0] <= 228.0\\ngini = 0.444\\nsamples = 3\\nvalue = [1, 2]'),\n",
              " Text(0.01932367149758454, 0.40625, 'gini = 0.0\\nsamples = 1\\nvalue = [1, 0]'),\n",
              " Text(0.0322061191626409, 0.40625, 'gini = 0.0\\nsamples = 2\\nvalue = [0, 2]'),\n",
              " Text(0.05152979066022544, 0.46875, 'X[15] <= 0.285\\ngini = 0.32\\nsamples = 5\\nvalue = [4, 1]'),\n",
              " Text(0.04508856682769726, 0.40625, 'gini = 0.0\\nsamples = 3\\nvalue = [3, 0]'),\n",
              " Text(0.057971014492753624, 0.40625, 'X[12] <= 0.5\\ngini = 0.5\\nsamples = 2\\nvalue = [1, 1]'),\n",
              " Text(0.05152979066022544, 0.34375, 'gini = 0.0\\nsamples = 1\\nvalue = [1, 0]'),\n",
              " Text(0.0644122383252818, 0.34375, 'gini = 0.0\\nsamples = 1\\nvalue = [0, 1]'),\n",
              " Text(0.05152979066022544, 0.53125, 'gini = 0.0\\nsamples = 2\\nvalue = [0, 2]'),\n",
              " Text(0.057971014492753624, 0.59375, 'gini = 0.0\\nsamples = 10\\nvalue = [0, 10]'),\n",
              " Text(0.0966183574879227, 0.65625, 'X[11] <= 0.235\\ngini = 0.191\\nsamples = 75\\nvalue = [8, 67]'),\n",
              " Text(0.07407407407407407, 0.59375, 'X[6] <= 0.5\\ngini = 0.054\\nsamples = 36\\nvalue = [1, 35]'),\n",
              " Text(0.06763285024154589, 0.53125, 'gini = 0.0\\nsamples = 34\\nvalue = [0, 34]'),\n",
              " Text(0.08051529790660225, 0.53125, 'X[0] <= 233.5\\ngini = 0.5\\nsamples = 2\\nvalue = [1, 1]'),\n",
              " Text(0.07407407407407407, 0.46875, 'gini = 0.0\\nsamples = 1\\nvalue = [1, 0]'),\n",
              " Text(0.08695652173913043, 0.46875, 'gini = 0.0\\nsamples = 1\\nvalue = [0, 1]'),\n",
              " Text(0.11916264090177134, 0.59375, 'X[0] <= 265.5\\ngini = 0.295\\nsamples = 39\\nvalue = [7, 32]'),\n",
              " Text(0.10628019323671498, 0.53125, 'X[2] <= 1.875\\ngini = 0.219\\nsamples = 32\\nvalue = [4, 28]'),\n",
              " Text(0.0998389694041868, 0.46875, 'X[1] <= 1.5\\ngini = 0.175\\nsamples = 31\\nvalue = [3, 28]'),\n",
              " Text(0.08373590982286634, 0.40625, 'X[0] <= 247.5\\ngini = 0.5\\nsamples = 2\\nvalue = [1, 1]'),\n",
              " Text(0.07729468599033816, 0.34375, 'gini = 0.0\\nsamples = 1\\nvalue = [1, 0]'),\n",
              " Text(0.09017713365539452, 0.34375, 'gini = 0.0\\nsamples = 1\\nvalue = [0, 1]'),\n",
              " Text(0.11594202898550725, 0.40625, 'X[8] <= 0.065\\ngini = 0.128\\nsamples = 29\\nvalue = [2, 27]'),\n",
              " Text(0.10305958132045089, 0.34375, 'X[0] <= 237.5\\ngini = 0.444\\nsamples = 3\\nvalue = [1, 2]'),\n",
              " Text(0.0966183574879227, 0.28125, 'gini = 0.0\\nsamples = 1\\nvalue = [1, 0]'),\n",
              " Text(0.10950080515297907, 0.28125, 'gini = 0.0\\nsamples = 2\\nvalue = [0, 2]'),\n",
              " Text(0.1288244766505636, 0.34375, 'X[12] <= 0.5\\ngini = 0.074\\nsamples = 26\\nvalue = [1, 25]'),\n",
              " Text(0.12238325281803543, 0.28125, 'gini = 0.0\\nsamples = 21\\nvalue = [0, 21]'),\n",
              " Text(0.13526570048309178, 0.28125, 'X[8] <= 0.181\\ngini = 0.32\\nsamples = 5\\nvalue = [1, 4]'),\n",
              " Text(0.1288244766505636, 0.21875, 'gini = 0.0\\nsamples = 3\\nvalue = [0, 3]'),\n",
              " Text(0.14170692431561996, 0.21875, 'X[0] <= 257.5\\ngini = 0.5\\nsamples = 2\\nvalue = [1, 1]'),\n",
              " Text(0.13526570048309178, 0.15625, 'gini = 0.0\\nsamples = 1\\nvalue = [1, 0]'),\n",
              " Text(0.14814814814814814, 0.15625, 'gini = 0.0\\nsamples = 1\\nvalue = [0, 1]'),\n",
              " Text(0.11272141706924316, 0.46875, 'gini = 0.0\\nsamples = 1\\nvalue = [1, 0]'),\n",
              " Text(0.1320450885668277, 0.53125, 'X[15] <= 0.295\\ngini = 0.49\\nsamples = 7\\nvalue = [3, 4]'),\n",
              " Text(0.12560386473429952, 0.46875, 'gini = 0.0\\nsamples = 3\\nvalue = [0, 3]'),\n",
              " Text(0.13848631239935588, 0.46875, 'X[8] <= 0.27\\ngini = 0.375\\nsamples = 4\\nvalue = [3, 1]'),\n",
              " Text(0.1320450885668277, 0.40625, 'gini = 0.0\\nsamples = 3\\nvalue = [3, 0]'),\n",
              " Text(0.14492753623188406, 0.40625, 'gini = 0.0\\nsamples = 1\\nvalue = [0, 1]'),\n",
              " Text(0.1642512077294686, 0.71875, 'X[16] <= 2.5\\ngini = 0.486\\nsamples = 12\\nvalue = [5, 7]'),\n",
              " Text(0.15780998389694043, 0.65625, 'gini = 0.0\\nsamples = 4\\nvalue = [0, 4]'),\n",
              " Text(0.1706924315619968, 0.65625, 'X[8] <= 0.251\\ngini = 0.469\\nsamples = 8\\nvalue = [5, 3]'),\n",
              " Text(0.1642512077294686, 0.59375, 'X[8] <= 0.094\\ngini = 0.408\\nsamples = 7\\nvalue = [5, 2]'),\n",
              " Text(0.15780998389694043, 0.53125, 'X[11] <= -0.2\\ngini = 0.444\\nsamples = 3\\nvalue = [1, 2]'),\n",
              " Text(0.15136876006441224, 0.46875, 'gini = 0.0\\nsamples = 1\\nvalue = [1, 0]'),\n",
              " Text(0.1642512077294686, 0.46875, 'gini = 0.0\\nsamples = 2\\nvalue = [0, 2]'),\n",
              " Text(0.1706924315619968, 0.53125, 'gini = 0.0\\nsamples = 4\\nvalue = [4, 0]'),\n",
              " Text(0.17713365539452497, 0.59375, 'gini = 0.0\\nsamples = 1\\nvalue = [0, 1]'),\n",
              " Text(0.34339774557165864, 0.84375, 'X[11] <= 0.05\\ngini = 0.487\\nsamples = 181\\nvalue = [76, 105]'),\n",
              " Text(0.23832528180354268, 0.78125, 'X[1] <= 2.5\\ngini = 0.342\\nsamples = 73\\nvalue = [16, 57]'),\n",
              " Text(0.1964573268921095, 0.71875, 'X[8] <= 0.279\\ngini = 0.198\\nsamples = 36\\nvalue = [4, 32]'),\n",
              " Text(0.19001610305958133, 0.65625, 'gini = 0.0\\nsamples = 1\\nvalue = [1, 0]'),\n",
              " Text(0.2028985507246377, 0.65625, 'X[9] <= 1.735\\ngini = 0.157\\nsamples = 35\\nvalue = [3, 32]'),\n",
              " Text(0.19001610305958133, 0.59375, 'X[8] <= 0.479\\ngini = 0.064\\nsamples = 30\\nvalue = [1, 29]'),\n",
              " Text(0.18357487922705315, 0.53125, 'gini = 0.0\\nsamples = 25\\nvalue = [0, 25]'),\n",
              " Text(0.1964573268921095, 0.53125, 'X[8] <= 0.49\\ngini = 0.32\\nsamples = 5\\nvalue = [1, 4]'),\n",
              " Text(0.19001610305958133, 0.46875, 'gini = 0.0\\nsamples = 1\\nvalue = [1, 0]'),\n",
              " Text(0.2028985507246377, 0.46875, 'gini = 0.0\\nsamples = 4\\nvalue = [0, 4]'),\n",
              " Text(0.21578099838969403, 0.59375, 'X[16] <= 1.5\\ngini = 0.48\\nsamples = 5\\nvalue = [2, 3]'),\n",
              " Text(0.20933977455716588, 0.53125, 'gini = 0.0\\nsamples = 1\\nvalue = [0, 1]'),\n",
              " Text(0.2222222222222222, 0.53125, 'X[8] <= 0.36\\ngini = 0.5\\nsamples = 4\\nvalue = [2, 2]'),\n",
              " Text(0.21578099838969403, 0.46875, 'gini = 0.0\\nsamples = 1\\nvalue = [0, 1]'),\n",
              " Text(0.2286634460547504, 0.46875, 'X[8] <= 0.442\\ngini = 0.444\\nsamples = 3\\nvalue = [2, 1]'),\n",
              " Text(0.2222222222222222, 0.40625, 'gini = 0.5\\nsamples = 2\\nvalue = [1, 1]'),\n",
              " Text(0.23510466988727857, 0.40625, 'gini = 0.0\\nsamples = 1\\nvalue = [1, 0]'),\n",
              " Text(0.28019323671497587, 0.71875, 'X[10] <= 1.72\\ngini = 0.438\\nsamples = 37\\nvalue = [12, 25]'),\n",
              " Text(0.27375201288244766, 0.65625, 'gini = 0.0\\nsamples = 3\\nvalue = [3, 0]'),\n",
              " Text(0.286634460547504, 0.65625, 'X[9] <= 1.84\\ngini = 0.389\\nsamples = 34\\nvalue = [9, 25]'),\n",
              " Text(0.28019323671497587, 0.59375, 'X[10] <= 1.94\\ngini = 0.436\\nsamples = 28\\nvalue = [9, 19]'),\n",
              " Text(0.27375201288244766, 0.53125, 'X[0] <= 236.0\\ngini = 0.461\\nsamples = 25\\nvalue = [9, 16]'),\n",
              " Text(0.25442834138486314, 0.46875, 'X[0] <= 233.5\\ngini = 0.432\\nsamples = 19\\nvalue = [6, 13]'),\n",
              " Text(0.24798711755233493, 0.40625, 'X[8] <= 0.352\\ngini = 0.469\\nsamples = 16\\nvalue = [6, 10]'),\n",
              " Text(0.24154589371980675, 0.34375, 'gini = 0.0\\nsamples = 2\\nvalue = [0, 2]'),\n",
              " Text(0.25442834138486314, 0.34375, 'X[8] <= 0.392\\ngini = 0.49\\nsamples = 14\\nvalue = [6, 8]'),\n",
              " Text(0.24798711755233493, 0.28125, 'gini = 0.0\\nsamples = 1\\nvalue = [1, 0]'),\n",
              " Text(0.2608695652173913, 0.28125, 'X[8] <= 0.44\\ngini = 0.473\\nsamples = 13\\nvalue = [5, 8]'),\n",
              " Text(0.24798711755233493, 0.21875, 'X[16] <= 3.5\\ngini = 0.408\\nsamples = 7\\nvalue = [2, 5]'),\n",
              " Text(0.24154589371980675, 0.15625, 'X[0] <= 230.0\\ngini = 0.48\\nsamples = 5\\nvalue = [2, 3]'),\n",
              " Text(0.23510466988727857, 0.09375, 'gini = 0.0\\nsamples = 1\\nvalue = [1, 0]'),\n",
              " Text(0.24798711755233493, 0.09375, 'X[0] <= 232.0\\ngini = 0.375\\nsamples = 4\\nvalue = [1, 3]'),\n",
              " Text(0.24154589371980675, 0.03125, 'gini = 0.0\\nsamples = 1\\nvalue = [0, 1]'),\n",
              " Text(0.25442834138486314, 0.03125, 'gini = 0.444\\nsamples = 3\\nvalue = [1, 2]'),\n",
              " Text(0.25442834138486314, 0.15625, 'gini = 0.0\\nsamples = 2\\nvalue = [0, 2]'),\n",
              " Text(0.27375201288244766, 0.21875, 'X[1] <= 3.5\\ngini = 0.5\\nsamples = 6\\nvalue = [3, 3]'),\n",
              " Text(0.2673107890499195, 0.15625, 'gini = 0.0\\nsamples = 1\\nvalue = [0, 1]'),\n",
              " Text(0.28019323671497587, 0.15625, 'X[8] <= 0.49\\ngini = 0.48\\nsamples = 5\\nvalue = [3, 2]'),\n",
              " Text(0.27375201288244766, 0.09375, 'gini = 0.0\\nsamples = 1\\nvalue = [1, 0]'),\n",
              " Text(0.286634460547504, 0.09375, 'X[3] <= 1.89\\ngini = 0.5\\nsamples = 4\\nvalue = [2, 2]'),\n",
              " Text(0.28019323671497587, 0.03125, 'gini = 0.5\\nsamples = 2\\nvalue = [1, 1]'),\n",
              " Text(0.29307568438003223, 0.03125, 'gini = 0.5\\nsamples = 2\\nvalue = [1, 1]'),\n",
              " Text(0.2608695652173913, 0.40625, 'gini = 0.0\\nsamples = 3\\nvalue = [0, 3]'),\n",
              " Text(0.29307568438003223, 0.46875, 'X[8] <= 0.425\\ngini = 0.5\\nsamples = 6\\nvalue = [3, 3]'),\n",
              " Text(0.286634460547504, 0.40625, 'X[8] <= 0.352\\ngini = 0.375\\nsamples = 4\\nvalue = [3, 1]'),\n",
              " Text(0.28019323671497587, 0.34375, 'X[4] <= 0.1\\ngini = 0.5\\nsamples = 2\\nvalue = [1, 1]'),\n",
              " Text(0.27375201288244766, 0.28125, 'gini = 0.0\\nsamples = 1\\nvalue = [1, 0]'),\n",
              " Text(0.286634460547504, 0.28125, 'gini = 0.0\\nsamples = 1\\nvalue = [0, 1]'),\n",
              " Text(0.29307568438003223, 0.34375, 'gini = 0.0\\nsamples = 2\\nvalue = [2, 0]'),\n",
              " Text(0.2995169082125604, 0.40625, 'gini = 0.0\\nsamples = 2\\nvalue = [0, 2]'),\n",
              " Text(0.286634460547504, 0.53125, 'gini = 0.0\\nsamples = 3\\nvalue = [0, 3]'),\n",
              " Text(0.29307568438003223, 0.59375, 'gini = 0.0\\nsamples = 6\\nvalue = [0, 6]'),\n",
              " Text(0.44847020933977455, 0.78125, 'X[16] <= 1.5\\ngini = 0.494\\nsamples = 108\\nvalue = [60, 48]'),\n",
              " Text(0.3671497584541063, 0.71875, 'X[11] <= 0.31\\ngini = 0.436\\nsamples = 56\\nvalue = [38, 18]'),\n",
              " Text(0.3188405797101449, 0.65625, 'X[11] <= 0.12\\ngini = 0.499\\nsamples = 21\\nvalue = [10, 11]'),\n",
              " Text(0.31239935587761675, 0.59375, 'gini = 0.0\\nsamples = 3\\nvalue = [3, 0]'),\n",
              " Text(0.3252818035426731, 0.59375, 'X[8] <= 0.356\\ngini = 0.475\\nsamples = 18\\nvalue = [7, 11]'),\n",
              " Text(0.31239935587761675, 0.53125, 'X[0] <= 243.5\\ngini = 0.444\\nsamples = 3\\nvalue = [2, 1]'),\n",
              " Text(0.3059581320450886, 0.46875, 'gini = 0.0\\nsamples = 1\\nvalue = [0, 1]'),\n",
              " Text(0.3188405797101449, 0.46875, 'gini = 0.0\\nsamples = 2\\nvalue = [2, 0]'),\n",
              " Text(0.33816425120772947, 0.53125, 'X[8] <= 0.402\\ngini = 0.444\\nsamples = 15\\nvalue = [5, 10]'),\n",
              " Text(0.33172302737520126, 0.46875, 'gini = 0.0\\nsamples = 3\\nvalue = [0, 3]'),\n",
              " Text(0.3446054750402576, 0.46875, 'X[8] <= 0.408\\ngini = 0.486\\nsamples = 12\\nvalue = [5, 7]'),\n",
              " Text(0.33816425120772947, 0.40625, 'gini = 0.0\\nsamples = 1\\nvalue = [1, 0]'),\n",
              " Text(0.35104669887278583, 0.40625, 'X[15] <= 0.285\\ngini = 0.463\\nsamples = 11\\nvalue = [4, 7]'),\n",
              " Text(0.3446054750402576, 0.34375, 'X[8] <= 0.443\\ngini = 0.5\\nsamples = 8\\nvalue = [4, 4]'),\n",
              " Text(0.33816425120772947, 0.28125, 'gini = 0.0\\nsamples = 2\\nvalue = [0, 2]'),\n",
              " Text(0.35104669887278583, 0.28125, 'X[11] <= 0.235\\ngini = 0.444\\nsamples = 6\\nvalue = [4, 2]'),\n",
              " Text(0.3446054750402576, 0.21875, 'X[1] <= 4.0\\ngini = 0.5\\nsamples = 4\\nvalue = [2, 2]'),\n",
              " Text(0.33816425120772947, 0.15625, 'gini = 0.0\\nsamples = 1\\nvalue = [0, 1]'),\n",
              " Text(0.35104669887278583, 0.15625, 'X[3] <= 2.11\\ngini = 0.444\\nsamples = 3\\nvalue = [2, 1]'),\n",
              " Text(0.3446054750402576, 0.09375, 'gini = 0.0\\nsamples = 1\\nvalue = [1, 0]'),\n",
              " Text(0.357487922705314, 0.09375, 'gini = 0.5\\nsamples = 2\\nvalue = [1, 1]'),\n",
              " Text(0.357487922705314, 0.21875, 'gini = 0.0\\nsamples = 2\\nvalue = [2, 0]'),\n",
              " Text(0.357487922705314, 0.34375, 'gini = 0.0\\nsamples = 3\\nvalue = [0, 3]'),\n",
              " Text(0.41545893719806765, 0.65625, 'X[0] <= 275.0\\ngini = 0.32\\nsamples = 35\\nvalue = [28, 7]'),\n",
              " Text(0.4025764895330113, 0.59375, 'X[8] <= 0.468\\ngini = 0.238\\nsamples = 29\\nvalue = [25, 4]'),\n",
              " Text(0.3961352657004831, 0.53125, 'X[8] <= 0.411\\ngini = 0.346\\nsamples = 18\\nvalue = [14, 4]'),\n",
              " Text(0.3832528180354267, 0.46875, 'X[11] <= 0.325\\ngini = 0.142\\nsamples = 13\\nvalue = [12, 1]'),\n",
              " Text(0.37681159420289856, 0.40625, 'X[0] <= 258.5\\ngini = 0.375\\nsamples = 4\\nvalue = [3, 1]'),\n",
              " Text(0.37037037037037035, 0.34375, 'gini = 0.0\\nsamples = 2\\nvalue = [2, 0]'),\n",
              " Text(0.3832528180354267, 0.34375, 'X[8] <= 0.36\\ngini = 0.5\\nsamples = 2\\nvalue = [1, 1]'),\n",
              " Text(0.37681159420289856, 0.28125, 'gini = 0.0\\nsamples = 1\\nvalue = [1, 0]'),\n",
              " Text(0.3896940418679549, 0.28125, 'gini = 0.0\\nsamples = 1\\nvalue = [0, 1]'),\n",
              " Text(0.3896940418679549, 0.40625, 'gini = 0.0\\nsamples = 9\\nvalue = [9, 0]'),\n",
              " Text(0.40901771336553944, 0.46875, 'X[1] <= 4.0\\ngini = 0.48\\nsamples = 5\\nvalue = [2, 3]'),\n",
              " Text(0.4025764895330113, 0.40625, 'X[8] <= 0.458\\ngini = 0.444\\nsamples = 3\\nvalue = [2, 1]'),\n",
              " Text(0.3961352657004831, 0.34375, 'gini = 0.0\\nsamples = 2\\nvalue = [2, 0]'),\n",
              " Text(0.40901771336553944, 0.34375, 'gini = 0.0\\nsamples = 1\\nvalue = [0, 1]'),\n",
              " Text(0.41545893719806765, 0.40625, 'gini = 0.0\\nsamples = 2\\nvalue = [0, 2]'),\n",
              " Text(0.40901771336553944, 0.53125, 'gini = 0.0\\nsamples = 11\\nvalue = [11, 0]'),\n",
              " Text(0.428341384863124, 0.59375, 'X[4] <= 0.37\\ngini = 0.5\\nsamples = 6\\nvalue = [3, 3]'),\n",
              " Text(0.4219001610305958, 0.53125, 'gini = 0.0\\nsamples = 1\\nvalue = [0, 1]'),\n",
              " Text(0.43478260869565216, 0.53125, 'X[8] <= 0.326\\ngini = 0.48\\nsamples = 5\\nvalue = [3, 2]'),\n",
              " Text(0.428341384863124, 0.46875, 'gini = 0.0\\nsamples = 1\\nvalue = [1, 0]'),\n",
              " Text(0.44122383252818037, 0.46875, 'X[8] <= 0.358\\ngini = 0.5\\nsamples = 4\\nvalue = [2, 2]'),\n",
              " Text(0.43478260869565216, 0.40625, 'gini = 0.0\\nsamples = 1\\nvalue = [0, 1]'),\n",
              " Text(0.4476650563607085, 0.40625, 'X[8] <= 0.392\\ngini = 0.444\\nsamples = 3\\nvalue = [2, 1]'),\n",
              " Text(0.44122383252818037, 0.34375, 'gini = 0.0\\nsamples = 1\\nvalue = [1, 0]'),\n",
              " Text(0.45410628019323673, 0.34375, 'gini = 0.5\\nsamples = 2\\nvalue = [1, 1]'),\n",
              " Text(0.5297906602254429, 0.71875, 'X[8] <= 0.303\\ngini = 0.488\\nsamples = 52\\nvalue = [22, 30]'),\n",
              " Text(0.5233494363929146, 0.65625, 'gini = 0.0\\nsamples = 4\\nvalue = [4, 0]'),\n",
              " Text(0.5362318840579711, 0.65625, 'X[8] <= 0.482\\ngini = 0.469\\nsamples = 48\\nvalue = [18, 30]'),\n",
              " Text(0.5152979066022544, 0.59375, 'X[3] <= 2.26\\ngini = 0.383\\nsamples = 31\\nvalue = [8, 23]'),\n",
              " Text(0.5088566827697263, 0.53125, 'X[0] <= 267.5\\ngini = 0.358\\nsamples = 30\\nvalue = [7, 23]'),\n",
              " Text(0.4863123993558776, 0.46875, 'X[0] <= 242.5\\ngini = 0.287\\nsamples = 23\\nvalue = [4, 19]'),\n",
              " Text(0.47342995169082125, 0.40625, 'X[3] <= 2.04\\ngini = 0.444\\nsamples = 9\\nvalue = [3, 6]'),\n",
              " Text(0.4669887278582931, 0.34375, 'gini = 0.0\\nsamples = 5\\nvalue = [0, 5]'),\n",
              " Text(0.47987117552334946, 0.34375, 'X[15] <= 0.27\\ngini = 0.375\\nsamples = 4\\nvalue = [3, 1]'),\n",
              " Text(0.47342995169082125, 0.28125, 'gini = 0.0\\nsamples = 2\\nvalue = [2, 0]'),\n",
              " Text(0.4863123993558776, 0.28125, 'X[8] <= 0.426\\ngini = 0.5\\nsamples = 2\\nvalue = [1, 1]'),\n",
              " Text(0.47987117552334946, 0.21875, 'gini = 0.0\\nsamples = 1\\nvalue = [1, 0]'),\n",
              " Text(0.4927536231884058, 0.21875, 'gini = 0.0\\nsamples = 1\\nvalue = [0, 1]'),\n",
              " Text(0.499194847020934, 0.40625, 'X[4] <= 0.115\\ngini = 0.133\\nsamples = 14\\nvalue = [1, 13]'),\n",
              " Text(0.4927536231884058, 0.34375, 'gini = 0.0\\nsamples = 11\\nvalue = [0, 11]'),\n",
              " Text(0.5056360708534622, 0.34375, 'X[8] <= 0.33\\ngini = 0.444\\nsamples = 3\\nvalue = [1, 2]'),\n",
              " Text(0.499194847020934, 0.28125, 'gini = 0.0\\nsamples = 1\\nvalue = [1, 0]'),\n",
              " Text(0.5120772946859904, 0.28125, 'gini = 0.0\\nsamples = 2\\nvalue = [0, 2]'),\n",
              " Text(0.5314009661835749, 0.46875, 'X[8] <= 0.335\\ngini = 0.49\\nsamples = 7\\nvalue = [3, 4]'),\n",
              " Text(0.5249597423510467, 0.40625, 'gini = 0.0\\nsamples = 2\\nvalue = [0, 2]'),\n",
              " Text(0.537842190016103, 0.40625, 'X[0] <= 272.5\\ngini = 0.48\\nsamples = 5\\nvalue = [3, 2]'),\n",
              " Text(0.5314009661835749, 0.34375, 'X[0] <= 269.0\\ngini = 0.375\\nsamples = 4\\nvalue = [3, 1]'),\n",
              " Text(0.5249597423510467, 0.28125, 'gini = 0.5\\nsamples = 2\\nvalue = [1, 1]'),\n",
              " Text(0.537842190016103, 0.28125, 'gini = 0.0\\nsamples = 2\\nvalue = [2, 0]'),\n",
              " Text(0.5442834138486312, 0.34375, 'gini = 0.0\\nsamples = 1\\nvalue = [0, 1]'),\n",
              " Text(0.5217391304347826, 0.53125, 'gini = 0.0\\nsamples = 1\\nvalue = [1, 0]'),\n",
              " Text(0.5571658615136876, 0.59375, 'X[11] <= 0.37\\ngini = 0.484\\nsamples = 17\\nvalue = [10, 7]'),\n",
              " Text(0.5507246376811594, 0.53125, 'X[2] <= 1.875\\ngini = 0.408\\nsamples = 14\\nvalue = [10, 4]'),\n",
              " Text(0.5442834138486312, 0.46875, 'gini = 0.0\\nsamples = 6\\nvalue = [6, 0]'),\n",
              " Text(0.5571658615136876, 0.46875, 'X[16] <= 2.5\\ngini = 0.5\\nsamples = 8\\nvalue = [4, 4]'),\n",
              " Text(0.5507246376811594, 0.40625, 'gini = 0.0\\nsamples = 2\\nvalue = [0, 2]'),\n",
              " Text(0.5636070853462157, 0.40625, 'X[4] <= 0.05\\ngini = 0.444\\nsamples = 6\\nvalue = [4, 2]'),\n",
              " Text(0.5571658615136876, 0.34375, 'X[0] <= 251.5\\ngini = 0.48\\nsamples = 5\\nvalue = [3, 2]'),\n",
              " Text(0.5507246376811594, 0.28125, 'X[16] <= 3.5\\ngini = 0.375\\nsamples = 4\\nvalue = [3, 1]'),\n",
              " Text(0.5442834138486312, 0.21875, 'X[0] <= 247.0\\ngini = 0.5\\nsamples = 2\\nvalue = [1, 1]'),\n",
              " Text(0.537842190016103, 0.15625, 'gini = 0.0\\nsamples = 1\\nvalue = [1, 0]'),\n",
              " Text(0.5507246376811594, 0.15625, 'gini = 0.0\\nsamples = 1\\nvalue = [0, 1]'),\n",
              " Text(0.5571658615136876, 0.21875, 'gini = 0.0\\nsamples = 2\\nvalue = [2, 0]'),\n",
              " Text(0.5636070853462157, 0.28125, 'gini = 0.0\\nsamples = 1\\nvalue = [0, 1]'),\n",
              " Text(0.5700483091787439, 0.34375, 'gini = 0.0\\nsamples = 1\\nvalue = [1, 0]'),\n",
              " Text(0.5636070853462157, 0.53125, 'gini = 0.0\\nsamples = 3\\nvalue = [0, 3]'),\n",
              " Text(0.6996779388083736, 0.90625, 'X[11] <= -0.39\\ngini = 0.222\\nsamples = 448\\nvalue = [391, 57]'),\n",
              " Text(0.6022544283413849, 0.84375, 'X[8] <= 0.764\\ngini = 0.466\\nsamples = 27\\nvalue = [10, 17]'),\n",
              " Text(0.5893719806763285, 0.78125, 'X[16] <= 3.5\\ngini = 0.208\\nsamples = 17\\nvalue = [2, 15]'),\n",
              " Text(0.5829307568438004, 0.71875, 'X[1] <= 1.5\\ngini = 0.117\\nsamples = 16\\nvalue = [1, 15]'),\n",
              " Text(0.5764895330112721, 0.65625, 'X[0] <= 274.5\\ngini = 0.32\\nsamples = 5\\nvalue = [1, 4]'),\n",
              " Text(0.5700483091787439, 0.59375, 'gini = 0.0\\nsamples = 3\\nvalue = [0, 3]'),\n",
              " Text(0.5829307568438004, 0.59375, 'X[8] <= 0.626\\ngini = 0.5\\nsamples = 2\\nvalue = [1, 1]'),\n",
              " Text(0.5764895330112721, 0.53125, 'gini = 0.0\\nsamples = 1\\nvalue = [0, 1]'),\n",
              " Text(0.5893719806763285, 0.53125, 'gini = 0.0\\nsamples = 1\\nvalue = [1, 0]'),\n",
              " Text(0.5893719806763285, 0.65625, 'gini = 0.0\\nsamples = 11\\nvalue = [0, 11]'),\n",
              " Text(0.5958132045088567, 0.71875, 'gini = 0.0\\nsamples = 1\\nvalue = [1, 0]'),\n",
              " Text(0.6151368760064412, 0.78125, 'X[6] <= 0.5\\ngini = 0.32\\nsamples = 10\\nvalue = [8, 2]'),\n",
              " Text(0.6086956521739131, 0.71875, 'gini = 0.0\\nsamples = 7\\nvalue = [7, 0]'),\n",
              " Text(0.6215780998389694, 0.71875, 'X[8] <= 0.997\\ngini = 0.444\\nsamples = 3\\nvalue = [1, 2]'),\n",
              " Text(0.6151368760064412, 0.65625, 'gini = 0.0\\nsamples = 2\\nvalue = [0, 2]'),\n",
              " Text(0.6280193236714976, 0.65625, 'gini = 0.0\\nsamples = 1\\nvalue = [1, 0]'),\n",
              " Text(0.7971014492753623, 0.84375, 'X[8] <= 0.704\\ngini = 0.172\\nsamples = 421\\nvalue = [381, 40]'),\n",
              " Text(0.7069243156199678, 0.78125, 'X[15] <= 0.135\\ngini = 0.347\\nsamples = 130\\nvalue = [101, 29]'),\n",
              " Text(0.6473429951690821, 0.71875, 'X[6] <= 0.5\\ngini = 0.497\\nsamples = 28\\nvalue = [15, 13]'),\n",
              " Text(0.6409017713365539, 0.65625, 'X[0] <= 271.0\\ngini = 0.48\\nsamples = 25\\nvalue = [15, 10]'),\n",
              " Text(0.6231884057971014, 0.59375, 'X[8] <= 0.598\\ngini = 0.499\\nsamples = 19\\nvalue = [10, 9]'),\n",
              " Text(0.607085346215781, 0.53125, 'X[16] <= 3.5\\ngini = 0.408\\nsamples = 7\\nvalue = [2, 5]'),\n",
              " Text(0.6006441223832528, 0.46875, 'X[15] <= 0.115\\ngini = 0.278\\nsamples = 6\\nvalue = [1, 5]'),\n",
              " Text(0.5942028985507246, 0.40625, 'gini = 0.0\\nsamples = 4\\nvalue = [0, 4]'),\n",
              " Text(0.607085346215781, 0.40625, 'X[5] <= 0.15\\ngini = 0.5\\nsamples = 2\\nvalue = [1, 1]'),\n",
              " Text(0.6006441223832528, 0.34375, 'gini = 0.0\\nsamples = 1\\nvalue = [1, 0]'),\n",
              " Text(0.6135265700483091, 0.34375, 'gini = 0.0\\nsamples = 1\\nvalue = [0, 1]'),\n",
              " Text(0.6135265700483091, 0.46875, 'gini = 0.0\\nsamples = 1\\nvalue = [1, 0]'),\n",
              " Text(0.6392914653784219, 0.53125, 'X[8] <= 0.69\\ngini = 0.444\\nsamples = 12\\nvalue = [8, 4]'),\n",
              " Text(0.6328502415458938, 0.46875, 'X[1] <= 2.0\\ngini = 0.397\\nsamples = 11\\nvalue = [8, 3]'),\n",
              " Text(0.6264090177133655, 0.40625, 'gini = 0.0\\nsamples = 2\\nvalue = [2, 0]'),\n",
              " Text(0.6392914653784219, 0.40625, 'X[8] <= 0.621\\ngini = 0.444\\nsamples = 9\\nvalue = [6, 3]'),\n",
              " Text(0.6264090177133655, 0.34375, 'X[15] <= 0.05\\ngini = 0.5\\nsamples = 4\\nvalue = [2, 2]'),\n",
              " Text(0.6199677938808373, 0.28125, 'gini = 0.0\\nsamples = 1\\nvalue = [1, 0]'),\n",
              " Text(0.6328502415458938, 0.28125, 'X[0] <= 268.0\\ngini = 0.444\\nsamples = 3\\nvalue = [1, 2]'),\n",
              " Text(0.6264090177133655, 0.21875, 'gini = 0.0\\nsamples = 2\\nvalue = [0, 2]'),\n",
              " Text(0.6392914653784219, 0.21875, 'gini = 0.0\\nsamples = 1\\nvalue = [1, 0]'),\n",
              " Text(0.6521739130434783, 0.34375, 'X[11] <= -0.1\\ngini = 0.32\\nsamples = 5\\nvalue = [4, 1]'),\n",
              " Text(0.6457326892109501, 0.28125, 'gini = 0.5\\nsamples = 2\\nvalue = [1, 1]'),\n",
              " Text(0.6586151368760065, 0.28125, 'gini = 0.0\\nsamples = 3\\nvalue = [3, 0]'),\n",
              " Text(0.6457326892109501, 0.46875, 'gini = 0.0\\nsamples = 1\\nvalue = [0, 1]'),\n",
              " Text(0.6586151368760065, 0.59375, 'X[8] <= 0.608\\ngini = 0.278\\nsamples = 6\\nvalue = [5, 1]'),\n",
              " Text(0.6521739130434783, 0.53125, 'gini = 0.0\\nsamples = 4\\nvalue = [4, 0]'),\n",
              " Text(0.6650563607085346, 0.53125, 'X[0] <= 272.5\\ngini = 0.5\\nsamples = 2\\nvalue = [1, 1]'),\n",
              " Text(0.6586151368760065, 0.46875, 'gini = 0.0\\nsamples = 1\\nvalue = [1, 0]'),\n",
              " Text(0.6714975845410628, 0.46875, 'gini = 0.0\\nsamples = 1\\nvalue = [0, 1]'),\n",
              " Text(0.6537842190016103, 0.65625, 'gini = 0.0\\nsamples = 3\\nvalue = [0, 3]'),\n",
              " Text(0.7665056360708534, 0.71875, 'X[1] <= 2.5\\ngini = 0.265\\nsamples = 102\\nvalue = [86, 16]'),\n",
              " Text(0.7198067632850241, 0.65625, 'X[9] <= 2.04\\ngini = 0.444\\nsamples = 36\\nvalue = [24, 12]'),\n",
              " Text(0.7037037037037037, 0.59375, 'X[0] <= 259.5\\ngini = 0.459\\nsamples = 14\\nvalue = [5, 9]'),\n",
              " Text(0.6972624798711755, 0.53125, 'X[0] <= 236.5\\ngini = 0.5\\nsamples = 10\\nvalue = [5, 5]'),\n",
              " Text(0.6843800322061192, 0.46875, 'X[15] <= 0.27\\ngini = 0.32\\nsamples = 5\\nvalue = [1, 4]'),\n",
              " Text(0.677938808373591, 0.40625, 'gini = 0.0\\nsamples = 3\\nvalue = [0, 3]'),\n",
              " Text(0.6908212560386473, 0.40625, 'X[16] <= 1.5\\ngini = 0.5\\nsamples = 2\\nvalue = [1, 1]'),\n",
              " Text(0.6843800322061192, 0.34375, 'gini = 0.0\\nsamples = 1\\nvalue = [0, 1]'),\n",
              " Text(0.6972624798711755, 0.34375, 'gini = 0.0\\nsamples = 1\\nvalue = [1, 0]'),\n",
              " Text(0.7101449275362319, 0.46875, 'X[1] <= 1.5\\ngini = 0.32\\nsamples = 5\\nvalue = [4, 1]'),\n",
              " Text(0.7037037037037037, 0.40625, 'gini = 0.0\\nsamples = 2\\nvalue = [2, 0]'),\n",
              " Text(0.71658615136876, 0.40625, 'X[8] <= 0.622\\ngini = 0.444\\nsamples = 3\\nvalue = [2, 1]'),\n",
              " Text(0.7101449275362319, 0.34375, 'gini = 0.0\\nsamples = 1\\nvalue = [0, 1]'),\n",
              " Text(0.7230273752012882, 0.34375, 'gini = 0.0\\nsamples = 2\\nvalue = [2, 0]'),\n",
              " Text(0.7101449275362319, 0.53125, 'gini = 0.0\\nsamples = 4\\nvalue = [0, 4]'),\n",
              " Text(0.7359098228663447, 0.59375, 'X[8] <= 0.535\\ngini = 0.236\\nsamples = 22\\nvalue = [19, 3]'),\n",
              " Text(0.7294685990338164, 0.53125, 'gini = 0.0\\nsamples = 1\\nvalue = [0, 1]'),\n",
              " Text(0.7423510466988728, 0.53125, 'X[8] <= 0.686\\ngini = 0.172\\nsamples = 21\\nvalue = [19, 2]'),\n",
              " Text(0.7359098228663447, 0.46875, 'X[13] <= 0.014\\ngini = 0.095\\nsamples = 20\\nvalue = [19, 1]'),\n",
              " Text(0.7294685990338164, 0.40625, 'gini = 0.0\\nsamples = 16\\nvalue = [16, 0]'),\n",
              " Text(0.7423510466988728, 0.40625, 'X[8] <= 0.589\\ngini = 0.375\\nsamples = 4\\nvalue = [3, 1]'),\n",
              " Text(0.7359098228663447, 0.34375, 'gini = 0.0\\nsamples = 3\\nvalue = [3, 0]'),\n",
              " Text(0.748792270531401, 0.34375, 'gini = 0.0\\nsamples = 1\\nvalue = [0, 1]'),\n",
              " Text(0.748792270531401, 0.46875, 'gini = 0.0\\nsamples = 1\\nvalue = [0, 1]'),\n",
              " Text(0.8132045088566827, 0.65625, 'X[9] <= 2.26\\ngini = 0.114\\nsamples = 66\\nvalue = [62, 4]'),\n",
              " Text(0.7874396135265701, 0.59375, 'X[15] <= 0.235\\ngini = 0.064\\nsamples = 60\\nvalue = [58, 2]'),\n",
              " Text(0.7681159420289855, 0.53125, 'X[8] <= 0.594\\ngini = 0.375\\nsamples = 4\\nvalue = [3, 1]'),\n",
              " Text(0.7616747181964574, 0.46875, 'gini = 0.0\\nsamples = 2\\nvalue = [2, 0]'),\n",
              " Text(0.7745571658615137, 0.46875, 'X[14] <= 0.027\\ngini = 0.5\\nsamples = 2\\nvalue = [1, 1]'),\n",
              " Text(0.7681159420289855, 0.40625, 'gini = 0.0\\nsamples = 1\\nvalue = [1, 0]'),\n",
              " Text(0.7809983896940419, 0.40625, 'gini = 0.0\\nsamples = 1\\nvalue = [0, 1]'),\n",
              " Text(0.8067632850241546, 0.53125, 'X[11] <= -0.13\\ngini = 0.035\\nsamples = 56\\nvalue = [55, 1]'),\n",
              " Text(0.8003220611916264, 0.46875, 'X[8] <= 0.581\\ngini = 0.219\\nsamples = 8\\nvalue = [7, 1]'),\n",
              " Text(0.7938808373590982, 0.40625, 'gini = 0.0\\nsamples = 4\\nvalue = [4, 0]'),\n",
              " Text(0.8067632850241546, 0.40625, 'X[0] <= 233.5\\ngini = 0.375\\nsamples = 4\\nvalue = [3, 1]'),\n",
              " Text(0.8003220611916264, 0.34375, 'gini = 0.0\\nsamples = 2\\nvalue = [2, 0]'),\n",
              " Text(0.8132045088566827, 0.34375, 'X[0] <= 235.0\\ngini = 0.5\\nsamples = 2\\nvalue = [1, 1]'),\n",
              " Text(0.8067632850241546, 0.28125, 'gini = 0.0\\nsamples = 1\\nvalue = [0, 1]'),\n",
              " Text(0.8196457326892109, 0.28125, 'gini = 0.0\\nsamples = 1\\nvalue = [1, 0]'),\n",
              " Text(0.8132045088566827, 0.46875, 'gini = 0.0\\nsamples = 48\\nvalue = [48, 0]'),\n",
              " Text(0.8389694041867954, 0.59375, 'X[0] <= 255.5\\ngini = 0.444\\nsamples = 6\\nvalue = [4, 2]'),\n",
              " Text(0.8325281803542673, 0.53125, 'X[6] <= 0.5\\ngini = 0.444\\nsamples = 3\\nvalue = [1, 2]'),\n",
              " Text(0.8260869565217391, 0.46875, 'gini = 0.0\\nsamples = 1\\nvalue = [0, 1]'),\n",
              " Text(0.8389694041867954, 0.46875, 'X[8] <= 0.684\\ngini = 0.5\\nsamples = 2\\nvalue = [1, 1]'),\n",
              " Text(0.8325281803542673, 0.40625, 'gini = 0.0\\nsamples = 1\\nvalue = [1, 0]'),\n",
              " Text(0.8454106280193237, 0.40625, 'gini = 0.0\\nsamples = 1\\nvalue = [0, 1]'),\n",
              " Text(0.8454106280193237, 0.53125, 'gini = 0.0\\nsamples = 3\\nvalue = [3, 0]'),\n",
              " Text(0.8872785829307569, 0.78125, 'X[0] <= 228.5\\ngini = 0.073\\nsamples = 291\\nvalue = [280, 11]'),\n",
              " Text(0.8615136876006442, 0.71875, 'X[3] <= 1.74\\ngini = 0.444\\nsamples = 3\\nvalue = [2, 1]'),\n",
              " Text(0.855072463768116, 0.65625, 'gini = 0.0\\nsamples = 1\\nvalue = [0, 1]'),\n",
              " Text(0.8679549114331723, 0.65625, 'gini = 0.0\\nsamples = 2\\nvalue = [2, 0]'),\n",
              " Text(0.9130434782608695, 0.71875, 'X[16] <= 2.5\\ngini = 0.067\\nsamples = 288\\nvalue = [278, 10]'),\n",
              " Text(0.8808373590982287, 0.65625, 'X[8] <= 0.738\\ngini = 0.03\\nsamples = 199\\nvalue = [196, 3]'),\n",
              " Text(0.8647342995169082, 0.59375, 'X[8] <= 0.736\\ngini = 0.153\\nsamples = 12\\nvalue = [11, 1]'),\n",
              " Text(0.8582930756843801, 0.53125, 'gini = 0.0\\nsamples = 11\\nvalue = [11, 0]'),\n",
              " Text(0.8711755233494364, 0.53125, 'gini = 0.0\\nsamples = 1\\nvalue = [0, 1]'),\n",
              " Text(0.8969404186795491, 0.59375, 'X[8] <= 0.983\\ngini = 0.021\\nsamples = 187\\nvalue = [185, 2]'),\n",
              " Text(0.8840579710144928, 0.53125, 'X[0] <= 240.5\\ngini = 0.012\\nsamples = 170\\nvalue = [169, 1]'),\n",
              " Text(0.8776167471819646, 0.46875, 'X[10] <= 1.825\\ngini = 0.08\\nsamples = 24\\nvalue = [23, 1]'),\n",
              " Text(0.8711755233494364, 0.40625, 'gini = 0.0\\nsamples = 21\\nvalue = [21, 0]'),\n",
              " Text(0.8840579710144928, 0.40625, 'X[8] <= 0.947\\ngini = 0.444\\nsamples = 3\\nvalue = [2, 1]'),\n",
              " Text(0.8776167471819646, 0.34375, 'gini = 0.0\\nsamples = 2\\nvalue = [2, 0]'),\n",
              " Text(0.8904991948470209, 0.34375, 'gini = 0.0\\nsamples = 1\\nvalue = [0, 1]'),\n",
              " Text(0.8904991948470209, 0.46875, 'gini = 0.0\\nsamples = 146\\nvalue = [146, 0]'),\n",
              " Text(0.9098228663446055, 0.53125, 'X[9] <= 2.155\\ngini = 0.111\\nsamples = 17\\nvalue = [16, 1]'),\n",
              " Text(0.9033816425120773, 0.46875, 'gini = 0.0\\nsamples = 16\\nvalue = [16, 0]'),\n",
              " Text(0.9162640901771336, 0.46875, 'gini = 0.0\\nsamples = 1\\nvalue = [0, 1]'),\n",
              " Text(0.9452495974235104, 0.65625, 'X[11] <= 0.15\\ngini = 0.145\\nsamples = 89\\nvalue = [82, 7]'),\n",
              " Text(0.9388083735909822, 0.59375, 'gini = 0.0\\nsamples = 28\\nvalue = [28, 0]'),\n",
              " Text(0.9516908212560387, 0.59375, 'X[0] <= 238.5\\ngini = 0.203\\nsamples = 61\\nvalue = [54, 7]'),\n",
              " Text(0.9355877616747182, 0.53125, 'X[8] <= 0.971\\ngini = 0.408\\nsamples = 7\\nvalue = [5, 2]'),\n",
              " Text(0.92914653784219, 0.46875, 'X[1] <= 3.5\\ngini = 0.278\\nsamples = 6\\nvalue = [5, 1]'),\n",
              " Text(0.9227053140096618, 0.40625, 'X[8] <= 0.757\\ngini = 0.5\\nsamples = 2\\nvalue = [1, 1]'),\n",
              " Text(0.9162640901771336, 0.34375, 'gini = 0.0\\nsamples = 1\\nvalue = [1, 0]'),\n",
              " Text(0.92914653784219, 0.34375, 'gini = 0.0\\nsamples = 1\\nvalue = [0, 1]'),\n",
              " Text(0.9355877616747182, 0.40625, 'gini = 0.0\\nsamples = 4\\nvalue = [4, 0]'),\n",
              " Text(0.9420289855072463, 0.46875, 'gini = 0.0\\nsamples = 1\\nvalue = [0, 1]'),\n",
              " Text(0.9677938808373591, 0.53125, 'X[8] <= 0.952\\ngini = 0.168\\nsamples = 54\\nvalue = [49, 5]'),\n",
              " Text(0.961352657004831, 0.46875, 'X[8] <= 0.947\\ngini = 0.224\\nsamples = 39\\nvalue = [34, 5]'),\n",
              " Text(0.9549114331723028, 0.40625, 'X[0] <= 257.0\\ngini = 0.188\\nsamples = 38\\nvalue = [34, 4]'),\n",
              " Text(0.9420289855072463, 0.34375, 'X[8] <= 0.922\\ngini = 0.077\\nsamples = 25\\nvalue = [24, 1]'),\n",
              " Text(0.9355877616747182, 0.28125, 'gini = 0.0\\nsamples = 23\\nvalue = [23, 0]'),\n",
              " Text(0.9484702093397746, 0.28125, 'X[0] <= 249.5\\ngini = 0.5\\nsamples = 2\\nvalue = [1, 1]'),\n",
              " Text(0.9420289855072463, 0.21875, 'gini = 0.0\\nsamples = 1\\nvalue = [0, 1]'),\n",
              " Text(0.9549114331723028, 0.21875, 'gini = 0.0\\nsamples = 1\\nvalue = [1, 0]'),\n",
              " Text(0.9677938808373591, 0.34375, 'X[8] <= 0.8\\ngini = 0.355\\nsamples = 13\\nvalue = [10, 3]'),\n",
              " Text(0.961352657004831, 0.28125, 'gini = 0.0\\nsamples = 1\\nvalue = [0, 1]'),\n",
              " Text(0.9742351046698873, 0.28125, 'X[0] <= 264.5\\ngini = 0.278\\nsamples = 12\\nvalue = [10, 2]'),\n",
              " Text(0.9677938808373591, 0.21875, 'gini = 0.0\\nsamples = 5\\nvalue = [5, 0]'),\n",
              " Text(0.9806763285024155, 0.21875, 'X[0] <= 265.5\\ngini = 0.408\\nsamples = 7\\nvalue = [5, 2]'),\n",
              " Text(0.9742351046698873, 0.15625, 'gini = 0.0\\nsamples = 1\\nvalue = [0, 1]'),\n",
              " Text(0.9871175523349437, 0.15625, 'X[8] <= 0.878\\ngini = 0.278\\nsamples = 6\\nvalue = [5, 1]'),\n",
              " Text(0.9806763285024155, 0.09375, 'X[8] <= 0.865\\ngini = 0.444\\nsamples = 3\\nvalue = [2, 1]'),\n",
              " Text(0.9742351046698873, 0.03125, 'gini = 0.0\\nsamples = 2\\nvalue = [2, 0]'),\n",
              " Text(0.9871175523349437, 0.03125, 'gini = 0.0\\nsamples = 1\\nvalue = [0, 1]'),\n",
              " Text(0.9935587761674718, 0.09375, 'gini = 0.0\\nsamples = 3\\nvalue = [3, 0]'),\n",
              " Text(0.9677938808373591, 0.40625, 'gini = 0.0\\nsamples = 1\\nvalue = [0, 1]'),\n",
              " Text(0.9742351046698873, 0.46875, 'gini = 0.0\\nsamples = 15\\nvalue = [15, 0]')]"
            ]
          },
          "metadata": {},
          "execution_count": 39
        },
        {
          "output_type": "display_data",
          "data": {
            "text/plain": [
              "<Figure size 432x288 with 1 Axes>"
            ],
            "image/png": "[encoded data removed]"
          },
          "metadata": {
            "needs_background": "light"
          }
        }
      ]
    },
    {
      "cell_type": "code",
      "source": [
        "smol_tree = DecisionTreeClassifier(random_state = 1, max_depth = 3).fit(X_train, y_train)\n",
        "smol_tree.score(X_train, y_train)"
      ],
      "metadata": {
        "colab": {
          "base_uri": "https://localhost:8080/"
        },
        "id": "5NkWF9B4kdV0",
        "outputId": "0d1a1ada-c16c-44e7-c8ed-15bd93d4db7b"
      },
      "execution_count": 40,
      "outputs": [
        {
          "output_type": "execute_result",
          "data": {
            "text/plain": [
              "0.84125"
            ]
          },
          "metadata": {},
          "execution_count": 40
        }
      ]
    },
    {
      "cell_type": "code",
      "source": [
        "plot_tree(smol_tree)"
      ],
      "metadata": {
        "colab": {
          "base_uri": "https://localhost:8080/",
          "height": 508
        },
        "id": "8Uo95R_OkzVk",
        "outputId": "55028d7c-0781-4b70-b3df-65fea8c26bd5"
      },
      "execution_count": 41,
      "outputs": [
        {
          "output_type": "execute_result",
          "data": {
            "text/plain": [
              "[Text(0.5, 0.875, 'X[8] <= 0.504\\ngini = 0.477\\nsamples = 800\\nvalue = [486, 314]'),\n",
              " Text(0.25, 0.625, 'X[8] <= 0.276\\ngini = 0.394\\nsamples = 352\\nvalue = [95, 257]'),\n",
              " Text(0.125, 0.375, 'X[8] <= 0.051\\ngini = 0.198\\nsamples = 171\\nvalue = [19, 152]'),\n",
              " Text(0.0625, 0.125, 'gini = 0.031\\nsamples = 64\\nvalue = [1, 63]'),\n",
              " Text(0.1875, 0.125, 'gini = 0.28\\nsamples = 107\\nvalue = [18, 89]'),\n",
              " Text(0.375, 0.375, 'X[11] <= 0.05\\ngini = 0.487\\nsamples = 181\\nvalue = [76, 105]'),\n",
              " Text(0.3125, 0.125, 'gini = 0.342\\nsamples = 73\\nvalue = [16, 57]'),\n",
              " Text(0.4375, 0.125, 'gini = 0.494\\nsamples = 108\\nvalue = [60, 48]'),\n",
              " Text(0.75, 0.625, 'X[11] <= -0.39\\ngini = 0.222\\nsamples = 448\\nvalue = [391, 57]'),\n",
              " Text(0.625, 0.375, 'X[8] <= 0.764\\ngini = 0.466\\nsamples = 27\\nvalue = [10, 17]'),\n",
              " Text(0.5625, 0.125, 'gini = 0.208\\nsamples = 17\\nvalue = [2, 15]'),\n",
              " Text(0.6875, 0.125, 'gini = 0.32\\nsamples = 10\\nvalue = [8, 2]'),\n",
              " Text(0.875, 0.375, 'X[8] <= 0.704\\ngini = 0.172\\nsamples = 421\\nvalue = [381, 40]'),\n",
              " Text(0.8125, 0.125, 'gini = 0.347\\nsamples = 130\\nvalue = [101, 29]'),\n",
              " Text(0.9375, 0.125, 'gini = 0.073\\nsamples = 291\\nvalue = [280, 11]')]"
            ]
          },
          "metadata": {},
          "execution_count": 41
        },
        {
          "output_type": "display_data",
          "data": {
            "text/plain": [
              "<Figure size 432x288 with 1 Axes>"
            ],
            "image/png": "[encoded data removed]"
          },
          "metadata": {
            "needs_background": "light"
          }
        }
      ]
    },
    {
      "cell_type": "markdown",
      "source": [
        "##2biv"
      ],
      "metadata": {
        "id": "6qCjUBNwk-Z1"
      }
    },
    {
      "cell_type": "code",
      "source": [
        "y_pred = tree.predict(X_test)"
      ],
      "metadata": {
        "id": "B0iCkaKnk1eN"
      },
      "execution_count": 42,
      "outputs": []
    },
    {
      "cell_type": "code",
      "source": [
        "cm = confusion_matrix(y_test, y_pred)\n",
        "\n",
        "sns.set(rc={'figure.facecolor': 'cornflowerblue'})\n",
        "ax = sns.heatmap(cm, annot=True, fmt='.0f', cmap='Blues')\n",
        "ax.set_title('Tree: Confusion Matrix with labels\\n')\n",
        "ax.set_xlabel('\\nPredicted Values')\n",
        "ax.set_ylabel('Actual Values')"
      ],
      "metadata": {
        "colab": {
          "base_uri": "https://localhost:8080/",
          "height": 348
        },
        "id": "ShC-mJsnlUcE",
        "outputId": "e5e3b1f8-cfa6-4f69-d3da-809f08a3004a"
      },
      "execution_count": 43,
      "outputs": [
        {
          "output_type": "execute_result",
          "data": {
            "text/plain": [
              "Text(30.5, 0.5, 'Actual Values')"
            ]
          },
          "metadata": {},
          "execution_count": 43
        },
        {
          "output_type": "display_data",
          "data": {
            "text/plain": [
              "<Figure size 432x288 with 2 Axes>"
            ],
            "image/png": "[encoded data removed]"
          },
          "metadata": {}
        }
      ]
    },
    {
      "cell_type": "code",
      "source": [
        "tree.score(X_test, y_test)"
      ],
      "metadata": {
        "colab": {
          "base_uri": "https://localhost:8080/"
        },
        "id": "TwG3qqdOlcCI",
        "outputId": "f9726b81-146c-440f-f911-455e30c70368"
      },
      "execution_count": 44,
      "outputs": [
        {
          "output_type": "execute_result",
          "data": {
            "text/plain": [
              "0.7481481481481481"
            ]
          },
          "metadata": {},
          "execution_count": 44
        }
      ]
    },
    {
      "cell_type": "markdown",
      "source": [
        "##2bv"
      ],
      "metadata": {
        "id": "Rw4fwsM5mLhv"
      }
    },
    {
      "cell_type": "code",
      "source": [
        "params = {\"ccp_alpha\": np.linspace(0, 1, 100)}\n",
        "tree_cv = GridSearchCV(DecisionTreeClassifier(random_state = 13), params, cv = 5, scoring = \"accuracy\")\n",
        "cv_res = tree_cv.fit(X_train, y_train)"
      ],
      "metadata": {
        "id": "agT3ATpRl0jx"
      },
      "execution_count": 45,
      "outputs": []
    },
    {
      "cell_type": "code",
      "source": [
        "cv_res.best_params_"
      ],
      "metadata": {
        "colab": {
          "base_uri": "https://localhost:8080/"
        },
        "id": "aDD8X1CLiZ4v",
        "outputId": "1aa50f8b-8afd-4f98-9f89-97f80a2fdf34"
      },
      "execution_count": 69,
      "outputs": [
        {
          "output_type": "execute_result",
          "data": {
            "text/plain": [
              "{'ccp_alpha': 0.010101010101010102}"
            ]
          },
          "metadata": {},
          "execution_count": 69
        }
      ]
    },
    {
      "cell_type": "code",
      "source": [
        "plt.plot(pd.DataFrame(cv_res.cv_results_)[\"param_ccp_alpha\"], pd.DataFrame(cv_res.cv_results_)[\"mean_test_score\"])\n",
        "plt.xlabel('alpha')\n",
        "plt.ylabel('5-Fold CV MSE')\n",
        "plt.title('Tuning Alpha')"
      ],
      "metadata": {
        "colab": {
          "base_uri": "https://localhost:8080/",
          "height": 318
        },
        "id": "_6LGk4xYns95",
        "outputId": "f228658b-8507-4789-98e4-86d9fbd087da"
      },
      "execution_count": 47,
      "outputs": [
        {
          "output_type": "execute_result",
          "data": {
            "text/plain": [
              "Text(0.5, 1.0, 'Tuning Alpha')"
            ]
          },
          "metadata": {},
          "execution_count": 47
        },
        {
          "output_type": "display_data",
          "data": {
            "text/plain": [
              "<Figure size 432x288 with 1 Axes>"
            ],
            "image/png": "[encoded data removed]"
          },
          "metadata": {}
        }
      ]
    },
    {
      "cell_type": "markdown",
      "source": [
        "##2bvi"
      ],
      "metadata": {
        "id": "MzeDiAJarOiF"
      }
    },
    {
      "cell_type": "code",
      "source": [
        "alphas = np.linspace(0, 1, 100)\n",
        "tree_sizes = []\n",
        "for alpha in alphas:\n",
        "    temp_tree = DecisionTreeClassifier(random_state = 13, ccp_alpha = alpha).fit(X_train, y_train)\n",
        "    # get number of leaves\n",
        "    tree_sizes.append(temp_tree.get_n_leaves())"
      ],
      "metadata": {
        "id": "uu7DLqpHpiYC"
      },
      "execution_count": 52,
      "outputs": []
    },
    {
      "cell_type": "code",
      "source": [
        "plt.plot(alphas, tree_sizes)\n",
        "plt.xlabel('alpha')\n",
        "plt.ylabel('Tree Size (Leaf #)')\n",
        "plt.title('Tree Size by Alpha')"
      ],
      "metadata": {
        "colab": {
          "base_uri": "https://localhost:8080/",
          "height": 318
        },
        "id": "33iGx1_oeigs",
        "outputId": "4d12bf7c-71aa-43a2-d912-2bda92736d00"
      },
      "execution_count": 55,
      "outputs": [
        {
          "output_type": "execute_result",
          "data": {
            "text/plain": [
              "Text(0.5, 1.0, 'Tree Size by Alpha')"
            ]
          },
          "metadata": {},
          "execution_count": 55
        },
        {
          "output_type": "display_data",
          "data": {
            "text/plain": [
              "<Figure size 432x288 with 1 Axes>"
            ],
            "image/png": "[encoded data removed]"
          },
          "metadata": {}
        }
      ]
    },
    {
      "cell_type": "markdown",
      "source": [
        "##2bvii"
      ],
      "metadata": {
        "id": "881t64HfgKZ-"
      }
    },
    {
      "cell_type": "code",
      "source": [
        "tree_optimal = DecisionTreeClassifier(random_state = 13, ccp_alpha = 0.01).fit(X_train, y_train)\n"
      ],
      "metadata": {
        "id": "_qxoZKpVgAAF"
      },
      "execution_count": 70,
      "outputs": []
    },
    {
      "cell_type": "code",
      "source": [
        "plot_tree(tree_optimal)"
      ],
      "metadata": {
        "colab": {
          "base_uri": "https://localhost:8080/",
          "height": 404
        },
        "id": "Ww_7RI-WgY2P",
        "outputId": "fc3ce7f1-44a2-498d-9920-cf0a5541050b"
      },
      "execution_count": 71,
      "outputs": [
        {
          "output_type": "execute_result",
          "data": {
            "text/plain": [
              "[Text(0.5, 0.875, 'X[8] <= 0.504\\ngini = 0.477\\nsamples = 800\\nvalue = [486, 314]'),\n",
              " Text(0.25, 0.625, 'X[8] <= 0.276\\ngini = 0.394\\nsamples = 352\\nvalue = [95, 257]'),\n",
              " Text(0.125, 0.375, 'gini = 0.198\\nsamples = 171\\nvalue = [19, 152]'),\n",
              " Text(0.375, 0.375, 'X[11] <= 0.05\\ngini = 0.487\\nsamples = 181\\nvalue = [76, 105]'),\n",
              " Text(0.25, 0.125, 'gini = 0.342\\nsamples = 73\\nvalue = [16, 57]'),\n",
              " Text(0.5, 0.125, 'gini = 0.494\\nsamples = 108\\nvalue = [60, 48]'),\n",
              " Text(0.75, 0.625, 'X[11] <= -0.39\\ngini = 0.222\\nsamples = 448\\nvalue = [391, 57]'),\n",
              " Text(0.625, 0.375, 'gini = 0.466\\nsamples = 27\\nvalue = [10, 17]'),\n",
              " Text(0.875, 0.375, 'gini = 0.172\\nsamples = 421\\nvalue = [381, 40]')]"
            ]
          },
          "metadata": {},
          "execution_count": 71
        },
        {
          "output_type": "display_data",
          "data": {
            "text/plain": [
              "<Figure size 432x288 with 1 Axes>"
            ],
            "image/png": "[encoded data removed]"
          },
          "metadata": {}
        }
      ]
    },
    {
      "cell_type": "code",
      "source": [
        "opt_tree_2 = DecisionTreeClassifier(random_state = 13, max_leaf_nodes = 5).fit(X_train, y_train)"
      ],
      "metadata": {
        "id": "H8PiWtDFgvXx"
      },
      "execution_count": 58,
      "outputs": []
    },
    {
      "cell_type": "code",
      "source": [
        "plot_tree(opt_tree_2)"
      ],
      "metadata": {
        "colab": {
          "base_uri": "https://localhost:8080/",
          "height": 404
        },
        "id": "8G8CDbPOhCXQ",
        "outputId": "943dcbbe-3703-4117-8df2-35e6f9201da3"
      },
      "execution_count": 59,
      "outputs": [
        {
          "output_type": "execute_result",
          "data": {
            "text/plain": [
              "[Text(0.5, 0.875, 'X[8] <= 0.504\\ngini = 0.477\\nsamples = 800\\nvalue = [486, 314]'),\n",
              " Text(0.25, 0.625, 'X[8] <= 0.276\\ngini = 0.394\\nsamples = 352\\nvalue = [95, 257]'),\n",
              " Text(0.125, 0.375, 'gini = 0.198\\nsamples = 171\\nvalue = [19, 152]'),\n",
              " Text(0.375, 0.375, 'X[11] <= 0.05\\ngini = 0.487\\nsamples = 181\\nvalue = [76, 105]'),\n",
              " Text(0.25, 0.125, 'gini = 0.342\\nsamples = 73\\nvalue = [16, 57]'),\n",
              " Text(0.5, 0.125, 'gini = 0.494\\nsamples = 108\\nvalue = [60, 48]'),\n",
              " Text(0.75, 0.625, 'X[11] <= -0.39\\ngini = 0.222\\nsamples = 448\\nvalue = [391, 57]'),\n",
              " Text(0.625, 0.375, 'gini = 0.466\\nsamples = 27\\nvalue = [10, 17]'),\n",
              " Text(0.875, 0.375, 'gini = 0.172\\nsamples = 421\\nvalue = [381, 40]')]"
            ]
          },
          "metadata": {},
          "execution_count": 59
        },
        {
          "output_type": "display_data",
          "data": {
            "text/plain": [
              "<Figure size 432x288 with 1 Axes>"
            ],
            "image/png": "[encoded data removed]"
          },
          "metadata": {}
        }
      ]
    },
    {
      "cell_type": "markdown",
      "source": [
        "##2bviii"
      ],
      "metadata": {
        "id": "gimaG2GMhKhD"
      }
    },
    {
      "cell_type": "code",
      "source": [
        "tree.score(X_train, y_train)"
      ],
      "metadata": {
        "colab": {
          "base_uri": "https://localhost:8080/"
        },
        "id": "5vrR07tfhLaw",
        "outputId": "60346d9e-7086-4cd7-f38f-1547d061dc40"
      },
      "execution_count": 63,
      "outputs": [
        {
          "output_type": "execute_result",
          "data": {
            "text/plain": [
              "0.99"
            ]
          },
          "metadata": {},
          "execution_count": 63
        }
      ]
    },
    {
      "cell_type": "code",
      "source": [
        "tree_optimal.score(X_train, y_train)"
      ],
      "metadata": {
        "colab": {
          "base_uri": "https://localhost:8080/"
        },
        "id": "GurI_j4WhQ0O",
        "outputId": "2267f0a8-9ac8-44bf-9e6c-3f20f981dea0"
      },
      "execution_count": 72,
      "outputs": [
        {
          "output_type": "execute_result",
          "data": {
            "text/plain": [
              "0.83375"
            ]
          },
          "metadata": {},
          "execution_count": 72
        }
      ]
    },
    {
      "cell_type": "code",
      "source": [
        "opt_tree_2.score(X_train, y_train)"
      ],
      "metadata": {
        "colab": {
          "base_uri": "https://localhost:8080/"
        },
        "id": "C1AppKrRh5fb",
        "outputId": "97300d9c-fe0e-4109-8ded-6ab72b6ed7d1"
      },
      "execution_count": 66,
      "outputs": [
        {
          "output_type": "execute_result",
          "data": {
            "text/plain": [
              "0.83375"
            ]
          },
          "metadata": {},
          "execution_count": 66
        }
      ]
    },
    {
      "cell_type": "markdown",
      "source": [
        "##2bix"
      ],
      "metadata": {
        "id": "MPLTv_axhnFV"
      }
    },
    {
      "cell_type": "code",
      "source": [
        "tree.score(X_test, y_test)"
      ],
      "metadata": {
        "colab": {
          "base_uri": "https://localhost:8080/"
        },
        "id": "11vSxGechUXk",
        "outputId": "cf636503-0cc0-4e56-d62b-cffc460a60a9"
      },
      "execution_count": 64,
      "outputs": [
        {
          "output_type": "execute_result",
          "data": {
            "text/plain": [
              "0.7481481481481481"
            ]
          },
          "metadata": {},
          "execution_count": 64
        }
      ]
    },
    {
      "cell_type": "code",
      "source": [
        "tree_optimal.score(X_test, y_test)"
      ],
      "metadata": {
        "colab": {
          "base_uri": "https://localhost:8080/"
        },
        "id": "rnoVROCzhuAb",
        "outputId": "1202f60d-db31-420d-95c9-4a3541923ab4"
      },
      "execution_count": 73,
      "outputs": [
        {
          "output_type": "execute_result",
          "data": {
            "text/plain": [
              "0.8185185185185185"
            ]
          },
          "metadata": {},
          "execution_count": 73
        }
      ]
    },
    {
      "cell_type": "code",
      "source": [
        "opt_tree_2.score(X_test, y_test)"
      ],
      "metadata": {
        "colab": {
          "base_uri": "https://localhost:8080/"
        },
        "id": "Uwl-KG8EhywP",
        "outputId": "bdc595e6-5b41-457f-8b1d-da02cd9732a7"
      },
      "execution_count": 67,
      "outputs": [
        {
          "output_type": "execute_result",
          "data": {
            "text/plain": [
              "0.8185185185185185"
            ]
          },
          "metadata": {},
          "execution_count": 67
        }
      ]
    },
    {
      "cell_type": "code",
      "source": [],
      "metadata": {
        "id": "o3r-pkDbiBFD"
      },
      "execution_count": null,
      "outputs": []
    }
  ]
}