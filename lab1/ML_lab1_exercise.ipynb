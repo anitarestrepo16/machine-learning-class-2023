{
 "cells": [
  {
   "attachments": {},
   "cell_type": "markdown",
   "metadata": {},
   "source": [
    "# lab 1 | Regressions | Solutions"
   ]
  },
  {
   "attachments": {},
   "cell_type": "markdown",
   "metadata": {},
   "source": [
    "For your very first exercise in this course, you will try to predict the grades of students in a Portuguese school. For this, we will use (simplified) questionnaire data that you will first need to clean (a little).\n",
    "\n",
    "Credit: [data source](https://archive.ics.uci.edu/ml/datasets/Student+Performance)"
   ]
  },
  {
   "cell_type": "code",
   "execution_count": null,
   "metadata": {},
   "outputs": [],
   "source": [
    "import numpy as np\n",
    "import pandas as pd\n",
    "import matplotlib.pyplot as plt\n",
    "import statsmodels.formula.api as smf\n",
    "from sklearn.linear_model import LinearRegression\n",
    "from sklearn.model_selection import train_test_split\n",
    "from sklearn.metrics import mean_absolute_error, r2_score, mean_squared_error\n",
    "\n",
    "# Load the dataset\n",
    "students = pd.read_csv('student_grades.csv')\n",
    "display(students.head())\n",
    "students.shape"
   ]
  },
  {
   "attachments": {},
   "cell_type": "markdown",
   "metadata": {},
   "source": [
    "The dataset contains the following information:\n",
    "- `male`: whether the student's sex is M or F (0, 1)\n",
    "- `age`: the student's age (15-22)\n",
    "- `address`: whether the student lives in an urban (U) or rural (R) setting\n",
    "- `parents_together`: whether the parents live together or not\n",
    "- `parents_avg_edu`: the rounded average of parental education\n",
    "    - 0: none\n",
    "    - 1: primary education (4th grade)\n",
    "    - 2: 5th to 9th grade\n",
    "    - 3: secondary education\n",
    "    - 4: higher education\n",
    "- `classes_failed`: the number of classes failed (n if 1 <= n < 3, else 4)\n",
    "- `school_support`: extra educational support (yes, no)\n",
    "- `absences`: number of school absences (0-93)\n",
    "- `grade`: The student's grade (0-20)"
   ]
  },
  {
   "cell_type": "code",
   "execution_count": null,
   "metadata": {},
   "outputs": [],
   "source": [
    "# Q1: What is the type of data of each variable?\n",
    "\"\"\"\n",
    "Numerical discrete: ...\n",
    "Numerical continuous: ...\n",
    "Categorical ordinal: ...\n",
    "Categorical nominal: ...\n",
    "\"\"\""
   ]
  },
  {
   "attachments": {},
   "cell_type": "markdown",
   "metadata": {},
   "source": [
    "Alright, now we can start with the EDA and data cleaning.\n",
    "\n",
    "First, we notice that `address` and `school_support` are binary variables but do not have (1, 0) as their values. Do the following:\n",
    "- Replace the `address` column with a binary column named `rural` that takes the value 1 if a students comes from a rural setting and 0 otherwise.\n",
    "- In the `school_support` column, replace `yes` with `1` and `no` with `0`.\n",
    "\n",
    "Make sure to double-check that the datatypes (of the entire dataframe) are correct once you are done. Is there any column that is not yet in the datatype it should be?"
   ]
  },
  {
   "cell_type": "code",
   "execution_count": null,
   "metadata": {},
   "outputs": [],
   "source": [
    "# Q2: Treat the binary columns that need to be formatted\n",
    "# address to rural\n",
    "students['rural'] = ...\n",
    "students.drop('address', axis=1, inplace=True)\n",
    "\n",
    "# school_support value transformation\n",
    "students['school_support'] = ...\n",
    "\n",
    "# Print the datatypes\n",
    "print(students.dtypes)\n",
    "\n",
    "# Display the dataframe\n",
    "students.head()"
   ]
  },
  {
   "attachments": {},
   "cell_type": "markdown",
   "metadata": {},
   "source": [
    "Now, look if there are missing values. If there are, replace them with the median value of the column."
   ]
  },
  {
   "cell_type": "code",
   "execution_count": null,
   "metadata": {},
   "outputs": [],
   "source": [
    "# Q3: Treat the missing values\n",
    "# Lookup the missing values\n",
    "...\n",
    "\n",
    "# Input the median if needed\n",
    "..."
   ]
  },
  {
   "attachments": {},
   "cell_type": "markdown",
   "metadata": {},
   "source": [
    "Now, look up summary statistics for all variables and plot a histogram for them. Do you find any outliers? If so, remove the observation they occur in?\n",
    "\n",
    "Hint: you should find exactly 1 outlier and it is easy to spot as it is outside of the possible values."
   ]
  },
  {
   "cell_type": "code",
   "execution_count": null,
   "metadata": {},
   "outputs": [],
   "source": [
    "# Q4: Remove outliers\n",
    "...\n",
    "\n",
    "# Plot all variables\n",
    "...\n",
    "\n",
    "# Remove the outlier\n",
    "..."
   ]
  },
  {
   "attachments": {},
   "cell_type": "markdown",
   "metadata": {},
   "source": [
    "We would like to log-transform the dependent variable (i.e., `grade`). Since there are some students who received a 0, you will need to replace those values with an infinitely small positive number. Also, make sure the rename the `grade` column to `ln_grade`"
   ]
  },
  {
   "cell_type": "code",
   "execution_count": null,
   "metadata": {},
   "outputs": [],
   "source": [
    "# Q5: Log-transform the dependent variable\n",
    "# Replace 0 with 0.0000001 in grades\n",
    "...\n",
    "\n",
    "# Log-transform grade\n",
    "...\n",
    "\n",
    "# Rename grade to ln_grade\n",
    "...\n",
    "\n",
    "students"
   ]
  },
  {
   "attachments": {},
   "cell_type": "markdown",
   "metadata": {},
   "source": [
    "Finally, create two dummy variables out of `absences`:\n",
    "- `some_abs`: 1 if `absences` is between 10 and 20 (included), 0 otherwise\n",
    "- `many_abs`: 1 if `absences` is larger than 20, 0 otherwise\n",
    "\n",
    "Think about why we do not create a third dummy variable for students with less than 10 absences.\n",
    "\n",
    "Note: you are essentially asked to create two binary variables"
   ]
  },
  {
   "cell_type": "code",
   "execution_count": null,
   "metadata": {},
   "outputs": [],
   "source": [
    "# Q6: Create a dummy variable from 'absences'\n",
    "# Create the some_abs column\n",
    "students['some_abs'] = np.where(\n",
    "    (students['absences'] ...) & (students['absences'] ...),\n",
    "    1,\n",
    "    0\n",
    ")\n",
    "\n",
    "# Create the many_abs column\n",
    "...\n",
    "\n",
    "# Delete the absences column\n",
    "...\n",
    "\n",
    "students.head()"
   ]
  },
  {
   "attachments": {},
   "cell_type": "markdown",
   "metadata": {},
   "source": [
    "Alright, now we have a clean dataset that is ready for the actual machine learning part.\n",
    "\n",
    "First, use the `statsmodels` library to compute a simple regression. In this case, we want you to regress `ln_grade` on all other variables without splitting the dataset. Hence, it should be just the way you ran regressions in your core statistics classes.\n",
    "\n",
    "Interpret the results. Which coefficients are statistically significant? How do you interpret the coefficients?"
   ]
  },
  {
   "cell_type": "code",
   "execution_count": null,
   "metadata": {},
   "outputs": [],
   "source": [
    "# Q7: Regression\n",
    "# Regress the log-grade on all variables and a constant\n",
    "regression = ...\n",
    "print(regression.summary())"
   ]
  },
  {
   "attachments": {},
   "cell_type": "markdown",
   "metadata": {},
   "source": [
    "Finally, we will try to determine which two features predict the grade the best. To do so, we will train the model iteratively over every pair of features and retain the ones with the best test MSE.\n",
    "\n",
    "Simply complete the code below to determine which model is the best.\n",
    "\n",
    "Note: This is an oversimplified version of determining the best model. In reality, there is no indication that 2 is the correct number of features and you might want to use more metrics than just the MSE to determine the best model. This is just so that you can get a first exposure to what this process looks like and gain intuition."
   ]
  },
  {
   "cell_type": "code",
   "execution_count": null,
   "metadata": {},
   "outputs": [],
   "source": [
    "# Q8: Find the best 2-feature model\n",
    "# Array to save the test errors\n",
    "test_mse = pd.DataFrame(columns=['features', 'test_mse'])\n",
    "\n",
    "# Feature pairs to evaluate\n",
    "features = list(students.columns)\n",
    "features.remove('ln_grade')\n",
    "feature_pairs = []\n",
    "for i, feature_1 in enumerate(features):\n",
    "    for feature_2 in features[i+1:]:\n",
    "        feature_pairs.append([feature_1, feature_2])\n",
    "\n",
    "# Define the target\n",
    "y = students['ln_grade']\n",
    "\n",
    "# Iterate over the number of features\n",
    "for feature_pair in feature_pairs:\n",
    "    # Select features\n",
    "    X_temp = students[feature_pair]\n",
    "\n",
    "    # Split the dat set\n",
    "    X_train, X_test, y_train, y_test = train_test_split(\n",
    "        X_temp,\n",
    "        y,\n",
    "        test_size=0.2,\n",
    "        random_state=12\n",
    "    )\n",
    "\n",
    "    # Create the linear model\n",
    "    LR = ...\n",
    "\n",
    "    # Fit the linear model\n",
    "    ...\n",
    "    \n",
    "    # Compute the MSEs\n",
    "    obs = pd.DataFrame({\n",
    "        'features': [', '.join(feature_pair)],\n",
    "        'test_mse': [mean_squared_error(y_test, LR.predict(X_test))]\n",
    "    })\n",
    "\n",
    "    test_mse = pd.concat([test_mse, obs], axis=0, ignore_index=True)\n",
    "\n",
    "# Sort by MSEs\n",
    "test_mse.sort_values(by='test_mse', axis=0, ascending=True, inplace=True)\n",
    "test_mse"
   ]
  }
 ],
 "metadata": {
  "kernelspec": {
   "display_name": "Python 3",
   "language": "python",
   "name": "python3"
  },
  "language_info": {
   "codemirror_mode": {
    "name": "ipython",
    "version": 3
   },
   "file_extension": ".py",
   "mimetype": "text/x-python",
   "name": "python",
   "nbconvert_exporter": "python",
   "pygments_lexer": "ipython3",
   "version": "3.10.2 (tags/v3.10.2:a58ebcc, Jan 17 2022, 14:12:15) [MSC v.1929 64 bit (AMD64)]"
  },
  "orig_nbformat": 4,
  "vscode": {
   "interpreter": {
    "hash": "26de051ba29f2982a8de78e945f0abaf191376122a1563185a90213a26c5da77"
   }
  }
 },
 "nbformat": 4,
 "nbformat_minor": 2
}
